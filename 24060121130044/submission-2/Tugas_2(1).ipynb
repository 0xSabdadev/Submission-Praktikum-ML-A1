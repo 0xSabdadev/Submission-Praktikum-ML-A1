{
  "nbformat": 4,
  "nbformat_minor": 0,
  "metadata": {
    "colab": {
      "provenance": []
    },
    "kernelspec": {
      "name": "python3",
      "display_name": "Python 3"
    },
    "language_info": {
      "name": "python"
    }
  },
  "cells": [
    {
      "cell_type": "markdown",
      "source": [
        "Nama  : Reza Hilmi Dafa\n",
        "\n",
        "NIM   : 24060121130044\n",
        "\n",
        "Nama Dataset : iris\n",
        "\n",
        "Link Dataset : https://archive.ics.uci.edu/ml/machine-learning-databases/iris/iris.data"
      ],
      "metadata": {
        "id": "um7oEC1c4Rs-"
      }
    },
    {
      "cell_type": "markdown",
      "source": [
        "Baris ini membaca dataset Iris dari URL"
      ],
      "metadata": {
        "id": "K-dRrwN8tMkk"
      }
    },
    {
      "cell_type": "code",
      "source": [
        "import pandas"
      ],
      "metadata": {
        "id": "E5kMF3ZAGeRk"
      },
      "execution_count": null,
      "outputs": []
    },
    {
      "cell_type": "code",
      "source": [
        "url = \"https://archive.ics.uci.edu/ml/machine-learning-databases/iris/iris.data\"\n",
        "names = ['sepal-length', 'sepal-width', 'petal length', 'petal-width', 'class']\n",
        "dataset = pandas.read_csv(url, names=names)"
      ],
      "metadata": {
        "id": "uf2yaRj0G0sY"
      },
      "execution_count": null,
      "outputs": []
    },
    {
      "cell_type": "code",
      "source": [
        "dataset.head(5)"
      ],
      "metadata": {
        "colab": {
          "base_uri": "https://localhost:8080/",
          "height": 206
        },
        "id": "ug_xSplWJOkF",
        "outputId": "eff22dea-d68c-4666-b78d-0abab39a6ac2"
      },
      "execution_count": null,
      "outputs": [
        {
          "output_type": "execute_result",
          "data": {
            "text/plain": [
              "   sepal-length  sepal-width  petal length  petal-width        class\n",
              "0           5.1          3.5           1.4          0.2  Iris-setosa\n",
              "1           4.9          3.0           1.4          0.2  Iris-setosa\n",
              "2           4.7          3.2           1.3          0.2  Iris-setosa\n",
              "3           4.6          3.1           1.5          0.2  Iris-setosa\n",
              "4           5.0          3.6           1.4          0.2  Iris-setosa"
            ],
            "text/html": [
              "\n",
              "  <div id=\"df-d2f25da0-5477-4dee-98e7-45705e2f57ec\" class=\"colab-df-container\">\n",
              "    <div>\n",
              "<style scoped>\n",
              "    .dataframe tbody tr th:only-of-type {\n",
              "        vertical-align: middle;\n",
              "    }\n",
              "\n",
              "    .dataframe tbody tr th {\n",
              "        vertical-align: top;\n",
              "    }\n",
              "\n",
              "    .dataframe thead th {\n",
              "        text-align: right;\n",
              "    }\n",
              "</style>\n",
              "<table border=\"1\" class=\"dataframe\">\n",
              "  <thead>\n",
              "    <tr style=\"text-align: right;\">\n",
              "      <th></th>\n",
              "      <th>sepal-length</th>\n",
              "      <th>sepal-width</th>\n",
              "      <th>petal length</th>\n",
              "      <th>petal-width</th>\n",
              "      <th>class</th>\n",
              "    </tr>\n",
              "  </thead>\n",
              "  <tbody>\n",
              "    <tr>\n",
              "      <th>0</th>\n",
              "      <td>5.1</td>\n",
              "      <td>3.5</td>\n",
              "      <td>1.4</td>\n",
              "      <td>0.2</td>\n",
              "      <td>Iris-setosa</td>\n",
              "    </tr>\n",
              "    <tr>\n",
              "      <th>1</th>\n",
              "      <td>4.9</td>\n",
              "      <td>3.0</td>\n",
              "      <td>1.4</td>\n",
              "      <td>0.2</td>\n",
              "      <td>Iris-setosa</td>\n",
              "    </tr>\n",
              "    <tr>\n",
              "      <th>2</th>\n",
              "      <td>4.7</td>\n",
              "      <td>3.2</td>\n",
              "      <td>1.3</td>\n",
              "      <td>0.2</td>\n",
              "      <td>Iris-setosa</td>\n",
              "    </tr>\n",
              "    <tr>\n",
              "      <th>3</th>\n",
              "      <td>4.6</td>\n",
              "      <td>3.1</td>\n",
              "      <td>1.5</td>\n",
              "      <td>0.2</td>\n",
              "      <td>Iris-setosa</td>\n",
              "    </tr>\n",
              "    <tr>\n",
              "      <th>4</th>\n",
              "      <td>5.0</td>\n",
              "      <td>3.6</td>\n",
              "      <td>1.4</td>\n",
              "      <td>0.2</td>\n",
              "      <td>Iris-setosa</td>\n",
              "    </tr>\n",
              "  </tbody>\n",
              "</table>\n",
              "</div>\n",
              "    <div class=\"colab-df-buttons\">\n",
              "\n",
              "  <div class=\"colab-df-container\">\n",
              "    <button class=\"colab-df-convert\" onclick=\"convertToInteractive('df-d2f25da0-5477-4dee-98e7-45705e2f57ec')\"\n",
              "            title=\"Convert this dataframe to an interactive table.\"\n",
              "            style=\"display:none;\">\n",
              "\n",
              "  <svg xmlns=\"http://www.w3.org/2000/svg\" height=\"24px\" viewBox=\"0 -960 960 960\">\n",
              "    <path d=\"M120-120v-720h720v720H120Zm60-500h600v-160H180v160Zm220 220h160v-160H400v160Zm0 220h160v-160H400v160ZM180-400h160v-160H180v160Zm440 0h160v-160H620v160ZM180-180h160v-160H180v160Zm440 0h160v-160H620v160Z\"/>\n",
              "  </svg>\n",
              "    </button>\n",
              "\n",
              "  <style>\n",
              "    .colab-df-container {\n",
              "      display:flex;\n",
              "      gap: 12px;\n",
              "    }\n",
              "\n",
              "    .colab-df-convert {\n",
              "      background-color: #E8F0FE;\n",
              "      border: none;\n",
              "      border-radius: 50%;\n",
              "      cursor: pointer;\n",
              "      display: none;\n",
              "      fill: #1967D2;\n",
              "      height: 32px;\n",
              "      padding: 0 0 0 0;\n",
              "      width: 32px;\n",
              "    }\n",
              "\n",
              "    .colab-df-convert:hover {\n",
              "      background-color: #E2EBFA;\n",
              "      box-shadow: 0px 1px 2px rgba(60, 64, 67, 0.3), 0px 1px 3px 1px rgba(60, 64, 67, 0.15);\n",
              "      fill: #174EA6;\n",
              "    }\n",
              "\n",
              "    .colab-df-buttons div {\n",
              "      margin-bottom: 4px;\n",
              "    }\n",
              "\n",
              "    [theme=dark] .colab-df-convert {\n",
              "      background-color: #3B4455;\n",
              "      fill: #D2E3FC;\n",
              "    }\n",
              "\n",
              "    [theme=dark] .colab-df-convert:hover {\n",
              "      background-color: #434B5C;\n",
              "      box-shadow: 0px 1px 3px 1px rgba(0, 0, 0, 0.15);\n",
              "      filter: drop-shadow(0px 1px 2px rgba(0, 0, 0, 0.3));\n",
              "      fill: #FFFFFF;\n",
              "    }\n",
              "  </style>\n",
              "\n",
              "    <script>\n",
              "      const buttonEl =\n",
              "        document.querySelector('#df-d2f25da0-5477-4dee-98e7-45705e2f57ec button.colab-df-convert');\n",
              "      buttonEl.style.display =\n",
              "        google.colab.kernel.accessAllowed ? 'block' : 'none';\n",
              "\n",
              "      async function convertToInteractive(key) {\n",
              "        const element = document.querySelector('#df-d2f25da0-5477-4dee-98e7-45705e2f57ec');\n",
              "        const dataTable =\n",
              "          await google.colab.kernel.invokeFunction('convertToInteractive',\n",
              "                                                    [key], {});\n",
              "        if (!dataTable) return;\n",
              "\n",
              "        const docLinkHtml = 'Like what you see? Visit the ' +\n",
              "          '<a target=\"_blank\" href=https://colab.research.google.com/notebooks/data_table.ipynb>data table notebook</a>'\n",
              "          + ' to learn more about interactive tables.';\n",
              "        element.innerHTML = '';\n",
              "        dataTable['output_type'] = 'display_data';\n",
              "        await google.colab.output.renderOutput(dataTable, element);\n",
              "        const docLink = document.createElement('div');\n",
              "        docLink.innerHTML = docLinkHtml;\n",
              "        element.appendChild(docLink);\n",
              "      }\n",
              "    </script>\n",
              "  </div>\n",
              "\n",
              "\n",
              "<div id=\"df-16e682db-810c-4546-82bc-56ddde62f483\">\n",
              "  <button class=\"colab-df-quickchart\" onclick=\"quickchart('df-16e682db-810c-4546-82bc-56ddde62f483')\"\n",
              "            title=\"Suggest charts\"\n",
              "            style=\"display:none;\">\n",
              "\n",
              "<svg xmlns=\"http://www.w3.org/2000/svg\" height=\"24px\"viewBox=\"0 0 24 24\"\n",
              "     width=\"24px\">\n",
              "    <g>\n",
              "        <path d=\"M19 3H5c-1.1 0-2 .9-2 2v14c0 1.1.9 2 2 2h14c1.1 0 2-.9 2-2V5c0-1.1-.9-2-2-2zM9 17H7v-7h2v7zm4 0h-2V7h2v10zm4 0h-2v-4h2v4z\"/>\n",
              "    </g>\n",
              "</svg>\n",
              "  </button>\n",
              "\n",
              "<style>\n",
              "  .colab-df-quickchart {\n",
              "      --bg-color: #E8F0FE;\n",
              "      --fill-color: #1967D2;\n",
              "      --hover-bg-color: #E2EBFA;\n",
              "      --hover-fill-color: #174EA6;\n",
              "      --disabled-fill-color: #AAA;\n",
              "      --disabled-bg-color: #DDD;\n",
              "  }\n",
              "\n",
              "  [theme=dark] .colab-df-quickchart {\n",
              "      --bg-color: #3B4455;\n",
              "      --fill-color: #D2E3FC;\n",
              "      --hover-bg-color: #434B5C;\n",
              "      --hover-fill-color: #FFFFFF;\n",
              "      --disabled-bg-color: #3B4455;\n",
              "      --disabled-fill-color: #666;\n",
              "  }\n",
              "\n",
              "  .colab-df-quickchart {\n",
              "    background-color: var(--bg-color);\n",
              "    border: none;\n",
              "    border-radius: 50%;\n",
              "    cursor: pointer;\n",
              "    display: none;\n",
              "    fill: var(--fill-color);\n",
              "    height: 32px;\n",
              "    padding: 0;\n",
              "    width: 32px;\n",
              "  }\n",
              "\n",
              "  .colab-df-quickchart:hover {\n",
              "    background-color: var(--hover-bg-color);\n",
              "    box-shadow: 0 1px 2px rgba(60, 64, 67, 0.3), 0 1px 3px 1px rgba(60, 64, 67, 0.15);\n",
              "    fill: var(--button-hover-fill-color);\n",
              "  }\n",
              "\n",
              "  .colab-df-quickchart-complete:disabled,\n",
              "  .colab-df-quickchart-complete:disabled:hover {\n",
              "    background-color: var(--disabled-bg-color);\n",
              "    fill: var(--disabled-fill-color);\n",
              "    box-shadow: none;\n",
              "  }\n",
              "\n",
              "  .colab-df-spinner {\n",
              "    border: 2px solid var(--fill-color);\n",
              "    border-color: transparent;\n",
              "    border-bottom-color: var(--fill-color);\n",
              "    animation:\n",
              "      spin 1s steps(1) infinite;\n",
              "  }\n",
              "\n",
              "  @keyframes spin {\n",
              "    0% {\n",
              "      border-color: transparent;\n",
              "      border-bottom-color: var(--fill-color);\n",
              "      border-left-color: var(--fill-color);\n",
              "    }\n",
              "    20% {\n",
              "      border-color: transparent;\n",
              "      border-left-color: var(--fill-color);\n",
              "      border-top-color: var(--fill-color);\n",
              "    }\n",
              "    30% {\n",
              "      border-color: transparent;\n",
              "      border-left-color: var(--fill-color);\n",
              "      border-top-color: var(--fill-color);\n",
              "      border-right-color: var(--fill-color);\n",
              "    }\n",
              "    40% {\n",
              "      border-color: transparent;\n",
              "      border-right-color: var(--fill-color);\n",
              "      border-top-color: var(--fill-color);\n",
              "    }\n",
              "    60% {\n",
              "      border-color: transparent;\n",
              "      border-right-color: var(--fill-color);\n",
              "    }\n",
              "    80% {\n",
              "      border-color: transparent;\n",
              "      border-right-color: var(--fill-color);\n",
              "      border-bottom-color: var(--fill-color);\n",
              "    }\n",
              "    90% {\n",
              "      border-color: transparent;\n",
              "      border-bottom-color: var(--fill-color);\n",
              "    }\n",
              "  }\n",
              "</style>\n",
              "\n",
              "  <script>\n",
              "    async function quickchart(key) {\n",
              "      const quickchartButtonEl =\n",
              "        document.querySelector('#' + key + ' button');\n",
              "      quickchartButtonEl.disabled = true;  // To prevent multiple clicks.\n",
              "      quickchartButtonEl.classList.add('colab-df-spinner');\n",
              "      try {\n",
              "        const charts = await google.colab.kernel.invokeFunction(\n",
              "            'suggestCharts', [key], {});\n",
              "      } catch (error) {\n",
              "        console.error('Error during call to suggestCharts:', error);\n",
              "      }\n",
              "      quickchartButtonEl.classList.remove('colab-df-spinner');\n",
              "      quickchartButtonEl.classList.add('colab-df-quickchart-complete');\n",
              "    }\n",
              "    (() => {\n",
              "      let quickchartButtonEl =\n",
              "        document.querySelector('#df-16e682db-810c-4546-82bc-56ddde62f483 button');\n",
              "      quickchartButtonEl.style.display =\n",
              "        google.colab.kernel.accessAllowed ? 'block' : 'none';\n",
              "    })();\n",
              "  </script>\n",
              "</div>\n",
              "    </div>\n",
              "  </div>\n"
            ]
          },
          "metadata": {},
          "execution_count": 17
        }
      ]
    },
    {
      "cell_type": "code",
      "source": [
        "dataset.shape"
      ],
      "metadata": {
        "colab": {
          "base_uri": "https://localhost:8080/"
        },
        "id": "LPlmXHhVJZRo",
        "outputId": "e54dd5fb-648f-4beb-aecd-0b77b1bb4ca5"
      },
      "execution_count": null,
      "outputs": [
        {
          "output_type": "execute_result",
          "data": {
            "text/plain": [
              "(150, 5)"
            ]
          },
          "metadata": {},
          "execution_count": 18
        }
      ]
    },
    {
      "cell_type": "markdown",
      "source": [
        "Baris di bawah ini mengimpor modul model_selection dari scikit-learn"
      ],
      "metadata": {
        "id": "E5RS9fFhti4W"
      }
    },
    {
      "cell_type": "code",
      "source": [
        "from sklearn import model_selection"
      ],
      "metadata": {
        "id": "qaTzNFp3Jkcw"
      },
      "execution_count": null,
      "outputs": []
    },
    {
      "cell_type": "markdown",
      "source": [
        "-Menggunakan atribut values dari objek DataFrame Pandas (dataset), kita mengonversi dataset ke dalam bentuk array NumPy\n",
        "\n",
        "-Memisahkan dataset menjadi dua bagian:\n",
        "\n",
        "X: Variabel independen (fitur) yang terdiri dari kolom 0 hingga 3.\n",
        "\n",
        "Y: Variabel dependen (kelas/target) yang terdiri dari kolom ke-4.\n",
        "\n",
        "-kemudian menggunakan fungsi train_test_split dari scikit-learn, dataset (X dan Y) dibagi menjadi dua bagian:\n",
        "\n",
        "X_train: Data pelatihan untuk variabel independen.\n",
        "\n",
        "X_validation: Data validasi untuk variabel independen.\n",
        "\n",
        "Y_train: Data pelatihan untuk variabel dependen.\n",
        "\n",
        "Y_validation: Data validasi untuk variabel dependen.\n",
        "\n",
        "test_size=validation_size menentukan proporsi data yang akan dialokasikan sebagai data validasi (20% dalam hal ini).\n",
        "\n",
        "random_state=seed memastikan reproduktibilitas pembagian data dengan memberikan nilai seed pada generator angka acak."
      ],
      "metadata": {
        "id": "94j-3ibbtlS5"
      }
    },
    {
      "cell_type": "code",
      "source": [
        "array = dataset.values\n",
        "\n",
        "X = array[:,0:4]\n",
        "Y = array[:,4]\n",
        "\n",
        "validation_size = 0.20\n",
        "\n",
        "seed = 7\n",
        "\n",
        "X_train, X_validation, Y_train, Y_validation = model_selection.train_test_split(X, Y, test_size=validation_size,\n",
        "random_state=seed)"
      ],
      "metadata": {
        "id": "KDJ3SdoVIMjX"
      },
      "execution_count": null,
      "outputs": []
    },
    {
      "cell_type": "markdown",
      "source": [
        "Kemudian hasilnya kita tampilkan"
      ],
      "metadata": {
        "id": "a0sSFO_EuX-Q"
      }
    },
    {
      "cell_type": "code",
      "source": [
        "print(\"X_train :\", X_train.shape)\n",
        "print(\"X_validation :\", X_validation.shape)\n",
        "print(\"Y_train :\", Y_train.shape)\n",
        "print(\"Y_validation :\", Y_validation.shape)"
      ],
      "metadata": {
        "colab": {
          "base_uri": "https://localhost:8080/"
        },
        "id": "b8QeWCn2MwVk",
        "outputId": "c9be0bb4-2c6e-41dd-e03f-2c2d2d31baf8"
      },
      "execution_count": null,
      "outputs": [
        {
          "output_type": "stream",
          "name": "stdout",
          "text": [
            "X_train : (120, 4)\n",
            "X_validation : (30, 4)\n",
            "Y_train : (120,)\n",
            "Y_validation : (30,)\n"
          ]
        }
      ]
    },
    {
      "cell_type": "markdown",
      "source": [
        "Menetapkan seed yaitu 7 pada algoritma untuk memastikan bahwa hasilnya dapat direproduksi.\n",
        "\n",
        "Menunjukkan bahwa metrik evaluasi yang digunakan untuk mengukur performa model adalah akurasi."
      ],
      "metadata": {
        "id": "4oy5CKju3XEv"
      }
    },
    {
      "cell_type": "code",
      "source": [
        "# Test options and evaluation metric\n",
        "seed = 7\n",
        "scoring = 'accuracy'"
      ],
      "metadata": {
        "id": "dAOdEif7NK4Q"
      },
      "execution_count": null,
      "outputs": []
    },
    {
      "cell_type": "markdown",
      "source": [
        "mengimpor kelas DecisionTreeClassifier dari modul tree dalam scikit-learn.\n",
        "\n",
        "kemudian membuat sebuah list models yang akan berisi tuple-tuple model yang akan dievaluasi. Dalam kasus ini, kita memiliki satu model, yaitu Decision Tree."
      ],
      "metadata": {
        "id": "IGNCQO_Nu5BY"
      }
    },
    {
      "cell_type": "code",
      "source": [
        "from sklearn.tree import DecisionTreeClassifier\n",
        "\n",
        "models = []\n",
        "\n",
        "models.append(('Decision Tree', DecisionTreeClassifier()))\n"
      ],
      "metadata": {
        "id": "z6EXNhfPNVRy"
      },
      "execution_count": null,
      "outputs": []
    },
    {
      "cell_type": "markdown",
      "source": [
        "* List results akan digunakan untuk menyimpan hasil evaluasi model.\n",
        "\n",
        "* List names akan digunakan untuk menyimpan nama-nama model.\n",
        "\n",
        "* Melakukan iterasi melalui setiap model dalam list models.\n",
        "\n",
        "* Membuat objek KFold untuk validasi silang dengan 10 lipatan (folds), menggunakan nilai seed yang telah ditentukan (random_state=seed) dan dengan pengacakan data (shuffle=True).\n",
        "\n",
        "* Menggunakan cross_val_score untuk mengevaluasi model menggunakan validasi silang. Hasil evaluasi disimpan dalam cv_results.\n",
        "\n",
        "* Menambahkan hasil evaluasi dan nama model ke dalam list results dan names.\n",
        "Mencetak hasil evaluasi model, termasuk rata-rata (mean()) dan deviasi standar (std()).\n",
        "\n",
        "\n"
      ],
      "metadata": {
        "id": "7J41iUL2vD8K"
      }
    },
    {
      "cell_type": "code",
      "source": [
        "# evaluate each model in turn\n",
        "results = []\n",
        "\n",
        "names = []\n",
        "for name, model in models:\n",
        "\n",
        "  kfold = model_selection.KFold(n_splits=10, random_state=seed, shuffle=True)\n",
        "\n",
        "  cv_results = model_selection.cross_val_score(model, X_train, Y_train, cv=kfold, scoring=scoring)\n",
        "\n",
        "  results.append(cv_results)\n",
        "\n",
        "  names.append(name)\n",
        "\n",
        "  msg = \"%s: %f (%f)\" % (name, cv_results.mean(), cv_results.std())\n",
        "  print(msg)"
      ],
      "metadata": {
        "colab": {
          "base_uri": "https://localhost:8080/"
        },
        "id": "UT2BT9U-N6eK",
        "outputId": "42a43f78-d6be-4c39-fe58-5194cdb4100e"
      },
      "execution_count": null,
      "outputs": [
        {
          "output_type": "stream",
          "name": "stdout",
          "text": [
            "Decision Tree: 0.958333 (0.076830)\n"
          ]
        }
      ]
    },
    {
      "cell_type": "markdown",
      "source": [
        "mengimpor beberapa metrik evaluasi dari scikit-learn yang akan digunakan untuk mengevaluasi performa model."
      ],
      "metadata": {
        "id": "K7bA_uFzvwZ2"
      }
    },
    {
      "cell_type": "code",
      "source": [
        "from sklearn.metrics import accuracy_score, confusion_matrix, classification_report"
      ],
      "metadata": {
        "id": "6UyxfRDrPFmF"
      },
      "execution_count": null,
      "outputs": []
    },
    {
      "cell_type": "markdown",
      "source": [
        "* Membuat objek model Decision Tree (decision_tree) dari kelas DecisionTreeClassifier.\n",
        "* Melatih model menggunakan data pelatihan (X_train dan Y_train) menggunakan metode fit()\n",
        "* Menggunakan model yang telah dilatih untuk membuat prediksi pada data validasi (X_validation).\n",
        "* Mencetak akurasi model dengan membandingkan prediksi dengan nilai sebenarnya menggunakan accuracy_score.\n",
        "* Mencetak matriks kebingungan (confusion matrix) menggunakan confusion_matrix, yang memberikan gambaran tentang seberapa baik model mengklasifikasikan kelas-kelas.\n",
        "* Mencetak laporan klasifikasi (classification_report), yang menyediakan informasi seperti presisi, recall, dan f1-score untuk setiap kelas."
      ],
      "metadata": {
        "id": "Hc9_t19FvxOn"
      }
    },
    {
      "cell_type": "code",
      "source": [
        "decision_tree = DecisionTreeClassifier()\n",
        "decision_tree.fit(X_train, Y_train)\n",
        "predictions = decision_tree.predict(X_validation)\n",
        "\n",
        "print(accuracy_score(Y_validation, predictions))\n",
        "print(confusion_matrix(Y_validation, predictions))\n",
        "print(classification_report(Y_validation, predictions))"
      ],
      "metadata": {
        "colab": {
          "base_uri": "https://localhost:8080/"
        },
        "id": "LWmL_RPMPB2N",
        "outputId": "ddc1440a-091c-4cc1-877e-3eb551954540"
      },
      "execution_count": null,
      "outputs": [
        {
          "output_type": "stream",
          "name": "stdout",
          "text": [
            "0.8666666666666667\n",
            "[[ 7  0  0]\n",
            " [ 0 10  2]\n",
            " [ 0  2  9]]\n",
            "                 precision    recall  f1-score   support\n",
            "\n",
            "    Iris-setosa       1.00      1.00      1.00         7\n",
            "Iris-versicolor       0.83      0.83      0.83        12\n",
            " Iris-virginica       0.82      0.82      0.82        11\n",
            "\n",
            "       accuracy                           0.87        30\n",
            "      macro avg       0.88      0.88      0.88        30\n",
            "   weighted avg       0.87      0.87      0.87        30\n",
            "\n"
          ]
        }
      ]
    },
    {
      "cell_type": "markdown",
      "source": [
        "penjelasan informasi atau kesimpulan dari data yang ditampilkan\n",
        "* **Model Decision Tree mencapai akurasi sekitar 95.83% pada data pelatihan menggunakan validasi silang dengan 10 lipatan.**\n",
        "* **Dalam evaluasi pada data validasi, akurasi model adalah sekitar 86.67%, yang masih baik.**"
      ],
      "metadata": {
        "id": "3aJ7ld5YxBlx"
      }
    }
  ]
}