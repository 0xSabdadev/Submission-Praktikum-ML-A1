{
  "nbformat": 4,
  "nbformat_minor": 0,
  "metadata": {
    "colab": {
      "provenance": []
    },
    "kernelspec": {
      "name": "python3",
      "display_name": "Python 3"
    },
    "language_info": {
      "name": "python"
    }
  },
  "cells": [
    {
      "cell_type": "markdown",
      "source": [
        "Nama  : Reza Hilmi Dafa\n",
        "\n",
        "NIM   : 24060121130044\n",
        "\n",
        "Nama Dataset : auction verification\n",
        "\n",
        "Link Dataset : https://archive.ics.uci.edu/dataset/713/auction+verification"
      ],
      "metadata": {
        "id": "SeT0TLOq4r8o"
      }
    },
    {
      "cell_type": "markdown",
      "source": [
        "Baris ini membaca dataset Iris dari google drive"
      ],
      "metadata": {
        "id": "3wKtdkNZyV_y"
      }
    },
    {
      "cell_type": "code",
      "execution_count": 2,
      "metadata": {
        "colab": {
          "base_uri": "https://localhost:8080/"
        },
        "id": "xXjDP40sTFJe",
        "outputId": "3e0a1b0e-d7dd-4496-ed3c-7f81a95bb25c"
      },
      "outputs": [
        {
          "output_type": "stream",
          "name": "stdout",
          "text": [
            "Mounted at /content/drive\n"
          ]
        }
      ],
      "source": [
        "import pandas as pd\n",
        "from google.colab import drive\n",
        "drive.mount('/content/drive')"
      ]
    },
    {
      "cell_type": "code",
      "source": [
        "names = [\"process.b1.capacity\", \"process.b2.capacity\", \"process.b3.capacity\", \"process.b4.capacity\", \"property.price\", \"property.product\", \"property.winner\", \"verification.result\", \"verification.time\"]\n",
        "dataset = pd.read_csv ('/content/drive/MyDrive/ML/auction+verification.csv', names=names, header=0)"
      ],
      "metadata": {
        "id": "GSoQCzs6VDXP"
      },
      "execution_count": 3,
      "outputs": []
    },
    {
      "cell_type": "code",
      "source": [
        "dataset.head(5)"
      ],
      "metadata": {
        "colab": {
          "base_uri": "https://localhost:8080/",
          "height": 226
        },
        "id": "S85SkThfTWHx",
        "outputId": "cc215b55-47e3-41fc-93eb-247566435158"
      },
      "execution_count": 4,
      "outputs": [
        {
          "output_type": "execute_result",
          "data": {
            "text/plain": [
              "   process.b1.capacity  process.b2.capacity  process.b3.capacity  \\\n",
              "0                    0                    0                    2   \n",
              "1                    0                    0                    2   \n",
              "2                    0                    0                    2   \n",
              "3                    0                    0                    2   \n",
              "4                    0                    0                    2   \n",
              "\n",
              "   process.b4.capacity  property.price  property.product  property.winner  \\\n",
              "0                    1              59                 1                0   \n",
              "1                    1              59                 2                0   \n",
              "2                    1              59                 4                0   \n",
              "3                    1              59                 6                0   \n",
              "4                    1              60                 1                0   \n",
              "\n",
              "   verification.result  verification.time  \n",
              "0                False         163.316667  \n",
              "1                False         200.860000  \n",
              "2                False         154.888889  \n",
              "3                False         108.640000  \n",
              "4                 True          85.466667  "
            ],
            "text/html": [
              "\n",
              "  <div id=\"df-10695555-8a2f-4b44-a914-14094c376d4d\" class=\"colab-df-container\">\n",
              "    <div>\n",
              "<style scoped>\n",
              "    .dataframe tbody tr th:only-of-type {\n",
              "        vertical-align: middle;\n",
              "    }\n",
              "\n",
              "    .dataframe tbody tr th {\n",
              "        vertical-align: top;\n",
              "    }\n",
              "\n",
              "    .dataframe thead th {\n",
              "        text-align: right;\n",
              "    }\n",
              "</style>\n",
              "<table border=\"1\" class=\"dataframe\">\n",
              "  <thead>\n",
              "    <tr style=\"text-align: right;\">\n",
              "      <th></th>\n",
              "      <th>process.b1.capacity</th>\n",
              "      <th>process.b2.capacity</th>\n",
              "      <th>process.b3.capacity</th>\n",
              "      <th>process.b4.capacity</th>\n",
              "      <th>property.price</th>\n",
              "      <th>property.product</th>\n",
              "      <th>property.winner</th>\n",
              "      <th>verification.result</th>\n",
              "      <th>verification.time</th>\n",
              "    </tr>\n",
              "  </thead>\n",
              "  <tbody>\n",
              "    <tr>\n",
              "      <th>0</th>\n",
              "      <td>0</td>\n",
              "      <td>0</td>\n",
              "      <td>2</td>\n",
              "      <td>1</td>\n",
              "      <td>59</td>\n",
              "      <td>1</td>\n",
              "      <td>0</td>\n",
              "      <td>False</td>\n",
              "      <td>163.316667</td>\n",
              "    </tr>\n",
              "    <tr>\n",
              "      <th>1</th>\n",
              "      <td>0</td>\n",
              "      <td>0</td>\n",
              "      <td>2</td>\n",
              "      <td>1</td>\n",
              "      <td>59</td>\n",
              "      <td>2</td>\n",
              "      <td>0</td>\n",
              "      <td>False</td>\n",
              "      <td>200.860000</td>\n",
              "    </tr>\n",
              "    <tr>\n",
              "      <th>2</th>\n",
              "      <td>0</td>\n",
              "      <td>0</td>\n",
              "      <td>2</td>\n",
              "      <td>1</td>\n",
              "      <td>59</td>\n",
              "      <td>4</td>\n",
              "      <td>0</td>\n",
              "      <td>False</td>\n",
              "      <td>154.888889</td>\n",
              "    </tr>\n",
              "    <tr>\n",
              "      <th>3</th>\n",
              "      <td>0</td>\n",
              "      <td>0</td>\n",
              "      <td>2</td>\n",
              "      <td>1</td>\n",
              "      <td>59</td>\n",
              "      <td>6</td>\n",
              "      <td>0</td>\n",
              "      <td>False</td>\n",
              "      <td>108.640000</td>\n",
              "    </tr>\n",
              "    <tr>\n",
              "      <th>4</th>\n",
              "      <td>0</td>\n",
              "      <td>0</td>\n",
              "      <td>2</td>\n",
              "      <td>1</td>\n",
              "      <td>60</td>\n",
              "      <td>1</td>\n",
              "      <td>0</td>\n",
              "      <td>True</td>\n",
              "      <td>85.466667</td>\n",
              "    </tr>\n",
              "  </tbody>\n",
              "</table>\n",
              "</div>\n",
              "    <div class=\"colab-df-buttons\">\n",
              "\n",
              "  <div class=\"colab-df-container\">\n",
              "    <button class=\"colab-df-convert\" onclick=\"convertToInteractive('df-10695555-8a2f-4b44-a914-14094c376d4d')\"\n",
              "            title=\"Convert this dataframe to an interactive table.\"\n",
              "            style=\"display:none;\">\n",
              "\n",
              "  <svg xmlns=\"http://www.w3.org/2000/svg\" height=\"24px\" viewBox=\"0 -960 960 960\">\n",
              "    <path d=\"M120-120v-720h720v720H120Zm60-500h600v-160H180v160Zm220 220h160v-160H400v160Zm0 220h160v-160H400v160ZM180-400h160v-160H180v160Zm440 0h160v-160H620v160ZM180-180h160v-160H180v160Zm440 0h160v-160H620v160Z\"/>\n",
              "  </svg>\n",
              "    </button>\n",
              "\n",
              "  <style>\n",
              "    .colab-df-container {\n",
              "      display:flex;\n",
              "      gap: 12px;\n",
              "    }\n",
              "\n",
              "    .colab-df-convert {\n",
              "      background-color: #E8F0FE;\n",
              "      border: none;\n",
              "      border-radius: 50%;\n",
              "      cursor: pointer;\n",
              "      display: none;\n",
              "      fill: #1967D2;\n",
              "      height: 32px;\n",
              "      padding: 0 0 0 0;\n",
              "      width: 32px;\n",
              "    }\n",
              "\n",
              "    .colab-df-convert:hover {\n",
              "      background-color: #E2EBFA;\n",
              "      box-shadow: 0px 1px 2px rgba(60, 64, 67, 0.3), 0px 1px 3px 1px rgba(60, 64, 67, 0.15);\n",
              "      fill: #174EA6;\n",
              "    }\n",
              "\n",
              "    .colab-df-buttons div {\n",
              "      margin-bottom: 4px;\n",
              "    }\n",
              "\n",
              "    [theme=dark] .colab-df-convert {\n",
              "      background-color: #3B4455;\n",
              "      fill: #D2E3FC;\n",
              "    }\n",
              "\n",
              "    [theme=dark] .colab-df-convert:hover {\n",
              "      background-color: #434B5C;\n",
              "      box-shadow: 0px 1px 3px 1px rgba(0, 0, 0, 0.15);\n",
              "      filter: drop-shadow(0px 1px 2px rgba(0, 0, 0, 0.3));\n",
              "      fill: #FFFFFF;\n",
              "    }\n",
              "  </style>\n",
              "\n",
              "    <script>\n",
              "      const buttonEl =\n",
              "        document.querySelector('#df-10695555-8a2f-4b44-a914-14094c376d4d button.colab-df-convert');\n",
              "      buttonEl.style.display =\n",
              "        google.colab.kernel.accessAllowed ? 'block' : 'none';\n",
              "\n",
              "      async function convertToInteractive(key) {\n",
              "        const element = document.querySelector('#df-10695555-8a2f-4b44-a914-14094c376d4d');\n",
              "        const dataTable =\n",
              "          await google.colab.kernel.invokeFunction('convertToInteractive',\n",
              "                                                    [key], {});\n",
              "        if (!dataTable) return;\n",
              "\n",
              "        const docLinkHtml = 'Like what you see? Visit the ' +\n",
              "          '<a target=\"_blank\" href=https://colab.research.google.com/notebooks/data_table.ipynb>data table notebook</a>'\n",
              "          + ' to learn more about interactive tables.';\n",
              "        element.innerHTML = '';\n",
              "        dataTable['output_type'] = 'display_data';\n",
              "        await google.colab.output.renderOutput(dataTable, element);\n",
              "        const docLink = document.createElement('div');\n",
              "        docLink.innerHTML = docLinkHtml;\n",
              "        element.appendChild(docLink);\n",
              "      }\n",
              "    </script>\n",
              "  </div>\n",
              "\n",
              "\n",
              "<div id=\"df-c9d6bbed-4a6e-43f4-b4e1-0e5bee1912fc\">\n",
              "  <button class=\"colab-df-quickchart\" onclick=\"quickchart('df-c9d6bbed-4a6e-43f4-b4e1-0e5bee1912fc')\"\n",
              "            title=\"Suggest charts\"\n",
              "            style=\"display:none;\">\n",
              "\n",
              "<svg xmlns=\"http://www.w3.org/2000/svg\" height=\"24px\"viewBox=\"0 0 24 24\"\n",
              "     width=\"24px\">\n",
              "    <g>\n",
              "        <path d=\"M19 3H5c-1.1 0-2 .9-2 2v14c0 1.1.9 2 2 2h14c1.1 0 2-.9 2-2V5c0-1.1-.9-2-2-2zM9 17H7v-7h2v7zm4 0h-2V7h2v10zm4 0h-2v-4h2v4z\"/>\n",
              "    </g>\n",
              "</svg>\n",
              "  </button>\n",
              "\n",
              "<style>\n",
              "  .colab-df-quickchart {\n",
              "      --bg-color: #E8F0FE;\n",
              "      --fill-color: #1967D2;\n",
              "      --hover-bg-color: #E2EBFA;\n",
              "      --hover-fill-color: #174EA6;\n",
              "      --disabled-fill-color: #AAA;\n",
              "      --disabled-bg-color: #DDD;\n",
              "  }\n",
              "\n",
              "  [theme=dark] .colab-df-quickchart {\n",
              "      --bg-color: #3B4455;\n",
              "      --fill-color: #D2E3FC;\n",
              "      --hover-bg-color: #434B5C;\n",
              "      --hover-fill-color: #FFFFFF;\n",
              "      --disabled-bg-color: #3B4455;\n",
              "      --disabled-fill-color: #666;\n",
              "  }\n",
              "\n",
              "  .colab-df-quickchart {\n",
              "    background-color: var(--bg-color);\n",
              "    border: none;\n",
              "    border-radius: 50%;\n",
              "    cursor: pointer;\n",
              "    display: none;\n",
              "    fill: var(--fill-color);\n",
              "    height: 32px;\n",
              "    padding: 0;\n",
              "    width: 32px;\n",
              "  }\n",
              "\n",
              "  .colab-df-quickchart:hover {\n",
              "    background-color: var(--hover-bg-color);\n",
              "    box-shadow: 0 1px 2px rgba(60, 64, 67, 0.3), 0 1px 3px 1px rgba(60, 64, 67, 0.15);\n",
              "    fill: var(--button-hover-fill-color);\n",
              "  }\n",
              "\n",
              "  .colab-df-quickchart-complete:disabled,\n",
              "  .colab-df-quickchart-complete:disabled:hover {\n",
              "    background-color: var(--disabled-bg-color);\n",
              "    fill: var(--disabled-fill-color);\n",
              "    box-shadow: none;\n",
              "  }\n",
              "\n",
              "  .colab-df-spinner {\n",
              "    border: 2px solid var(--fill-color);\n",
              "    border-color: transparent;\n",
              "    border-bottom-color: var(--fill-color);\n",
              "    animation:\n",
              "      spin 1s steps(1) infinite;\n",
              "  }\n",
              "\n",
              "  @keyframes spin {\n",
              "    0% {\n",
              "      border-color: transparent;\n",
              "      border-bottom-color: var(--fill-color);\n",
              "      border-left-color: var(--fill-color);\n",
              "    }\n",
              "    20% {\n",
              "      border-color: transparent;\n",
              "      border-left-color: var(--fill-color);\n",
              "      border-top-color: var(--fill-color);\n",
              "    }\n",
              "    30% {\n",
              "      border-color: transparent;\n",
              "      border-left-color: var(--fill-color);\n",
              "      border-top-color: var(--fill-color);\n",
              "      border-right-color: var(--fill-color);\n",
              "    }\n",
              "    40% {\n",
              "      border-color: transparent;\n",
              "      border-right-color: var(--fill-color);\n",
              "      border-top-color: var(--fill-color);\n",
              "    }\n",
              "    60% {\n",
              "      border-color: transparent;\n",
              "      border-right-color: var(--fill-color);\n",
              "    }\n",
              "    80% {\n",
              "      border-color: transparent;\n",
              "      border-right-color: var(--fill-color);\n",
              "      border-bottom-color: var(--fill-color);\n",
              "    }\n",
              "    90% {\n",
              "      border-color: transparent;\n",
              "      border-bottom-color: var(--fill-color);\n",
              "    }\n",
              "  }\n",
              "</style>\n",
              "\n",
              "  <script>\n",
              "    async function quickchart(key) {\n",
              "      const quickchartButtonEl =\n",
              "        document.querySelector('#' + key + ' button');\n",
              "      quickchartButtonEl.disabled = true;  // To prevent multiple clicks.\n",
              "      quickchartButtonEl.classList.add('colab-df-spinner');\n",
              "      try {\n",
              "        const charts = await google.colab.kernel.invokeFunction(\n",
              "            'suggestCharts', [key], {});\n",
              "      } catch (error) {\n",
              "        console.error('Error during call to suggestCharts:', error);\n",
              "      }\n",
              "      quickchartButtonEl.classList.remove('colab-df-spinner');\n",
              "      quickchartButtonEl.classList.add('colab-df-quickchart-complete');\n",
              "    }\n",
              "    (() => {\n",
              "      let quickchartButtonEl =\n",
              "        document.querySelector('#df-c9d6bbed-4a6e-43f4-b4e1-0e5bee1912fc button');\n",
              "      quickchartButtonEl.style.display =\n",
              "        google.colab.kernel.accessAllowed ? 'block' : 'none';\n",
              "    })();\n",
              "  </script>\n",
              "</div>\n",
              "    </div>\n",
              "  </div>\n"
            ]
          },
          "metadata": {},
          "execution_count": 4
        }
      ]
    },
    {
      "cell_type": "code",
      "source": [
        "dataset.shape"
      ],
      "metadata": {
        "colab": {
          "base_uri": "https://localhost:8080/"
        },
        "id": "X2ieTY3FVRe-",
        "outputId": "a2fde6ed-0dc6-4b55-b683-8a7c148b5a4c"
      },
      "execution_count": 5,
      "outputs": [
        {
          "output_type": "execute_result",
          "data": {
            "text/plain": [
              "(2043, 9)"
            ]
          },
          "metadata": {},
          "execution_count": 5
        }
      ]
    },
    {
      "cell_type": "code",
      "source": [
        "dataset_numeric = dataset.astype(int)"
      ],
      "metadata": {
        "id": "raemY_cWWoL-"
      },
      "execution_count": 6,
      "outputs": []
    },
    {
      "cell_type": "markdown",
      "source": [
        "Baris di bawah ini mengimpor modul model_selection dari scikit-learn"
      ],
      "metadata": {
        "id": "2fZU4RCPyjPN"
      }
    },
    {
      "cell_type": "code",
      "source": [
        "from sklearn import model_selection"
      ],
      "metadata": {
        "id": "vd7EjOo7VsKc"
      },
      "execution_count": 7,
      "outputs": []
    },
    {
      "cell_type": "markdown",
      "source": [
        "-Menggunakan atribut values dari objek DataFrame Pandas (dataset), kita mengonversi dataset ke dalam bentuk array NumPy\n",
        "\n",
        "-Memisahkan dataset menjadi dua bagian:\n",
        "\n",
        "X: Variabel independen (fitur) yang terdiri dari kolom 0 hingga 7.\n",
        "\n",
        "Y: Variabel dependen (kelas/target) yang terdiri dari kolom ke-7.\n",
        "\n",
        "-kemudian menggunakan fungsi train_test_split dari scikit-learn, dataset (X dan Y) dibagi menjadi dua bagian:\n",
        "\n",
        "X_train: Data pelatihan untuk variabel independen.\n",
        "\n",
        "X_validation: Data validasi untuk variabel independen.\n",
        "\n",
        "Y_train: Data pelatihan untuk variabel dependen.\n",
        "\n",
        "Y_validation: Data validasi untuk variabel dependen.\n",
        "\n",
        "test_size=validation_size menentukan proporsi data yang akan dialokasikan sebagai data validasi (20% dalam hal ini).\n",
        "\n",
        "random_state=seed memastikan reproduktibilitas pembagian data dengan memberikan nilai seed pada generator angka acak."
      ],
      "metadata": {
        "id": "e5i7208Lym9F"
      }
    },
    {
      "cell_type": "code",
      "source": [
        "array = dataset_numeric.values\n",
        "\n",
        "# Separate features and target variable\n",
        "X = array[:,0:7]\n",
        "Y = array[:,7]\n",
        "\n",
        "\n",
        "validation_size = 0.20\n",
        "seed = 7\n",
        "\n",
        "X_train, X_validation, Y_train, Y_validation = model_selection.train_test_split(X, Y, test_size=validation_size, random_state=seed)"
      ],
      "metadata": {
        "id": "bNFyejKzVgwa"
      },
      "execution_count": 8,
      "outputs": []
    },
    {
      "cell_type": "markdown",
      "source": [
        "Kemudian hasilnya kita tampilkan"
      ],
      "metadata": {
        "id": "ERQUto1ry0mv"
      }
    },
    {
      "cell_type": "code",
      "source": [
        "print(\"X_train :\", X_train.shape)\n",
        "print(\"X_validation :\", X_validation.shape)\n",
        "print(\"Y_train :\", Y_train.shape)\n",
        "print(\"Y_validation :\", Y_validation.shape)"
      ],
      "metadata": {
        "colab": {
          "base_uri": "https://localhost:8080/"
        },
        "id": "NUQ8aePrVuyJ",
        "outputId": "5ea6c600-7723-470a-ebbd-263990667814"
      },
      "execution_count": 9,
      "outputs": [
        {
          "output_type": "stream",
          "name": "stdout",
          "text": [
            "X_train : (1634, 7)\n",
            "X_validation : (409, 7)\n",
            "Y_train : (1634,)\n",
            "Y_validation : (409,)\n"
          ]
        }
      ]
    },
    {
      "cell_type": "markdown",
      "source": [
        "Menetapkan seed yaitu 7 pada algoritma untuk memastikan bahwa hasilnya dapat direproduksi.\n",
        "\n",
        "Menunjukkan bahwa metrik evaluasi yang digunakan untuk mengukur performa model adalah akurasi."
      ],
      "metadata": {
        "id": "xQX7EKTL3JPw"
      }
    },
    {
      "cell_type": "code",
      "source": [
        "# Test options and evaluation metric\n",
        "seed = 7\n",
        "scoring = 'accuracy'"
      ],
      "metadata": {
        "id": "Wiwww9-mVxGA"
      },
      "execution_count": 10,
      "outputs": []
    },
    {
      "cell_type": "markdown",
      "source": [
        "* mengimpor tiga model klasifikasi yang akan dievaluasi: SVC (Support Vector Machine), KNeighborsClassifier (K-Nearest Neighbors), dan GaussianNB (Naive Bayes).\n",
        "\n",
        "* kemudian membuat list models yang berisi tuple-tuple model dan nama-nama model yang akan dievaluasi. Setiap tuple berisi nama model dan objek model tersebut.\n",
        "\n",
        "selanjutnya\n",
        "\n",
        "* Menggunakan loop for untuk iterasi melalui setiap model dalam list models.\n",
        "\n",
        "* Membuat objek KFold untuk validasi silang dengan 10 lipatan (folds), menggunakan nilai seed yang telah ditentukan (random_state=seed) dan dengan pengacakan data (shuffle=True).\n",
        "\n",
        "* Menggunakan cross_val_score untuk mengevaluasi setiap model menggunakan validasi silang. Hasil evaluasi disimpan dalam cv_results.\n",
        "\n",
        "* Menambahkan hasil evaluasi dan nama model ke dalam list results dan names.\n",
        "\n",
        "* Mencetak hasil evaluasi model, termasuk rata-rata (mean()) dan deviasi standar (std()).\n",
        "\n",
        "Jadi, code di bawah ini membandingkan performa tiga model klasifikasi yang berbeda menggunakan metode validasi silang. Hasil evaluasi ini dapat memberikan wawasan tentang model mana yang paling sesuai dengan data pelatihan yang diberikan."
      ],
      "metadata": {
        "id": "HkLLJ8DNy3Qw"
      }
    },
    {
      "cell_type": "code",
      "source": [
        "from sklearn.svm import SVC\n",
        "from sklearn.neighbors import KNeighborsClassifier\n",
        "from sklearn.naive_bayes import GaussianNB\n",
        "\n",
        "\n",
        "models = []\n",
        "models.append(('KNN', KNeighborsClassifier()))\n",
        "models.append(('NB', GaussianNB()))\n",
        "models.append(('SVM', SVC()))\n",
        "\n",
        "\n",
        "results = []\n",
        "names = []\n",
        "for name, model in models:\n",
        "  kfold = model_selection.KFold(n_splits=10, shuffle=True, random_state=seed)\n",
        "  cv_results = model_selection.cross_val_score(model, X_train, Y_train, cv=kfold, scoring=scoring)\n",
        "  results.append(cv_results)\n",
        "  names.append(name)\n",
        "  msg = \"%s: %f (%f)\" % (name, cv_results.mean(), cv_results.std())\n",
        "  print(msg)\n"
      ],
      "metadata": {
        "colab": {
          "base_uri": "https://localhost:8080/"
        },
        "id": "A_5MiPnBV0yO",
        "outputId": "efe2c5ae-c247-41eb-c658-c0cfce8f226e"
      },
      "execution_count": 11,
      "outputs": [
        {
          "output_type": "stream",
          "name": "stdout",
          "text": [
            "KNN: 0.974304 (0.011502)\n",
            "NB: 0.826205 (0.036847)\n",
            "SVM: 0.869015 (0.032114)\n"
          ]
        }
      ]
    },
    {
      "cell_type": "markdown",
      "source": [
        "mengimpor beberapa metrik evaluasi dari scikit-learn yang akan digunakan untuk mengevaluasi performa model klasifikasi."
      ],
      "metadata": {
        "id": "dpP28X_Ozv2k"
      }
    },
    {
      "cell_type": "code",
      "source": [
        "from sklearn.metrics import accuracy_score, confusion_matrix, classification_report"
      ],
      "metadata": {
        "id": "3620t2DiW8OL"
      },
      "execution_count": 20,
      "outputs": []
    },
    {
      "cell_type": "markdown",
      "source": [
        "Membuat objek model Support Vector Machine (svm) dari kelas SVC.\n",
        "\n",
        "Melatih model menggunakan data pelatihan (X_train dan Y_train) menggunakan metode fit().\n",
        "\n",
        "Menggunakan model SVM yang telah dilatih untuk membuat prediksi pada data validasi\n",
        "\n",
        "Mencetak akurasi model dengan membandingkan prediksi dengan nilai sebenarnya menggunakan accuracy_score.\n",
        "\n",
        "Mencetak matriks kebingungan (confusion matrix) menggunakan confusion_matrix, yang memberikan gambaran tentang seberapa baik model mengklasifikasikan kelas-kelas.\n",
        "\n",
        "Mencetak laporan klasifikasi (classification_report), yang menyediakan informasi seperti presisi, recall, dan f1-score untuk setiap kelas."
      ],
      "metadata": {
        "id": "sQif1ZJo1ApM"
      }
    },
    {
      "cell_type": "code",
      "source": [
        "knn = KNeighborsClassifier()\n",
        "knn.fit(X_train, Y_train)\n",
        "predictions_knn = knn.predict(X_validation)\n",
        "\n",
        "print(accuracy_score(Y_validation, predictions_knn))\n",
        "print(confusion_matrix(Y_validation, predictions_knn))\n",
        "print(classification_report(Y_validation, predictions_knn))\n"
      ],
      "metadata": {
        "colab": {
          "base_uri": "https://localhost:8080/"
        },
        "id": "mczhNLJXW96d",
        "outputId": "d1912b95-f914-42fb-b567-a38797566fbf"
      },
      "execution_count": 22,
      "outputs": [
        {
          "output_type": "stream",
          "name": "stdout",
          "text": [
            "0.9779951100244498\n",
            "[[361   0]\n",
            " [  9  39]]\n",
            "              precision    recall  f1-score   support\n",
            "\n",
            "           0       0.98      1.00      0.99       361\n",
            "           1       1.00      0.81      0.90        48\n",
            "\n",
            "    accuracy                           0.98       409\n",
            "   macro avg       0.99      0.91      0.94       409\n",
            "weighted avg       0.98      0.98      0.98       409\n",
            "\n"
          ]
        }
      ]
    },
    {
      "cell_type": "markdown",
      "source": [
        "Penjelasan informasi atau kesimpulan dari data yang ditampilkan\n",
        "\n",
        "Dari hasil evaluasi model pada data validasi, terlihat bahwa model KNN memiliki tingkat akurasi yang tinggi, mencapai 97.8%. Ini berarti model dengan metode KNN berhasil mengklasifikasikan sebagian besar data dengan benar.\n",
        "\n",
        "True Positive (TP): 39\n",
        "\n",
        "True Negative (TN): 361\n",
        "\n",
        "False Positive (FP): 0\n",
        "\n",
        "False Negative (FN): 9\n",
        "\n",
        "Dari sini, kita dapat melihat bahwa model KNN memiliki kemampuan yang baik dalam mengidentifikasi kelas positif (1), ditunjukkan oleh nilai True Positive yang tinggi (39) dan False Negative yang rendah (9).\n",
        "\n",
        "Precision: Kemampuan model untuk tidak memberikan label positif pada sampel yang seharusnya negatif (0.98 untuk kelas 0, 1.00 untuk kelas 1).\n",
        "\n",
        "Recall: Kemampuan model untuk menemukan semua sampel positif (1.00 untuk kelas 0, 0.81 untuk kelas 1).\n",
        "\n",
        "F1-score: Harmonic mean antara precision dan recall (0.99 untuk kelas 0, 0.90 untuk kelas 1).\n",
        "\n",
        "Dapat disimpulkan bahwa model KNN memiliki performa yang sangat baik dalam mengklasifikasikan data pada dataset validasi."
      ],
      "metadata": {
        "id": "uU-l8Gat2g6_"
      }
    }
  ]
}