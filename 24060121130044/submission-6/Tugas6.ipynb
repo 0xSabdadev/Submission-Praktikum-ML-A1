{
  "nbformat": 4,
  "nbformat_minor": 0,
  "metadata": {
    "colab": {
      "provenance": []
    },
    "kernelspec": {
      "name": "python3",
      "display_name": "Python 3"
    },
    "language_info": {
      "name": "python"
    }
  },
  "cells": [
    {
      "cell_type": "markdown",
      "source": [
        "Nama  : Reza Hilmi Dafa\n",
        "\n",
        "NIM   : 24060121130044\n",
        "\n",
        "Nama Dataset : auction verification\n",
        "\n",
        "Link Dataset : https://archive.ics.uci.edu/dataset/713/auction+verification"
      ],
      "metadata": {
        "id": "p4DkiYrMX__a"
      }
    },
    {
      "cell_type": "markdown",
      "source": [
        "Kode di bawah ini mengimport beberapa library yang diperlukan seperti pandas, numpy, dan matplotlib untuk analisis data dan visualisasi."
      ],
      "metadata": {
        "id": "EMTBQhlDX92R"
      }
    },
    {
      "cell_type": "code",
      "source": [
        "import pandas as pd\n",
        "import numpy as np\n",
        "from matplotlib import pyplot as plt\n",
        "from sklearn.preprocessing import StandardScaler\n",
        "from sklearn.decomposition import PCA\n",
        "%matplotlib inline"
      ],
      "metadata": {
        "id": "9E5iwq9tAMP4"
      },
      "execution_count": null,
      "outputs": []
    },
    {
      "cell_type": "markdown",
      "source": [
        "kode di bawah mengaitkan Google Drive agar dapat mengakses file yang ada di sana."
      ],
      "metadata": {
        "id": "RuPEXc_1YLOo"
      }
    },
    {
      "cell_type": "code",
      "execution_count": null,
      "metadata": {
        "colab": {
          "base_uri": "https://localhost:8080/"
        },
        "id": "tN5owICY9Kjb",
        "outputId": "9915fc0d-34d3-4c39-ce4a-f8333fedf41b"
      },
      "outputs": [
        {
          "output_type": "stream",
          "name": "stdout",
          "text": [
            "Mounted at /content/drive\n"
          ]
        }
      ],
      "source": [
        "from google.colab import drive\n",
        "drive.mount('/content/drive')"
      ]
    },
    {
      "cell_type": "markdown",
      "source": [
        "- Menentukan nama kolom untuk dataset.\n",
        "- Membaca dataset dari file CSV ke dalam DataFrame menggunakan pandas.\n",
        "- Memeriksa bentuk dan 10 baris pertama dari dataset."
      ],
      "metadata": {
        "id": "7kAHmQG8YR_-"
      }
    },
    {
      "cell_type": "code",
      "source": [
        "names = [\"process.b1.capacity\", \"process.b2.capacity\", \"process.b3.capacity\", \"process.b4.capacity\",\n",
        "         \"property.price\", \"property.product\", \"property.winner\", \"verification.result\"]\n",
        "dataset = pd.read_csv ('/content/drive/MyDrive/ML/auction+verification.csv', names=names, header=0)"
      ],
      "metadata": {
        "id": "sDF-QLwvAJEZ"
      },
      "execution_count": null,
      "outputs": []
    },
    {
      "cell_type": "markdown",
      "source": [
        "kode di bawah ini menampilkan 10 baris dataset"
      ],
      "metadata": {
        "id": "j2zei8UzYhP1"
      }
    },
    {
      "cell_type": "code",
      "source": [
        "print(dataset.shape)\n",
        "print(dataset[:10])"
      ],
      "metadata": {
        "colab": {
          "base_uri": "https://localhost:8080/"
        },
        "id": "3si6ROy0G0wZ",
        "outputId": "1c953589-472f-4b23-f0bf-1187e742f2ad"
      },
      "execution_count": null,
      "outputs": [
        {
          "output_type": "stream",
          "name": "stdout",
          "text": [
            "(2043, 8)\n",
            "   process.b1.capacity  process.b2.capacity  process.b3.capacity  \\\n",
            "0                    0                    2                    1   \n",
            "0                    0                    2                    1   \n",
            "0                    0                    2                    1   \n",
            "0                    0                    2                    1   \n",
            "0                    0                    2                    1   \n",
            "0                    0                    2                    1   \n",
            "0                    0                    2                    1   \n",
            "0                    0                    2                    1   \n",
            "0                    0                    2                    1   \n",
            "0                    0                    2                    1   \n",
            "\n",
            "   process.b4.capacity  property.price  property.product  property.winner  \\\n",
            "0                   59               1                 0            False   \n",
            "0                   59               2                 0            False   \n",
            "0                   59               4                 0            False   \n",
            "0                   59               6                 0            False   \n",
            "0                   60               1                 0             True   \n",
            "0                   60               1                 3             True   \n",
            "0                   60               1                 4            False   \n",
            "0                   60               2                 0             True   \n",
            "0                   60               2                 3             True   \n",
            "0                   60               2                 4            False   \n",
            "\n",
            "   verification.result  \n",
            "0           163.316667  \n",
            "0           200.860000  \n",
            "0           154.888889  \n",
            "0           108.640000  \n",
            "0            85.466667  \n",
            "0            82.000000  \n",
            "0           154.250000  \n",
            "0            80.950000  \n",
            "0            78.000000  \n",
            "0           197.010000  \n"
          ]
        }
      ]
    },
    {
      "cell_type": "markdown",
      "source": [
        "mencetak nilai unik dari kolom 'verification.result' pada dataset"
      ],
      "metadata": {
        "id": "H8NBZLNZYsUN"
      }
    },
    {
      "cell_type": "code",
      "source": [
        "print(np.unique(dataset['verification.result']))"
      ],
      "metadata": {
        "colab": {
          "base_uri": "https://localhost:8080/"
        },
        "id": "B4aw-2aGRB2b",
        "outputId": "be85fd5b-0545-4e58-a96e-d92fd9538365"
      },
      "execution_count": null,
      "outputs": [
        {
          "output_type": "stream",
          "name": "stdout",
          "text": [
            "[   77.91666667    78.            78.15       ... 42828.41666667\n",
            " 43504.25       44130.52083333]\n"
          ]
        }
      ]
    },
    {
      "cell_type": "markdown",
      "source": [
        "- Memilih fitur yang akan digunakan (kolom tertentu) dan memisahkan antara fitur (x) dan target (y).\n",
        "- Melakukan standardisasi data menggunakan StandardScaler dari scikit-learn untuk memastikan skala yang seragam."
      ],
      "metadata": {
        "id": "EGmdkv9rYw-o"
      }
    },
    {
      "cell_type": "code",
      "source": [
        "features = [\"process.b1.capacity\", \"process.b2.capacity\", \"process.b3.capacity\", \"process.b4.capacity\",\n",
        "         \"property.price\", \"property.product\", \"property.winner\"]\n",
        "\n",
        "x = dataset.loc[:, features].values\n",
        "y = dataset.loc[:, \"verification.result\"].values\n",
        "\n",
        "x = StandardScaler().fit_transform(x)"
      ],
      "metadata": {
        "id": "jvXkdhjpAKGu"
      },
      "execution_count": null,
      "outputs": []
    },
    {
      "cell_type": "markdown",
      "source": [
        "menampilkan hasilnya"
      ],
      "metadata": {
        "id": "JxLcD6cLY400"
      }
    },
    {
      "cell_type": "code",
      "source": [
        "print(x.shape)\n",
        "print(y.shape)\n",
        "print(x[:10])\n",
        "print(y[:10])"
      ],
      "metadata": {
        "colab": {
          "base_uri": "https://localhost:8080/"
        },
        "id": "bH345TKKMxcB",
        "outputId": "bbe7d922-5ce2-43f7-d73b-8ac999de0674"
      },
      "execution_count": null,
      "outputs": [
        {
          "output_type": "stream",
          "name": "stdout",
          "text": [
            "(2043, 7)\n",
            "(2043,)\n",
            "[[-2.58174937  0.36225576  0.83730665 -1.5501031  -1.24853113 -0.42840815\n",
            "  -0.38354708]\n",
            " [-2.58174937  0.36225576  0.83730665 -1.5501031  -0.69414097 -0.42840815\n",
            "  -0.38354708]\n",
            " [-2.58174937  0.36225576  0.83730665 -1.5501031   0.41463933 -0.42840815\n",
            "  -0.38354708]\n",
            " [-2.58174937  0.36225576  0.83730665 -1.5501031   1.52341964 -0.42840815\n",
            "  -0.38354708]\n",
            " [-2.58174937  0.36225576  0.83730665 -1.42582964 -1.24853113 -0.42840815\n",
            "   2.60724182]\n",
            " [-2.58174937  0.36225576  0.83730665 -1.42582964 -1.24853113  2.39493977\n",
            "   2.60724182]\n",
            " [-2.58174937  0.36225576  0.83730665 -1.42582964 -1.24853113  3.33605575\n",
            "  -0.38354708]\n",
            " [-2.58174937  0.36225576  0.83730665 -1.42582964 -0.69414097 -0.42840815\n",
            "   2.60724182]\n",
            " [-2.58174937  0.36225576  0.83730665 -1.42582964 -0.69414097  2.39493977\n",
            "   2.60724182]\n",
            " [-2.58174937  0.36225576  0.83730665 -1.42582964 -0.69414097  3.33605575\n",
            "  -0.38354708]]\n",
            "[163.31666667 200.86       154.88888889 108.64        85.46666667\n",
            "  82.         154.25        80.95        78.         197.01      ]\n"
          ]
        }
      ]
    },
    {
      "cell_type": "markdown",
      "source": [
        "- Menggunakan analisis PCA dengan dua komponen utama.\n",
        "- Mengubah data menggunakan PCA.\n",
        "- Membuat DataFrame baru (principalDf) dari komponen utama."
      ],
      "metadata": {
        "id": "1uN23opmY8qo"
      }
    },
    {
      "cell_type": "code",
      "source": [
        "pca = PCA(n_components=2)\n",
        "principalComponents = pca.fit_transform(x)\n",
        "principalDf = pd.DataFrame(data = principalComponents\n",
        "              , columns = ['principal component 1', 'principal component 2'])"
      ],
      "metadata": {
        "id": "u8LfmWHeBuwH"
      },
      "execution_count": null,
      "outputs": []
    },
    {
      "cell_type": "markdown",
      "source": [
        "**principalDf_reset = principalDf.reset_index(drop=True):**\n",
        "\n",
        "reset_index() adalah metode pandas yang digunakan untuk mereset indeks DataFrame.\n",
        "\n",
        "drop=True digunakan untuk menghapus indeks sebelumnya dan menggantinya dengan indeks baru yang dihasilkan oleh reset.\n",
        "\n",
        "Hasilnya disimpan dalam variabel baru yang disebut principalDf_reset.\n",
        "\n",
        "**dataset_reset = dataset.reset_index(drop=True):**\n",
        "\n",
        "Sama seperti sebelumnya, reset_index(drop=True) digunakan pada DataFrame dataset untuk mereset indeks.\n",
        "\n",
        "Indeks yang ada sebelumnya dihapus dan digantikan dengan indeks baru.\n",
        "Hasilnya disimpan dalam variabel baru yang disebut dataset_reset"
      ],
      "metadata": {
        "id": "ghZzn_vtZv-g"
      }
    },
    {
      "cell_type": "code",
      "source": [
        "import pandas as pd\n",
        "\n",
        "# Anggap principalDf dan dataset adalah DataFrame Anda\n",
        "# Reset indeks untuk kedua DataFrame\n",
        "principalDf_reset = principalDf.reset_index(drop=True)\n",
        "dataset_reset = dataset.reset_index(drop=True)\n"
      ],
      "metadata": {
        "id": "g4LaSSMSCVJv"
      },
      "execution_count": null,
      "outputs": []
    },
    {
      "cell_type": "markdown",
      "source": [
        "Menggabungkan DataFrame yang berisi komponen utama dengan DataFrame asli untuk mendapatkan DataFrame akhir yang akan digunakan untuk plotting."
      ],
      "metadata": {
        "id": "Q66V_vx9Zaoi"
      }
    },
    {
      "cell_type": "code",
      "source": [
        "finalDf = pd.concat([principalDf_reset, dataset_reset[[\"verification.result\"]]], axis=1)"
      ],
      "metadata": {
        "id": "BSkqaiNwPRJM"
      },
      "execution_count": null,
      "outputs": []
    },
    {
      "cell_type": "code",
      "source": [
        "print(principalDf.shape)\n",
        "print(principalDf[:10])"
      ],
      "metadata": {
        "colab": {
          "base_uri": "https://localhost:8080/"
        },
        "id": "DBwKzQJdNw5c",
        "outputId": "d86237c6-e22c-4f22-e3fc-1e4bea4ebd49"
      },
      "execution_count": null,
      "outputs": [
        {
          "output_type": "stream",
          "name": "stdout",
          "text": [
            "(2043, 2)\n",
            "   principal component 1  principal component 2\n",
            "0              -0.841153               1.156253\n",
            "1              -0.729527               1.406064\n",
            "2              -0.506274               1.905685\n",
            "3              -0.283022               2.405306\n",
            "4               0.742955               0.801888\n",
            "5               2.351073               0.910475\n",
            "6               1.365824               1.240443\n",
            "7               0.854581               1.051698\n",
            "8               2.462699               1.160285\n",
            "9               1.477450               1.490253\n"
          ]
        }
      ]
    },
    {
      "cell_type": "code",
      "source": [
        "print(finalDf.shape)\n",
        "print(finalDf[:10])"
      ],
      "metadata": {
        "colab": {
          "base_uri": "https://localhost:8080/"
        },
        "id": "qNTJiicAPW7k",
        "outputId": "defe1098-e324-4931-d597-f41d2a27a15a"
      },
      "execution_count": null,
      "outputs": [
        {
          "output_type": "stream",
          "name": "stdout",
          "text": [
            "(2043, 3)\n",
            "   principal component 1  principal component 2  verification.result\n",
            "0              -0.841153               1.156253           163.316667\n",
            "1              -0.729527               1.406064           200.860000\n",
            "2              -0.506274               1.905685           154.888889\n",
            "3              -0.283022               2.405306           108.640000\n",
            "4               0.742955               0.801888            85.466667\n",
            "5               2.351073               0.910475            82.000000\n",
            "6               1.365824               1.240443           154.250000\n",
            "7               0.854581               1.051698            80.950000\n",
            "8               2.462699               1.160285            78.000000\n",
            "9               1.477450               1.490253           197.010000\n"
          ]
        }
      ]
    },
    {
      "cell_type": "markdown",
      "source": [
        "Membuat plot 2D dari dua komponen utama yang dihasilkan oleh PCA.\n",
        "\n",
        "Menunjukkan poin-poin data berdasarkan nilai target.\n",
        "\n",
        "Setiap target diberi warna yang berbeda."
      ],
      "metadata": {
        "id": "Vn6OSQ9eauVY"
      }
    },
    {
      "cell_type": "code",
      "source": [
        "fig = plt.figure(figsize=(8, 8))\n",
        "ax = fig.add_subplot(1, 1, 1)\n",
        "ax.set_xlabel('Principal Component 1', fontsize=15)\n",
        "ax.set_ylabel('Principal Component 2', fontsize=15)\n",
        "ax.set_title('2 component PCA', fontsize=20)\n",
        "targets = np.unique(dataset['verification.result'])\n",
        "colors = ['r', 'g', 'b']\n",
        "\n",
        "for target, color in zip(targets, colors):\n",
        "    indicesToKeep = finalDf['verification.result'] == target\n",
        "    ax.scatter(finalDf.loc[indicesToKeep, 'principal component 1'],\n",
        "               finalDf.loc[indicesToKeep, 'principal component 2'],\n",
        "               c=color,\n",
        "               s=50)\n",
        "\n",
        "ax.legend(targets)\n",
        "ax.grid()"
      ],
      "metadata": {
        "id": "Wrbe93_4DvZC",
        "colab": {
          "base_uri": "https://localhost:8080/",
          "height": 732
        },
        "outputId": "530c8e6e-95b2-4d9b-9593-43372fe722dd"
      },
      "execution_count": null,
      "outputs": [
        {
          "output_type": "display_data",
          "data": {
            "text/plain": [
              "<Figure size 800x800 with 1 Axes>"
            ],
            "image/png": "[encoded data removed]"
          },
          "metadata": {}
        }
      ]
    },
    {
      "cell_type": "markdown",
      "source": [
        "Menampilkan rasio variansi yang dijelaskan oleh masing-masing komponen utama."
      ],
      "metadata": {
        "id": "-gDbUhLka2jj"
      }
    },
    {
      "cell_type": "code",
      "source": [
        "pca.explained_variance_ratio_"
      ],
      "metadata": {
        "id": "LCG35OCBClOJ",
        "colab": {
          "base_uri": "https://localhost:8080/"
        },
        "outputId": "b28ed058-1490-44f2-9ecd-2901ef65a972"
      },
      "execution_count": null,
      "outputs": [
        {
          "output_type": "execute_result",
          "data": {
            "text/plain": [
              "array([0.21280986, 0.17321727])"
            ]
          },
          "metadata": {},
          "execution_count": 17
        }
      ]
    },
    {
      "cell_type": "markdown",
      "source": [
        "Kesimpulan :\n",
        "\n",
        " Dataset yang akan digunakan adalah dataset Auction Verification. Dataset ini dibuat sebagai bagian dari studi ilmiah untuk menentukan apakah verifikasi model proses yang kompleks (dalam hal ini: lelang multi-putaran simultan, seperti yang digunakan untuk pelelangan spektrum frekuensi) yang mahal dapat digantikan dengan prediksi hasil. Setiap instance dalam dataset ini merepresentasikan satu run verifikasi. Verifikasi memeriksa apakah harga tertentu mungkin untuk produk tertentu, dan (hanya untuk beberapa instance) apakah penawar tertentu dapat memenangkan produk dengan harga tersebut. Dataset mencakup tujuh kolom dan kolom ketujuh berisi informasi tentang verification.time.\n",
        "\n",
        " Berdasarkan praktikum yang telah dilakukan, PCA (Principal Component Analysis) adalah sebuah teknik transformasi ruang vektor yang diterapkan untuk mereduksi dimensi dari dataset yang berskala besar. Melalui pemetaan, data asli dengan beragam variabel dapat diinterpretasikan dengan lebih sederhana, mengurangi kompleksitasnya menjadi beberapa variabel yang mewakili informasi utama. Keuntungan penggunaan PCA dalam konteks machine learning mencakup penanganan masalah multicollinearity, pengurangan risiko overfitting, dan percepatan pelatihan model dengan dataset yang lebih kecil. Dataset yang digunakan adalah Auction Verification. Dataset ini dibuat sebagai bagian dari studi ilmiah untuk menentukan apakah verifikasi model proses yang kompleks. Targets yang digunakan adalah ‘verification.result’. Didapatkan hasil ‘array([0.21280986, 0.17321727])’ artinya Principal Component 1 menjelaskan sekitar 21.28% dari total varians dalam data, sementara Principal Component 2 menjelaskan sekitar 17.32%. Sehingga, jika menggunakan dua komponen utama total varians yang dijelaskan oleh keduanya adalah sekitar 38.60% (21.28% + 17.32%). Berarti sekitar 61.40% dari varians data tidak dijelaskan oleh dua komponen utama ini."
      ],
      "metadata": {
        "id": "zT4tWY_1bZcs"
      }
    }
  ]
}