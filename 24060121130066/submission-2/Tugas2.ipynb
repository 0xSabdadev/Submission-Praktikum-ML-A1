{
  "nbformat": 4,
  "nbformat_minor": 0,
  "metadata": {
    "colab": {
      "provenance": []
    },
    "kernelspec": {
      "name": "python3",
      "display_name": "Python 3"
    },
    "language_info": {
      "name": "python"
    }
  },
  "cells": [
    {
      "cell_type": "markdown",
      "source": [
        "##Tugas 2 Praktikum Pembelajaran Mesin Lab A1"
      ],
      "metadata": {
        "id": "2TrIZyELFdr4"
      }
    },
    {
      "cell_type": "markdown",
      "source": [
        "###Nama : Bonifasius Bryan Suryaningtyas\n",
        "###NIM  : 24060121130066"
      ],
      "metadata": {
        "id": "pADngaP-FpIS"
      }
    },
    {
      "cell_type": "markdown",
      "source": [
        "###Soal 1 - Eksplorasi *Dataset* Iris dengan Model Klasifikasi di Luar Modul"
      ],
      "metadata": {
        "id": "0lc9CXSKG2xZ"
      }
    },
    {
      "cell_type": "code",
      "source": [
        "import pandas as pd"
      ],
      "metadata": {
        "id": "Cj67PH8aG-Cg"
      },
      "execution_count": 1,
      "outputs": []
    },
    {
      "cell_type": "markdown",
      "source": [
        "##### Penjelasan *Source Code* :\n",
        "Digunakan untuk meng-*import* modul pandas ke dalam kode dengan alias \"pd\", memungkinkan kita untuk menggunakan berbagai fungsi yang disediakan oleh pandas dalam hal mengelola dan menganalisis data.\n"
      ],
      "metadata": {
        "id": "1lpY9Grdm60d"
      }
    },
    {
      "cell_type": "code",
      "source": [
        "url = \"http://archive.ics.uci.edu/ml/machine-learning-databases/iris/iris.data\"\n",
        "\n",
        "nama_kolom = ['sepal-l', 'sepal-w', 'petal-l', 'petal-w', 'class']\n",
        "\n",
        "dataset = pd.read_csv(url, names=nama_kolom)"
      ],
      "metadata": {
        "id": "P5HMXhVBIyYj"
      },
      "execution_count": 2,
      "outputs": []
    },
    {
      "cell_type": "markdown",
      "source": [
        "##### Penjelasan *Source Code* :\n",
        "1. \"url = \"http://archive.ics.uci.edu/ml/machine-learning-databases/iris/iris.data\"\" digunakan untuk menyimpan URL file CSV ke dalam variabel bernama url.\n",
        "2. \"nama_kolom = ['sepal-l', 'sepal-w', 'petal-l', 'petal-w', 'class']\"\n",
        "digunakan untuk mendefinisikan daftar nama kolom.\n",
        "3. \"dataset = pd.read_csv(url, names=nama_kolom)\" digunakan untuk membaca *file* CSV dari URL dan memberikan nama kolom sesuai daftar yang telah dibuat."
      ],
      "metadata": {
        "id": "W-INxZODoRUf"
      }
    },
    {
      "cell_type": "code",
      "source": [
        "dataset.head(5)"
      ],
      "metadata": {
        "colab": {
          "base_uri": "https://localhost:8080/",
          "height": 206
        },
        "id": "VmHKJdXrJnep",
        "outputId": "9169c7e3-cee5-42c2-e84a-70cd0bc241c7"
      },
      "execution_count": 3,
      "outputs": [
        {
          "output_type": "execute_result",
          "data": {
            "text/plain": [
              "   sepal-l  sepal-w  petal-l  petal-w        class\n",
              "0      5.1      3.5      1.4      0.2  Iris-setosa\n",
              "1      4.9      3.0      1.4      0.2  Iris-setosa\n",
              "2      4.7      3.2      1.3      0.2  Iris-setosa\n",
              "3      4.6      3.1      1.5      0.2  Iris-setosa\n",
              "4      5.0      3.6      1.4      0.2  Iris-setosa"
            ],
            "text/html": [
              "\n",
              "  <div id=\"df-bccaedf8-b15e-473f-a916-25fa038fdedd\" class=\"colab-df-container\">\n",
              "    <div>\n",
              "<style scoped>\n",
              "    .dataframe tbody tr th:only-of-type {\n",
              "        vertical-align: middle;\n",
              "    }\n",
              "\n",
              "    .dataframe tbody tr th {\n",
              "        vertical-align: top;\n",
              "    }\n",
              "\n",
              "    .dataframe thead th {\n",
              "        text-align: right;\n",
              "    }\n",
              "</style>\n",
              "<table border=\"1\" class=\"dataframe\">\n",
              "  <thead>\n",
              "    <tr style=\"text-align: right;\">\n",
              "      <th></th>\n",
              "      <th>sepal-l</th>\n",
              "      <th>sepal-w</th>\n",
              "      <th>petal-l</th>\n",
              "      <th>petal-w</th>\n",
              "      <th>class</th>\n",
              "    </tr>\n",
              "  </thead>\n",
              "  <tbody>\n",
              "    <tr>\n",
              "      <th>0</th>\n",
              "      <td>5.1</td>\n",
              "      <td>3.5</td>\n",
              "      <td>1.4</td>\n",
              "      <td>0.2</td>\n",
              "      <td>Iris-setosa</td>\n",
              "    </tr>\n",
              "    <tr>\n",
              "      <th>1</th>\n",
              "      <td>4.9</td>\n",
              "      <td>3.0</td>\n",
              "      <td>1.4</td>\n",
              "      <td>0.2</td>\n",
              "      <td>Iris-setosa</td>\n",
              "    </tr>\n",
              "    <tr>\n",
              "      <th>2</th>\n",
              "      <td>4.7</td>\n",
              "      <td>3.2</td>\n",
              "      <td>1.3</td>\n",
              "      <td>0.2</td>\n",
              "      <td>Iris-setosa</td>\n",
              "    </tr>\n",
              "    <tr>\n",
              "      <th>3</th>\n",
              "      <td>4.6</td>\n",
              "      <td>3.1</td>\n",
              "      <td>1.5</td>\n",
              "      <td>0.2</td>\n",
              "      <td>Iris-setosa</td>\n",
              "    </tr>\n",
              "    <tr>\n",
              "      <th>4</th>\n",
              "      <td>5.0</td>\n",
              "      <td>3.6</td>\n",
              "      <td>1.4</td>\n",
              "      <td>0.2</td>\n",
              "      <td>Iris-setosa</td>\n",
              "    </tr>\n",
              "  </tbody>\n",
              "</table>\n",
              "</div>\n",
              "    <div class=\"colab-df-buttons\">\n",
              "\n",
              "  <div class=\"colab-df-container\">\n",
              "    <button class=\"colab-df-convert\" onclick=\"convertToInteractive('df-bccaedf8-b15e-473f-a916-25fa038fdedd')\"\n",
              "            title=\"Convert this dataframe to an interactive table.\"\n",
              "            style=\"display:none;\">\n",
              "\n",
              "  <svg xmlns=\"http://www.w3.org/2000/svg\" height=\"24px\" viewBox=\"0 -960 960 960\">\n",
              "    <path d=\"M120-120v-720h720v720H120Zm60-500h600v-160H180v160Zm220 220h160v-160H400v160Zm0 220h160v-160H400v160ZM180-400h160v-160H180v160Zm440 0h160v-160H620v160ZM180-180h160v-160H180v160Zm440 0h160v-160H620v160Z\"/>\n",
              "  </svg>\n",
              "    </button>\n",
              "\n",
              "  <style>\n",
              "    .colab-df-container {\n",
              "      display:flex;\n",
              "      gap: 12px;\n",
              "    }\n",
              "\n",
              "    .colab-df-convert {\n",
              "      background-color: #E8F0FE;\n",
              "      border: none;\n",
              "      border-radius: 50%;\n",
              "      cursor: pointer;\n",
              "      display: none;\n",
              "      fill: #1967D2;\n",
              "      height: 32px;\n",
              "      padding: 0 0 0 0;\n",
              "      width: 32px;\n",
              "    }\n",
              "\n",
              "    .colab-df-convert:hover {\n",
              "      background-color: #E2EBFA;\n",
              "      box-shadow: 0px 1px 2px rgba(60, 64, 67, 0.3), 0px 1px 3px 1px rgba(60, 64, 67, 0.15);\n",
              "      fill: #174EA6;\n",
              "    }\n",
              "\n",
              "    .colab-df-buttons div {\n",
              "      margin-bottom: 4px;\n",
              "    }\n",
              "\n",
              "    [theme=dark] .colab-df-convert {\n",
              "      background-color: #3B4455;\n",
              "      fill: #D2E3FC;\n",
              "    }\n",
              "\n",
              "    [theme=dark] .colab-df-convert:hover {\n",
              "      background-color: #434B5C;\n",
              "      box-shadow: 0px 1px 3px 1px rgba(0, 0, 0, 0.15);\n",
              "      filter: drop-shadow(0px 1px 2px rgba(0, 0, 0, 0.3));\n",
              "      fill: #FFFFFF;\n",
              "    }\n",
              "  </style>\n",
              "\n",
              "    <script>\n",
              "      const buttonEl =\n",
              "        document.querySelector('#df-bccaedf8-b15e-473f-a916-25fa038fdedd button.colab-df-convert');\n",
              "      buttonEl.style.display =\n",
              "        google.colab.kernel.accessAllowed ? 'block' : 'none';\n",
              "\n",
              "      async function convertToInteractive(key) {\n",
              "        const element = document.querySelector('#df-bccaedf8-b15e-473f-a916-25fa038fdedd');\n",
              "        const dataTable =\n",
              "          await google.colab.kernel.invokeFunction('convertToInteractive',\n",
              "                                                    [key], {});\n",
              "        if (!dataTable) return;\n",
              "\n",
              "        const docLinkHtml = 'Like what you see? Visit the ' +\n",
              "          '<a target=\"_blank\" href=https://colab.research.google.com/notebooks/data_table.ipynb>data table notebook</a>'\n",
              "          + ' to learn more about interactive tables.';\n",
              "        element.innerHTML = '';\n",
              "        dataTable['output_type'] = 'display_data';\n",
              "        await google.colab.output.renderOutput(dataTable, element);\n",
              "        const docLink = document.createElement('div');\n",
              "        docLink.innerHTML = docLinkHtml;\n",
              "        element.appendChild(docLink);\n",
              "      }\n",
              "    </script>\n",
              "  </div>\n",
              "\n",
              "\n",
              "<div id=\"df-cd412766-f917-4b6a-9bff-6d279b144909\">\n",
              "  <button class=\"colab-df-quickchart\" onclick=\"quickchart('df-cd412766-f917-4b6a-9bff-6d279b144909')\"\n",
              "            title=\"Suggest charts\"\n",
              "            style=\"display:none;\">\n",
              "\n",
              "<svg xmlns=\"http://www.w3.org/2000/svg\" height=\"24px\"viewBox=\"0 0 24 24\"\n",
              "     width=\"24px\">\n",
              "    <g>\n",
              "        <path d=\"M19 3H5c-1.1 0-2 .9-2 2v14c0 1.1.9 2 2 2h14c1.1 0 2-.9 2-2V5c0-1.1-.9-2-2-2zM9 17H7v-7h2v7zm4 0h-2V7h2v10zm4 0h-2v-4h2v4z\"/>\n",
              "    </g>\n",
              "</svg>\n",
              "  </button>\n",
              "\n",
              "<style>\n",
              "  .colab-df-quickchart {\n",
              "      --bg-color: #E8F0FE;\n",
              "      --fill-color: #1967D2;\n",
              "      --hover-bg-color: #E2EBFA;\n",
              "      --hover-fill-color: #174EA6;\n",
              "      --disabled-fill-color: #AAA;\n",
              "      --disabled-bg-color: #DDD;\n",
              "  }\n",
              "\n",
              "  [theme=dark] .colab-df-quickchart {\n",
              "      --bg-color: #3B4455;\n",
              "      --fill-color: #D2E3FC;\n",
              "      --hover-bg-color: #434B5C;\n",
              "      --hover-fill-color: #FFFFFF;\n",
              "      --disabled-bg-color: #3B4455;\n",
              "      --disabled-fill-color: #666;\n",
              "  }\n",
              "\n",
              "  .colab-df-quickchart {\n",
              "    background-color: var(--bg-color);\n",
              "    border: none;\n",
              "    border-radius: 50%;\n",
              "    cursor: pointer;\n",
              "    display: none;\n",
              "    fill: var(--fill-color);\n",
              "    height: 32px;\n",
              "    padding: 0;\n",
              "    width: 32px;\n",
              "  }\n",
              "\n",
              "  .colab-df-quickchart:hover {\n",
              "    background-color: var(--hover-bg-color);\n",
              "    box-shadow: 0 1px 2px rgba(60, 64, 67, 0.3), 0 1px 3px 1px rgba(60, 64, 67, 0.15);\n",
              "    fill: var(--button-hover-fill-color);\n",
              "  }\n",
              "\n",
              "  .colab-df-quickchart-complete:disabled,\n",
              "  .colab-df-quickchart-complete:disabled:hover {\n",
              "    background-color: var(--disabled-bg-color);\n",
              "    fill: var(--disabled-fill-color);\n",
              "    box-shadow: none;\n",
              "  }\n",
              "\n",
              "  .colab-df-spinner {\n",
              "    border: 2px solid var(--fill-color);\n",
              "    border-color: transparent;\n",
              "    border-bottom-color: var(--fill-color);\n",
              "    animation:\n",
              "      spin 1s steps(1) infinite;\n",
              "  }\n",
              "\n",
              "  @keyframes spin {\n",
              "    0% {\n",
              "      border-color: transparent;\n",
              "      border-bottom-color: var(--fill-color);\n",
              "      border-left-color: var(--fill-color);\n",
              "    }\n",
              "    20% {\n",
              "      border-color: transparent;\n",
              "      border-left-color: var(--fill-color);\n",
              "      border-top-color: var(--fill-color);\n",
              "    }\n",
              "    30% {\n",
              "      border-color: transparent;\n",
              "      border-left-color: var(--fill-color);\n",
              "      border-top-color: var(--fill-color);\n",
              "      border-right-color: var(--fill-color);\n",
              "    }\n",
              "    40% {\n",
              "      border-color: transparent;\n",
              "      border-right-color: var(--fill-color);\n",
              "      border-top-color: var(--fill-color);\n",
              "    }\n",
              "    60% {\n",
              "      border-color: transparent;\n",
              "      border-right-color: var(--fill-color);\n",
              "    }\n",
              "    80% {\n",
              "      border-color: transparent;\n",
              "      border-right-color: var(--fill-color);\n",
              "      border-bottom-color: var(--fill-color);\n",
              "    }\n",
              "    90% {\n",
              "      border-color: transparent;\n",
              "      border-bottom-color: var(--fill-color);\n",
              "    }\n",
              "  }\n",
              "</style>\n",
              "\n",
              "  <script>\n",
              "    async function quickchart(key) {\n",
              "      const quickchartButtonEl =\n",
              "        document.querySelector('#' + key + ' button');\n",
              "      quickchartButtonEl.disabled = true;  // To prevent multiple clicks.\n",
              "      quickchartButtonEl.classList.add('colab-df-spinner');\n",
              "      try {\n",
              "        const charts = await google.colab.kernel.invokeFunction(\n",
              "            'suggestCharts', [key], {});\n",
              "      } catch (error) {\n",
              "        console.error('Error during call to suggestCharts:', error);\n",
              "      }\n",
              "      quickchartButtonEl.classList.remove('colab-df-spinner');\n",
              "      quickchartButtonEl.classList.add('colab-df-quickchart-complete');\n",
              "    }\n",
              "    (() => {\n",
              "      let quickchartButtonEl =\n",
              "        document.querySelector('#df-cd412766-f917-4b6a-9bff-6d279b144909 button');\n",
              "      quickchartButtonEl.style.display =\n",
              "        google.colab.kernel.accessAllowed ? 'block' : 'none';\n",
              "    })();\n",
              "  </script>\n",
              "</div>\n",
              "    </div>\n",
              "  </div>\n"
            ]
          },
          "metadata": {},
          "execution_count": 3
        }
      ]
    },
    {
      "cell_type": "markdown",
      "source": [
        "##### Penjelasan *Source Code* :\n",
        "Digunakan untuk menampilkan *record* lima data teratas pada *dataset*."
      ],
      "metadata": {
        "id": "SV4Bp8iHpxN4"
      }
    },
    {
      "cell_type": "code",
      "source": [
        "dataset.shape"
      ],
      "metadata": {
        "colab": {
          "base_uri": "https://localhost:8080/"
        },
        "id": "5ffzMPhLJwkA",
        "outputId": "2bed8022-2b92-4b65-a8af-4e83b3288c00"
      },
      "execution_count": 4,
      "outputs": [
        {
          "output_type": "execute_result",
          "data": {
            "text/plain": [
              "(150, 5)"
            ]
          },
          "metadata": {},
          "execution_count": 4
        }
      ]
    },
    {
      "cell_type": "markdown",
      "source": [
        "##### Penjelasan *Source Code* :\n",
        "Digunakan untuk mencetak dimensi ukuran *dataset*. Hasil dari \"dataset.shape\" adalah (150, 5), yang berarti DataFrame *dataset* memiliki 150 baris dan 5 kolom."
      ],
      "metadata": {
        "id": "A-mX6BtJp8Ff"
      }
    },
    {
      "cell_type": "code",
      "source": [
        "from sklearn import model_selection\n",
        "\n",
        "array = dataset.values\n",
        "\n",
        "X = array[:,0:4]\n",
        "Y = array[:,4]\n",
        "\n",
        "validation_size = 0.20\n",
        "\n",
        "seed = 7\n",
        "\n",
        "X_train, X_validation, Y_train, Y_validation = model_selection.train_test_split(X, Y, test_size=validation_size, random_state=seed)"
      ],
      "metadata": {
        "id": "TAbqqz1Mf6Xe"
      },
      "execution_count": 22,
      "outputs": []
    },
    {
      "cell_type": "markdown",
      "source": [
        "##### Penjelasan *Source Code* :\n",
        "1. \"from sklearn import model_selection\" digunakan untuk meng-*impor* modul model_selection dari library scikit-learn (sklearn). Modul ini menyediakan berbagai fungsi yang berguna untuk melakukan seleksi model, evaluasi model, dan pemisahan *dataset* menjadi bagian pelatihan dan pengujian.\n",
        "2. \"array = dataset.values\" digunakan untuk mengonversi *dataset* ke dalam bentuk array menggunakan metode values.\n",
        "3. \"X = array[:,0:4]\" digunakan untuk melakukan indeksing untuk memilih semua baris (:) dan kolom dari 0 hingga 3 (0:4). Ini berarti kita mengambil kolom-kolom 0, 1, 2, dan 3 sebagai fitur untuk variabel X.\n",
        "4. \"Y = array[:,4]\" digunakan untuk melakukan indeksing untuk memilih semua baris (:) dan hanya kolom ke-4 (4). Ini berarti kita mengambil kolom 4 sebagai target atau label untuk variabel Y.\n",
        "5. \"validation_size = 0.20\" digunakan untuk menetapkan ukuran *data validasi* sebagai 20% dari keseluruhan *dataset*.\n",
        "6. \"seed = 7\" digunakan untuk memastikan hasil pemisahan *dataset* yang konsisten ketika kode dijalankan berulang kali. Berperan dalam pengacakan elemen.\n",
        "7. \"X_train, X_validation, Y_train, Y_validation = model_selection.train_test_split(X, Y, test_size=validation_size, random_state=seed)\" digunakan untuk membagi *dataset* menjadi dua bagian, yaitu *data training* dan *data validation*."
      ],
      "metadata": {
        "id": "y16xNNTHq4h6"
      }
    },
    {
      "cell_type": "code",
      "source": [
        "print(\"X_train : \", X_train.shape)\n",
        "print(\"X_validation : \", X_validation.shape)\n",
        "print(\"Y_train : \", Y_train.shape)\n",
        "print(\"Y_validation : \", Y_validation.shape)"
      ],
      "metadata": {
        "colab": {
          "base_uri": "https://localhost:8080/"
        },
        "id": "rNf5pvfJhF-L",
        "outputId": "347eb4cf-f6ab-4e5f-d240-d1963be87cfb"
      },
      "execution_count": 12,
      "outputs": [
        {
          "output_type": "stream",
          "name": "stdout",
          "text": [
            "X_train :  (120, 4)\n",
            "X_validation :  (30, 4)\n",
            "Y_train :  (120,)\n",
            "Y_validation :  (30,)\n"
          ]
        }
      ]
    },
    {
      "cell_type": "markdown",
      "source": [
        "##### Penjelasan *Source Code* dan Hasil :\n",
        "Digunakan untuk menampilkan jumlah data yang masuk dalam kategori *data training* dan *data validation*. Sebagai contoh, \"X_train :  (120, 4)\" mengindikasikan bahwa terdapat 120 data yang berperan sebagai *data training* dengan masing-masing 4 atribut tiap datanya. Atau \"Y_validation : (30,)\" yang menunjukkan terdapat 30 data target yang berperan sebagai *data validation*."
      ],
      "metadata": {
        "id": "7c3g7IuguYP3"
      }
    },
    {
      "cell_type": "code",
      "source": [
        "seed = 7\n",
        "scoring = 'accuracy'"
      ],
      "metadata": {
        "id": "TDmssMQWik9O"
      },
      "execution_count": 13,
      "outputs": []
    },
    {
      "cell_type": "markdown",
      "source": [
        "##### Penjelasan *Source Code* :\n",
        "1. \"seed = 7\" digunakan untuk memastikan hasil pemisahan *dataset* yang konsisten ketika kode dijalankan berulang kali. Berperan dalam pengacakan elemen.\n",
        "2. \"scoring = 'accuracy'\" digunakan untuk menentukan metrik evaluasi yang akan digunakan saat melakukan evaluasi model. Dalam hal ini, metrik evaluasi yang dipilih adalah akurasi."
      ],
      "metadata": {
        "id": "XCX2DbrmvxGP"
      }
    },
    {
      "cell_type": "code",
      "source": [
        "from sklearn.tree import DecisionTreeClassifier\n",
        "from sklearn.ensemble import AdaBoostClassifier\n",
        "from sklearn.ensemble import RandomForestClassifier"
      ],
      "metadata": {
        "id": "Mk45yHNHjOsn"
      },
      "execution_count": 35,
      "outputs": []
    },
    {
      "cell_type": "markdown",
      "source": [
        "##### Penjelasan *Source Code* :\n",
        "Digunakan untuk meng-*impor* *library* yang dibutuhkan oleh model dalam melakukan tugas evaluasi algoritma. Disini saya menggunakan tiga model, yaitu Decision Trees, AdaBoost, dan Random Forest."
      ],
      "metadata": {
        "id": "KbYSRoeqx9WE"
      }
    },
    {
      "cell_type": "code",
      "source": [
        "models = []\n",
        "\n",
        "models.append(('Decision Trees', DecisionTreeClassifier()))\n",
        "models.append(('AdaBoost', AdaBoostClassifier()))\n",
        "models.append(('Random Forest', RandomForestClassifier()))"
      ],
      "metadata": {
        "id": "ynskOjMljjbH"
      },
      "execution_count": 36,
      "outputs": []
    },
    {
      "cell_type": "markdown",
      "source": [
        "##### Penjelasan *Source Code* :\n",
        "1. \"models = []\" digunakan untuk membuat *list* kosong yang disebut models. *List* ini akan digunakan untuk menyimpan informasi nama model dan objek model yang telah diinisialisasi.\n",
        "2. Tiga *line code* sisanya digunakan untuk membuat kumpulan model yang berbeda dengan konfigurasi yang berbeda pula, sehingga kita dapat membandingkan kinerja mereka pada *dataset* tertentu."
      ],
      "metadata": {
        "id": "agVNZHT7z0ji"
      }
    },
    {
      "cell_type": "code",
      "source": [
        "results = []\n",
        "names = []\n",
        "\n",
        "for name, model in models:\n",
        "  kfold = model_selection.KFold(n_splits=10, random_state=seed, shuffle=True)\n",
        "  cv_results = model_selection.cross_val_score(model, X_train, Y_train, cv=kfold, scoring=scoring)\n",
        "  results.append(cv_results)\n",
        "  names.append(name)\n",
        "  msg = \"%s : %f (%f)\" % (name, cv_results.mean(), cv_results.std())\n",
        "  print(msg)"
      ],
      "metadata": {
        "colab": {
          "base_uri": "https://localhost:8080/"
        },
        "id": "S4MiZPojkN-C",
        "outputId": "34cbfa46-d4a6-4cff-dd56-47556960a01d"
      },
      "execution_count": 37,
      "outputs": [
        {
          "output_type": "stream",
          "name": "stdout",
          "text": [
            "Decision Trees : 0.950000 (0.076376)\n",
            "AdaBoost : 0.966667 (0.040825)\n",
            "Random Forest : 0.966667 (0.040825)\n"
          ]
        }
      ]
    },
    {
      "cell_type": "markdown",
      "source": [
        "##### Penjelasan *Source Code* :\n",
        "1. \"results = []\" digunakan untuk membuat *list* kosong yang akan berguna untuk menyimpan hasil evaluasi dari model-model yang diuji. Setiap model akan memiliki sejumlah *cross-validation scores*, dan *list* ini akan menyimpan skor-skor tersebut untuk setiap model.\n",
        "2. \"names = []\" digunakan untuk membuat *list* kosong yang akan berguna untuk menyimpan nama-nama model yang diuji. Setiap model akan memiliki nama yang diberikan pada saat pengujian, dan *list* ini menyimpan nama-nama tersebut.\n",
        "3. Bagian *looping* berjalan melalui setiap model yang ada dalam *list* models. Setiap iterasi *loop* mengikuti urutan langkah yaitu **a.** Membuat objek kFold untuk melaksanakan *cross-validation* dengan model_selection.KFold, **b.** Menghitung hasil *cross-validation scores* (cv_results) menggunakan model_selection.cross_val_score. Skor ini akan mencakup *cross-validation scores* dari tiap lipatan (*fold*), **c.** Menambahkan skor-skor tersebut ke dalam *list* results, **d.** Menambahkan nama model ke dalam *list* names, dan **e.** Mencetak hasil akhir yang berisi nama model, rata-rata skor, dan standar deviasi dari hasil *cross-validation scores*."
      ],
      "metadata": {
        "id": "JL4_h62p3I0t"
      }
    },
    {
      "cell_type": "markdown",
      "source": [
        "##### Penjelasan Hasil :\n",
        "1. \"Decision Trees : 0.950000 (0.076376)\" menunjukkan bahwa model Decision Trees memiliki akurasi rata-rata sekitar 95% dan standar deviasi sekitar 7.64%.\n",
        "2. \"AdaBoost : 0.966667 (0.040825)\" menunjukkan bahwa model AdaBoost memiliki akurasi rata-rata sekitar 96.67%, yang sedikit lebih tinggi dari Decision Trees, dan standar deviasi sekitar 4.08%.\n",
        "3. \"Random Forest : 0.966667 (0.040825)\" menunjukkan bahwa model Random Forest memberikan hasil yang serupa dengan AdaBoost, dengan akurasi rata-rata sekitar 96.67% dan standar deviasi sekitar 4.08%. Ini menunjukkan bahwa kedua model ini memiliki performa yang serupa pada *dataset* ini."
      ],
      "metadata": {
        "id": "8Ulm-4Jw5Kj0"
      }
    },
    {
      "cell_type": "code",
      "source": [
        "from sklearn.metrics import accuracy_score, confusion_matrix, classification_report"
      ],
      "metadata": {
        "id": "tO9V-imFls0_"
      },
      "execution_count": 38,
      "outputs": []
    },
    {
      "cell_type": "markdown",
      "source": [
        "##### Penjelasan *Source Code* :\n",
        "Digunakan untuk meng-*impor* *library* metrik evaluasi seperti accuracy_score, confusion_matrix, dan classification_report. Gunanya untuk mengukur dan menganalisis kinerja model klasifikasi tadi."
      ],
      "metadata": {
        "id": "75qz4q7v7Lth"
      }
    },
    {
      "cell_type": "code",
      "source": [
        "random_forest = RandomForestClassifier()\n",
        "random_forest.fit(X_train, Y_train)\n",
        "random_forest_predictions = random_forest.predict(X_validation)\n",
        "\n",
        "print(accuracy_score(Y_validation, random_forest_predictions))\n",
        "print(confusion_matrix(Y_validation, random_forest_predictions))\n",
        "print(classification_report(Y_validation, random_forest_predictions))"
      ],
      "metadata": {
        "colab": {
          "base_uri": "https://localhost:8080/"
        },
        "id": "S3_AnPjil4Gd",
        "outputId": "4539fcbc-83ff-418d-d6e6-56a03f9171a7"
      },
      "execution_count": 41,
      "outputs": [
        {
          "output_type": "stream",
          "name": "stdout",
          "text": [
            "0.9\n",
            "[[ 7  0  0]\n",
            " [ 0 10  2]\n",
            " [ 0  1 10]]\n",
            "                 precision    recall  f1-score   support\n",
            "\n",
            "    Iris-setosa       1.00      1.00      1.00         7\n",
            "Iris-versicolor       0.91      0.83      0.87        12\n",
            " Iris-virginica       0.83      0.91      0.87        11\n",
            "\n",
            "       accuracy                           0.90        30\n",
            "      macro avg       0.91      0.91      0.91        30\n",
            "   weighted avg       0.90      0.90      0.90        30\n",
            "\n"
          ]
        }
      ]
    },
    {
      "cell_type": "markdown",
      "source": [
        "##### Penjelasan *Source Code* :\n",
        "1. \"random_forest = RandomForestClassifier()\" digunakan untuk membuat objek model RandomForestClassifier yang akan digunakan dalam analisis dan prediksi.\n",
        "2. \"random_forest.fit(X_train, Y_train)\" digunakan untuk melatih model RandomForestClassifier dengan menggunakan *data training* X_train dan label Y_train, sehingga model dapat memahami pola dalam data.\n",
        "3. \"random_forest_predictions = random_forest.predict(X_validation)\" digunakan untuk membuat prediksi dengan model RandomForestClassifier pada *data validation* X_validation. Hasil prediksi kemudian disimpan dalam variabel random_forest_predictions.\n",
        "4. \"print(accuracy_score(Y_validation, random_forest_predictions))\" digunakan untuk mencetak akurasi model, memberikan informasi tentang seberapa baik model dapat memprediksi dengan benar kelas dari *data validation*.\n",
        "5. \"print(confusion_matrix(Y_validation, random_forest_predictions))\" digunakan untuk mencetak *confusion matrix*, yang memberikan gambaran tentang seberapa baik model dapat membedakan antara kelas-kelas yang berbeda pada *data validation*.\n",
        "6. \"print(classification_report(Y_validation, random_forest_predictions))\" digunakan untuk mencetak laporan klasifikasi, yang memberikan informasi terperinci tentang metrik evaluasi seperti presisi, recall, dan f1-score untuk setiap kelas pada *data validation*."
      ],
      "metadata": {
        "id": "9I11GXTj9fPz"
      }
    },
    {
      "cell_type": "markdown",
      "source": [
        "##### Penjelasan Hasil :\n",
        "1. Hasil dari *print* pertama adalah accuracy_score. Akurasi model RandomForestClassifier adalah sekitar 86.67%. Ini menunjukkan bahwa model berhasil memprediksi kelas dengan benar untuk sekitar 86.67% dari total *data validation*.\n",
        "2. Hasil dari *print* kedua adalah confusion_matrix. *Confusion Matrix* menunjukkan bahwa terdapat 7 prediksi benar untuk kelas \"Iris-setosa\", 10 prediksi benar untuk kelas \"Iris-versicolor\", dan 9 prediksi benar untuk kelas \"Iris-virginica\". Terdapat juga beberapa prediksi yang salah.\n",
        "3. Hasil dari *print* ketiga adalah classification_report. **Pertama**, *precision* menunjukkan kemampuan model dalam memberikan prediksi yang benar untuk suatu kelas. Tingkat *precision* tinggi menunjukkan sedikitnya prediksi *false positive*. Misalnya, *precision* untuk \"Iris-setosa\" adalah 100%, yang artinya tidak ada prediksi *false positive* untuk kelas ini. **Kedua**, *recall* yang menunjukkan *positive instance proportion* yang benar diprediksi oleh model. *Recall* yang tinggi menunjukkan bahwa model dapat menangkap sebagian besar *positive instance*. Misalnya, *recall* untuk \"Iris-versicolor\" adalah 83%, yang artinya model berhasil menangkap 83% dari semua *instance* \"Iris-versicolor\". **Ketiga**, *F1-Score* menunjukkan rata-rata antara *precision* dan *recall*. *F1-Score* yang tinggi menunjukkan keseimbangan antara *precision* dan *recall*. Misalnya, *F1-Score* untuk \"Iris-setosa\" adalah 1.00, menunjukkan keseimbangan yang baik antara *precision* dan *recall*. **Keempat**, support menunjukkan jumlah *instance* dalam setiap kelas."
      ],
      "metadata": {
        "id": "tosOmi-1AQw4"
      }
    },
    {
      "cell_type": "markdown",
      "source": [
        "###Soal 2 - Eksplorasi *Dataset* Ecoli dengan Model KNN, NB, dan SVM"
      ],
      "metadata": {
        "id": "xNDmW28VDZvw"
      }
    },
    {
      "cell_type": "code",
      "source": [
        "url = \"https://archive.ics.uci.edu/ml/machine-learning-databases/ecoli/ecoli.data\"\n",
        "\n",
        "nama_kolom = [\"Sequence Name\", \"mcg\", \"gvh\", \"lip\", \"chg\", \"aac\", \"alm1\", \"alm2\", \"Class\"]\n",
        "\n",
        "dataset = pd.read_csv(url, names=nama_kolom, header=None, sep='\\\\s+')"
      ],
      "metadata": {
        "id": "s5NCzq0MEBsp"
      },
      "execution_count": 42,
      "outputs": []
    },
    {
      "cell_type": "markdown",
      "source": [
        "##### Penjelasan *Source Code* :\n",
        "1. \"url = \"http://archive.ics.uci.edu/ml/machine-learning-databases/ecoli/ecoli.data\"\" digunakan untuk menyimpan URL *file* CSV ke dalam variabel bernama url.\n",
        "2. \"nama_kolom = [\"Sequence Name\", \"mcg\", \"gvh\", \"lip\", \"chg\", \"aac\", \"alm1\", \"alm2\", \"Class\"]\" digunakan untuk mendefinisikan daftar nama kolom.\n",
        "3. \"dataset = pd.read_csv(url, names=nama_kolom, header=None, sep='\\\\s+')\" digunakan untuk membaca *file* dari URL, memberikan nama kolom sesuai daftar yang telah dibuat, mengabaikan *header*, dan menggunakan spasi sebagai pemisah antar kolom."
      ],
      "metadata": {
        "id": "yf3MloB1EHkj"
      }
    },
    {
      "cell_type": "code",
      "source": [
        "dataset.head(5)"
      ],
      "metadata": {
        "colab": {
          "base_uri": "https://localhost:8080/",
          "height": 206
        },
        "id": "OuED2kQuEzFk",
        "outputId": "25a07644-5765-4992-eadc-4fee8984e569"
      },
      "execution_count": 43,
      "outputs": [
        {
          "output_type": "execute_result",
          "data": {
            "text/plain": [
              "  Sequence Name   mcg   gvh   lip  chg   aac  alm1  alm2 Class\n",
              "0     AAT_ECOLI  0.49  0.29  0.48  0.5  0.56  0.24  0.35    cp\n",
              "1    ACEA_ECOLI  0.07  0.40  0.48  0.5  0.54  0.35  0.44    cp\n",
              "2    ACEK_ECOLI  0.56  0.40  0.48  0.5  0.49  0.37  0.46    cp\n",
              "3    ACKA_ECOLI  0.59  0.49  0.48  0.5  0.52  0.45  0.36    cp\n",
              "4     ADI_ECOLI  0.23  0.32  0.48  0.5  0.55  0.25  0.35    cp"
            ],
            "text/html": [
              "\n",
              "  <div id=\"df-1dbaf34f-565c-453c-99f3-45cb8de29c43\" class=\"colab-df-container\">\n",
              "    <div>\n",
              "<style scoped>\n",
              "    .dataframe tbody tr th:only-of-type {\n",
              "        vertical-align: middle;\n",
              "    }\n",
              "\n",
              "    .dataframe tbody tr th {\n",
              "        vertical-align: top;\n",
              "    }\n",
              "\n",
              "    .dataframe thead th {\n",
              "        text-align: right;\n",
              "    }\n",
              "</style>\n",
              "<table border=\"1\" class=\"dataframe\">\n",
              "  <thead>\n",
              "    <tr style=\"text-align: right;\">\n",
              "      <th></th>\n",
              "      <th>Sequence Name</th>\n",
              "      <th>mcg</th>\n",
              "      <th>gvh</th>\n",
              "      <th>lip</th>\n",
              "      <th>chg</th>\n",
              "      <th>aac</th>\n",
              "      <th>alm1</th>\n",
              "      <th>alm2</th>\n",
              "      <th>Class</th>\n",
              "    </tr>\n",
              "  </thead>\n",
              "  <tbody>\n",
              "    <tr>\n",
              "      <th>0</th>\n",
              "      <td>AAT_ECOLI</td>\n",
              "      <td>0.49</td>\n",
              "      <td>0.29</td>\n",
              "      <td>0.48</td>\n",
              "      <td>0.5</td>\n",
              "      <td>0.56</td>\n",
              "      <td>0.24</td>\n",
              "      <td>0.35</td>\n",
              "      <td>cp</td>\n",
              "    </tr>\n",
              "    <tr>\n",
              "      <th>1</th>\n",
              "      <td>ACEA_ECOLI</td>\n",
              "      <td>0.07</td>\n",
              "      <td>0.40</td>\n",
              "      <td>0.48</td>\n",
              "      <td>0.5</td>\n",
              "      <td>0.54</td>\n",
              "      <td>0.35</td>\n",
              "      <td>0.44</td>\n",
              "      <td>cp</td>\n",
              "    </tr>\n",
              "    <tr>\n",
              "      <th>2</th>\n",
              "      <td>ACEK_ECOLI</td>\n",
              "      <td>0.56</td>\n",
              "      <td>0.40</td>\n",
              "      <td>0.48</td>\n",
              "      <td>0.5</td>\n",
              "      <td>0.49</td>\n",
              "      <td>0.37</td>\n",
              "      <td>0.46</td>\n",
              "      <td>cp</td>\n",
              "    </tr>\n",
              "    <tr>\n",
              "      <th>3</th>\n",
              "      <td>ACKA_ECOLI</td>\n",
              "      <td>0.59</td>\n",
              "      <td>0.49</td>\n",
              "      <td>0.48</td>\n",
              "      <td>0.5</td>\n",
              "      <td>0.52</td>\n",
              "      <td>0.45</td>\n",
              "      <td>0.36</td>\n",
              "      <td>cp</td>\n",
              "    </tr>\n",
              "    <tr>\n",
              "      <th>4</th>\n",
              "      <td>ADI_ECOLI</td>\n",
              "      <td>0.23</td>\n",
              "      <td>0.32</td>\n",
              "      <td>0.48</td>\n",
              "      <td>0.5</td>\n",
              "      <td>0.55</td>\n",
              "      <td>0.25</td>\n",
              "      <td>0.35</td>\n",
              "      <td>cp</td>\n",
              "    </tr>\n",
              "  </tbody>\n",
              "</table>\n",
              "</div>\n",
              "    <div class=\"colab-df-buttons\">\n",
              "\n",
              "  <div class=\"colab-df-container\">\n",
              "    <button class=\"colab-df-convert\" onclick=\"convertToInteractive('df-1dbaf34f-565c-453c-99f3-45cb8de29c43')\"\n",
              "            title=\"Convert this dataframe to an interactive table.\"\n",
              "            style=\"display:none;\">\n",
              "\n",
              "  <svg xmlns=\"http://www.w3.org/2000/svg\" height=\"24px\" viewBox=\"0 -960 960 960\">\n",
              "    <path d=\"M120-120v-720h720v720H120Zm60-500h600v-160H180v160Zm220 220h160v-160H400v160Zm0 220h160v-160H400v160ZM180-400h160v-160H180v160Zm440 0h160v-160H620v160ZM180-180h160v-160H180v160Zm440 0h160v-160H620v160Z\"/>\n",
              "  </svg>\n",
              "    </button>\n",
              "\n",
              "  <style>\n",
              "    .colab-df-container {\n",
              "      display:flex;\n",
              "      gap: 12px;\n",
              "    }\n",
              "\n",
              "    .colab-df-convert {\n",
              "      background-color: #E8F0FE;\n",
              "      border: none;\n",
              "      border-radius: 50%;\n",
              "      cursor: pointer;\n",
              "      display: none;\n",
              "      fill: #1967D2;\n",
              "      height: 32px;\n",
              "      padding: 0 0 0 0;\n",
              "      width: 32px;\n",
              "    }\n",
              "\n",
              "    .colab-df-convert:hover {\n",
              "      background-color: #E2EBFA;\n",
              "      box-shadow: 0px 1px 2px rgba(60, 64, 67, 0.3), 0px 1px 3px 1px rgba(60, 64, 67, 0.15);\n",
              "      fill: #174EA6;\n",
              "    }\n",
              "\n",
              "    .colab-df-buttons div {\n",
              "      margin-bottom: 4px;\n",
              "    }\n",
              "\n",
              "    [theme=dark] .colab-df-convert {\n",
              "      background-color: #3B4455;\n",
              "      fill: #D2E3FC;\n",
              "    }\n",
              "\n",
              "    [theme=dark] .colab-df-convert:hover {\n",
              "      background-color: #434B5C;\n",
              "      box-shadow: 0px 1px 3px 1px rgba(0, 0, 0, 0.15);\n",
              "      filter: drop-shadow(0px 1px 2px rgba(0, 0, 0, 0.3));\n",
              "      fill: #FFFFFF;\n",
              "    }\n",
              "  </style>\n",
              "\n",
              "    <script>\n",
              "      const buttonEl =\n",
              "        document.querySelector('#df-1dbaf34f-565c-453c-99f3-45cb8de29c43 button.colab-df-convert');\n",
              "      buttonEl.style.display =\n",
              "        google.colab.kernel.accessAllowed ? 'block' : 'none';\n",
              "\n",
              "      async function convertToInteractive(key) {\n",
              "        const element = document.querySelector('#df-1dbaf34f-565c-453c-99f3-45cb8de29c43');\n",
              "        const dataTable =\n",
              "          await google.colab.kernel.invokeFunction('convertToInteractive',\n",
              "                                                    [key], {});\n",
              "        if (!dataTable) return;\n",
              "\n",
              "        const docLinkHtml = 'Like what you see? Visit the ' +\n",
              "          '<a target=\"_blank\" href=https://colab.research.google.com/notebooks/data_table.ipynb>data table notebook</a>'\n",
              "          + ' to learn more about interactive tables.';\n",
              "        element.innerHTML = '';\n",
              "        dataTable['output_type'] = 'display_data';\n",
              "        await google.colab.output.renderOutput(dataTable, element);\n",
              "        const docLink = document.createElement('div');\n",
              "        docLink.innerHTML = docLinkHtml;\n",
              "        element.appendChild(docLink);\n",
              "      }\n",
              "    </script>\n",
              "  </div>\n",
              "\n",
              "\n",
              "<div id=\"df-2c6e662d-7149-4870-afc5-adbaed91fec7\">\n",
              "  <button class=\"colab-df-quickchart\" onclick=\"quickchart('df-2c6e662d-7149-4870-afc5-adbaed91fec7')\"\n",
              "            title=\"Suggest charts\"\n",
              "            style=\"display:none;\">\n",
              "\n",
              "<svg xmlns=\"http://www.w3.org/2000/svg\" height=\"24px\"viewBox=\"0 0 24 24\"\n",
              "     width=\"24px\">\n",
              "    <g>\n",
              "        <path d=\"M19 3H5c-1.1 0-2 .9-2 2v14c0 1.1.9 2 2 2h14c1.1 0 2-.9 2-2V5c0-1.1-.9-2-2-2zM9 17H7v-7h2v7zm4 0h-2V7h2v10zm4 0h-2v-4h2v4z\"/>\n",
              "    </g>\n",
              "</svg>\n",
              "  </button>\n",
              "\n",
              "<style>\n",
              "  .colab-df-quickchart {\n",
              "      --bg-color: #E8F0FE;\n",
              "      --fill-color: #1967D2;\n",
              "      --hover-bg-color: #E2EBFA;\n",
              "      --hover-fill-color: #174EA6;\n",
              "      --disabled-fill-color: #AAA;\n",
              "      --disabled-bg-color: #DDD;\n",
              "  }\n",
              "\n",
              "  [theme=dark] .colab-df-quickchart {\n",
              "      --bg-color: #3B4455;\n",
              "      --fill-color: #D2E3FC;\n",
              "      --hover-bg-color: #434B5C;\n",
              "      --hover-fill-color: #FFFFFF;\n",
              "      --disabled-bg-color: #3B4455;\n",
              "      --disabled-fill-color: #666;\n",
              "  }\n",
              "\n",
              "  .colab-df-quickchart {\n",
              "    background-color: var(--bg-color);\n",
              "    border: none;\n",
              "    border-radius: 50%;\n",
              "    cursor: pointer;\n",
              "    display: none;\n",
              "    fill: var(--fill-color);\n",
              "    height: 32px;\n",
              "    padding: 0;\n",
              "    width: 32px;\n",
              "  }\n",
              "\n",
              "  .colab-df-quickchart:hover {\n",
              "    background-color: var(--hover-bg-color);\n",
              "    box-shadow: 0 1px 2px rgba(60, 64, 67, 0.3), 0 1px 3px 1px rgba(60, 64, 67, 0.15);\n",
              "    fill: var(--button-hover-fill-color);\n",
              "  }\n",
              "\n",
              "  .colab-df-quickchart-complete:disabled,\n",
              "  .colab-df-quickchart-complete:disabled:hover {\n",
              "    background-color: var(--disabled-bg-color);\n",
              "    fill: var(--disabled-fill-color);\n",
              "    box-shadow: none;\n",
              "  }\n",
              "\n",
              "  .colab-df-spinner {\n",
              "    border: 2px solid var(--fill-color);\n",
              "    border-color: transparent;\n",
              "    border-bottom-color: var(--fill-color);\n",
              "    animation:\n",
              "      spin 1s steps(1) infinite;\n",
              "  }\n",
              "\n",
              "  @keyframes spin {\n",
              "    0% {\n",
              "      border-color: transparent;\n",
              "      border-bottom-color: var(--fill-color);\n",
              "      border-left-color: var(--fill-color);\n",
              "    }\n",
              "    20% {\n",
              "      border-color: transparent;\n",
              "      border-left-color: var(--fill-color);\n",
              "      border-top-color: var(--fill-color);\n",
              "    }\n",
              "    30% {\n",
              "      border-color: transparent;\n",
              "      border-left-color: var(--fill-color);\n",
              "      border-top-color: var(--fill-color);\n",
              "      border-right-color: var(--fill-color);\n",
              "    }\n",
              "    40% {\n",
              "      border-color: transparent;\n",
              "      border-right-color: var(--fill-color);\n",
              "      border-top-color: var(--fill-color);\n",
              "    }\n",
              "    60% {\n",
              "      border-color: transparent;\n",
              "      border-right-color: var(--fill-color);\n",
              "    }\n",
              "    80% {\n",
              "      border-color: transparent;\n",
              "      border-right-color: var(--fill-color);\n",
              "      border-bottom-color: var(--fill-color);\n",
              "    }\n",
              "    90% {\n",
              "      border-color: transparent;\n",
              "      border-bottom-color: var(--fill-color);\n",
              "    }\n",
              "  }\n",
              "</style>\n",
              "\n",
              "  <script>\n",
              "    async function quickchart(key) {\n",
              "      const quickchartButtonEl =\n",
              "        document.querySelector('#' + key + ' button');\n",
              "      quickchartButtonEl.disabled = true;  // To prevent multiple clicks.\n",
              "      quickchartButtonEl.classList.add('colab-df-spinner');\n",
              "      try {\n",
              "        const charts = await google.colab.kernel.invokeFunction(\n",
              "            'suggestCharts', [key], {});\n",
              "      } catch (error) {\n",
              "        console.error('Error during call to suggestCharts:', error);\n",
              "      }\n",
              "      quickchartButtonEl.classList.remove('colab-df-spinner');\n",
              "      quickchartButtonEl.classList.add('colab-df-quickchart-complete');\n",
              "    }\n",
              "    (() => {\n",
              "      let quickchartButtonEl =\n",
              "        document.querySelector('#df-2c6e662d-7149-4870-afc5-adbaed91fec7 button');\n",
              "      quickchartButtonEl.style.display =\n",
              "        google.colab.kernel.accessAllowed ? 'block' : 'none';\n",
              "    })();\n",
              "  </script>\n",
              "</div>\n",
              "    </div>\n",
              "  </div>\n"
            ]
          },
          "metadata": {},
          "execution_count": 43
        }
      ]
    },
    {
      "cell_type": "markdown",
      "source": [
        "##### Penjelasan *Source Code* :\n",
        "Digunakan untuk menampilkan *record* lima data teratas pada *dataset*."
      ],
      "metadata": {
        "id": "1GoqFIcPFAf9"
      }
    },
    {
      "cell_type": "code",
      "source": [
        "dataset.shape"
      ],
      "metadata": {
        "colab": {
          "base_uri": "https://localhost:8080/"
        },
        "id": "tEGQ2QMdGIis",
        "outputId": "96d7d6d3-9b5d-45d7-f9f1-59e163394772"
      },
      "execution_count": 44,
      "outputs": [
        {
          "output_type": "execute_result",
          "data": {
            "text/plain": [
              "(336, 9)"
            ]
          },
          "metadata": {},
          "execution_count": 44
        }
      ]
    },
    {
      "cell_type": "markdown",
      "source": [
        "##### Penjelasan *Source Code* :\n",
        "Digunakan untuk mencetak dimensi ukuran *dataset*. Hasil dari \"dataset.shape\" adalah (336, 9), yang berarti DataFrame *dataset* memiliki 336 baris dan 9 kolom."
      ],
      "metadata": {
        "id": "xsgbo3j0GP_V"
      }
    },
    {
      "cell_type": "code",
      "source": [
        "from sklearn import model_selection\n",
        "\n",
        "array = dataset.values\n",
        "\n",
        "X = array[:,1:8]\n",
        "Y = array[:,8]\n",
        "\n",
        "validation_size = 0.20\n",
        "\n",
        "seed = 7\n",
        "\n",
        "X_train, X_validation, Y_train, Y_validation = model_selection.train_test_split(X, Y, test_size=validation_size, random_state=seed)"
      ],
      "metadata": {
        "id": "QpF81sXZGaP9"
      },
      "execution_count": 45,
      "outputs": []
    },
    {
      "cell_type": "markdown",
      "source": [
        "##### Penjelasan *Source Code* :\n",
        "1. \"from sklearn import model_selection\" digunakan untuk meng-*impor* modul model_selection dari library scikit-learn (sklearn). Modul ini menyediakan berbagai fungsi yang berguna untuk melakukan seleksi model, evaluasi model, dan pemisahan *dataset* menjadi bagian pelatihan dan pengujian.\n",
        "2. \"array = dataset.values\" digunakan untuk mengonversi *dataset* ke dalam bentuk array menggunakan metode values.\n",
        "3. \"X = array[:,1:8]\" digunakan untuk melakukan indeksing untuk memilih semua baris (:) dan kolom dari 1 hingga 7 (1:8). Ini berarti kita mengambil kolom-kolom 1, 2, 3, 4, 5, 6, dan 7 sebagai fitur untuk variabel X.\n",
        "4. \"Y = array[:,8]\" digunakan untuk melakukan indeksing untuk memilih semua baris (:) dan hanya kolom ke-8 (8). Ini berarti kita mengambil kolom 8 sebagai target atau label untuk variabel Y.\n",
        "5. \"validation_size = 0.20\" digunakan untuk menetapkan ukuran *data validation* sebagai 20% dari keseluruhan *dataset*.\n",
        "6. \"seed = 7\" digunakan untuk memastikan hasil pemisahan *dataset* yang konsisten ketika kode dijalankan berulang kali. Berperan dalam pengacakan elemen.\n",
        "7. \"X_train, X_validation, Y_train, Y_validation = model_selection.train_test_split(X, Y, test_size=validation_size, random_state=seed)\" digunakan untuk membagi *dataset* menjadi dua bagian, yaitu *data training* dan *data validation*."
      ],
      "metadata": {
        "id": "Dolb_pUrGbQC"
      }
    },
    {
      "cell_type": "code",
      "source": [
        "print(\"X_train : \", X_train.shape)\n",
        "print(\"X_validation : \", X_validation.shape)\n",
        "print(\"Y_train : \", Y_train.shape)\n",
        "print(\"Y_validation : \", Y_validation.shape)"
      ],
      "metadata": {
        "colab": {
          "base_uri": "https://localhost:8080/"
        },
        "id": "J117ozRRHuJg",
        "outputId": "609d9f5f-7789-4a6d-8176-2490b29ee5b3"
      },
      "execution_count": 47,
      "outputs": [
        {
          "output_type": "stream",
          "name": "stdout",
          "text": [
            "X_train :  (268, 7)\n",
            "X_validation :  (68, 7)\n",
            "Y_train :  (268,)\n",
            "Y_validation :  (68,)\n"
          ]
        }
      ]
    },
    {
      "cell_type": "markdown",
      "source": [
        "##### Penjelasan *Source Code* dan Hasil :\n",
        "Digunakan untuk menampilkan jumlah data yang masuk dalam kategori *data training* dan *data validation*. Sebagai contoh, \"X_train :  (268, 7)\" mengindikasikan bahwa terdapat 268 data yang berperan sebagai *data training* dengan masing-masing 7 atribut tiap datanya. Atau \"Y_validation : (68,)\" yang menunjukkan terdapat 68 data target yang berperan sebagai *data validation*."
      ],
      "metadata": {
        "id": "rUMPZoM6ItLZ"
      }
    },
    {
      "cell_type": "code",
      "source": [
        "seed = 7\n",
        "scoring = 'accuracy'"
      ],
      "metadata": {
        "id": "nAXGMZLdI4OX"
      },
      "execution_count": 48,
      "outputs": []
    },
    {
      "cell_type": "markdown",
      "source": [
        "##### Penjelasan *Source Code* :\n",
        "1. \"seed = 7\" digunakan untuk memastikan hasil pemisahan *dataset* yang konsisten ketika kode dijalankan berulang kali. Berperan dalam pengacakan elemen.\n",
        "2. \"scoring = 'accuracy'\" digunakan untuk menentukan metrik evaluasi yang akan digunakan saat melakukan evaluasi model. Dalam hal ini, metrik evaluasi yang dipilih adalah akurasi."
      ],
      "metadata": {
        "id": "Z_O5ZDqNJVib"
      }
    },
    {
      "cell_type": "code",
      "source": [
        "from sklearn.neighbors import KNeighborsClassifier\n",
        "from sklearn.naive_bayes import GaussianNB\n",
        "from sklearn.svm import SVC"
      ],
      "metadata": {
        "id": "swN8sLGTJbZr"
      },
      "execution_count": 50,
      "outputs": []
    },
    {
      "cell_type": "markdown",
      "source": [
        "##### Penjelasan *Source Code* :\n",
        "Digunakan untuk meng-*impor* *library* yang dibutuhkan oleh model dalam melakukan tugas evaluasi algoritma. Disini digunakan tiga model, yaitu K-Neighbors Neighbors, Gaussian Naive Bayes, dan Support Vector Machines."
      ],
      "metadata": {
        "id": "vMr79YSfJisj"
      }
    },
    {
      "cell_type": "code",
      "source": [
        "models = []\n",
        "\n",
        "models.append(('K-Neighbors Neighbors', KNeighborsClassifier()))\n",
        "models.append(('Gaussian Naive Bayes', GaussianNB()))\n",
        "models.append(('Support Vector Machines', SVC()))"
      ],
      "metadata": {
        "id": "KbWYP5SCKeEk"
      },
      "execution_count": 53,
      "outputs": []
    },
    {
      "cell_type": "markdown",
      "source": [
        "##### Penjelasan *Source Code* :\n",
        "1. \"models = []\" digunakan untuk membuat *list* kosong yang disebut models. *List* ini akan digunakan untuk menyimpan informasi nama model dan objek model yang telah diinisialisasi.\n",
        "2. Tiga *line code* sisanya digunakan untuk membuat kumpulan model yang berbeda dengan konfigurasi yang berbeda pula, sehingga kita dapat membandingkan kinerja mereka pada *dataset* tertentu."
      ],
      "metadata": {
        "id": "Qwkxr6pqKzCV"
      }
    },
    {
      "cell_type": "code",
      "source": [
        "results = []\n",
        "names = []\n",
        "\n",
        "for name, model in models:\n",
        "  kfold = model_selection.KFold(n_splits=10, random_state=seed, shuffle=True)\n",
        "  cv_results = model_selection.cross_val_score(model, X_train, Y_train, cv=kfold, scoring=scoring)\n",
        "  results.append(cv_results)\n",
        "  names.append(name)\n",
        "  msg = \"%s : %f (%f)\" % (name, cv_results.mean(), cv_results.std())\n",
        "  print(msg)"
      ],
      "metadata": {
        "colab": {
          "base_uri": "https://localhost:8080/"
        },
        "id": "PSVIZ5xoK0ZB",
        "outputId": "9ac9de7c-c953-4c7d-deaf-bb567be2a0a5"
      },
      "execution_count": 54,
      "outputs": [
        {
          "output_type": "stream",
          "name": "stdout",
          "text": [
            "K-Neighbors Neighbors : 0.854558 (0.090490)\n",
            "Gaussian Naive Bayes : 0.742877 (0.106148)\n",
            "Support Vector Machines : 0.880342 (0.062807)\n"
          ]
        }
      ]
    },
    {
      "cell_type": "markdown",
      "source": [
        "##### Penjelasan *Source Code* :\n",
        "1. \"results = []\" digunakan untuk membuat *list* kosong yang akan berguna untuk menyimpan hasil evaluasi dari model-model yang diuji. Setiap model akan memiliki sejumlah *cross-validation scores*, dan *list* ini akan menyimpan skor-skor tersebut untuk setiap model.\n",
        "2. \"names = []\" digunakan untuk membuat *list* kosong yang akan berguna untuk menyimpan nama-nama model yang diuji. Setiap model akan memiliki nama yang diberikan pada saat pengujian, dan *list* ini menyimpan nama-nama tersebut.\n",
        "3. Bagian *looping* berjalan melalui setiap model yang ada dalam *list* models. Setiap iterasi *loop* mengikuti urutan langkah yaitu **a.** Membuat objek kFold untuk melaksanakan *cross-validation* dengan model_selection.KFold, **b.** Menghitung hasil *cross-validation scores* (cv_results) menggunakan model_selection.cross_val_score. Skor ini akan mencakup *cross-validation scores* dari tiap lipatan (*fold*), **c.** Menambahkan skor-skor tersebut ke dalam *list* results, **d.** Menambahkan nama model ke dalam *list* names, dan **e.** Mencetak hasil akhir yang berisi nama model, rata-rata skor, dan standar deviasi dari hasil *cross-validation scores*."
      ],
      "metadata": {
        "id": "uWkMHUapLWm5"
      }
    },
    {
      "cell_type": "markdown",
      "source": [
        "##### Penjelasan Hasil :\n",
        "1. \"K-Neighbors Neighbors : 0.854558 (0.090490)\" menunjukkan bahwa model K-Neighbors Neighbors memiliki akurasi rata-rata sekitar 85.5% dan standar deviasi sekitar 9.05%.\n",
        "2. \"Gaussian Naive Bayes : 0.742877 (0.106148)\" menunjukkan bahwa model Gaussian Naive Bayes memiliki akurasi rata-rata sekitar 74.3% dan standar deviasi sekitar 10.62%.\n",
        "3. \"Support Vector Machines : 0.880342 (0.062807)\" menunjukkan bahwa model Support Vector Machines memiliki akurasi rata-rata sekitar 88.3% dan standar deviasi sekitar 6.28%."
      ],
      "metadata": {
        "id": "kv3Y_XQdLdDR"
      }
    },
    {
      "cell_type": "code",
      "source": [
        "from sklearn.metrics import accuracy_score, confusion_matrix, classification_report"
      ],
      "metadata": {
        "id": "-nAyDM-aM_5s"
      },
      "execution_count": 55,
      "outputs": []
    },
    {
      "cell_type": "markdown",
      "source": [
        "##### Penjelasan *Source Code* :\n",
        "Digunakan untuk meng-*impor* *library* metrik evaluasi seperti accuracy_score, confusion_matrix, dan classification_report. Gunanya untuk mengukur dan menganalisis kinerja model klasifikasi tadi."
      ],
      "metadata": {
        "id": "dUvyq9P3NE0c"
      }
    },
    {
      "cell_type": "code",
      "source": [
        "svm = SVC()\n",
        "svm.fit(X_train, Y_train)\n",
        "predictions = svm.predict(X_validation)\n",
        "\n",
        "print(accuracy_score(Y_validation, predictions))\n",
        "print(confusion_matrix(Y_validation, predictions))\n",
        "print(classification_report(Y_validation, predictions))"
      ],
      "metadata": {
        "colab": {
          "base_uri": "https://localhost:8080/"
        },
        "id": "oQNR6ruvNFwP",
        "outputId": "d9c39fd4-f41e-4434-ce28-24c92262d8a3"
      },
      "execution_count": 57,
      "outputs": [
        {
          "output_type": "stream",
          "name": "stdout",
          "text": [
            "0.8529411764705882\n",
            "[[28  0  0  0  0  2]\n",
            " [ 0 10  2  0  0  0]\n",
            " [ 0  4  4  0  0  0]\n",
            " [ 0  0  0  2  0  1]\n",
            " [ 0  0  0  0  2  0]\n",
            " [ 1  0  0  0  0 12]]\n",
            "              precision    recall  f1-score   support\n",
            "\n",
            "          cp       0.97      0.93      0.95        30\n",
            "          im       0.71      0.83      0.77        12\n",
            "         imU       0.67      0.50      0.57         8\n",
            "          om       1.00      0.67      0.80         3\n",
            "         omL       1.00      1.00      1.00         2\n",
            "          pp       0.80      0.92      0.86        13\n",
            "\n",
            "    accuracy                           0.85        68\n",
            "   macro avg       0.86      0.81      0.82        68\n",
            "weighted avg       0.86      0.85      0.85        68\n",
            "\n"
          ]
        }
      ]
    },
    {
      "cell_type": "markdown",
      "source": [
        "##### Penjelasan *Source Code* :\n",
        "1. \"svm = SVC()\" digunakan untuk membuat objek model SVC yang akan digunakan dalam analisis dan prediksi.\n",
        "2. \"svm.fit(X_train, Y_train)\" digunakan untuk melatih model SVC dengan menggunakan *data training* X_train dan label Y_train, sehingga model dapat memahami pola dalam data.\n",
        "3. \"predictions = svm.predict(X_validation)\" digunakan untuk membuat prediksi dengan model SVC pada *data validation* X_validation. Hasil prediksi kemudian disimpan dalam variabel predictions.\n",
        "4. \"print(accuracy_score(Y_validation, predictions))\" digunakan untuk mencetak akurasi model, memberikan informasi tentang seberapa baik model dapat memprediksi dengan benar kelas dari *data validation*.\n",
        "5. \"print(confusion_matrix(Y_validation, predictions))\" digunakan untuk mencetak *confusion matrix*, yang memberikan gambaran tentang seberapa baik model dapat membedakan antara kelas-kelas yang berbeda pada *data validation*.\n",
        "6. \"print(classification_report(Y_validation, predictions))\" digunakan untuk mencetak laporan klasifikasi, yang memberikan informasi terperinci tentang metrik evaluasi seperti presisi, recall, dan f1-score untuk setiap kelas pada *data validation*."
      ],
      "metadata": {
        "id": "A4nW699fN1P5"
      }
    },
    {
      "cell_type": "markdown",
      "source": [
        "##### Penjelasan Hasil :\n",
        "1. Hasil dari *print* pertama adalah accuracy_score. Akurasi model Support Vector Machine (SVM) untuk klasifikasi *dataset* adalah sekitar 85.29%. Ini mengindikasikan bahwa model dengan parameter yang digunakan berhasil memprediksi kelas-kelas pada *data validation* dengan akurasi sekitar 85.29%.\n",
        "2. Hasil dari *print* kedua adalah confusion_matrix. *Confusion Matrix* menunjukkan bahwa terdapat 28 prediksi benar untuk kelas \"cp\", 10 prediksi benar untuk kelas \"im\", 4 prediksi benar untuk kelas \"imU\", 2 prediksi benar untuk kelas \"om\", 2 prediksi benar untuk kelas \"omL\", dan 12 prediksi benar untuk kelas \"pp\".\n",
        "3. Hasil dari *print* ketiga adalah classification_report. **Pertama**, *precision* menunjukkan kemampuan model dalam memberikan prediksi yang benar untuk suatu kelas. Tingkat *precision* tinggi menunjukkan sedikitnya prediksi *false positive*. Misalnya, *precision* untuk kelas \"cp\" adalah 0.97, yang artinya sebagian besar prediksi positif untuk kelas \"cp\" benar. **Kedua**, *recall* yang menunjukkan *positive instance proportion* yang benar diprediksi oleh model. *Recall* yang tinggi menunjukkan bahwa model dapat menangkap sebagian besar *positive instance*. Misalnya, *recall* untuk kelas \"im\" adalah 0.83, yang artinya model berhasil menangkap 83% dari semua *instance* \"im\". **Ketiga**, *F1-Score* menunjukkan rata-rata antara *precision* dan *recall*. *F1-Score* yang tinggi menunjukkan keseimbangan antara *precision* dan *recall*. Misalnya, *F1-Score* untuk \"omL\" adalah 1.00, menunjukkan keseimbangan yang baik antara *precision* dan *recall*. **Keempat**, support menunjukkan jumlah *instance* dalam setiap kelas."
      ],
      "metadata": {
        "id": "k_HYtFzOObLA"
      }
    },
    {
      "cell_type": "markdown",
      "source": [
        "Link Collab : https://colab.research.google.com/drive/1ZcYfVylv5swZaWOjP0LeBROEk8YdaKSc?authuser=0#scrollTo=BWR7K4FORkpP"
      ],
      "metadata": {
        "id": "BWR7K4FORkpP"
      }
    },
    {
      "cell_type": "markdown",
      "source": [
        "###Terima Kasih"
      ],
      "metadata": {
        "id": "fuptl4V7QcSK"
      }
    }
  ]
}