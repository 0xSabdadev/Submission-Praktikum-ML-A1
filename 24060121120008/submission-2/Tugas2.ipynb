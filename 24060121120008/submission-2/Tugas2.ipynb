{
  "nbformat": 4,
  "nbformat_minor": 0,
  "metadata": {
    "colab": {
      "provenance": []
    },
    "kernelspec": {
      "name": "python3",
      "display_name": "Python 3"
    },
    "language_info": {
      "name": "python"
    }
  },
  "cells": [
    {
      "cell_type": "markdown",
      "source": [
        "### **Nama    : Tiara Fitra Ramadhani Siregar**\n",
        "### **Nim     : 24060121120008**\n",
        "### **Dataset : Rice Dataset Cammeo and Osmancik**\n",
        "### **Link    : https://www.kaggle.com/datasets/muratkokludataset/rice-dataset-commeo-and-osmancik**"
      ],
      "metadata": {
        "id": "zca4RGZx9QX5"
      }
    },
    {
      "cell_type": "markdown",
      "source": [
        "## **TUGAS NOMOR 1**"
      ],
      "metadata": {
        "id": "FKM9Ms0J8Ir8"
      }
    },
    {
      "cell_type": "code",
      "execution_count": 130,
      "metadata": {
        "id": "LIQ7OzaR88n6"
      },
      "outputs": [],
      "source": [
        "# Mengimpor modul Pandas dengan alias atau singkatan pd\n",
        "import pandas as pd"
      ]
    },
    {
      "cell_type": "code",
      "source": [
        "# Memuat dataset Iris dari URL\n",
        "url = \"http://archive.ics.uci.edu/ml/machine-learning-databases/iris/iris.data\"\n",
        "\n",
        "# Menetapkan sebuah variabel bernama names yang berisi daftar nama-nama kolom yang terdapat pada dataset Iris\n",
        "names = ['sepal-length', 'sepal-width', 'petal-length', 'petal-width', 'class']\n",
        "\n",
        "# Menetapkan sebuah variabel bernama dataset1 berisi sebuah objek pandas DataFrame yang dibuat dari membaca file CSV di URL dan nama kolom dari names\n",
        "dataset1 = pd.read_csv(url, names=names)"
      ],
      "metadata": {
        "id": "L7eQoFrM-zOD"
      },
      "execution_count": 131,
      "outputs": []
    },
    {
      "cell_type": "code",
      "source": [
        "# Mengimpor modul model_selection dari library scikit-learn untuk membantu proses pemilihan dan evaluasi model machine learning\n",
        "from sklearn import model_selection"
      ],
      "metadata": {
        "id": "mGFndAwe8NMX"
      },
      "execution_count": 132,
      "outputs": []
    },
    {
      "cell_type": "markdown",
      "source": [
        "**I. Membuat Validasi Dataset**"
      ],
      "metadata": {
        "id": "zvm7LqVFHuGo"
      }
    },
    {
      "cell_type": "code",
      "source": [
        "# Mengambil nilai-nilai dari DataFrame dataset1 dan dibuat menjadi sebuah array numpy dan disimpan pada sebuah variabel bernama array\n",
        "array = dataset1.values\n",
        "\n",
        "# Assign semua baris dan empat kolom pertama pada variable X\n",
        "X = array[:,0:4]\n",
        "\n",
        "# Assign semua baris dan kolom kelima pada variable Y\n",
        "Y = array[:,4]\n",
        "\n",
        "# Menetapkan proporsi atau persentase data yang digunakan sebagai data validasi atau uji adalah 20% dan sisanya yaitu 80% sebagai data latih\n",
        "validation_size = 0.20\n",
        "\n",
        "# Menunjukkan nilai acak atau random state yang akan digunakan untuk memastikan hasil yang konsisten dan memastikan bahwa data akan dibagi dengan cara yang sama setiap kali kode dijalankan\n",
        "seed = 7\n",
        "\n",
        "# Menetapkan empat variable yang berisi hasil dari membagi data menjadi data latih dan  data validasi\n",
        "# Fungsi model_selection.train_test_split memiliki parameter X dan Y yang merupakan data fitur dan target, text_size yang merupakan proporsi dan validasi, dan random_state yang merupakan nilai acak.\n",
        "X_train, X_validation, Y_train, Y_validation = model_selection.train_test_split(X, Y, test_size = validation_size, random_state=seed, shuffle=True)\n",
        "# Kode di atas mengembalikan empat array yaitu :\n",
        "# X_train dan Y_train yang merupakan data fitur dan target untuk data latih\n",
        "# X_validation dan Y_validation yang merupakan data fitur dan target untuk data validasi\n"
      ],
      "metadata": {
        "id": "fSu4o5ls9MQw"
      },
      "execution_count": 133,
      "outputs": []
    },
    {
      "cell_type": "markdown",
      "source": [
        "**II. Mencetak Ukuran atau Dimensi Data Latih dan Data Validasi**"
      ],
      "metadata": {
        "id": "s2dvruusKrrp"
      }
    },
    {
      "cell_type": "code",
      "source": [
        "# Mencetak string \"X_train\" dan ukuran dari array X_train yang berisi fitur untuk data latih\n",
        "print(\"X_train :\", X_train.shape)\n",
        "\n",
        "# Mencetak string \"X_validation\" dan ukuran dari array X_validation yang berisi fitur untuk data validasi\n",
        "print(\"X_validation :\", X_validation.shape)\n",
        "\n",
        "# Mencetak string \"Y_train\" dan ukuran dari array Y_train yang berisi data target untuk data latih\n",
        "print(\"Y_train :\", Y_train.shape)\n",
        "\n",
        "# Mencetak string \"Y_validation\" dan ukuran dari array Y_validation yang berisi data target untuk data validasi\n",
        "print(\"Y_validation :\", Y_validation.shape)"
      ],
      "metadata": {
        "colab": {
          "base_uri": "https://localhost:8080/"
        },
        "id": "IJZFFQ8A_29r",
        "outputId": "bc5bada3-160d-4613-f19e-59a02a34ee8a"
      },
      "execution_count": 134,
      "outputs": [
        {
          "output_type": "stream",
          "name": "stdout",
          "text": [
            "X_train : (120, 4)\n",
            "X_validation : (30, 4)\n",
            "Y_train : (120,)\n",
            "Y_validation : (30,)\n"
          ]
        }
      ]
    },
    {
      "cell_type": "markdown",
      "source": [
        "Penjelasan:\n",
        "\n",
        "- X_train : (120, 4) menunjukkan bahwa data fitur untuk data latih memiliki 120 baris dan 4 kolom\n",
        "\n",
        "- X_validation : (30, 4) menunjukkan bahwa data fitur untuk data validasi memiliki 30 baris dan 4 kolom\n",
        "\n",
        "- Y_train : (120,) menunjukkan bahwa data  target untuk data latih memiliki 120 baris dan 1 kolom\n",
        "\n",
        "- Y_validation : (30,) menunjukkan bahwa data target untuk data validasi memiliki 30 baris dan 1 kolom"
      ],
      "metadata": {
        "id": "3HlXqF0NLFtc"
      }
    },
    {
      "cell_type": "markdown",
      "source": [
        "**III. K-Folds Cross Valiadation**"
      ],
      "metadata": {
        "id": "xFZ7WQ6DPPnQ"
      }
    },
    {
      "cell_type": "code",
      "source": [
        "# Menunjukkan nilai acak atau random state yang digunakan untuk memastikan hasil yang konsisten dan memastikan bahwa data akan dibagi dengan cara yang sama setiap kali kode dijalankan\n",
        "seed1 = 7\n",
        "\n",
        "# Metrik evaluasi yang akan digunakan untuk membandingkan model yang berbeda adalah nilai akurasi, yaitu seberapa sering prediksi model sesuai dengan kelas yang sebenarnya dari data\n",
        "scoring1 = 'accuracy'"
      ],
      "metadata": {
        "id": "ODjQxC43NHzW"
      },
      "execution_count": 135,
      "outputs": []
    },
    {
      "cell_type": "markdown",
      "source": [
        "**IV. Membangun Model**"
      ],
      "metadata": {
        "id": "sXXEly8DPY1d"
      }
    },
    {
      "cell_type": "code",
      "source": [
        "# Mengimpor kelas DecisionTreeClassifier dari modul sklearn.tree, kelas ini merupakan estimator untuk membuat dan melatih model klasifikasi berdasarkan decision tree\n",
        "from sklearn.tree import DecisionTreeClassifier\n",
        "\n",
        "# Mengimpor kelas RandomForestClassifier dan GradientBoostingClassifier dari modul sklearn.ensemble, kedua kelas tersebut merupakan estimator untuk membuat dan melatih sebuah model klasifikasi berdasarkan random forest dan gradientboosting\n",
        "from sklearn.ensemble import RandomForestClassifier, GradientBoostingClassifier\n",
        "\n",
        "# Mengimpor tiga fungsi dari modul sklearn.metrics yaitu accuracy_score, confusion_matrix, dan classification_report untuk menghitung dan menammpilkan beberapa metrik evaluasi untuk model machine learning\n",
        "from sklearn.metrics import accuracy_score, confusion_matrix, classification_report"
      ],
      "metadata": {
        "id": "4cj6hjEs9Rh0"
      },
      "execution_count": 136,
      "outputs": []
    },
    {
      "cell_type": "code",
      "source": [
        "# membuat sebuah variabel bernama models yang berisi sebuah daftar kosong\n",
        "models1 = []\n",
        "\n",
        "# Menambahkan sebuah elemen ke dalam daftar models yaitu tuple berisi string 'Decision Tree' dan sebuah objek dari kelas DecisionTreeClassifier\n",
        "models1.append(('Decision Tree', DecisionTreeClassifier()))\n",
        "\n",
        "# Menambahkan sebuah elemen ke dalam daftar models yaitu tuple berisi string 'Random Forest' dan sebuah objek dari kelas RandomForestClassifier\n",
        "models1.append(('Random Forest', RandomForestClassifier()))\n",
        "\n",
        "# Menambahkan sebuah elemen ke dalam daftar models yaitu tuple berisi string 'Gradient Boosting' dan sebuah objek dari kelas GradientBoostingClassifier\n",
        "models1.append(('Gradient Boosting', GradientBoostingClassifier()))\n",
        "\n",
        "# Evaluate each model in turn\n",
        "\n",
        "# Membuat variable result kosong\n",
        "results1 = []\n",
        "\n",
        "# Membuat varible names kosong\n",
        "names1 = []\n",
        "\n",
        "# Looping setiap elemen di models dan menetapkan variable name dan model sebagai nilai dari tuple yang ada di dalam elemen tsb\n",
        "for name, model in models1:\n",
        "  # Membagi data menjadi 10 bagian atau folds dengan menggunakan nilai acak dari variable seed dan mengacak urutan data sebelum dibagi\n",
        "  kfold = model_selection.KFold(n_splits=10, random_state=seed1, shuffle=True)\n",
        "\n",
        "  # Membuat variable cv_result berisi sebuah array numpy yang berisi nilai akurasi dari model yang diuji dengan menggunakan metode cross-validation, dan parameter sbb:\n",
        "  # - model sebagai model yang akan diuji\n",
        "  # - X_train dan Y_train sebagai data fitur dan target dari data latih\n",
        "  # - kfold sebagai metode pembagian data\n",
        "  # - scoring sebagai metrik evaluasi yang digunakan\n",
        "  cv_results = model_selection.cross_val_score(model, X_train, Y_train, cv=kfold, scoring=scoring1)\n",
        "\n",
        "  # Menambahkan nilai dari variable cv_result ke dalam daftar result\n",
        "  results1.append(cv_results)\n",
        "\n",
        "  # Menambahkan nilai dari variable ke dalam daftar names\n",
        "  names1.append(name)\n",
        "\n",
        "  # Membuat sebuah variable bernama msg yang ebrisi sebauh string berformat yang menampilkan nama model, nilai rata-rata , dan standar deviasi dari nilai akurasi yang ada di dalam variable cv_reslut\n",
        "  msg = \"%s: %f (%f)\" % (name, cv_results.mean(), cv_results.std())\n",
        "\n",
        "  # Mencetak nilai dari variable msg ke layar\n",
        "  print(msg)"
      ],
      "metadata": {
        "colab": {
          "base_uri": "https://localhost:8080/"
        },
        "id": "aTfd7Z7dMfHA",
        "outputId": "e65b9f9a-ae37-496a-9fb7-bf4fe4111140"
      },
      "execution_count": 137,
      "outputs": [
        {
          "output_type": "stream",
          "name": "stdout",
          "text": [
            "Decision Tree: 0.950000 (0.076376)\n",
            "Random Forest: 0.966667 (0.040825)\n",
            "Gradient Boosting: 0.950000 (0.055277)\n"
          ]
        }
      ]
    },
    {
      "cell_type": "markdown",
      "source": [
        "**Penjelasan:**\n",
        "\n",
        "- Decision Tree memiliki nilai akurasi 95% dan standar deviasi 7.63%\n",
        "- Random Forest memiliki nilai akurasi 96.67% dan standar deviasi 4.08%\n",
        "- Gradient Boosting memiliki nilai akurasi 95% dan standar deviasi 5.52%\n",
        "\n",
        "**Kesimpulan:**\n",
        "- Random Forest memiliki nilai akurasi tertinggi dan dapat memprediksi kelas yang benar dari data validasi sebanyak 96.67% dari keseluruhan model data\n",
        "- Decision Tree dan Gradient Boosting memiliki nilai akurasi yang sama dan dapat memprediksi kelas yang benar dari data validasi sebanyak 95% dari keseluruhan data\n",
        "- Standar deviasi untuk Decision Tree adalah yang paling tinggi yang menunjukkan bahwa nilai akurasi bervariasi cukup besar antara setiap folds atau bagian dari data. Hal ini mengindikasikan bahwa model tidak stabil atau sensitif terhadap perubahan data."
      ],
      "metadata": {
        "id": "YzxrMwRYOuTf"
      }
    },
    {
      "cell_type": "markdown",
      "source": [
        "**V. Memilih Model Terbaik**"
      ],
      "metadata": {
        "id": "5ycjSPy3PeP2"
      }
    },
    {
      "cell_type": "markdown",
      "source": [
        "Berdasarkan hasil skor akurasi di atas, Random Forest memiliki nilai akurasi perkiraan terbesar. Berikut merupakan hasil pengujian tentang keakuratan setiap model terhadap data yang ada."
      ],
      "metadata": {
        "id": "tJOGnBhLPh-6"
      }
    },
    {
      "cell_type": "markdown",
      "source": [
        "**a. Decision Tree**"
      ],
      "metadata": {
        "id": "IY8wPoIWDdjW"
      }
    },
    {
      "cell_type": "markdown",
      "source": [
        "Decision Tree adalah sebuah algoritma machine learning berdasarkan pada konsep pohon keputusan, yaitu sebuah struktur yang terdiri dari simpul dan cabang yang merepresentasikan pertanyaan dan jawaban yang berhubungan dengan data. Kelebihan dari algoritma ini adalah mudah untuk diinterpretasikan, dapat menangani data yang memiliki fitur kategorikal dan numerik, dan tidak membutuhkan banyak pra-pemrosesan data. Kekurangan dari algoritma ini adalah rentan terhadap overfitting, sensitif terhadap perubahan data, dan dapat menghasilkan hasil yang berbeda jika menggunakan kriteria pemisahan yang berbeda."
      ],
      "metadata": {
        "id": "_zrd-exYK1Xi"
      }
    },
    {
      "cell_type": "code",
      "source": [
        "# Membuat objek dt yang merupakan sebuah estimator dari kelas DecisionTreeClassifier\n",
        "dt = DecisionTreeClassifier()\n",
        "\n",
        "# Melatih model dt dengan menggunakan data fitur dan target dari data latih\n",
        "dt.fit(X_train, Y_train)\n",
        "\n",
        "# Menggunakan model dt yang sudah dilatih untuk membuat prediksi kelas dari data fitur validasi, yaitu X_validation dan simpan hasilnya dalam variable predictions_dt\n",
        "predictions_dt = dt.predict(X_validation)\n",
        "\n",
        "# Mencetak string judul accuracy score dari decision tree\n",
        "print(\"Accuracy Score of Decision Tree:\")\n",
        "\n",
        "# Mencetak nilai akurasi dari model dt, yaitu seberapa sering prediksi model dt sesuai dengan kelas yang sebenarnya dari data validasi\n",
        "# Nilai akurasi dihitung dengan mengambil parameter Y_validation dan predictions_dt.\n",
        "print(accuracy_score(Y_validation, predictions_dt))\n",
        "\n",
        "# Mencetak string judul confusion matrix dari decision tree\n",
        "print(\"\\nConfusion Matrix of Decision Tree:\")\n",
        "\n",
        "# Mencetak confusion matrix dari model dt yang menampilkan jumlah data yang benar terklasifikasi (diagonal utama) dan jumlah data yang salah terklasifikasi (di luar diagonal utama) untuk setiap kelas yang ada\n",
        "print(confusion_matrix(Y_validation, predictions_dt))\n",
        "\n",
        "# Mencetak string judul classification report dari decision tree\n",
        "print(\"\\nClassification Report of Decision Tree:\")\n",
        "\n",
        "# Mencetak classification report dari model dt yang menampilkan nilai-nilai metrik evaluasi untuk setiap kelas, serta rata-rata dari semua kelas\n",
        "print(classification_report(Y_validation, predictions_dt))"
      ],
      "metadata": {
        "colab": {
          "base_uri": "https://localhost:8080/"
        },
        "id": "992GZ6C-9Xr2",
        "outputId": "8cc7c66a-6db9-4a03-8f9f-605faf7de598"
      },
      "execution_count": 139,
      "outputs": [
        {
          "output_type": "stream",
          "name": "stdout",
          "text": [
            "Accuracy Score of Decision Tree:\n",
            "0.8666666666666667\n",
            "\n",
            "Confusion Matrix of Decision Tree:\n",
            "[[ 7  0  0]\n",
            " [ 0 10  2]\n",
            " [ 0  2  9]]\n",
            "\n",
            "Classification Report of Decision Tree:\n",
            "                 precision    recall  f1-score   support\n",
            "\n",
            "    Iris-setosa       1.00      1.00      1.00         7\n",
            "Iris-versicolor       0.83      0.83      0.83        12\n",
            " Iris-virginica       0.82      0.82      0.82        11\n",
            "\n",
            "       accuracy                           0.87        30\n",
            "      macro avg       0.88      0.88      0.88        30\n",
            "   weighted avg       0.87      0.87      0.87        30\n",
            "\n"
          ]
        }
      ]
    },
    {
      "cell_type": "markdown",
      "source": [
        "**Penjelasan hasil:**\n",
        "\n",
        "- Nilai akurasi adalah 0.8666666666666667, yang berarti model dt dapat memprediksi kelas yang benar untuk 87% dari data validasi\n",
        "\n",
        "- Dari confusion matrix, dapat dilihat bahwa model dt dapat mengklasifikasikan semua data Iris-setosa dengan benar, tetapi ada beberapa kesalahan klasifikasi untuk data Iris-versicolor dan Iris-virginica. Misalnya, ada dua data Iris-versicolor yang diprediksi sebagai Iris-virginica, dan ada dua data Iris-virginica yang diprediksi sebagai Iris-versicolor.\n",
        "\n",
        "- Dari classification report, dapat dilihat bahwa model dt memiliki nilai precision, recall, dan f1-score yang tinggi untuk kelas Iris-setosa. Nilai precision menunjukkan seberapa sering model dt memprediksi kelas yang benar dari semua prediksi yang dibuat untuk kelas tersebut. Nilai recall menunjukkan seberapa sering model dt memprediksi kelas yang benar dari semua data yang sebenarnya memiliki kelas tersebut. Nilai f1-score adalah rata-rata harmonik dari presisi dan recall, yang menunjukkan keseimbangan antara keduanya. Nilai dukungan menunjukkan jumlah data yang sebenarnya memiliki kelas tersebut."
      ],
      "metadata": {
        "id": "rInRWg4nQe5J"
      }
    },
    {
      "cell_type": "markdown",
      "source": [
        "**b. Random Forest**"
      ],
      "metadata": {
        "id": "6NVC6_cADiuR"
      }
    },
    {
      "cell_type": "markdown",
      "source": [
        "Random Forest adalah sebuah algoritma machine learning berdasarkan pada konsep ensemble learning, yaitu menggabungkan beberapa model yang lebih sederhana, yaitu pohon keputusan, untuk menghasilkan sebuah model yang lebih kuat dan akurat. Kelebihan dari algoritma ini adalah dapat mengurangi overfitting, meningkatkan stabilitas, dan menangani data yang memiliki fitur kategorikal dan numerik. Kekurangan dari algoritma ini adalah membutuhkan waktu dan memori yang lebih besar, sulit untuk diinterpretasikan, dan dapat menghasilkan hasil yang berbeda jika menggunakan nilai acak yang berbeda."
      ],
      "metadata": {
        "id": "uREIAcpqKuWn"
      }
    },
    {
      "cell_type": "code",
      "source": [
        "# Membuat objek rf yang merupakan sebuah estimator dari kelas RandomForestClassifier\n",
        "rf = RandomForestClassifier()\n",
        "\n",
        "# Melatih model rf dengan menggunakan data fitur dan target dari data latih\n",
        "rf.fit(X_train, Y_train)\n",
        "\n",
        "# Menggunakan model rf yang sudah dilatih untuk membuat prediksi kelas dari data fitur validasi, yaitu X_validation dan simpan hasilnya dalam variable predictions_rf\n",
        "predictions_rf = rf.predict(X_validation)\n",
        "\n",
        "# Mencetak string judul accuracy score dari random forest\n",
        "print(\"Accuracy Score of Random Forest:\")\n",
        "\n",
        "# Mencetak nilai akurasi dari model rf, yaitu seberapa sering prediksi model rf sesuai dengan kelas yang sebenarnya dari data validasi\n",
        "# Nilai akurasi dihitung dengan mengambil parameter Y_validation dan predictions_rf.\n",
        "print(accuracy_score(Y_validation, predictions_rf))\n",
        "\n",
        "# Mencetak string judul confusion matrix dari Random Forest\n",
        "print(\"\\nConfusion Matrix of Random Forest:\")\n",
        "\n",
        "# Mencetak confusion matrix dari model rf yang menampilkan jumlah data yang benar terklasifikasi (diagonal utama) dan jumlah data yang salah terklasifikasi (di luar diagonal utama) untuk setiap kelas yang ada\n",
        "print(confusion_matrix(Y_validation, predictions_rf))\n",
        "\n",
        "# Mencetak string judul classification report dari random forest\n",
        "print(\"\\nClassification Report of Random Forest:\")\n",
        "\n",
        "# Mencetak classification report dari model rf yang menampilkan nilai-nilai metrik evaluasi untuk setiap kelas, serta rata-rata dari semua kelas\n",
        "print(classification_report(Y_validation, predictions_rf))"
      ],
      "metadata": {
        "colab": {
          "base_uri": "https://localhost:8080/"
        },
        "id": "IcZJg-Cr9cC6",
        "outputId": "6b14d5fc-3091-4582-b6de-a6d8c4358c8f"
      },
      "execution_count": 140,
      "outputs": [
        {
          "output_type": "stream",
          "name": "stdout",
          "text": [
            "Accuracy Score of Random Forest:\n",
            "0.8666666666666667\n",
            "\n",
            "Confusion Matrix of Random Forest:\n",
            "[[ 7  0  0]\n",
            " [ 0 10  2]\n",
            " [ 0  2  9]]\n",
            "\n",
            "Classification Report of Random Forest:\n",
            "                 precision    recall  f1-score   support\n",
            "\n",
            "    Iris-setosa       1.00      1.00      1.00         7\n",
            "Iris-versicolor       0.83      0.83      0.83        12\n",
            " Iris-virginica       0.82      0.82      0.82        11\n",
            "\n",
            "       accuracy                           0.87        30\n",
            "      macro avg       0.88      0.88      0.88        30\n",
            "   weighted avg       0.87      0.87      0.87        30\n",
            "\n"
          ]
        }
      ]
    },
    {
      "cell_type": "markdown",
      "source": [
        "**Penjelasan hasil:**\n",
        "\n",
        "- Nilai akurasi adalah 0.8666666666666667, yang berarti model rf dapat memprediksi kelas yang benar untuk 87% dari data validasi\n",
        "\n",
        "- Dari confusion matrix, dapat dilihat bahwa model rf dapat mengklasifikasikan semua data Iris-setosa dengan benar, tetapi ada beberapa kesalahan klasifikasi untuk data Iris-versicolor dan Iris-virginica. Misalnya, ada dua data Iris-versicolor yang diprediksi sebagai Iris-virginica, dan ada dua data Iris-virginica yang diprediksi sebagai Iris-versicolor.\n",
        "\n",
        "- Dari classification report, dapat dilihat bahwa model rf memiliki nilai precision, recall, dan f1-score yang tinggi untuk kelas Iris-setosa. Nilai precision menunjukkan seberapa sering model rf memprediksi kelas yang benar dari semua prediksi yang dibuat untuk kelas tersebut. Nilai recall menunjukkan seberapa sering model rf memprediksi kelas yang benar dari semua data yang sebenarnya memiliki kelas tersebut. Nilai f1-score adalah rata-rata harmonik dari presisi dan recall, yang menunjukkan keseimbangan antara keduanya. Nilai dukungan menunjukkan jumlah data yang sebenarnya memiliki kelas tersebut."
      ],
      "metadata": {
        "id": "pIE2mz8a2KmP"
      }
    },
    {
      "cell_type": "markdown",
      "source": [
        "**c. Gradient Boosting**"
      ],
      "metadata": {
        "id": "xJAx4GUpDl6i"
      }
    },
    {
      "cell_type": "markdown",
      "source": [
        "Gradient Boosting adalah sebuah algoritma machine learning berdasarkan pada konsep boosting, yaitu menggabungkan beberapa model yang lebih lemah, yaitu pohon keputusan, untuk menghasilkan sebuah model yang lebih kuat dan akurat. Kelebihan dari algoritma ini adalah dapat meningkatkan kinerja model secara bertahap, dapat menangani data yang memiliki fitur kategorikal dan numerik, dan dapat mengurangi bias. Kekurangan dari algoritma ini adalah rentan terhadap overfitting, membutuhkan waktu dan memori yang lebih besar, dan sulit untuk diinterpretasikan."
      ],
      "metadata": {
        "id": "zp2-0dJzLBFn"
      }
    },
    {
      "cell_type": "code",
      "source": [
        "# Membuat objek gb yang merupakan sebuah estimator dari kelas GradientBoostingClassifier\n",
        "gb = GradientBoostingClassifier()\n",
        "\n",
        "# Melatih model gb dengan menggunakan data fitur dan target dari data latih\n",
        "gb.fit(X_train, Y_train)\n",
        "\n",
        "# Menggunakan model gb yang sudah dilatih untuk membuat prediksi kelas dari data fitur validasi, yaitu X_validation dan simpan hasilnya dalam variable predictions_gb\n",
        "predictions_gb = gb.predict(X_validation)\n",
        "\n",
        "# Mencetak string judul accuracy score dari gradient boosting\n",
        "print(\"Accuracy Score of Gradient Boosting:\")\n",
        "\n",
        "# Mencetak nilai akurasi dari model gb, yaitu seberapa sering prediksi model gb sesuai dengan kelas yang sebenarnya dari data validasi\n",
        "# Nilai akurasi dihitung dengan mengambil parameter Y_validation dan predictions_gb.\n",
        "print(accuracy_score(Y_validation, predictions_gb))\n",
        "\n",
        "# Mencetak string judul confusion matrix dari gradient boosting\n",
        "print(\"\\nConfusion Matrix of Gradient Boosting:\")\n",
        "\n",
        "# Mencetak confusion matrix dari model rf yang menampilkan jumlah data yang benar terklasifikasi (diagonal utama) dan jumlah data yang salah terklasifikasi (di luar diagonal utama) untuk setiap kelas yang ada\n",
        "print(confusion_matrix(Y_validation, predictions_gb))\n",
        "\n",
        "# Mencetak string judul classification report dari gradient boosting\n",
        "print(\"\\nClassification Report of Gradient Boosting:\")\n",
        "\n",
        "# Mencetak classification report dari model gb yang menampilkan nilai-nilai metrik evaluasi untuk setiap kelas, serta rata-rata dari semua kelas\n",
        "print(classification_report(Y_validation, predictions_gb))"
      ],
      "metadata": {
        "colab": {
          "base_uri": "https://localhost:8080/"
        },
        "id": "hFiQERsY9fnt",
        "outputId": "4dec1ece-3a98-414f-c369-8066f4b04d91"
      },
      "execution_count": 142,
      "outputs": [
        {
          "output_type": "stream",
          "name": "stdout",
          "text": [
            "Accuracy Score of Gradient Boosting:\n",
            "0.8666666666666667\n",
            "\n",
            "Confusion Matrix of Gradient Boosting:\n",
            "[[ 7  0  0]\n",
            " [ 0  9  3]\n",
            " [ 0  1 10]]\n",
            "\n",
            "Classification Report of Gradient Boosting:\n",
            "                 precision    recall  f1-score   support\n",
            "\n",
            "    Iris-setosa       1.00      1.00      1.00         7\n",
            "Iris-versicolor       0.90      0.75      0.82        12\n",
            " Iris-virginica       0.77      0.91      0.83        11\n",
            "\n",
            "       accuracy                           0.87        30\n",
            "      macro avg       0.89      0.89      0.88        30\n",
            "   weighted avg       0.88      0.87      0.87        30\n",
            "\n"
          ]
        }
      ]
    },
    {
      "cell_type": "markdown",
      "source": [
        "**Penjelasan hasil:**\n",
        "\n",
        "- Nilai akurasi adalah 0.8666666666666667, yang berarti model gb dapat memprediksi kelas yang benar untuk 87% dari data validasi\n",
        "\n",
        "- Dari confusion matrix, dapat dilihat bahwa model gb dapat mengklasifikasikan semua data Iris-setosa dengan benar, tetapi ada beberapa kesalahan klasifikasi untuk data Iris-versicolor dan Iris-virginica. Misalnya, ada tiga data Iris-versicolor yang diprediksi sebagai Iris-virginica, dan ada satu data Iris-virginica yang diprediksi sebagai Iris-versicolor.\n",
        "\n",
        "- Dari classification report, dapat dilihat bahwa model gb memiliki nilai precision, recall, dan f1-score yang tinggi untuk kelas Iris-setosa. Nilai precision menunjukkan seberapa sering model gb memprediksi kelas yang benar dari semua prediksi yang dibuat untuk kelas tersebut. Nilai recall menunjukkan seberapa sering model gb memprediksi kelas yang benar dari semua data yang sebenarnya memiliki kelas tersebut. Nilai f1-score adalah rata-rata harmonik dari presisi dan recall, yang menunjukkan keseimbangan antara keduanya. Nilai dukungan menunjukkan jumlah data yang sebenarnya memiliki kelas tersebut."
      ],
      "metadata": {
        "id": "IvkxgLL_4yEp"
      }
    },
    {
      "cell_type": "markdown",
      "source": [
        "**Kesimpulan:**\n",
        "\n",
        "- Ketiga algoritma yang digunakan, yaitu Decision Tree, Random Forest, dan Gradient Boosting memiliki nilai akurasi yang sama yaitu 0.867, yang menunjukkan bahwa ketiga model klasifikasi dapat memprediksi kelas yang benar dari data validasi sebanyak 86.67% dari keseluruhan data. Nilai akurasi ini termasuk dalam kategori yang tinggi, sehingga dapat dikatakan bahwa ketiga model klasifikasi sesuai dengan data."
      ],
      "metadata": {
        "id": "S6cHDcxTJgp1"
      }
    },
    {
      "cell_type": "markdown",
      "source": [
        "## **TUGAS NOMOR 2**"
      ],
      "metadata": {
        "id": "dsy159XM8D1l"
      }
    },
    {
      "cell_type": "code",
      "source": [
        "# Mengimpor modul Pandas dengan alias atau singkatan pd\n",
        "import pandas as pd"
      ],
      "metadata": {
        "id": "sO3XSExo-EGK"
      },
      "execution_count": 143,
      "outputs": []
    },
    {
      "cell_type": "markdown",
      "source": [
        "## **1. Data yang digunakan**"
      ],
      "metadata": {
        "id": "DRQBi1V4qRj_"
      }
    },
    {
      "cell_type": "code",
      "source": [
        "# Mengimpor fungsi drive dari modul google.colab\n",
        "from google.colab import drive\n",
        "\n",
        "# Memanggil fungsi mount dari objek drive untuk mengaitkan sesi Colab dengan Google Drive\n",
        "drive.mount('/content/drive')\n",
        "\n",
        "# Menetapkan sebuah variabel bernama names yang berisi daftar nama-nama kolom yang terdapat pada dataset Rice\n",
        "names2 = ['area', 'perimeter', 'major_axis_length', 'minor_axis_length', 'eccentricity', 'convex_area', 'extent', 'class']\n",
        "\n",
        "# Membaca dataset dari file Excel sesuai dengan path dan datasetnya disimpan dalam variabel dataset2\n",
        "dataset2 = pd.read_excel('/content/rice-dataset-commeo-and-osmancik/Rice_Dataset_Commeo_and_Osmancik/Rice_Cammeo_Osmancik.xlsx')\n"
      ],
      "metadata": {
        "colab": {
          "base_uri": "https://localhost:8080/"
        },
        "id": "IAkoLTx3kPc8",
        "outputId": "48f3c5d6-9171-4a1d-cd39-6dbedfe7bebd"
      },
      "execution_count": 144,
      "outputs": [
        {
          "output_type": "stream",
          "name": "stdout",
          "text": [
            "Drive already mounted at /content/drive; to attempt to forcibly remount, call drive.mount(\"/content/drive\", force_remount=True).\n"
          ]
        }
      ]
    },
    {
      "cell_type": "markdown",
      "source": [
        "### **README:**\n",
        "Untuk mengakses dataset, mohon terlebih dahulu mengupload file yang telah dilampirkan di github ke drive pribadi.\n",
        "\n",
        "Kemudian ubah path dari file xlsxnya.\n",
        "\n",
        "Terima kasih."
      ],
      "metadata": {
        "id": "tAgYDw0Ym-dg"
      }
    },
    {
      "cell_type": "code",
      "source": [
        "# Melihat 5 baris pertama dan 5 baris terakhir dari dataset\n",
        "dataset2"
      ],
      "metadata": {
        "colab": {
          "base_uri": "https://localhost:8080/",
          "height": 423
        },
        "id": "bOeZpvBJm4OB",
        "outputId": "bbd77ad5-94ed-42c8-90e2-5f5cdb033db7"
      },
      "execution_count": 145,
      "outputs": [
        {
          "output_type": "execute_result",
          "data": {
            "text/plain": [
              "       Area   Perimeter  Major_Axis_Length  Minor_Axis_Length  Eccentricity  \\\n",
              "0     15231  525.578979         229.749878          85.093788      0.928882   \n",
              "1     14656  494.311005         206.020065          91.730972      0.895405   \n",
              "2     14634  501.122009         214.106781          87.768288      0.912118   \n",
              "3     13176  458.342987         193.337387          87.448395      0.891861   \n",
              "4     14688  507.166992         211.743378          89.312454      0.906691   \n",
              "...     ...         ...                ...                ...           ...   \n",
              "3805  11441  415.858002         170.486771          85.756592      0.864280   \n",
              "3806  11625  421.390015         167.714798          89.462570      0.845850   \n",
              "3807  12437  442.498993         183.572922          86.801979      0.881144   \n",
              "3808   9882  392.296997         161.193985          78.210480      0.874406   \n",
              "3809  11434  404.709991         161.079269          90.868195      0.825692   \n",
              "\n",
              "      Convex_Area    Extent     Class  \n",
              "0           15617  0.572896    Cammeo  \n",
              "1           15072  0.615436    Cammeo  \n",
              "2           14954  0.693259    Cammeo  \n",
              "3           13368  0.640669    Cammeo  \n",
              "4           15262  0.646024    Cammeo  \n",
              "...           ...       ...       ...  \n",
              "3805        11628  0.681012  Osmancik  \n",
              "3806        11904  0.694279  Osmancik  \n",
              "3807        12645  0.626739  Osmancik  \n",
              "3808        10097  0.659064  Osmancik  \n",
              "3809        11591  0.802949  Osmancik  \n",
              "\n",
              "[3810 rows x 8 columns]"
            ],
            "text/html": [
              "\n",
              "  <div id=\"df-f177d5e4-ad10-4b1c-8089-5e3577126b12\" class=\"colab-df-container\">\n",
              "    <div>\n",
              "<style scoped>\n",
              "    .dataframe tbody tr th:only-of-type {\n",
              "        vertical-align: middle;\n",
              "    }\n",
              "\n",
              "    .dataframe tbody tr th {\n",
              "        vertical-align: top;\n",
              "    }\n",
              "\n",
              "    .dataframe thead th {\n",
              "        text-align: right;\n",
              "    }\n",
              "</style>\n",
              "<table border=\"1\" class=\"dataframe\">\n",
              "  <thead>\n",
              "    <tr style=\"text-align: right;\">\n",
              "      <th></th>\n",
              "      <th>Area</th>\n",
              "      <th>Perimeter</th>\n",
              "      <th>Major_Axis_Length</th>\n",
              "      <th>Minor_Axis_Length</th>\n",
              "      <th>Eccentricity</th>\n",
              "      <th>Convex_Area</th>\n",
              "      <th>Extent</th>\n",
              "      <th>Class</th>\n",
              "    </tr>\n",
              "  </thead>\n",
              "  <tbody>\n",
              "    <tr>\n",
              "      <th>0</th>\n",
              "      <td>15231</td>\n",
              "      <td>525.578979</td>\n",
              "      <td>229.749878</td>\n",
              "      <td>85.093788</td>\n",
              "      <td>0.928882</td>\n",
              "      <td>15617</td>\n",
              "      <td>0.572896</td>\n",
              "      <td>Cammeo</td>\n",
              "    </tr>\n",
              "    <tr>\n",
              "      <th>1</th>\n",
              "      <td>14656</td>\n",
              "      <td>494.311005</td>\n",
              "      <td>206.020065</td>\n",
              "      <td>91.730972</td>\n",
              "      <td>0.895405</td>\n",
              "      <td>15072</td>\n",
              "      <td>0.615436</td>\n",
              "      <td>Cammeo</td>\n",
              "    </tr>\n",
              "    <tr>\n",
              "      <th>2</th>\n",
              "      <td>14634</td>\n",
              "      <td>501.122009</td>\n",
              "      <td>214.106781</td>\n",
              "      <td>87.768288</td>\n",
              "      <td>0.912118</td>\n",
              "      <td>14954</td>\n",
              "      <td>0.693259</td>\n",
              "      <td>Cammeo</td>\n",
              "    </tr>\n",
              "    <tr>\n",
              "      <th>3</th>\n",
              "      <td>13176</td>\n",
              "      <td>458.342987</td>\n",
              "      <td>193.337387</td>\n",
              "      <td>87.448395</td>\n",
              "      <td>0.891861</td>\n",
              "      <td>13368</td>\n",
              "      <td>0.640669</td>\n",
              "      <td>Cammeo</td>\n",
              "    </tr>\n",
              "    <tr>\n",
              "      <th>4</th>\n",
              "      <td>14688</td>\n",
              "      <td>507.166992</td>\n",
              "      <td>211.743378</td>\n",
              "      <td>89.312454</td>\n",
              "      <td>0.906691</td>\n",
              "      <td>15262</td>\n",
              "      <td>0.646024</td>\n",
              "      <td>Cammeo</td>\n",
              "    </tr>\n",
              "    <tr>\n",
              "      <th>...</th>\n",
              "      <td>...</td>\n",
              "      <td>...</td>\n",
              "      <td>...</td>\n",
              "      <td>...</td>\n",
              "      <td>...</td>\n",
              "      <td>...</td>\n",
              "      <td>...</td>\n",
              "      <td>...</td>\n",
              "    </tr>\n",
              "    <tr>\n",
              "      <th>3805</th>\n",
              "      <td>11441</td>\n",
              "      <td>415.858002</td>\n",
              "      <td>170.486771</td>\n",
              "      <td>85.756592</td>\n",
              "      <td>0.864280</td>\n",
              "      <td>11628</td>\n",
              "      <td>0.681012</td>\n",
              "      <td>Osmancik</td>\n",
              "    </tr>\n",
              "    <tr>\n",
              "      <th>3806</th>\n",
              "      <td>11625</td>\n",
              "      <td>421.390015</td>\n",
              "      <td>167.714798</td>\n",
              "      <td>89.462570</td>\n",
              "      <td>0.845850</td>\n",
              "      <td>11904</td>\n",
              "      <td>0.694279</td>\n",
              "      <td>Osmancik</td>\n",
              "    </tr>\n",
              "    <tr>\n",
              "      <th>3807</th>\n",
              "      <td>12437</td>\n",
              "      <td>442.498993</td>\n",
              "      <td>183.572922</td>\n",
              "      <td>86.801979</td>\n",
              "      <td>0.881144</td>\n",
              "      <td>12645</td>\n",
              "      <td>0.626739</td>\n",
              "      <td>Osmancik</td>\n",
              "    </tr>\n",
              "    <tr>\n",
              "      <th>3808</th>\n",
              "      <td>9882</td>\n",
              "      <td>392.296997</td>\n",
              "      <td>161.193985</td>\n",
              "      <td>78.210480</td>\n",
              "      <td>0.874406</td>\n",
              "      <td>10097</td>\n",
              "      <td>0.659064</td>\n",
              "      <td>Osmancik</td>\n",
              "    </tr>\n",
              "    <tr>\n",
              "      <th>3809</th>\n",
              "      <td>11434</td>\n",
              "      <td>404.709991</td>\n",
              "      <td>161.079269</td>\n",
              "      <td>90.868195</td>\n",
              "      <td>0.825692</td>\n",
              "      <td>11591</td>\n",
              "      <td>0.802949</td>\n",
              "      <td>Osmancik</td>\n",
              "    </tr>\n",
              "  </tbody>\n",
              "</table>\n",
              "<p>3810 rows × 8 columns</p>\n",
              "</div>\n",
              "    <div class=\"colab-df-buttons\">\n",
              "\n",
              "  <div class=\"colab-df-container\">\n",
              "    <button class=\"colab-df-convert\" onclick=\"convertToInteractive('df-f177d5e4-ad10-4b1c-8089-5e3577126b12')\"\n",
              "            title=\"Convert this dataframe to an interactive table.\"\n",
              "            style=\"display:none;\">\n",
              "\n",
              "  <svg xmlns=\"http://www.w3.org/2000/svg\" height=\"24px\" viewBox=\"0 -960 960 960\">\n",
              "    <path d=\"M120-120v-720h720v720H120Zm60-500h600v-160H180v160Zm220 220h160v-160H400v160Zm0 220h160v-160H400v160ZM180-400h160v-160H180v160Zm440 0h160v-160H620v160ZM180-180h160v-160H180v160Zm440 0h160v-160H620v160Z\"/>\n",
              "  </svg>\n",
              "    </button>\n",
              "\n",
              "  <style>\n",
              "    .colab-df-container {\n",
              "      display:flex;\n",
              "      gap: 12px;\n",
              "    }\n",
              "\n",
              "    .colab-df-convert {\n",
              "      background-color: #E8F0FE;\n",
              "      border: none;\n",
              "      border-radius: 50%;\n",
              "      cursor: pointer;\n",
              "      display: none;\n",
              "      fill: #1967D2;\n",
              "      height: 32px;\n",
              "      padding: 0 0 0 0;\n",
              "      width: 32px;\n",
              "    }\n",
              "\n",
              "    .colab-df-convert:hover {\n",
              "      background-color: #E2EBFA;\n",
              "      box-shadow: 0px 1px 2px rgba(60, 64, 67, 0.3), 0px 1px 3px 1px rgba(60, 64, 67, 0.15);\n",
              "      fill: #174EA6;\n",
              "    }\n",
              "\n",
              "    .colab-df-buttons div {\n",
              "      margin-bottom: 4px;\n",
              "    }\n",
              "\n",
              "    [theme=dark] .colab-df-convert {\n",
              "      background-color: #3B4455;\n",
              "      fill: #D2E3FC;\n",
              "    }\n",
              "\n",
              "    [theme=dark] .colab-df-convert:hover {\n",
              "      background-color: #434B5C;\n",
              "      box-shadow: 0px 1px 3px 1px rgba(0, 0, 0, 0.15);\n",
              "      filter: drop-shadow(0px 1px 2px rgba(0, 0, 0, 0.3));\n",
              "      fill: #FFFFFF;\n",
              "    }\n",
              "  </style>\n",
              "\n",
              "    <script>\n",
              "      const buttonEl =\n",
              "        document.querySelector('#df-f177d5e4-ad10-4b1c-8089-5e3577126b12 button.colab-df-convert');\n",
              "      buttonEl.style.display =\n",
              "        google.colab.kernel.accessAllowed ? 'block' : 'none';\n",
              "\n",
              "      async function convertToInteractive(key) {\n",
              "        const element = document.querySelector('#df-f177d5e4-ad10-4b1c-8089-5e3577126b12');\n",
              "        const dataTable =\n",
              "          await google.colab.kernel.invokeFunction('convertToInteractive',\n",
              "                                                    [key], {});\n",
              "        if (!dataTable) return;\n",
              "\n",
              "        const docLinkHtml = 'Like what you see? Visit the ' +\n",
              "          '<a target=\"_blank\" href=https://colab.research.google.com/notebooks/data_table.ipynb>data table notebook</a>'\n",
              "          + ' to learn more about interactive tables.';\n",
              "        element.innerHTML = '';\n",
              "        dataTable['output_type'] = 'display_data';\n",
              "        await google.colab.output.renderOutput(dataTable, element);\n",
              "        const docLink = document.createElement('div');\n",
              "        docLink.innerHTML = docLinkHtml;\n",
              "        element.appendChild(docLink);\n",
              "      }\n",
              "    </script>\n",
              "  </div>\n",
              "\n",
              "\n",
              "<div id=\"df-0c96840b-c994-4edc-b661-0c16a264131c\">\n",
              "  <button class=\"colab-df-quickchart\" onclick=\"quickchart('df-0c96840b-c994-4edc-b661-0c16a264131c')\"\n",
              "            title=\"Suggest charts\"\n",
              "            style=\"display:none;\">\n",
              "\n",
              "<svg xmlns=\"http://www.w3.org/2000/svg\" height=\"24px\"viewBox=\"0 0 24 24\"\n",
              "     width=\"24px\">\n",
              "    <g>\n",
              "        <path d=\"M19 3H5c-1.1 0-2 .9-2 2v14c0 1.1.9 2 2 2h14c1.1 0 2-.9 2-2V5c0-1.1-.9-2-2-2zM9 17H7v-7h2v7zm4 0h-2V7h2v10zm4 0h-2v-4h2v4z\"/>\n",
              "    </g>\n",
              "</svg>\n",
              "  </button>\n",
              "\n",
              "<style>\n",
              "  .colab-df-quickchart {\n",
              "      --bg-color: #E8F0FE;\n",
              "      --fill-color: #1967D2;\n",
              "      --hover-bg-color: #E2EBFA;\n",
              "      --hover-fill-color: #174EA6;\n",
              "      --disabled-fill-color: #AAA;\n",
              "      --disabled-bg-color: #DDD;\n",
              "  }\n",
              "\n",
              "  [theme=dark] .colab-df-quickchart {\n",
              "      --bg-color: #3B4455;\n",
              "      --fill-color: #D2E3FC;\n",
              "      --hover-bg-color: #434B5C;\n",
              "      --hover-fill-color: #FFFFFF;\n",
              "      --disabled-bg-color: #3B4455;\n",
              "      --disabled-fill-color: #666;\n",
              "  }\n",
              "\n",
              "  .colab-df-quickchart {\n",
              "    background-color: var(--bg-color);\n",
              "    border: none;\n",
              "    border-radius: 50%;\n",
              "    cursor: pointer;\n",
              "    display: none;\n",
              "    fill: var(--fill-color);\n",
              "    height: 32px;\n",
              "    padding: 0;\n",
              "    width: 32px;\n",
              "  }\n",
              "\n",
              "  .colab-df-quickchart:hover {\n",
              "    background-color: var(--hover-bg-color);\n",
              "    box-shadow: 0 1px 2px rgba(60, 64, 67, 0.3), 0 1px 3px 1px rgba(60, 64, 67, 0.15);\n",
              "    fill: var(--button-hover-fill-color);\n",
              "  }\n",
              "\n",
              "  .colab-df-quickchart-complete:disabled,\n",
              "  .colab-df-quickchart-complete:disabled:hover {\n",
              "    background-color: var(--disabled-bg-color);\n",
              "    fill: var(--disabled-fill-color);\n",
              "    box-shadow: none;\n",
              "  }\n",
              "\n",
              "  .colab-df-spinner {\n",
              "    border: 2px solid var(--fill-color);\n",
              "    border-color: transparent;\n",
              "    border-bottom-color: var(--fill-color);\n",
              "    animation:\n",
              "      spin 1s steps(1) infinite;\n",
              "  }\n",
              "\n",
              "  @keyframes spin {\n",
              "    0% {\n",
              "      border-color: transparent;\n",
              "      border-bottom-color: var(--fill-color);\n",
              "      border-left-color: var(--fill-color);\n",
              "    }\n",
              "    20% {\n",
              "      border-color: transparent;\n",
              "      border-left-color: var(--fill-color);\n",
              "      border-top-color: var(--fill-color);\n",
              "    }\n",
              "    30% {\n",
              "      border-color: transparent;\n",
              "      border-left-color: var(--fill-color);\n",
              "      border-top-color: var(--fill-color);\n",
              "      border-right-color: var(--fill-color);\n",
              "    }\n",
              "    40% {\n",
              "      border-color: transparent;\n",
              "      border-right-color: var(--fill-color);\n",
              "      border-top-color: var(--fill-color);\n",
              "    }\n",
              "    60% {\n",
              "      border-color: transparent;\n",
              "      border-right-color: var(--fill-color);\n",
              "    }\n",
              "    80% {\n",
              "      border-color: transparent;\n",
              "      border-right-color: var(--fill-color);\n",
              "      border-bottom-color: var(--fill-color);\n",
              "    }\n",
              "    90% {\n",
              "      border-color: transparent;\n",
              "      border-bottom-color: var(--fill-color);\n",
              "    }\n",
              "  }\n",
              "</style>\n",
              "\n",
              "  <script>\n",
              "    async function quickchart(key) {\n",
              "      const quickchartButtonEl =\n",
              "        document.querySelector('#' + key + ' button');\n",
              "      quickchartButtonEl.disabled = true;  // To prevent multiple clicks.\n",
              "      quickchartButtonEl.classList.add('colab-df-spinner');\n",
              "      try {\n",
              "        const charts = await google.colab.kernel.invokeFunction(\n",
              "            'suggestCharts', [key], {});\n",
              "      } catch (error) {\n",
              "        console.error('Error during call to suggestCharts:', error);\n",
              "      }\n",
              "      quickchartButtonEl.classList.remove('colab-df-spinner');\n",
              "      quickchartButtonEl.classList.add('colab-df-quickchart-complete');\n",
              "    }\n",
              "    (() => {\n",
              "      let quickchartButtonEl =\n",
              "        document.querySelector('#df-0c96840b-c994-4edc-b661-0c16a264131c button');\n",
              "      quickchartButtonEl.style.display =\n",
              "        google.colab.kernel.accessAllowed ? 'block' : 'none';\n",
              "    })();\n",
              "  </script>\n",
              "</div>\n",
              "    </div>\n",
              "  </div>\n"
            ]
          },
          "metadata": {},
          "execution_count": 145
        }
      ]
    },
    {
      "cell_type": "code",
      "source": [
        "# Mengimpor modul model_selection dari library scikit-learn untuk membantu proses pemilihan dan evaluasi model machine learning\n",
        "from sklearn import model_selection"
      ],
      "metadata": {
        "id": "G8hnOCrr4Na4"
      },
      "execution_count": 146,
      "outputs": []
    },
    {
      "cell_type": "markdown",
      "source": [
        "**I. Membuat Valiadasi Dataset**"
      ],
      "metadata": {
        "id": "Th_V_UUs8ADz"
      }
    },
    {
      "cell_type": "code",
      "source": [
        "# Mengambil nilai-nilai dari DataFrame dataset1 dan dibuat menjadi sebuah array numpy dan disimpan pada sebuah variabel bernama array2\n",
        "array2 = dataset2.values\n",
        "\n",
        "# Assign semua baris dan tujuh kolom pertama pada variable X\n",
        "X = array2[:,0:7]\n",
        "\n",
        "# Assign semua baris dan kolom ke delapan pada variable Y\n",
        "Y = array2[:,7]\n",
        "\n",
        "# Menetapkan proporsi atau persentase data yang digunakan sebagai data validasi atau uji adalah 20% dan sisanya yaitu 80% sebagai data latih\n",
        "validation_size = 0.20\n",
        "\n",
        "# Menunjukkan nilai acak atau random state yang akan digunakan untuk memastikan hasil yang konsisten dan memastikan bahwa data akan dibagi dengan cara yang sama setiap kali kode dijalankan\n",
        "seed = 7\n",
        "\n",
        "# Menetapkan empat variable yang berisi hasil dari membagi data menjadi data latih dan  data validasi\n",
        "# Fungsi model_selection.train_test_split memiliki parameter X dan Y yang merupakan data fitur dan target, text_size yang merupakan proporsi dan validasi, dan random_state yang merupakan nilai acak.\n",
        "X_train, X_validation, Y_train, Y_validation = model_selection.train_test_split(X, Y, test_size = validation_size, random_state=seed, shuffle=True)\n",
        "# Kode di atas mengembalikan empat array yaitu :\n",
        "# X_train dan Y_train yang merupakan data fitur dan target untuk data latih\n",
        "# X_validation dan Y_validation yang merupakan data fitur dan target untuk data validasi"
      ],
      "metadata": {
        "id": "DVZ9HDu82Zms"
      },
      "execution_count": 147,
      "outputs": []
    },
    {
      "cell_type": "markdown",
      "source": [
        "**II. Mencetak Ukuran atau Dimensi Data Latih dan Data Validasi**"
      ],
      "metadata": {
        "id": "tzGrSMF98eMN"
      }
    },
    {
      "cell_type": "code",
      "source": [
        "# Mencetak string \"X_train\" dan ukuran dari array X_train yang berisi fitur untuk data latih\n",
        "print(\"X_train :\", X_train.shape)\n",
        "\n",
        "# Mencetak string \"X_validation\" dan ukuran dari array X_validation yang berisi fitur untuk data validasi\n",
        "print(\"X_validation :\", X_validation.shape)\n",
        "\n",
        "# Mencetak string \"Y_train\" dan ukuran dari array Y_train yang berisi data target untuk data latih\n",
        "print(\"Y_train :\", Y_train.shape)\n",
        "\n",
        "# Mencetak string \"Y_validation\" dan ukuran dari array Y_validation yang berisi data target untuk data validasi\n",
        "print(\"Y_validation :\", Y_validation.shape)"
      ],
      "metadata": {
        "colab": {
          "base_uri": "https://localhost:8080/"
        },
        "id": "0sPTptet4-DG",
        "outputId": "04582f67-0536-4537-d38f-86efe6413013"
      },
      "execution_count": 148,
      "outputs": [
        {
          "output_type": "stream",
          "name": "stdout",
          "text": [
            "X_train : (3048, 7)\n",
            "X_validation : (762, 7)\n",
            "Y_train : (3048,)\n",
            "Y_validation : (762,)\n"
          ]
        }
      ]
    },
    {
      "cell_type": "markdown",
      "source": [
        "**Penjelasan:**\n",
        "\n",
        "- X_train : (3048, 7) menunjukkan bahwa data fitur untuk data latih memiliki 3048 baris dan 7 kolom\n",
        "\n",
        "- X_validation : (762, 7) menunjukkan bahwa data fitur untuk data validasi memiliki 69 baris dan 6 kolom\n",
        "\n",
        "- Y_train : (3048,) menunjukkan bahwa data  target untuk data latih memiliki 3048 baris dan 1 kolom\n",
        "\n",
        "- Y_validation : (762,) menunjukkan bahwa data target untuk data validasi memiliki 762 baris dan 1 kolom"
      ],
      "metadata": {
        "id": "d82rXE9hCwli"
      }
    },
    {
      "cell_type": "markdown",
      "source": [
        "**III. K-Folds Cross Validation**"
      ],
      "metadata": {
        "id": "ygz6etMh8GCR"
      }
    },
    {
      "cell_type": "code",
      "source": [
        "# Menunjukkan nilai acak atau random state yang digunakan untuk memastikan hasil yang konsisten dan memastikan bahwa data akan dibagi dengan cara yang sama setiap kali kode dijalankan\n",
        "seed = 7\n",
        "\n",
        "# Metrik evaluasi yang akan digunakan untuk membandingkan model yang berbeda adalah nilai akurasi, yaitu seberapa sering prediksi model sesuai dengan kelas yang sebenarnya dari data\n",
        "scoring = 'accuracy'"
      ],
      "metadata": {
        "id": "t3J2d-ec4pKM"
      },
      "execution_count": 149,
      "outputs": []
    },
    {
      "cell_type": "markdown",
      "source": [
        "**IV. Membangun Model**"
      ],
      "metadata": {
        "id": "0wkiR6OC8LB2"
      }
    },
    {
      "cell_type": "code",
      "source": [
        "# Mengimpor kelas KNeighborsClassifier dari modul sklearn.neigbors yaitu algoritma machine learning berdasarkan pada jarak anatara data dan tetangga terdekatnya\n",
        "from sklearn.neighbors import KNeighborsClassifier\n",
        "\n",
        "# Mengimpor kelas GaussianNB dari modul sklearn.naive_bayes yaitu algoritma machine learning yang berdasarkan pada teorema bayes dan mengasumsikan bahwa fitur memiliki distribusi normal atau gaussian\n",
        "from sklearn.naive_bayes import GaussianNB\n",
        "\n",
        "# Mengimpor kelas SVC dari modul sklearn.svm yaitu algoritma machine leraning berdasarkan konsep support vector machine yaitu mencari sebuah hyperplane yang dapat memisahkan data dengan margin terbesar\n",
        "from sklearn.svm import SVC"
      ],
      "metadata": {
        "id": "h-thss0355UQ"
      },
      "execution_count": 150,
      "outputs": []
    },
    {
      "cell_type": "code",
      "source": [
        "# membuat sebuah variabel bernama models yang berisi sebuah daftar kosong\n",
        "models = []\n",
        "\n",
        "# Menambahkan sebuah elemen ke dalam daftar models yaitu tuple berisi string 'KNeighbors' dan sebuah objek dari kelas KNeighborsClassifier\n",
        "models.append(('KNeighbors', KNeighborsClassifier()))\n",
        "\n",
        "# Menambahkan sebuah elemen ke dalam daftar models yaitu tuple berisi string 'GaussianNB' dan sebuah objek dari kelas GaussianNB\n",
        "models.append(('GaussianNB', GaussianNB()))\n",
        "\n",
        "# Menambahkan sebuah elemen ke dalam daftar models yaitu tuple berisi string 'SVM' dan sebuah objek dari kelas SVC\n",
        "models.append(('SVM', SVC()))\n",
        "\n",
        "# Evaluate each model in turn\n",
        "\n",
        "# Membuat variable result kosong\n",
        "results = []\n",
        "\n",
        "# Membuat varible names kosong\n",
        "names = []\n",
        "\n",
        "# Looping setiap elemen di models dan menetapkan variable name dan model sebagai nilai dari tuple yang ada di dalam elemen tsb\n",
        "for name, model in models:\n",
        "  # Membagi data menjadi 10 bagian atau folds dengan menggunakan nilai acak dari variable seed dan mengacak urutan data sebelum dibagi\n",
        "  kfold = model_selection.KFold(n_splits=10, random_state=seed, shuffle=True)\n",
        "\n",
        "  # Membuat variable cv_result berisi sebuah array numpy yang berisi nilai akurasi dari model yang diuji dengan menggunakan metode cross-validation, dan parameter sbb:\n",
        "  # - model sebagai model yang akan diuji\n",
        "  # - X_train dan Y_train sebagai data fitur dan target dari data latih\n",
        "  # - kfold sebagai metode pembagian data\n",
        "  # - scoring sebagai metrik evaluasi yang digunakan\n",
        "  cv_results = model_selection.cross_val_score(model, X_train, Y_train, cv=kfold, scoring=scoring)\n",
        "\n",
        "  # Menambahkan nilai dari variable cv_result ke dalam daftar result\n",
        "  results.append(cv_results)\n",
        "\n",
        "  # Menambahkan nilai dari variable ke dalam daftar names\n",
        "  names.append(name)\n",
        "\n",
        "  # Membuat sebuah variable bernama msg yang ebrisi sebauh string berformat yang menampilkan nama model, nilai rata-rata , dan standar deviasi dari nilai akurasi yang ada di dalam variable cv_reslut\n",
        "  msg = \"%s: %f (%f)\" % (name, cv_results.mean(), cv_results.std())\n",
        "\n",
        "  # Mencetak nilai dari variable msg ke layar\n",
        "  print(msg)"
      ],
      "metadata": {
        "colab": {
          "base_uri": "https://localhost:8080/"
        },
        "id": "qXwrh8bg4y5l",
        "outputId": "f0764285-e628-4b1b-d4d4-5c40f78fe78d"
      },
      "execution_count": 151,
      "outputs": [
        {
          "output_type": "stream",
          "name": "stdout",
          "text": [
            "KNeighbors: 0.886798 (0.014580)\n",
            "GaussianNB: 0.909439 (0.013765)\n",
            "SVM: 0.876629 (0.021134)\n"
          ]
        }
      ]
    },
    {
      "cell_type": "markdown",
      "source": [
        "**Penjelasan:**\n",
        "\n",
        "- KNN memiliki nilai akurasi 88.68% dan standar deviasi 1.46%\n",
        "- NB memiliki nilai akurasi 90.94% dan standar deviasi 1.38%\n",
        "- SVM memiliki nilai akurasi 87.66% dan standar deviasi 2.11%\n",
        "\n",
        "**Kesimpulan:**\n",
        "- NB memiliki nilai akurasi tertinggi dan dapat memprediksi kelas yang benar dari data validasi sebanyak 90.94% dari keseluruhan model data\n",
        "- KNN memiliki nilai akurasi kedua tertinggi dan dapat memprediksi kelas yang benar dari data validasi sebanyak 88.68% dari keseluruhan data\n",
        "- SVM memiliki nilai akurasi terendah dan dapat memprediksi kelas yang benar dari data validasi sebanyak 87.66% dari keseluruhan data\n",
        "- Standar deviasi untuk ketiga algoritma kecil yang menunjukkan bahwa ketiga model tersebut relatif stabil dalam prediksi."
      ],
      "metadata": {
        "id": "Ym1jIC0bFvcK"
      }
    },
    {
      "cell_type": "markdown",
      "source": [
        "**V. Memilih Model Terbaik**"
      ],
      "metadata": {
        "id": "OMUobPYm8Pr7"
      }
    },
    {
      "cell_type": "markdown",
      "source": [
        "Berdasarkan hasil accuracy score diatas, NB (gaussian naive bayes) memiliki akurasi tertinggi."
      ],
      "metadata": {
        "id": "77qHVWaALL9g"
      }
    },
    {
      "cell_type": "code",
      "source": [
        "# Mengimpor tiga fungsi dari modul sklearn.metrics yaitu accuracy_score, confusion_matrix, dan classification_report untuk menghitung dan menammpilkan beberapa metrik evaluasi untuk model machine learning\n",
        "from sklearn.metrics import accuracy_score, confusion_matrix, classification_report"
      ],
      "metadata": {
        "id": "eoYktKXr7Jz5"
      },
      "execution_count": 152,
      "outputs": []
    },
    {
      "cell_type": "code",
      "source": [
        "# Make predictions on validation dataset\n",
        "# Membuat sebuah variable bernama nb yang berisi objek dari kelas GaussinNB\n",
        "nb = GaussianNB()\n",
        "\n",
        "# Melatih model nb dengan menggunakan data fitur dan target dari data latih yaitu X_train dan Y_train\n",
        "nb.fit(X_train, Y_train)\n",
        "\n",
        "# Membuat variable bernama predictions yang berisi sebuah array numpy yang berisi prediksi kelas dari model nb, untuk data fitur validasi yaitu Y_validation\n",
        "predictions = nb.predict(X_validation)\n",
        "\n",
        "# Mencetak string judul accuracy score dari nb\n",
        "print(\"Accuracy Score of GaussianNB:\")\n",
        "\n",
        "# Mencetak nilai akurasi dari model nb yaitu seberapa sering prediksi model svm sesuai dengan kelas yang sebenarnya dari data validasi\n",
        "print(accuracy_score(Y_validation, predictions))\n",
        "\n",
        "# Mencetak string judul confusion matrix dari nb\n",
        "print(\"\\nConfusion Matrix of GaussianNB:\")\n",
        "\n",
        "# Mencetak confusion matrix dari model nb yang menampilkan jumlah data benar yang terklasifikasi (diagonal utama) dan jumlah data yang salah terklasifikasi (di luar diagonal utama) untuk setiap kelas yang ada\n",
        "print(confusion_matrix(Y_validation, predictions))\n",
        "\n",
        "# Mencetak string judul classification report dari nb\n",
        "print(\"\\nClassification Report of GaussianNB:\")\n",
        "\n",
        "# Mencetak classification report dari model nb yang menampilkan nilai-nilai precision, recall, f1-score, dan support untuk setiap kelas, serta rata-rata dari semua kelas\n",
        "print(classification_report(Y_validation, predictions))"
      ],
      "metadata": {
        "colab": {
          "base_uri": "https://localhost:8080/"
        },
        "id": "ySJQ7zmc7TZg",
        "outputId": "6d96cac0-c183-4bd4-930e-ad112146f910"
      },
      "execution_count": 153,
      "outputs": [
        {
          "output_type": "stream",
          "name": "stdout",
          "text": [
            "Accuracy Score of GaussianNB:\n",
            "0.9199475065616798\n",
            "\n",
            "Confusion Matrix of GaussianNB:\n",
            "[[301  34]\n",
            " [ 27 400]]\n",
            "\n",
            "Classification Report of GaussianNB:\n",
            "              precision    recall  f1-score   support\n",
            "\n",
            "      Cammeo       0.92      0.90      0.91       335\n",
            "    Osmancik       0.92      0.94      0.93       427\n",
            "\n",
            "    accuracy                           0.92       762\n",
            "   macro avg       0.92      0.92      0.92       762\n",
            "weighted avg       0.92      0.92      0.92       762\n",
            "\n"
          ]
        }
      ]
    },
    {
      "cell_type": "markdown",
      "source": [
        "**Penjelasan hasil:**\n",
        "\n",
        "- Nilai akurasi adalah 0.9199475065616798, yang berarti model GaussianNB dapat memprediksi kelas yang benar untuk 91.95% dari data validasi\n",
        "\n",
        "- Dari confusion matrix, dapat dilihat bahwa model GaussianNB dapat mengklasifikasikan 301 data Cammeo dan 400 data Osmancik dengan benar. Terdapat beberapa kesalahan klasifikasi yaitu sebanyak 34 Cammeo diprediksi sebagai Osmancik dan 27 data Osmancik diprediksi sebagai Cammeo.\n",
        "\n",
        "- Dari classification report, dapat dilihat bahwa model GaussianNB memiliki nilai precision, recall, dan f1-score yang termasuk tinggi untuk kedua kelas. Nilai precision menunjukkan seberapa sering model GaussianNB memprediksi kelas yang benar dari semua prediksi yang dibuat untuk kelas tersebut. Nilai recall menunjukkan seberapa sering model GaussianNB memprediksi kelas yang benar dari semua data yang sebenarnya memiliki kelas tersebut. Nilai f1-score adalah rata-rata harmonik dari presisi dan recall, yang menunjukkan keseimbangan antara keduanya. Nilai dukungan menunjukkan jumlah data yang sebenarnya memiliki kelas tersebut."
      ],
      "metadata": {
        "id": "lhUdDTHFtdJ-"
      }
    }
  ]
}