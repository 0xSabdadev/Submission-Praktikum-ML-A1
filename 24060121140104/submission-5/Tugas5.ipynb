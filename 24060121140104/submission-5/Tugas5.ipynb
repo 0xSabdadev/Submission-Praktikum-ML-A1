{
  "nbformat": 4,
  "nbformat_minor": 0,
  "metadata": {
    "colab": {
      "provenance": [],
      "toc_visible": true
    },
    "kernelspec": {
      "name": "python3",
      "display_name": "Python 3"
    },
    "language_info": {
      "name": "python"
    }
  },
  "cells": [
    {
      "cell_type": "markdown",
      "metadata": {
        "id": "itwa0nxb-H3q"
      },
      "source": [
        "##Principal Component Analysis Dataset Adult/Cencus Income"
      ]
    },
    {
      "cell_type": "markdown",
      "metadata": {
        "id": "z95yJq22-DII"
      },
      "source": [
        "Nama: Divia Shinta Sukarsaatmadja\n",
        "\n",
        "NIM : 24060121140104\n",
        "\n",
        "Lab : ML A1"
      ]
    },
    {
      "cell_type": "markdown",
      "metadata": {
        "id": "gXZwEIIK-UYx"
      },
      "source": [
        "###Deskripsi Dataset"
      ]
    },
    {
      "cell_type": "markdown",
      "metadata": {
        "id": "ssuwz0qg-WmH"
      },
      "source": [
        "Pada tugas praktikum *machine learning* ini, saya memilih dataset \"Adult/Cencus Income\" yang bersumber dari Kaggle.\n",
        "\n",
        "Dataset ini merupakan hasil ekstraksi yang dilakukan oleh Barry Becker dari database Sensus 1994. Satu set catatan yang cukup bersih diekstraksi menggunakan kondisi berikut: ((AAGE>16) && (AGI>100) && (AFNLWGT>1)&& (HRSWK>0)). Dataset ini digunakan untuk membuat prediksi apakah seseorang menghasilkan pendapatan melebihi $50K/tahun berdasarkan data sensus.\n",
        "\n",
        "Informasi detail mengenai dataset ini dapat diakses melalui [tautan berikut.](https://www.kaggle.com/datasets/wenruliu/adult-income-dataset/data)\n"
      ]
    },
    {
      "cell_type": "markdown",
      "metadata": {
        "id": "1JbpeWUFqjPl"
      },
      "source": [
        "###Load Dataset"
      ]
    },
    {
      "cell_type": "code",
      "execution_count": 83,
      "metadata": {
        "id": "IUZDFsY3RbSa"
      },
      "outputs": [],
      "source": [
        "import pandas as pd\n",
        "import matplotlib.pylab as plt\n",
        "from sklearn.preprocessing import StandardScaler\n",
        "from sklearn.decomposition import PCA"
      ]
    },
    {
      "cell_type": "markdown",
      "source": [
        "- pandas digunakan untuk manipulasi data dan analisis.\n",
        "- matplotlib.pylab digunakan untuk membuat plot dan visualisasi data.\n",
        "- StandardScaler dari sklearn.preprocessing digunakan untuk penskalaan fitur dengan menghapus mean dan menskalakan ke varians unit.\n",
        "- PCA dari sklearn.decomposition digunakan untuk mereduksi dimensi data."
      ],
      "metadata": {
        "id": "GSP3gqC1rySM"
      }
    },
    {
      "cell_type": "code",
      "source": [
        "df=pd.read_csv('/content/sample_data/adult/adult.csv')\n",
        "df.head()"
      ],
      "metadata": {
        "colab": {
          "base_uri": "https://localhost:8080/",
          "height": 399
        },
        "id": "REjA7ia3TP03",
        "outputId": "46888463-ff0b-4dd6-a36b-4f2191bed288"
      },
      "execution_count": 84,
      "outputs": [
        {
          "output_type": "execute_result",
          "data": {
            "text/plain": [
              "   age  workclass  fnlwgt     education  educational-num      marital-status  \\\n",
              "0   25    Private  226802          11th                7       Never-married   \n",
              "1   38    Private   89814       HS-grad                9  Married-civ-spouse   \n",
              "2   28  Local-gov  336951    Assoc-acdm               12  Married-civ-spouse   \n",
              "3   44    Private  160323  Some-college               10  Married-civ-spouse   \n",
              "4   18          ?  103497  Some-college               10       Never-married   \n",
              "\n",
              "          occupation relationship   race  gender  capital-gain  capital-loss  \\\n",
              "0  Machine-op-inspct    Own-child  Black    Male             0             0   \n",
              "1    Farming-fishing      Husband  White    Male             0             0   \n",
              "2    Protective-serv      Husband  White    Male             0             0   \n",
              "3  Machine-op-inspct      Husband  Black    Male          7688             0   \n",
              "4                  ?    Own-child  White  Female             0             0   \n",
              "\n",
              "   hours-per-week native-country income  \n",
              "0              40  United-States  <=50K  \n",
              "1              50  United-States  <=50K  \n",
              "2              40  United-States   >50K  \n",
              "3              40  United-States   >50K  \n",
              "4              30  United-States  <=50K  "
            ],
            "text/html": [
              "\n",
              "  <div id=\"df-1a790b96-df9e-4b0d-9ae4-605a0192be14\" class=\"colab-df-container\">\n",
              "    <div>\n",
              "<style scoped>\n",
              "    .dataframe tbody tr th:only-of-type {\n",
              "        vertical-align: middle;\n",
              "    }\n",
              "\n",
              "    .dataframe tbody tr th {\n",
              "        vertical-align: top;\n",
              "    }\n",
              "\n",
              "    .dataframe thead th {\n",
              "        text-align: right;\n",
              "    }\n",
              "</style>\n",
              "<table border=\"1\" class=\"dataframe\">\n",
              "  <thead>\n",
              "    <tr style=\"text-align: right;\">\n",
              "      <th></th>\n",
              "      <th>age</th>\n",
              "      <th>workclass</th>\n",
              "      <th>fnlwgt</th>\n",
              "      <th>education</th>\n",
              "      <th>educational-num</th>\n",
              "      <th>marital-status</th>\n",
              "      <th>occupation</th>\n",
              "      <th>relationship</th>\n",
              "      <th>race</th>\n",
              "      <th>gender</th>\n",
              "      <th>capital-gain</th>\n",
              "      <th>capital-loss</th>\n",
              "      <th>hours-per-week</th>\n",
              "      <th>native-country</th>\n",
              "      <th>income</th>\n",
              "    </tr>\n",
              "  </thead>\n",
              "  <tbody>\n",
              "    <tr>\n",
              "      <th>0</th>\n",
              "      <td>25</td>\n",
              "      <td>Private</td>\n",
              "      <td>226802</td>\n",
              "      <td>11th</td>\n",
              "      <td>7</td>\n",
              "      <td>Never-married</td>\n",
              "      <td>Machine-op-inspct</td>\n",
              "      <td>Own-child</td>\n",
              "      <td>Black</td>\n",
              "      <td>Male</td>\n",
              "      <td>0</td>\n",
              "      <td>0</td>\n",
              "      <td>40</td>\n",
              "      <td>United-States</td>\n",
              "      <td>&lt;=50K</td>\n",
              "    </tr>\n",
              "    <tr>\n",
              "      <th>1</th>\n",
              "      <td>38</td>\n",
              "      <td>Private</td>\n",
              "      <td>89814</td>\n",
              "      <td>HS-grad</td>\n",
              "      <td>9</td>\n",
              "      <td>Married-civ-spouse</td>\n",
              "      <td>Farming-fishing</td>\n",
              "      <td>Husband</td>\n",
              "      <td>White</td>\n",
              "      <td>Male</td>\n",
              "      <td>0</td>\n",
              "      <td>0</td>\n",
              "      <td>50</td>\n",
              "      <td>United-States</td>\n",
              "      <td>&lt;=50K</td>\n",
              "    </tr>\n",
              "    <tr>\n",
              "      <th>2</th>\n",
              "      <td>28</td>\n",
              "      <td>Local-gov</td>\n",
              "      <td>336951</td>\n",
              "      <td>Assoc-acdm</td>\n",
              "      <td>12</td>\n",
              "      <td>Married-civ-spouse</td>\n",
              "      <td>Protective-serv</td>\n",
              "      <td>Husband</td>\n",
              "      <td>White</td>\n",
              "      <td>Male</td>\n",
              "      <td>0</td>\n",
              "      <td>0</td>\n",
              "      <td>40</td>\n",
              "      <td>United-States</td>\n",
              "      <td>&gt;50K</td>\n",
              "    </tr>\n",
              "    <tr>\n",
              "      <th>3</th>\n",
              "      <td>44</td>\n",
              "      <td>Private</td>\n",
              "      <td>160323</td>\n",
              "      <td>Some-college</td>\n",
              "      <td>10</td>\n",
              "      <td>Married-civ-spouse</td>\n",
              "      <td>Machine-op-inspct</td>\n",
              "      <td>Husband</td>\n",
              "      <td>Black</td>\n",
              "      <td>Male</td>\n",
              "      <td>7688</td>\n",
              "      <td>0</td>\n",
              "      <td>40</td>\n",
              "      <td>United-States</td>\n",
              "      <td>&gt;50K</td>\n",
              "    </tr>\n",
              "    <tr>\n",
              "      <th>4</th>\n",
              "      <td>18</td>\n",
              "      <td>?</td>\n",
              "      <td>103497</td>\n",
              "      <td>Some-college</td>\n",
              "      <td>10</td>\n",
              "      <td>Never-married</td>\n",
              "      <td>?</td>\n",
              "      <td>Own-child</td>\n",
              "      <td>White</td>\n",
              "      <td>Female</td>\n",
              "      <td>0</td>\n",
              "      <td>0</td>\n",
              "      <td>30</td>\n",
              "      <td>United-States</td>\n",
              "      <td>&lt;=50K</td>\n",
              "    </tr>\n",
              "  </tbody>\n",
              "</table>\n",
              "</div>\n",
              "    <div class=\"colab-df-buttons\">\n",
              "\n",
              "  <div class=\"colab-df-container\">\n",
              "    <button class=\"colab-df-convert\" onclick=\"convertToInteractive('df-1a790b96-df9e-4b0d-9ae4-605a0192be14')\"\n",
              "            title=\"Convert this dataframe to an interactive table.\"\n",
              "            style=\"display:none;\">\n",
              "\n",
              "  <svg xmlns=\"http://www.w3.org/2000/svg\" height=\"24px\" viewBox=\"0 -960 960 960\">\n",
              "    <path d=\"M120-120v-720h720v720H120Zm60-500h600v-160H180v160Zm220 220h160v-160H400v160Zm0 220h160v-160H400v160ZM180-400h160v-160H180v160Zm440 0h160v-160H620v160ZM180-180h160v-160H180v160Zm440 0h160v-160H620v160Z\"/>\n",
              "  </svg>\n",
              "    </button>\n",
              "\n",
              "  <style>\n",
              "    .colab-df-container {\n",
              "      display:flex;\n",
              "      gap: 12px;\n",
              "    }\n",
              "\n",
              "    .colab-df-convert {\n",
              "      background-color: #E8F0FE;\n",
              "      border: none;\n",
              "      border-radius: 50%;\n",
              "      cursor: pointer;\n",
              "      display: none;\n",
              "      fill: #1967D2;\n",
              "      height: 32px;\n",
              "      padding: 0 0 0 0;\n",
              "      width: 32px;\n",
              "    }\n",
              "\n",
              "    .colab-df-convert:hover {\n",
              "      background-color: #E2EBFA;\n",
              "      box-shadow: 0px 1px 2px rgba(60, 64, 67, 0.3), 0px 1px 3px 1px rgba(60, 64, 67, 0.15);\n",
              "      fill: #174EA6;\n",
              "    }\n",
              "\n",
              "    .colab-df-buttons div {\n",
              "      margin-bottom: 4px;\n",
              "    }\n",
              "\n",
              "    [theme=dark] .colab-df-convert {\n",
              "      background-color: #3B4455;\n",
              "      fill: #D2E3FC;\n",
              "    }\n",
              "\n",
              "    [theme=dark] .colab-df-convert:hover {\n",
              "      background-color: #434B5C;\n",
              "      box-shadow: 0px 1px 3px 1px rgba(0, 0, 0, 0.15);\n",
              "      filter: drop-shadow(0px 1px 2px rgba(0, 0, 0, 0.3));\n",
              "      fill: #FFFFFF;\n",
              "    }\n",
              "  </style>\n",
              "\n",
              "    <script>\n",
              "      const buttonEl =\n",
              "        document.querySelector('#df-1a790b96-df9e-4b0d-9ae4-605a0192be14 button.colab-df-convert');\n",
              "      buttonEl.style.display =\n",
              "        google.colab.kernel.accessAllowed ? 'block' : 'none';\n",
              "\n",
              "      async function convertToInteractive(key) {\n",
              "        const element = document.querySelector('#df-1a790b96-df9e-4b0d-9ae4-605a0192be14');\n",
              "        const dataTable =\n",
              "          await google.colab.kernel.invokeFunction('convertToInteractive',\n",
              "                                                    [key], {});\n",
              "        if (!dataTable) return;\n",
              "\n",
              "        const docLinkHtml = 'Like what you see? Visit the ' +\n",
              "          '<a target=\"_blank\" href=https://colab.research.google.com/notebooks/data_table.ipynb>data table notebook</a>'\n",
              "          + ' to learn more about interactive tables.';\n",
              "        element.innerHTML = '';\n",
              "        dataTable['output_type'] = 'display_data';\n",
              "        await google.colab.output.renderOutput(dataTable, element);\n",
              "        const docLink = document.createElement('div');\n",
              "        docLink.innerHTML = docLinkHtml;\n",
              "        element.appendChild(docLink);\n",
              "      }\n",
              "    </script>\n",
              "  </div>\n",
              "\n",
              "\n",
              "<div id=\"df-e41dc409-b5b6-4570-95c6-0dca7115da52\">\n",
              "  <button class=\"colab-df-quickchart\" onclick=\"quickchart('df-e41dc409-b5b6-4570-95c6-0dca7115da52')\"\n",
              "            title=\"Suggest charts\"\n",
              "            style=\"display:none;\">\n",
              "\n",
              "<svg xmlns=\"http://www.w3.org/2000/svg\" height=\"24px\"viewBox=\"0 0 24 24\"\n",
              "     width=\"24px\">\n",
              "    <g>\n",
              "        <path d=\"M19 3H5c-1.1 0-2 .9-2 2v14c0 1.1.9 2 2 2h14c1.1 0 2-.9 2-2V5c0-1.1-.9-2-2-2zM9 17H7v-7h2v7zm4 0h-2V7h2v10zm4 0h-2v-4h2v4z\"/>\n",
              "    </g>\n",
              "</svg>\n",
              "  </button>\n",
              "\n",
              "<style>\n",
              "  .colab-df-quickchart {\n",
              "      --bg-color: #E8F0FE;\n",
              "      --fill-color: #1967D2;\n",
              "      --hover-bg-color: #E2EBFA;\n",
              "      --hover-fill-color: #174EA6;\n",
              "      --disabled-fill-color: #AAA;\n",
              "      --disabled-bg-color: #DDD;\n",
              "  }\n",
              "\n",
              "  [theme=dark] .colab-df-quickchart {\n",
              "      --bg-color: #3B4455;\n",
              "      --fill-color: #D2E3FC;\n",
              "      --hover-bg-color: #434B5C;\n",
              "      --hover-fill-color: #FFFFFF;\n",
              "      --disabled-bg-color: #3B4455;\n",
              "      --disabled-fill-color: #666;\n",
              "  }\n",
              "\n",
              "  .colab-df-quickchart {\n",
              "    background-color: var(--bg-color);\n",
              "    border: none;\n",
              "    border-radius: 50%;\n",
              "    cursor: pointer;\n",
              "    display: none;\n",
              "    fill: var(--fill-color);\n",
              "    height: 32px;\n",
              "    padding: 0;\n",
              "    width: 32px;\n",
              "  }\n",
              "\n",
              "  .colab-df-quickchart:hover {\n",
              "    background-color: var(--hover-bg-color);\n",
              "    box-shadow: 0 1px 2px rgba(60, 64, 67, 0.3), 0 1px 3px 1px rgba(60, 64, 67, 0.15);\n",
              "    fill: var(--button-hover-fill-color);\n",
              "  }\n",
              "\n",
              "  .colab-df-quickchart-complete:disabled,\n",
              "  .colab-df-quickchart-complete:disabled:hover {\n",
              "    background-color: var(--disabled-bg-color);\n",
              "    fill: var(--disabled-fill-color);\n",
              "    box-shadow: none;\n",
              "  }\n",
              "\n",
              "  .colab-df-spinner {\n",
              "    border: 2px solid var(--fill-color);\n",
              "    border-color: transparent;\n",
              "    border-bottom-color: var(--fill-color);\n",
              "    animation:\n",
              "      spin 1s steps(1) infinite;\n",
              "  }\n",
              "\n",
              "  @keyframes spin {\n",
              "    0% {\n",
              "      border-color: transparent;\n",
              "      border-bottom-color: var(--fill-color);\n",
              "      border-left-color: var(--fill-color);\n",
              "    }\n",
              "    20% {\n",
              "      border-color: transparent;\n",
              "      border-left-color: var(--fill-color);\n",
              "      border-top-color: var(--fill-color);\n",
              "    }\n",
              "    30% {\n",
              "      border-color: transparent;\n",
              "      border-left-color: var(--fill-color);\n",
              "      border-top-color: var(--fill-color);\n",
              "      border-right-color: var(--fill-color);\n",
              "    }\n",
              "    40% {\n",
              "      border-color: transparent;\n",
              "      border-right-color: var(--fill-color);\n",
              "      border-top-color: var(--fill-color);\n",
              "    }\n",
              "    60% {\n",
              "      border-color: transparent;\n",
              "      border-right-color: var(--fill-color);\n",
              "    }\n",
              "    80% {\n",
              "      border-color: transparent;\n",
              "      border-right-color: var(--fill-color);\n",
              "      border-bottom-color: var(--fill-color);\n",
              "    }\n",
              "    90% {\n",
              "      border-color: transparent;\n",
              "      border-bottom-color: var(--fill-color);\n",
              "    }\n",
              "  }\n",
              "</style>\n",
              "\n",
              "  <script>\n",
              "    async function quickchart(key) {\n",
              "      const quickchartButtonEl =\n",
              "        document.querySelector('#' + key + ' button');\n",
              "      quickchartButtonEl.disabled = true;  // To prevent multiple clicks.\n",
              "      quickchartButtonEl.classList.add('colab-df-spinner');\n",
              "      try {\n",
              "        const charts = await google.colab.kernel.invokeFunction(\n",
              "            'suggestCharts', [key], {});\n",
              "      } catch (error) {\n",
              "        console.error('Error during call to suggestCharts:', error);\n",
              "      }\n",
              "      quickchartButtonEl.classList.remove('colab-df-spinner');\n",
              "      quickchartButtonEl.classList.add('colab-df-quickchart-complete');\n",
              "    }\n",
              "    (() => {\n",
              "      let quickchartButtonEl =\n",
              "        document.querySelector('#df-e41dc409-b5b6-4570-95c6-0dca7115da52 button');\n",
              "      quickchartButtonEl.style.display =\n",
              "        google.colab.kernel.accessAllowed ? 'block' : 'none';\n",
              "    })();\n",
              "  </script>\n",
              "</div>\n",
              "    </div>\n",
              "  </div>\n"
            ]
          },
          "metadata": {},
          "execution_count": 84
        }
      ]
    },
    {
      "cell_type": "markdown",
      "source": [
        "- Fungsi pd.read_csv() digunakan untuk membaca file CSV dan mengubahnya menjadi DataFrame pandas.\n",
        "- Metode head() kemudian digunakan untuk menampilkan 5 baris pertama dari DataFrame tersebut."
      ],
      "metadata": {
        "id": "gKXARpPBsQZp"
      }
    },
    {
      "cell_type": "code",
      "source": [
        "df.info()"
      ],
      "metadata": {
        "colab": {
          "base_uri": "https://localhost:8080/"
        },
        "id": "BPnU-Ja5VLX_",
        "outputId": "93512289-112e-4464-e01a-eda80d5d5327"
      },
      "execution_count": 85,
      "outputs": [
        {
          "output_type": "stream",
          "name": "stdout",
          "text": [
            "<class 'pandas.core.frame.DataFrame'>\n",
            "RangeIndex: 48842 entries, 0 to 48841\n",
            "Data columns (total 15 columns):\n",
            " #   Column           Non-Null Count  Dtype \n",
            "---  ------           --------------  ----- \n",
            " 0   age              48842 non-null  int64 \n",
            " 1   workclass        48842 non-null  object\n",
            " 2   fnlwgt           48842 non-null  int64 \n",
            " 3   education        48842 non-null  object\n",
            " 4   educational-num  48842 non-null  int64 \n",
            " 5   marital-status   48842 non-null  object\n",
            " 6   occupation       48842 non-null  object\n",
            " 7   relationship     48842 non-null  object\n",
            " 8   race             48842 non-null  object\n",
            " 9   gender           48842 non-null  object\n",
            " 10  capital-gain     48842 non-null  int64 \n",
            " 11  capital-loss     48842 non-null  int64 \n",
            " 12  hours-per-week   48842 non-null  int64 \n",
            " 13  native-country   48842 non-null  object\n",
            " 14  income           48842 non-null  object\n",
            "dtypes: int64(6), object(9)\n",
            "memory usage: 5.6+ MB\n"
          ]
        }
      ]
    },
    {
      "cell_type": "markdown",
      "source": [
        "- Fungsi df.info() digunakan untuk mendapatkan ringkasan singkat tentang DataFrame."
      ],
      "metadata": {
        "id": "y6XEm47tsmK4"
      }
    },
    {
      "cell_type": "markdown",
      "metadata": {
        "id": "dYODSeO6qlaT"
      },
      "source": [
        "###Standarisasi Data"
      ]
    },
    {
      "cell_type": "code",
      "source": [
        "from sklearn.preprocessing import StandardScaler, OneHotEncoder\n",
        "from sklearn.compose import ColumnTransformer\n",
        "from sklearn.pipeline import Pipeline\n",
        "\n",
        "# Tentukan kolom numerik dan kategorikal\n",
        "numeric_features = ['age', 'fnlwgt', 'educational-num', 'capital-gain', 'capital-loss', 'hours-per-week']\n",
        "categorical_features = ['workclass', 'education', 'marital-status', 'occupation', 'relationship', 'race', 'gender', 'native-country']\n",
        "\n",
        "# Buat pipeline untuk kedua jenis fitur\n",
        "numeric_transformer = Pipeline(steps=[\n",
        "    ('scaler', StandardScaler())])\n",
        "\n",
        "categorical_transformer = Pipeline(steps=[\n",
        "    ('onehot', OneHotEncoder(handle_unknown='ignore'))])\n",
        "\n",
        "# Gabungkan kedua transformer dengan ColumnTransformer\n",
        "preprocessor = ColumnTransformer(\n",
        "    transformers=[\n",
        "        ('num', numeric_transformer, numeric_features),\n",
        "        ('cat', categorical_transformer, categorical_features)])\n",
        "\n",
        "# Sekarang kita bisa fit dan transform data kita\n",
        "x = preprocessor.fit_transform(df)\n",
        "y = df.loc[:, ['income']].values\n"
      ],
      "metadata": {
        "id": "fhC76xtKggtY"
      },
      "execution_count": 86,
      "outputs": []
    },
    {
      "cell_type": "markdown",
      "source": [
        "- Pendefinisian Fitur: mendefinisikan fitur numerik dan kategorikal dari dataset.\n",
        "\n",
        "- Pembuatan Pipeline: membuat dua pipeline, satu untuk fitur numerik dan satu untuk fitur kategorikal. Pipeline fitur numerik menggunakan StandardScaler untuk menskalakan fitur numerik, sedangkan pipeline fitur kategorikal menggunakan OneHotEncoder untuk mengubah fitur kategorikal menjadi representasi numerik.\n",
        "\n",
        "- Penggabungan Transformer: menggabungkan kedua pipeline tersebut dalam ColumnTransformer. Ini akan menerapkan transformasi yang sesuai pada setiap kolom sesuai dengan jenisnya (numerik atau kategorikal).\n",
        "\n",
        "- Transformasi Data: kemudian menggunakan ColumnTransformer untuk mengubah dataset, menghasilkan array x yang berisi fitur yang telah ditransformasi.\n",
        "\n",
        "- Ekstraksi Target: mengekstrak kolom target 'income' dari dataset dan menyimpannya dalam array y."
      ],
      "metadata": {
        "id": "-eZ_VDLJuS3j"
      }
    },
    {
      "cell_type": "markdown",
      "metadata": {
        "id": "Y23s9-_0qo8R"
      },
      "source": [
        "###Proyeksi PCA ke 2D"
      ]
    },
    {
      "cell_type": "code",
      "source": [
        "from sklearn.decomposition import PCA\n",
        "\n",
        "# Ubah matriks sparse menjadi dense\n",
        "x_dense = x.toarray()\n",
        "\n",
        "# Buat objek PCA dengan 2 komponen\n",
        "pca = PCA(n_components=2)\n",
        "\n",
        "# Lakukan proyeksi PCA\n",
        "principalComponents = pca.fit_transform(x_dense)\n",
        "\n",
        "# Ubah ke DataFrame untuk kemudahan visualisasi\n",
        "principalDf = pd.DataFrame(data = principalComponents, columns = ['principal component 1', 'principal component 2'])\n",
        "\n",
        "print(principalDf.head())"
      ],
      "metadata": {
        "colab": {
          "base_uri": "https://localhost:8080/"
        },
        "id": "-nbo7_FWmqJ5",
        "outputId": "c253f99e-3d7e-4e81-a11d-edcdaf08d39c"
      },
      "execution_count": 87,
      "outputs": [
        {
          "output_type": "stream",
          "name": "stdout",
          "text": [
            "   principal component 1  principal component 2\n",
            "0              -1.564280              -0.021758\n",
            "1               0.621012              -0.779591\n",
            "2               0.189242               0.792861\n",
            "3               0.736472              -0.334072\n",
            "4              -1.762881               0.954394\n"
          ]
        }
      ]
    },
    {
      "cell_type": "markdown",
      "source": [
        "Kode diatas mereduksi dimensi data menjadi 2 dimensi menggunakan PCA dan menampilkan 5 baris pertama dari data yang telah ditransformasi.\n",
        "- x_dense = x.toarray(): Mengubah matriks sparse menjadi dense. Ini diperlukan karena PCA tidak dapat bekerja dengan matriks sparse.\n",
        "\n",
        "- pca = PCA(n_components=2): Membuat objek PCA dengan 2 komponen. Ini berarti melakukan reduksi data menjadi 2 dimensi.\n",
        "\n",
        "- principalComponents = pca.fit_transform(x_dense): Melakukan proyeksi PCA pada data. Hasilnya adalah array 2D di mana setiap baris adalah sampel dan setiap kolom adalah komponen utama.\n",
        "\n",
        "- principalDf = pd.DataFrame(data = principalComponents, columns = ['principal component 1', 'principal component 2']): Mengubah array hasil PCA menjadi DataFrame untuk kemudahan visualisasi dan manipulasi data.\n",
        "\n",
        "- print(principalDf.head()): Menampilkan 5 baris pertama dari DataFrame yang telah ditransformasi."
      ],
      "metadata": {
        "id": "wgq3wt3luz8x"
      }
    },
    {
      "cell_type": "code",
      "source": [
        "finalDf = pd.concat([principalDf, df[['income']]], axis=1)"
      ],
      "metadata": {
        "id": "NPaSOfYrpju2"
      },
      "execution_count": 88,
      "outputs": []
    },
    {
      "cell_type": "markdown",
      "source": [
        "Kode diatas menggabungkan DataFrame principalDf (yang berisi komponen utama dari PCA) dengan kolom 'income' dari DataFrame asli df.\n",
        "- Fungsi pd.concat() digunakan untuk menggabungkan DataFrame sepanjang sumbu tertentu (axis=1 berarti menggabungkan sepanjang kolom).\n",
        "- Hasilnya adalah DataFrame baru finalDf yang berisi komponen utama dari PCA dan kolom target 'income'."
      ],
      "metadata": {
        "id": "PZYligI-vyLv"
      }
    },
    {
      "cell_type": "code",
      "source": [
        "fig = plt.figure(figsize = (8,8))\n",
        "ax = fig.add_subplot(1,1,1)\n",
        "ax.set_xlabel('Principal Component 1', fontsize = 15)\n",
        "ax.set_ylabel('Principal Component 2', fontsize = 15)\n",
        "ax.set_title('2 component PCA', fontsize = 20)\n",
        "targets = ['<=50K', '>50K']\n",
        "colors = ['g', 'b']\n",
        "for target, color in zip(targets,colors):\n",
        "  indicesToKeep = finalDf['income'] == target\n",
        "  ax.scatter(finalDf.loc[indicesToKeep, 'principal component 1']\n",
        "             , finalDf.loc[indicesToKeep, 'principal component 2']\n",
        "             , c = color\n",
        "             , s = 50)\n",
        "ax.legend(targets)\n",
        "ax.grid()"
      ],
      "metadata": {
        "colab": {
          "base_uri": "https://localhost:8080/",
          "height": 732
        },
        "id": "JJDY9A30poLF",
        "outputId": "4b74f3f7-46e7-43f9-9787-756712beaa28"
      },
      "execution_count": 89,
      "outputs": [
        {
          "output_type": "display_data",
          "data": {
            "text/plain": [
              "<Figure size 800x800 with 1 Axes>"
            ],
            "image/png": "[encoded data removed]"
          },
          "metadata": {}
        }
      ]
    },
    {
      "cell_type": "markdown",
      "source": [
        "Kode diatas digunakan untuk membuat plot scatter dari dua komponen utama PCA dengan warna yang berbeda untuk setiap kategori target.\n",
        "\n",
        "- fig = plt.figure(figsize = (8,8)) dan ax = fig.add_subplot(1,1,1): Membuat figure dan axes untuk plot.\n",
        "\n",
        "- ax.set_xlabel('Principal Component 1', fontsize = 15) dan ax.set_ylabel('Principal Component 2', fontsize = 15): Menetapkan label untuk sumbu x dan y.\n",
        "\n",
        "- ax.set_title('2 component PCA', fontsize = 20): Menetapkan judul untuk plot.\n",
        "\n",
        "- targets = ['<=50K', '>50K'] dan colors = ['g', 'b']: Menentukan target dan warna untuk setiap kategori dalam data.\n",
        "\n",
        "- Loop for target, color in zip(targets,colors): Untuk setiap target dan warna, plot data yang sesuai pada plot.\n",
        "\n",
        "- ax.legend(targets) dan ax.grid(): Menambahkan legenda dan grid ke plot."
      ],
      "metadata": {
        "id": "dwq1MSYPwhxV"
      }
    },
    {
      "cell_type": "markdown",
      "metadata": {
        "id": "FL_DNng7qt64"
      },
      "source": [
        "###Varians yang Dijelaskan"
      ]
    },
    {
      "cell_type": "code",
      "source": [
        "pca.explained_variance_ratio_"
      ],
      "metadata": {
        "colab": {
          "base_uri": "https://localhost:8080/"
        },
        "id": "8ThhjH-1que2",
        "outputId": "cc766ac2-f8cf-4ee3-9184-d341dc8688ba"
      },
      "execution_count": 90,
      "outputs": [
        {
          "output_type": "execute_result",
          "data": {
            "text/plain": [
              "array([0.14848178, 0.1080561 ])"
            ]
          },
          "metadata": {},
          "execution_count": 90
        }
      ]
    },
    {
      "cell_type": "markdown",
      "source": [
        "- pca.explained_variance_ratio_ mengembalikan array yang berisi persentase varians yang dijelaskan oleh masing-masing komponen utama yang dipilih dalam PCA. Nilai ini menunjukkan seberapa banyak informasi atau varians dalam data asli yang dapat dijelaskan oleh setiap komponen utama.\n",
        "- Berdasarkan output diatas, komponen utama pertama menjelaskan sekitar 14.8% varians dalam data, dan komponen utama kedua menjelaskan sekitar 10.8% varians. Jadi, kedua komponen utama ini bersama-sama menjelaskan sekitar 25.6% varians total dalam data.\n"
      ],
      "metadata": {
        "id": "6Lw8hLEZxQzu"
      }
    },
    {
      "cell_type": "markdown",
      "metadata": {
        "id": "pHFG99PRyCk_"
      },
      "source": [
        "###Kesimpulan"
      ]
    },
    {
      "cell_type": "markdown",
      "source": [
        "Berdasarkan tugas ini, saya telah melakukan beberapa langkah penting dalam analisis data menggunakan Principal Component Analysis (PCA):\n",
        "\n",
        "1. **Pra-pemrosesan Data**: melakukan pra-pemrosesan data dengan mengubah fitur kategorikal menjadi numerik menggunakan OneHotEncoder dan menskalakan fitur numerik menggunakan StandardScaler.\n",
        "\n",
        "2. **Implementasi PCA**: mereduksi dimensi data menjadi 2 dimensi menggunakan PCA. Ini dilakukan dengan mengubah matriks sparse menjadi dense dan kemudian menerapkan PCA.\n",
        "\n",
        "3. **Visualisasi Hasil PCA**: membuat plot scatter dari dua komponen utama PCA, dengan warna yang berbeda untuk setiap kategori target.\n",
        "\n",
        "4. **Evaluasi Hasil PCA**: mengevaluasi hasil PCA dengan melihat varians yang dijelaskan oleh masing-masing komponen utama. Dalam hal ini, komponen utama pertama menjelaskan sekitar 14.8% varians dalam data, dan komponen utama kedua menjelaskan sekitar 10.8% varians.\n"
      ],
      "metadata": {
        "id": "ZowS3JOayEaA"
      }
    }
  ]
}