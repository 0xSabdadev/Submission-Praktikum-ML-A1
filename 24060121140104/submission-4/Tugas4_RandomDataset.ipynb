{
  "nbformat": 4,
  "nbformat_minor": 0,
  "metadata": {
    "colab": {
      "provenance": [],
      "toc_visible": true
    },
    "kernelspec": {
      "name": "python3",
      "display_name": "Python 3"
    },
    "language_info": {
      "name": "python"
    }
  },
  "cells": [
    {
      "cell_type": "markdown",
      "source": [
        "##Agglomerative Clustering pada Dataset Random"
      ],
      "metadata": {
        "id": "CIVd3BOuMr-c"
      }
    },
    {
      "cell_type": "markdown",
      "source": [
        "Nama: Divia Shinta Sukarsaatmadja\n",
        "\n",
        "NIM : 24060121140104\n",
        "\n",
        "Lab : ML A1"
      ],
      "metadata": {
        "id": "hvtd3-pmIphJ"
      }
    },
    {
      "cell_type": "markdown",
      "source": [
        "###Import Libraries"
      ],
      "metadata": {
        "id": "jQLlqLbhNDgF"
      }
    },
    {
      "cell_type": "code",
      "execution_count": null,
      "metadata": {
        "id": "hex2X0YUH5UQ"
      },
      "outputs": [],
      "source": [
        "# Import Library yang dibutuhkan\n",
        "import numpy as np\n",
        "import pandas as pd\n",
        "from matplotlib import pyplot as plt\n",
        "%matplotlib inline\n",
        "\n",
        "# Import Library yang dibutuhkan untuk proses Agglomerative Clustering\n",
        "import scipy\n",
        "from scipy import ndimage\n",
        "from scipy.cluster import hierarchy\n",
        "from scipy.spatial import distance_matrix\n",
        "\n",
        "from sklearn import manifold, datasets\n",
        "from sklearn.cluster import AgglomerativeClustering\n",
        "from sklearn.datasets import make_blobs"
      ]
    },
    {
      "cell_type": "markdown",
      "source": [
        "Kode tersebut melakukan impor library yang dibutuhkan untuk melakukan Agglomerative Clustering. Ini termasuk pengolahan data menggunakan NumPy dan Pandas, visualisasi dengan Matplotlib, serta penggunaan fungsi-fungsi clustering dari SciPy dan scikit-learn."
      ],
      "metadata": {
        "id": "MnvOoOAvPg7x"
      }
    },
    {
      "cell_type": "markdown",
      "source": [
        "###Generate Random Data"
      ],
      "metadata": {
        "id": "YAms4Nn-Nbi7"
      }
    },
    {
      "cell_type": "code",
      "source": [
        "# Generate Random Data\n",
        "X1, y1 = make_blobs(n_samples=50, centers=[[4,4], [-2,-1], [1,1], [10,4]], cluster_std=0.9)"
      ],
      "metadata": {
        "id": "AyJFuKxJNgdk"
      },
      "execution_count": null,
      "outputs": []
    },
    {
      "cell_type": "markdown",
      "source": [
        "Pada bagian ini, kode menghasilkan data acak menggunakan fungsi `make_blobs` dari scikit-learn. Data ini terdiri dari empat kelompok (clusters) dengan sejumlah sampel yang ditentukan, masing-masing terpusat di koordinat yang telah ditentukan, dan standar deviasi cluster diatur dengan parameter `cluster_std`."
      ],
      "metadata": {
        "id": "O_3S0-pbPxM4"
      }
    },
    {
      "cell_type": "code",
      "source": [
        "# Menampilkan dimensi generate data\n",
        "X1.shape"
      ],
      "metadata": {
        "colab": {
          "base_uri": "https://localhost:8080/"
        },
        "id": "2IXaVBSPNi9z",
        "outputId": "52644c47-bd43-408a-9191-63785212bb48"
      },
      "execution_count": null,
      "outputs": [
        {
          "output_type": "execute_result",
          "data": {
            "text/plain": [
              "(50, 2)"
            ]
          },
          "metadata": {},
          "execution_count": 35
        }
      ]
    },
    {
      "cell_type": "markdown",
      "source": [
        "Code tersebut digunakan untuk menampilkan dimensi dari data yang telah dihasilkan sebelumnya. Jika `X1.shape` menghasilkan output `(50, 2)`, itu berarti dataset memiliki 50 sampel (baris) dan 2 fitur (kolom)."
      ],
      "metadata": {
        "id": "YnehLV3GP-3y"
      }
    },
    {
      "cell_type": "markdown",
      "source": [
        "###Plotting Random Data"
      ],
      "metadata": {
        "id": "SNv4e1KiNu0y"
      }
    },
    {
      "cell_type": "code",
      "source": [
        "# Plotting Random Data\n",
        "plt.scatter(X1[:, 0], X1[:, 1], marker='o')"
      ],
      "metadata": {
        "colab": {
          "base_uri": "https://localhost:8080/",
          "height": 447
        },
        "id": "wcdLzLeuNyE5",
        "outputId": "58502ba5-7153-41bf-efc9-fd8d735e7eea"
      },
      "execution_count": null,
      "outputs": [
        {
          "output_type": "execute_result",
          "data": {
            "text/plain": [
              "<matplotlib.collections.PathCollection at 0x788f37df3a00>"
            ]
          },
          "metadata": {},
          "execution_count": 36
        },
        {
          "output_type": "display_data",
          "data": {
            "text/plain": [
              "<Figure size 640x480 with 1 Axes>"
            ],
            "image/png": "[encoded data removed]"
          },
          "metadata": {}
        }
      ]
    },
    {
      "cell_type": "markdown",
      "source": [
        "Code di atas digunakan untuk membuat scatter plot dari data yang telah di-generate sebelumnya. Pada scatter plot tersebut, sumbu x dan y akan merepresentasikan dua fitur dari dataset."
      ],
      "metadata": {
        "id": "GV7mFDNNQQCo"
      }
    },
    {
      "cell_type": "markdown",
      "source": [
        "###Agglomerative Clustering"
      ],
      "metadata": {
        "id": "x2AxvEdDN4TB"
      }
    },
    {
      "cell_type": "code",
      "source": [
        "# Inisialisasi objek AgglomerativeClustering\n",
        "agglom = AgglomerativeClustering(n_clusters = 4, linkage = 'single')\n",
        "\n",
        "# Melatih model pengelompokan pada dataset\n",
        "agglom.fit(X1,y1)"
      ],
      "metadata": {
        "colab": {
          "base_uri": "https://localhost:8080/",
          "height": 74
        },
        "id": "NLHVzL_JN6aR",
        "outputId": "ebd35b73-f4be-49f2-e6e1-054b6030d1b4"
      },
      "execution_count": null,
      "outputs": [
        {
          "output_type": "execute_result",
          "data": {
            "text/plain": [
              "AgglomerativeClustering(linkage='single', n_clusters=4)"
            ],
            "text/html": [
              "<style>#sk-container-id-7 {color: black;background-color: white;}#sk-container-id-7 pre{padding: 0;}#sk-container-id-7 div.sk-toggleable {background-color: white;}#sk-container-id-7 label.sk-toggleable__label {cursor: pointer;display: block;width: 100%;margin-bottom: 0;padding: 0.3em;box-sizing: border-box;text-align: center;}#sk-container-id-7 label.sk-toggleable__label-arrow:before {content: \"▸\";float: left;margin-right: 0.25em;color: #696969;}#sk-container-id-7 label.sk-toggleable__label-arrow:hover:before {color: black;}#sk-container-id-7 div.sk-estimator:hover label.sk-toggleable__label-arrow:before {color: black;}#sk-container-id-7 div.sk-toggleable__content {max-height: 0;max-width: 0;overflow: hidden;text-align: left;background-color: #f0f8ff;}#sk-container-id-7 div.sk-toggleable__content pre {margin: 0.2em;color: black;border-radius: 0.25em;background-color: #f0f8ff;}#sk-container-id-7 input.sk-toggleable__control:checked~div.sk-toggleable__content {max-height: 200px;max-width: 100%;overflow: auto;}#sk-container-id-7 input.sk-toggleable__control:checked~label.sk-toggleable__label-arrow:before {content: \"▾\";}#sk-container-id-7 div.sk-estimator input.sk-toggleable__control:checked~label.sk-toggleable__label {background-color: #d4ebff;}#sk-container-id-7 div.sk-label input.sk-toggleable__control:checked~label.sk-toggleable__label {background-color: #d4ebff;}#sk-container-id-7 input.sk-hidden--visually {border: 0;clip: rect(1px 1px 1px 1px);clip: rect(1px, 1px, 1px, 1px);height: 1px;margin: -1px;overflow: hidden;padding: 0;position: absolute;width: 1px;}#sk-container-id-7 div.sk-estimator {font-family: monospace;background-color: #f0f8ff;border: 1px dotted black;border-radius: 0.25em;box-sizing: border-box;margin-bottom: 0.5em;}#sk-container-id-7 div.sk-estimator:hover {background-color: #d4ebff;}#sk-container-id-7 div.sk-parallel-item::after {content: \"\";width: 100%;border-bottom: 1px solid gray;flex-grow: 1;}#sk-container-id-7 div.sk-label:hover label.sk-toggleable__label {background-color: #d4ebff;}#sk-container-id-7 div.sk-serial::before {content: \"\";position: absolute;border-left: 1px solid gray;box-sizing: border-box;top: 0;bottom: 0;left: 50%;z-index: 0;}#sk-container-id-7 div.sk-serial {display: flex;flex-direction: column;align-items: center;background-color: white;padding-right: 0.2em;padding-left: 0.2em;position: relative;}#sk-container-id-7 div.sk-item {position: relative;z-index: 1;}#sk-container-id-7 div.sk-parallel {display: flex;align-items: stretch;justify-content: center;background-color: white;position: relative;}#sk-container-id-7 div.sk-item::before, #sk-container-id-7 div.sk-parallel-item::before {content: \"\";position: absolute;border-left: 1px solid gray;box-sizing: border-box;top: 0;bottom: 0;left: 50%;z-index: -1;}#sk-container-id-7 div.sk-parallel-item {display: flex;flex-direction: column;z-index: 1;position: relative;background-color: white;}#sk-container-id-7 div.sk-parallel-item:first-child::after {align-self: flex-end;width: 50%;}#sk-container-id-7 div.sk-parallel-item:last-child::after {align-self: flex-start;width: 50%;}#sk-container-id-7 div.sk-parallel-item:only-child::after {width: 0;}#sk-container-id-7 div.sk-dashed-wrapped {border: 1px dashed gray;margin: 0 0.4em 0.5em 0.4em;box-sizing: border-box;padding-bottom: 0.4em;background-color: white;}#sk-container-id-7 div.sk-label label {font-family: monospace;font-weight: bold;display: inline-block;line-height: 1.2em;}#sk-container-id-7 div.sk-label-container {text-align: center;}#sk-container-id-7 div.sk-container {/* jupyter's `normalize.less` sets `[hidden] { display: none; }` but bootstrap.min.css set `[hidden] { display: none !important; }` so we also need the `!important` here to be able to override the default hidden behavior on the sphinx rendered scikit-learn.org. See: https://github.com/scikit-learn/scikit-learn/issues/21755 */display: inline-block !important;position: relative;}#sk-container-id-7 div.sk-text-repr-fallback {display: none;}</style><div id=\"sk-container-id-7\" class=\"sk-top-container\"><div class=\"sk-text-repr-fallback\"><pre>AgglomerativeClustering(linkage=&#x27;single&#x27;, n_clusters=4)</pre><b>In a Jupyter environment, please rerun this cell to show the HTML representation or trust the notebook. <br />On GitHub, the HTML representation is unable to render, please try loading this page with nbviewer.org.</b></div><div class=\"sk-container\" hidden><div class=\"sk-item\"><div class=\"sk-estimator sk-toggleable\"><input class=\"sk-toggleable__control sk-hidden--visually\" id=\"sk-estimator-id-7\" type=\"checkbox\" checked><label for=\"sk-estimator-id-7\" class=\"sk-toggleable__label sk-toggleable__label-arrow\">AgglomerativeClustering</label><div class=\"sk-toggleable__content\"><pre>AgglomerativeClustering(linkage=&#x27;single&#x27;, n_clusters=4)</pre></div></div></div></div></div>"
            ]
          },
          "metadata": {},
          "execution_count": 37
        }
      ]
    },
    {
      "cell_type": "markdown",
      "source": [
        "Kode di atas menginisialisasi objek AgglomerativeClustering dengan memilih metode linkage 'single' dan jumlah klaster (n_clusters) sebanyak 4. Selanjutnya, model tersebut dilatih pada dataset menggunakan metode `fit`."
      ],
      "metadata": {
        "id": "DwJvYG4UQZ9g"
      }
    },
    {
      "cell_type": "code",
      "source": [
        "# Membuat figure dengan ukuran 6, 4\n",
        "plt.figure(figsize=(6,4))\n",
        "\n",
        "# Membuat minimum dan maximum range dari X1.\n",
        "x_min, x_max = np.min(X1, axis=0), np.max(X1, axis=0)\n",
        "\n",
        "# Mencari rata-rata dari jarak X1.\n",
        "X1 = (X1 - x_min) / (x_max - x_min)\n",
        "\n",
        "# Looping untuk mendisplay semua datapoints.\n",
        "for i in range(X1.shape[0]) :\n",
        "  plt.text(X1[i, 0], X1[i, 1], str(y1[i]),\n",
        "    color=plt.cm.nipy_spectral(agglom.labels_[i] / 10.),\n",
        "    fontdict={'weight' : 'bold', 'size' : 9})\n",
        "\n",
        "# Hapus x ticks, y ticks, x dan y axis (garis koordinat)\n",
        "plt.xticks([])\n",
        "plt.yticks([])\n",
        "\n",
        "# Menampilkan plot dari data asli sebelum dicluster\n",
        "plt.scatter(X1[:, 0], X1[:, 1], marker='.')\n",
        "# Menampilkan plot\n",
        "plt.show()"
      ],
      "metadata": {
        "colab": {
          "base_uri": "https://localhost:8080/",
          "height": 345
        },
        "id": "sH_Lwxh8N_hz",
        "outputId": "72726104-d83a-430b-9c02-884a1044fea1"
      },
      "execution_count": null,
      "outputs": [
        {
          "output_type": "display_data",
          "data": {
            "text/plain": [
              "<Figure size 600x400 with 1 Axes>"
            ],
            "image/png": "[encoded data removed]"
          },
          "metadata": {}
        }
      ]
    },
    {
      "cell_type": "markdown",
      "source": [
        "Code tersebut membuat visualisasi dari hasil Agglomerative Clustering dengan single linkage pada dataset. Dimensi data dinormalisasi, lalu setiap datapoint ditandai dengan label klasternya, dan akhirnya ditampilkan dalam scatter plot. Tujuannya adalah untuk memberikan gambaran visual tentang pengelompokan data setelah proses clustering."
      ],
      "metadata": {
        "id": "2E3n9C3hQmqB"
      }
    },
    {
      "cell_type": "code",
      "source": [
        "# Inisialisasi objek AgglomerativeClustering\n",
        "agglom = AgglomerativeClustering(n_clusters = 4, linkage = 'average')\n",
        "\n",
        "# Melatih model pengelompokan pada dataset\n",
        "agglom.fit(X1,y1)"
      ],
      "metadata": {
        "colab": {
          "base_uri": "https://localhost:8080/",
          "height": 74
        },
        "id": "1nwLl-_8f6ts",
        "outputId": "615c74af-344c-4f1e-e14f-0b55874317a2"
      },
      "execution_count": null,
      "outputs": [
        {
          "output_type": "execute_result",
          "data": {
            "text/plain": [
              "AgglomerativeClustering(linkage='average', n_clusters=4)"
            ],
            "text/html": [
              "<style>#sk-container-id-8 {color: black;background-color: white;}#sk-container-id-8 pre{padding: 0;}#sk-container-id-8 div.sk-toggleable {background-color: white;}#sk-container-id-8 label.sk-toggleable__label {cursor: pointer;display: block;width: 100%;margin-bottom: 0;padding: 0.3em;box-sizing: border-box;text-align: center;}#sk-container-id-8 label.sk-toggleable__label-arrow:before {content: \"▸\";float: left;margin-right: 0.25em;color: #696969;}#sk-container-id-8 label.sk-toggleable__label-arrow:hover:before {color: black;}#sk-container-id-8 div.sk-estimator:hover label.sk-toggleable__label-arrow:before {color: black;}#sk-container-id-8 div.sk-toggleable__content {max-height: 0;max-width: 0;overflow: hidden;text-align: left;background-color: #f0f8ff;}#sk-container-id-8 div.sk-toggleable__content pre {margin: 0.2em;color: black;border-radius: 0.25em;background-color: #f0f8ff;}#sk-container-id-8 input.sk-toggleable__control:checked~div.sk-toggleable__content {max-height: 200px;max-width: 100%;overflow: auto;}#sk-container-id-8 input.sk-toggleable__control:checked~label.sk-toggleable__label-arrow:before {content: \"▾\";}#sk-container-id-8 div.sk-estimator input.sk-toggleable__control:checked~label.sk-toggleable__label {background-color: #d4ebff;}#sk-container-id-8 div.sk-label input.sk-toggleable__control:checked~label.sk-toggleable__label {background-color: #d4ebff;}#sk-container-id-8 input.sk-hidden--visually {border: 0;clip: rect(1px 1px 1px 1px);clip: rect(1px, 1px, 1px, 1px);height: 1px;margin: -1px;overflow: hidden;padding: 0;position: absolute;width: 1px;}#sk-container-id-8 div.sk-estimator {font-family: monospace;background-color: #f0f8ff;border: 1px dotted black;border-radius: 0.25em;box-sizing: border-box;margin-bottom: 0.5em;}#sk-container-id-8 div.sk-estimator:hover {background-color: #d4ebff;}#sk-container-id-8 div.sk-parallel-item::after {content: \"\";width: 100%;border-bottom: 1px solid gray;flex-grow: 1;}#sk-container-id-8 div.sk-label:hover label.sk-toggleable__label {background-color: #d4ebff;}#sk-container-id-8 div.sk-serial::before {content: \"\";position: absolute;border-left: 1px solid gray;box-sizing: border-box;top: 0;bottom: 0;left: 50%;z-index: 0;}#sk-container-id-8 div.sk-serial {display: flex;flex-direction: column;align-items: center;background-color: white;padding-right: 0.2em;padding-left: 0.2em;position: relative;}#sk-container-id-8 div.sk-item {position: relative;z-index: 1;}#sk-container-id-8 div.sk-parallel {display: flex;align-items: stretch;justify-content: center;background-color: white;position: relative;}#sk-container-id-8 div.sk-item::before, #sk-container-id-8 div.sk-parallel-item::before {content: \"\";position: absolute;border-left: 1px solid gray;box-sizing: border-box;top: 0;bottom: 0;left: 50%;z-index: -1;}#sk-container-id-8 div.sk-parallel-item {display: flex;flex-direction: column;z-index: 1;position: relative;background-color: white;}#sk-container-id-8 div.sk-parallel-item:first-child::after {align-self: flex-end;width: 50%;}#sk-container-id-8 div.sk-parallel-item:last-child::after {align-self: flex-start;width: 50%;}#sk-container-id-8 div.sk-parallel-item:only-child::after {width: 0;}#sk-container-id-8 div.sk-dashed-wrapped {border: 1px dashed gray;margin: 0 0.4em 0.5em 0.4em;box-sizing: border-box;padding-bottom: 0.4em;background-color: white;}#sk-container-id-8 div.sk-label label {font-family: monospace;font-weight: bold;display: inline-block;line-height: 1.2em;}#sk-container-id-8 div.sk-label-container {text-align: center;}#sk-container-id-8 div.sk-container {/* jupyter's `normalize.less` sets `[hidden] { display: none; }` but bootstrap.min.css set `[hidden] { display: none !important; }` so we also need the `!important` here to be able to override the default hidden behavior on the sphinx rendered scikit-learn.org. See: https://github.com/scikit-learn/scikit-learn/issues/21755 */display: inline-block !important;position: relative;}#sk-container-id-8 div.sk-text-repr-fallback {display: none;}</style><div id=\"sk-container-id-8\" class=\"sk-top-container\"><div class=\"sk-text-repr-fallback\"><pre>AgglomerativeClustering(linkage=&#x27;average&#x27;, n_clusters=4)</pre><b>In a Jupyter environment, please rerun this cell to show the HTML representation or trust the notebook. <br />On GitHub, the HTML representation is unable to render, please try loading this page with nbviewer.org.</b></div><div class=\"sk-container\" hidden><div class=\"sk-item\"><div class=\"sk-estimator sk-toggleable\"><input class=\"sk-toggleable__control sk-hidden--visually\" id=\"sk-estimator-id-8\" type=\"checkbox\" checked><label for=\"sk-estimator-id-8\" class=\"sk-toggleable__label sk-toggleable__label-arrow\">AgglomerativeClustering</label><div class=\"sk-toggleable__content\"><pre>AgglomerativeClustering(linkage=&#x27;average&#x27;, n_clusters=4)</pre></div></div></div></div></div>"
            ]
          },
          "metadata": {},
          "execution_count": 39
        }
      ]
    },
    {
      "cell_type": "markdown",
      "source": [
        "Kode di atas menginisialisasi objek AgglomerativeClustering dengan memilih metode linkage 'average' dan jumlah klaster (n_clusters) sebanyak 4. Selanjutnya, model tersebut dilatih pada dataset menggunakan metode `fit`."
      ],
      "metadata": {
        "id": "TsnhzuFeisOZ"
      }
    },
    {
      "cell_type": "code",
      "source": [
        "# Membuat figure dengan ukuran 6, 4\n",
        "plt.figure(figsize=(6,4))\n",
        "\n",
        "# Membuat minimum dan maximum range dari X1.\n",
        "x_min, x_max = np.min(X1, axis=0), np.max(X1, axis=0)\n",
        "\n",
        "# Mencari rata-rata dari jarak X1.\n",
        "X1 = (X1 - x_min) / (x_max - x_min)\n",
        "\n",
        "# Looping untuk mendisplay semua datapoints.\n",
        "for i in range(X1.shape[0]) :\n",
        "  plt.text(X1[i, 0], X1[i, 1], str(y1[i]),\n",
        "    color=plt.cm.nipy_spectral(agglom.labels_[i] / 10.),\n",
        "    fontdict={'weight' : 'bold', 'size' : 9})\n",
        "\n",
        "# Hapus x ticks, y ticks, x dan y axis (garis koordinat)\n",
        "plt.xticks([])\n",
        "plt.yticks([])\n",
        "\n",
        "# Menampilkan plot dari data asli sebelum dicluster\n",
        "plt.scatter(X1[:, 0], X1[:, 1], marker='.')\n",
        "# Menampilkan plot\n",
        "plt.show()"
      ],
      "metadata": {
        "colab": {
          "base_uri": "https://localhost:8080/",
          "height": 345
        },
        "id": "fMctykytgBEt",
        "outputId": "2687aebe-8c91-40f7-f8c2-1cd37ed4bc2b"
      },
      "execution_count": null,
      "outputs": [
        {
          "output_type": "display_data",
          "data": {
            "text/plain": [
              "<Figure size 600x400 with 1 Axes>"
            ],
            "image/png": "[encoded data removed]"
          },
          "metadata": {}
        }
      ]
    },
    {
      "cell_type": "markdown",
      "source": [
        "Code tersebut membuat visualisasi dari hasil Agglomerative Clustering dengan average linkage pada dataset. Dimensi data dinormalisasi, lalu setiap datapoint ditandai dengan label klasternya, dan akhirnya ditampilkan dalam scatter plot. Tujuannya adalah untuk memberikan gambaran visual tentang pengelompokan data setelah proses clustering."
      ],
      "metadata": {
        "id": "sNVWYRMLjhnJ"
      }
    },
    {
      "cell_type": "code",
      "source": [
        "# Inisialisasi objek AgglomerativeClustering\n",
        "agglom = AgglomerativeClustering(n_clusters = 4, linkage = 'complete')\n",
        "\n",
        "# Melatih model pengelompokan pada dataset\n",
        "agglom.fit(X1,y1)"
      ],
      "metadata": {
        "colab": {
          "base_uri": "https://localhost:8080/",
          "height": 74
        },
        "id": "FXjzmgQ0gLP4",
        "outputId": "bd542400-9b6f-4e37-bb0a-95f4dfabc89c"
      },
      "execution_count": null,
      "outputs": [
        {
          "output_type": "execute_result",
          "data": {
            "text/plain": [
              "AgglomerativeClustering(linkage='complete', n_clusters=4)"
            ],
            "text/html": [
              "<style>#sk-container-id-9 {color: black;background-color: white;}#sk-container-id-9 pre{padding: 0;}#sk-container-id-9 div.sk-toggleable {background-color: white;}#sk-container-id-9 label.sk-toggleable__label {cursor: pointer;display: block;width: 100%;margin-bottom: 0;padding: 0.3em;box-sizing: border-box;text-align: center;}#sk-container-id-9 label.sk-toggleable__label-arrow:before {content: \"▸\";float: left;margin-right: 0.25em;color: #696969;}#sk-container-id-9 label.sk-toggleable__label-arrow:hover:before {color: black;}#sk-container-id-9 div.sk-estimator:hover label.sk-toggleable__label-arrow:before {color: black;}#sk-container-id-9 div.sk-toggleable__content {max-height: 0;max-width: 0;overflow: hidden;text-align: left;background-color: #f0f8ff;}#sk-container-id-9 div.sk-toggleable__content pre {margin: 0.2em;color: black;border-radius: 0.25em;background-color: #f0f8ff;}#sk-container-id-9 input.sk-toggleable__control:checked~div.sk-toggleable__content {max-height: 200px;max-width: 100%;overflow: auto;}#sk-container-id-9 input.sk-toggleable__control:checked~label.sk-toggleable__label-arrow:before {content: \"▾\";}#sk-container-id-9 div.sk-estimator input.sk-toggleable__control:checked~label.sk-toggleable__label {background-color: #d4ebff;}#sk-container-id-9 div.sk-label input.sk-toggleable__control:checked~label.sk-toggleable__label {background-color: #d4ebff;}#sk-container-id-9 input.sk-hidden--visually {border: 0;clip: rect(1px 1px 1px 1px);clip: rect(1px, 1px, 1px, 1px);height: 1px;margin: -1px;overflow: hidden;padding: 0;position: absolute;width: 1px;}#sk-container-id-9 div.sk-estimator {font-family: monospace;background-color: #f0f8ff;border: 1px dotted black;border-radius: 0.25em;box-sizing: border-box;margin-bottom: 0.5em;}#sk-container-id-9 div.sk-estimator:hover {background-color: #d4ebff;}#sk-container-id-9 div.sk-parallel-item::after {content: \"\";width: 100%;border-bottom: 1px solid gray;flex-grow: 1;}#sk-container-id-9 div.sk-label:hover label.sk-toggleable__label {background-color: #d4ebff;}#sk-container-id-9 div.sk-serial::before {content: \"\";position: absolute;border-left: 1px solid gray;box-sizing: border-box;top: 0;bottom: 0;left: 50%;z-index: 0;}#sk-container-id-9 div.sk-serial {display: flex;flex-direction: column;align-items: center;background-color: white;padding-right: 0.2em;padding-left: 0.2em;position: relative;}#sk-container-id-9 div.sk-item {position: relative;z-index: 1;}#sk-container-id-9 div.sk-parallel {display: flex;align-items: stretch;justify-content: center;background-color: white;position: relative;}#sk-container-id-9 div.sk-item::before, #sk-container-id-9 div.sk-parallel-item::before {content: \"\";position: absolute;border-left: 1px solid gray;box-sizing: border-box;top: 0;bottom: 0;left: 50%;z-index: -1;}#sk-container-id-9 div.sk-parallel-item {display: flex;flex-direction: column;z-index: 1;position: relative;background-color: white;}#sk-container-id-9 div.sk-parallel-item:first-child::after {align-self: flex-end;width: 50%;}#sk-container-id-9 div.sk-parallel-item:last-child::after {align-self: flex-start;width: 50%;}#sk-container-id-9 div.sk-parallel-item:only-child::after {width: 0;}#sk-container-id-9 div.sk-dashed-wrapped {border: 1px dashed gray;margin: 0 0.4em 0.5em 0.4em;box-sizing: border-box;padding-bottom: 0.4em;background-color: white;}#sk-container-id-9 div.sk-label label {font-family: monospace;font-weight: bold;display: inline-block;line-height: 1.2em;}#sk-container-id-9 div.sk-label-container {text-align: center;}#sk-container-id-9 div.sk-container {/* jupyter's `normalize.less` sets `[hidden] { display: none; }` but bootstrap.min.css set `[hidden] { display: none !important; }` so we also need the `!important` here to be able to override the default hidden behavior on the sphinx rendered scikit-learn.org. See: https://github.com/scikit-learn/scikit-learn/issues/21755 */display: inline-block !important;position: relative;}#sk-container-id-9 div.sk-text-repr-fallback {display: none;}</style><div id=\"sk-container-id-9\" class=\"sk-top-container\"><div class=\"sk-text-repr-fallback\"><pre>AgglomerativeClustering(linkage=&#x27;complete&#x27;, n_clusters=4)</pre><b>In a Jupyter environment, please rerun this cell to show the HTML representation or trust the notebook. <br />On GitHub, the HTML representation is unable to render, please try loading this page with nbviewer.org.</b></div><div class=\"sk-container\" hidden><div class=\"sk-item\"><div class=\"sk-estimator sk-toggleable\"><input class=\"sk-toggleable__control sk-hidden--visually\" id=\"sk-estimator-id-9\" type=\"checkbox\" checked><label for=\"sk-estimator-id-9\" class=\"sk-toggleable__label sk-toggleable__label-arrow\">AgglomerativeClustering</label><div class=\"sk-toggleable__content\"><pre>AgglomerativeClustering(linkage=&#x27;complete&#x27;, n_clusters=4)</pre></div></div></div></div></div>"
            ]
          },
          "metadata": {},
          "execution_count": 41
        }
      ]
    },
    {
      "cell_type": "markdown",
      "source": [
        "Kode di atas menginisialisasi objek AgglomerativeClustering dengan memilih metode linkage 'complete' dan jumlah klaster (n_clusters) sebanyak 4. Selanjutnya, model tersebut dilatih pada dataset menggunakan metode `fit`."
      ],
      "metadata": {
        "id": "H9LV4oTVixEp"
      }
    },
    {
      "cell_type": "code",
      "source": [
        "# Membuat figure dengan ukuran 6, 4\n",
        "plt.figure(figsize=(6,4))\n",
        "\n",
        "# Membuat minimum dan maximum range dari X1.\n",
        "x_min, x_max = np.min(X1, axis=0), np.max(X1, axis=0)\n",
        "\n",
        "# Mencari rata-rata dari jarak X1.\n",
        "X1 = (X1 - x_min) / (x_max - x_min)\n",
        "\n",
        "# Looping untuk mendisplay semua datapoints.\n",
        "for i in range(X1.shape[0]) :\n",
        "  plt.text(X1[i, 0], X1[i, 1], str(y1[i]),\n",
        "    color=plt.cm.nipy_spectral(agglom.labels_[i] / 10.),\n",
        "    fontdict={'weight' : 'bold', 'size' : 9})\n",
        "\n",
        "# Hapus x ticks, y ticks, x dan y axis (garis koordinat)\n",
        "plt.xticks([])\n",
        "plt.yticks([])\n",
        "\n",
        "# Menampilkan plot dari data asli sebelum dicluster\n",
        "plt.scatter(X1[:, 0], X1[:, 1], marker='.')\n",
        "# Menampilkan plot\n",
        "plt.show()"
      ],
      "metadata": {
        "colab": {
          "base_uri": "https://localhost:8080/",
          "height": 345
        },
        "id": "2EwYKx-PgQhb",
        "outputId": "c5538ac3-0041-4cff-85c0-f5272fdc2728"
      },
      "execution_count": null,
      "outputs": [
        {
          "output_type": "display_data",
          "data": {
            "text/plain": [
              "<Figure size 600x400 with 1 Axes>"
            ],
            "image/png": "[encoded data removed]"
          },
          "metadata": {}
        }
      ]
    },
    {
      "cell_type": "markdown",
      "source": [
        "Code tersebut membuat visualisasi dari hasil Agglomerative Clustering dengan complete linkage pada dataset. Dimensi data dinormalisasi, lalu setiap datapoint ditandai dengan label klasternya, dan akhirnya ditampilkan dalam scatter plot. Tujuannya adalah untuk memberikan gambaran visual tentang pengelompokan data setelah proses clustering."
      ],
      "metadata": {
        "id": "oR7qyV90jxnx"
      }
    },
    {
      "cell_type": "markdown",
      "source": [
        "###Plotting Dendrogram"
      ],
      "metadata": {
        "id": "SQr6g75FOOQa"
      }
    },
    {
      "cell_type": "code",
      "source": [
        "# Menghitung matriks jarak antara dua set data\n",
        "dist_matrix = distance_matrix(X1,X1)\n",
        "\n",
        "# Mencetak hasil matriks jarak\n",
        "print(dist_matrix)"
      ],
      "metadata": {
        "colab": {
          "base_uri": "https://localhost:8080/"
        },
        "id": "TZW6lrxPOCwK",
        "outputId": "5b43628d-9cd5-40bb-a567-943f233bf617"
      },
      "execution_count": null,
      "outputs": [
        {
          "output_type": "stream",
          "name": "stdout",
          "text": [
            "[[0.         0.33118921 0.19889549 ... 0.08000001 0.45926988 0.28368994]\n",
            " [0.33118921 0.         0.24403695 ... 0.35336957 0.13007277 0.59976436]\n",
            " [0.19889549 0.24403695 0.         ... 0.16298363 0.34430034 0.47433771]\n",
            " ...\n",
            " [0.08000001 0.35336957 0.16298363 ... 0.         0.4746336  0.31525977]\n",
            " [0.45926988 0.13007277 0.34430034 ... 0.4746336  0.         0.72983703]\n",
            " [0.28368994 0.59976436 0.47433771 ... 0.31525977 0.72983703 0.        ]]\n"
          ]
        }
      ]
    },
    {
      "cell_type": "markdown",
      "source": [
        "Kode di atas menghitung matriks jarak antara dua set data menggunakan fungsi `distance_matrix` dari modul `scipy.spatial`. Hasilnya adalah matriks jarak yang menunjukkan jarak antara setiap pasang data dalam dataset. Jarak ini dapat mencerminkan seberapa mirip atau berbedanya dua titik data dalam ruang fitur."
      ],
      "metadata": {
        "id": "OrCLwpjLQ5pG"
      }
    },
    {
      "cell_type": "code",
      "source": [
        "# Memberikan parameter pada kelas linkage dari hierarki\n",
        "X = hierarchy.linkage(dist_matrix, 'single')\n",
        "Y = hierarchy.linkage(dist_matrix, 'average')\n",
        "Z = hierarchy.linkage(dist_matrix, 'complete')"
      ],
      "metadata": {
        "colab": {
          "base_uri": "https://localhost:8080/"
        },
        "id": "_nVOvJ6EObPa",
        "outputId": "4ab459cb-1694-4305-c342-0cb325de93a2"
      },
      "execution_count": null,
      "outputs": [
        {
          "output_type": "stream",
          "name": "stderr",
          "text": [
            "<ipython-input-44-cc9c708ec4ba>:2: ClusterWarning: scipy.cluster: The symmetric non-negative hollow observation matrix looks suspiciously like an uncondensed distance matrix\n",
            "  X = hierarchy.linkage(dist_matrix, 'single')\n",
            "<ipython-input-44-cc9c708ec4ba>:3: ClusterWarning: scipy.cluster: The symmetric non-negative hollow observation matrix looks suspiciously like an uncondensed distance matrix\n",
            "  Y = hierarchy.linkage(dist_matrix, 'average')\n",
            "<ipython-input-44-cc9c708ec4ba>:4: ClusterWarning: scipy.cluster: The symmetric non-negative hollow observation matrix looks suspiciously like an uncondensed distance matrix\n",
            "  Z = hierarchy.linkage(dist_matrix, 'complete')\n"
          ]
        }
      ]
    },
    {
      "cell_type": "markdown",
      "source": [
        "Pada kode di atas, terdapat fungsi `linkage` dari modul `scipy.cluster.hierarchy` untuk menghasilkan matriks linkage dari matriks jarak. Ada tiga jenis linkage yang digunakan:\n",
        "\n",
        "1. **Single Linkage (`'single'`):** Menggambarkan jarak antara dua cluster sebagai jarak minimum antara anggota-anggotanya.\n",
        "2. **Average Linkage (`'average'`):** Menggambarkan jarak antara dua cluster sebagai rata-rata jarak antara semua pasangan anggota dari kedua cluster.\n",
        "3. **Complete Linkage (`'complete'`):** Menggambarkan jarak antara dua cluster sebagai jarak maksimum antara anggota-anggotanya."
      ],
      "metadata": {
        "id": "XwHzmf3uRRiL"
      }
    },
    {
      "cell_type": "code",
      "source": [
        "# Single Linkage\n",
        "dendroX = hierarchy.dendrogram(X)\n",
        "plt.title(\"Single Linkage\")"
      ],
      "metadata": {
        "colab": {
          "base_uri": "https://localhost:8080/",
          "height": 469
        },
        "id": "d9-sMlhEOcGR",
        "outputId": "0812e48a-23b2-420c-9266-8fe9340db05c"
      },
      "execution_count": null,
      "outputs": [
        {
          "output_type": "execute_result",
          "data": {
            "text/plain": [
              "Text(0.5, 1.0, 'Single Linkage')"
            ]
          },
          "metadata": {},
          "execution_count": 45
        },
        {
          "output_type": "display_data",
          "data": {
            "text/plain": [
              "<Figure size 640x480 with 1 Axes>"
            ],
            "image/png": "[encoded data removed]"
          },
          "metadata": {}
        }
      ]
    },
    {
      "cell_type": "markdown",
      "source": [
        "Pada kode di atas terdapat fungsi `dendrogram` dari modul `scipy.cluster.hierarchy` untuk menghasilkan dendrogram dari matriks linkage dengan jenis linkage `'single'`. Dendrogram digunakan untuk memvisualisasikan proses pembentukan cluster secara hierarkis.\n",
        "\n",
        "Ketika memplot dendrogram, sumbu x akan menunjukkan setiap titik data, sedangkan sumbu y akan menunjukkan jarak (jarak euclidean atau metrik lainnya). Dengan melihat dendrogram, terlihat bagaimana titik-titik data digabungkan menjadi cluster.\n",
        "\n",
        "Pada kasus ini, dendrogram diproduksi untuk jenis linkage single, yang menggambarkan jarak antara dua cluster sebagai jarak minimum antara anggota-anggotanya."
      ],
      "metadata": {
        "id": "arJ0jYnjSqEM"
      }
    },
    {
      "cell_type": "code",
      "source": [
        "# Average Linkage\n",
        "dendroY = hierarchy.dendrogram(Y)\n",
        "plt.title(\"Average Linkage\")"
      ],
      "metadata": {
        "colab": {
          "base_uri": "https://localhost:8080/",
          "height": 469
        },
        "id": "zRlaDO9WOf2p",
        "outputId": "e141c9ef-b764-438c-cddb-90abce35da8f"
      },
      "execution_count": null,
      "outputs": [
        {
          "output_type": "execute_result",
          "data": {
            "text/plain": [
              "Text(0.5, 1.0, 'Average Linkage')"
            ]
          },
          "metadata": {},
          "execution_count": 46
        },
        {
          "output_type": "display_data",
          "data": {
            "text/plain": [
              "<Figure size 640x480 with 1 Axes>"
            ],
            "image/png": "[encoded data removed]"
          },
          "metadata": {}
        }
      ]
    },
    {
      "cell_type": "markdown",
      "source": [
        "Pada kode di atas terdapat fungsi `dendrogram` dari modul `scipy.cluster.hierarchy` untuk menghasilkan dendrogram dari matriks linkage dengan jenis linkage `'average'`. Dendrogram digunakan untuk memvisualisasikan proses pembentukan cluster secara hierarkis.\n",
        "\n",
        "Ketika memplot dendrogram, sumbu x akan menunjukkan setiap titik data, sedangkan sumbu y akan menunjukkan jarak (jarak euclidean atau metrik lainnya). Dengan melihat dendrogram, terlihat bagaimana titik-titik data digabungkan menjadi cluster.\n",
        "\n",
        "Pada kasus ini, dendrogram diproduksi untuk jenis linkage average, yang memberikan gambaran tentang bagaimana titik-titik data digabungkan berdasarkan rata-rata jarak antara anggota dua cluster."
      ],
      "metadata": {
        "id": "ZjoqaT-uTJuE"
      }
    },
    {
      "cell_type": "code",
      "source": [
        "# Complete Linkage\n",
        "dendroZ = hierarchy.dendrogram(Z)\n",
        "plt.title(\"Complete Linkage\")"
      ],
      "metadata": {
        "colab": {
          "base_uri": "https://localhost:8080/",
          "height": 469
        },
        "id": "vmn8cGrgOiD5",
        "outputId": "aa88a583-cf22-40a3-90db-95db57c9d55e"
      },
      "execution_count": null,
      "outputs": [
        {
          "output_type": "execute_result",
          "data": {
            "text/plain": [
              "Text(0.5, 1.0, 'Complete Linkage')"
            ]
          },
          "metadata": {},
          "execution_count": 47
        },
        {
          "output_type": "display_data",
          "data": {
            "text/plain": [
              "<Figure size 640x480 with 1 Axes>"
            ],
            "image/png": "[encoded data removed]"
          },
          "metadata": {}
        }
      ]
    },
    {
      "cell_type": "markdown",
      "source": [
        "Pada kode di atas terdapat fungsi `dendrogram` dari modul `scipy.cluster.hierarchy` untuk menghasilkan dendrogram dari matriks linkage dengan jenis linkage `'complete'`. Dendrogram digunakan untuk memvisualisasikan proses pembentukan cluster secara hierarkis.\n",
        "\n",
        "Ketika memplot dendrogram, sumbu x akan menunjukkan setiap titik data, sedangkan sumbu y akan menunjukkan jarak (jarak euclidean atau metrik lainnya). Dengan melihat dendrogram, terlihat bagaimana titik-titik data digabungkan menjadi cluster.\n",
        "\n",
        "Pada kasus ini, dendrogram diproduksi untuk jenis linkage complete, yang memberikan gambaran tentang bagaimana titik-titik data digabungkan berdasarkan jarak maksimum antara anggota dua cluster."
      ],
      "metadata": {
        "id": "_KS2lh25Tdcc"
      }
    },
    {
      "cell_type": "markdown",
      "source": [
        "###Kesimpulan"
      ],
      "metadata": {
        "id": "KNlze3J-j8Cq"
      }
    },
    {
      "cell_type": "markdown",
      "source": [
        "Agglomerative Clustering adalah teknik pengelompokan hierarkis yang dapat digunakan untuk memahami struktur internal dalam dataset. Dalam eksplorasi dataset random menggunakan Agglomerative Clustering dengan tiga jenis linkage: single linkage, average linkage, dan complete linkage, dapat ditarik kesimpulan sebagai berikut:\n",
        "\n",
        "1. **Single Linkage:**\n",
        "   - Memiliki kecenderungan untuk membentuk cluster yang panjang dan memanjang, karena mempertimbangkan jarak terdekat antara dua titik dalam klaster yang berbeda.\n",
        "   - Rentan terhadap efek \"chaining\" di mana beberapa elemen dapat dihubungkan melalui satu elemen.\n",
        "\n",
        "2. **Average Linkage:**\n",
        "   - Menyajikan visualisasi dendrogram yang lebih seimbang dan simetris dibandingkan dengan single linkage.\n",
        "   - Mencoba untuk mencari rata-rata jarak antara semua pasangan elemen dalam dua cluster.\n",
        "   - Cenderung menghasilkan cluster dengan bentuk yang lebih bulat dan terdistribusi merata.\n",
        "\n",
        "3. **Complete Linkage:**\n",
        "   - Dendrogramnya dapat menunjukkan cluster yang lebih padat dan lebih terfokus.\n",
        "   - Mengukur jarak antara dua cluster dengan mempertimbangkan pasangan elemen yang memiliki jarak maksimum.\n",
        "   - Cenderung membentuk cluster yang lebih terkonsentrasi dan homogen.\n",
        "\n",
        "Perbedaan utama terletak pada cara jarak antar elemen diukur dan bagaimana elemen-elemen tersebut secara iteratif digabungkan. Pemilihan jenis linkage sangat tergantung pada sifat data dan tujuan analisis. Single linkage lebih cocok untuk membentuk cluster panjang dan terpisah, average linkage cenderung menghasilkan cluster yang lebih seimbang, sementara complete linkage fokus pada elemen dengan jarak maksimum untuk membentuk cluster padat."
      ],
      "metadata": {
        "id": "d8SwSWBXj-1Y"
      }
    }
  ]
}