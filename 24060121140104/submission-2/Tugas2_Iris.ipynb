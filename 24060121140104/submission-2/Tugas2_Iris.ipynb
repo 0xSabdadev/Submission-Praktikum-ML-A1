{
  "nbformat": 4,
  "nbformat_minor": 0,
  "metadata": {
    "colab": {
      "provenance": [],
      "toc_visible": true
    },
    "kernelspec": {
      "name": "python3",
      "display_name": "Python 3"
    },
    "language_info": {
      "name": "python"
    }
  },
  "cells": [
    {
      "cell_type": "markdown",
      "source": [
        "##Eksplorasi Dataset Iris"
      ],
      "metadata": {
        "id": "9jobcyYbtuNa"
      }
    },
    {
      "cell_type": "markdown",
      "source": [
        "Nama: Divia Shinta Sukarsaatmadja\n",
        "\n",
        "NIM : 24060121140104\n",
        "\n",
        "Lab : ML A1"
      ],
      "metadata": {
        "id": "iUwh7lbr9FKJ"
      }
    },
    {
      "cell_type": "markdown",
      "source": [
        "###Deskripsi Dataset"
      ],
      "metadata": {
        "id": "RFiuGMdD9M8f"
      }
    },
    {
      "cell_type": "markdown",
      "source": [
        "Pada tugas praktikum *machine learning* pertemuan 2 ini, saya menggunakan dataset klasifikasi Bunga Iris yang bersumber dari UC Irvine Machine Learning Repository.\n",
        "\n",
        "Dataset ini berisi 150 pengamatan bunga Iris. Terdapat empat kolom pengukuran bunga dalam centimeter. Kolom kelima adalah spesies bunga yang diamati. Dataset ini merupakan dataset yang paling umum digunakan, sehingga sering disebut sebagai dataset “hello word” dalam machine learning.\n",
        "\n",
        "Informasi detail mengenai dataset tersebut dapat diakses melalui [tautan berikut](https://archive.ics.uci.edu/dataset/53/iris)."
      ],
      "metadata": {
        "id": "xOKE0myx9Pft"
      }
    },
    {
      "cell_type": "markdown",
      "source": [
        "###Membuat Validasi Dataset"
      ],
      "metadata": {
        "id": "oXyJsi-B9WTe"
      }
    },
    {
      "cell_type": "code",
      "execution_count": 20,
      "metadata": {
        "id": "tnLmdu4Gjdzk"
      },
      "outputs": [],
      "source": [
        "import pandas as pd"
      ]
    },
    {
      "cell_type": "markdown",
      "source": [
        "Kode tersebut mengimpor pustaka `pandas` dengan alias `pd`, memungkinkan penggunaan fungsi-fungsi pandas dengan lebih singkat."
      ],
      "metadata": {
        "id": "t0-xvTRPGNQ9"
      }
    },
    {
      "cell_type": "code",
      "source": [
        "url = \"http://archive.ics.uci.edu/ml/machine-learning-databases/iris/iris.data\"\n",
        "names = ['sepal-length', 'sepal-width', 'petal-length', 'petal-width', 'class']\n",
        "dataset = pd.read_csv(url, names=names)\n",
        "dataset.head(5)"
      ],
      "metadata": {
        "colab": {
          "base_uri": "https://localhost:8080/",
          "height": 206
        },
        "id": "jbdiuI0KjgzD",
        "outputId": "6b85531e-ef9d-4000-ec49-5bcc81bd555a"
      },
      "execution_count": 21,
      "outputs": [
        {
          "output_type": "execute_result",
          "data": {
            "text/plain": [
              "   sepal-length  sepal-width  petal-length  petal-width        class\n",
              "0           5.1          3.5           1.4          0.2  Iris-setosa\n",
              "1           4.9          3.0           1.4          0.2  Iris-setosa\n",
              "2           4.7          3.2           1.3          0.2  Iris-setosa\n",
              "3           4.6          3.1           1.5          0.2  Iris-setosa\n",
              "4           5.0          3.6           1.4          0.2  Iris-setosa"
            ],
            "text/html": [
              "\n",
              "  <div id=\"df-376c0172-45c7-4aca-9ee2-0fa7d72ef983\" class=\"colab-df-container\">\n",
              "    <div>\n",
              "<style scoped>\n",
              "    .dataframe tbody tr th:only-of-type {\n",
              "        vertical-align: middle;\n",
              "    }\n",
              "\n",
              "    .dataframe tbody tr th {\n",
              "        vertical-align: top;\n",
              "    }\n",
              "\n",
              "    .dataframe thead th {\n",
              "        text-align: right;\n",
              "    }\n",
              "</style>\n",
              "<table border=\"1\" class=\"dataframe\">\n",
              "  <thead>\n",
              "    <tr style=\"text-align: right;\">\n",
              "      <th></th>\n",
              "      <th>sepal-length</th>\n",
              "      <th>sepal-width</th>\n",
              "      <th>petal-length</th>\n",
              "      <th>petal-width</th>\n",
              "      <th>class</th>\n",
              "    </tr>\n",
              "  </thead>\n",
              "  <tbody>\n",
              "    <tr>\n",
              "      <th>0</th>\n",
              "      <td>5.1</td>\n",
              "      <td>3.5</td>\n",
              "      <td>1.4</td>\n",
              "      <td>0.2</td>\n",
              "      <td>Iris-setosa</td>\n",
              "    </tr>\n",
              "    <tr>\n",
              "      <th>1</th>\n",
              "      <td>4.9</td>\n",
              "      <td>3.0</td>\n",
              "      <td>1.4</td>\n",
              "      <td>0.2</td>\n",
              "      <td>Iris-setosa</td>\n",
              "    </tr>\n",
              "    <tr>\n",
              "      <th>2</th>\n",
              "      <td>4.7</td>\n",
              "      <td>3.2</td>\n",
              "      <td>1.3</td>\n",
              "      <td>0.2</td>\n",
              "      <td>Iris-setosa</td>\n",
              "    </tr>\n",
              "    <tr>\n",
              "      <th>3</th>\n",
              "      <td>4.6</td>\n",
              "      <td>3.1</td>\n",
              "      <td>1.5</td>\n",
              "      <td>0.2</td>\n",
              "      <td>Iris-setosa</td>\n",
              "    </tr>\n",
              "    <tr>\n",
              "      <th>4</th>\n",
              "      <td>5.0</td>\n",
              "      <td>3.6</td>\n",
              "      <td>1.4</td>\n",
              "      <td>0.2</td>\n",
              "      <td>Iris-setosa</td>\n",
              "    </tr>\n",
              "  </tbody>\n",
              "</table>\n",
              "</div>\n",
              "    <div class=\"colab-df-buttons\">\n",
              "\n",
              "  <div class=\"colab-df-container\">\n",
              "    <button class=\"colab-df-convert\" onclick=\"convertToInteractive('df-376c0172-45c7-4aca-9ee2-0fa7d72ef983')\"\n",
              "            title=\"Convert this dataframe to an interactive table.\"\n",
              "            style=\"display:none;\">\n",
              "\n",
              "  <svg xmlns=\"http://www.w3.org/2000/svg\" height=\"24px\" viewBox=\"0 -960 960 960\">\n",
              "    <path d=\"M120-120v-720h720v720H120Zm60-500h600v-160H180v160Zm220 220h160v-160H400v160Zm0 220h160v-160H400v160ZM180-400h160v-160H180v160Zm440 0h160v-160H620v160ZM180-180h160v-160H180v160Zm440 0h160v-160H620v160Z\"/>\n",
              "  </svg>\n",
              "    </button>\n",
              "\n",
              "  <style>\n",
              "    .colab-df-container {\n",
              "      display:flex;\n",
              "      gap: 12px;\n",
              "    }\n",
              "\n",
              "    .colab-df-convert {\n",
              "      background-color: #E8F0FE;\n",
              "      border: none;\n",
              "      border-radius: 50%;\n",
              "      cursor: pointer;\n",
              "      display: none;\n",
              "      fill: #1967D2;\n",
              "      height: 32px;\n",
              "      padding: 0 0 0 0;\n",
              "      width: 32px;\n",
              "    }\n",
              "\n",
              "    .colab-df-convert:hover {\n",
              "      background-color: #E2EBFA;\n",
              "      box-shadow: 0px 1px 2px rgba(60, 64, 67, 0.3), 0px 1px 3px 1px rgba(60, 64, 67, 0.15);\n",
              "      fill: #174EA6;\n",
              "    }\n",
              "\n",
              "    .colab-df-buttons div {\n",
              "      margin-bottom: 4px;\n",
              "    }\n",
              "\n",
              "    [theme=dark] .colab-df-convert {\n",
              "      background-color: #3B4455;\n",
              "      fill: #D2E3FC;\n",
              "    }\n",
              "\n",
              "    [theme=dark] .colab-df-convert:hover {\n",
              "      background-color: #434B5C;\n",
              "      box-shadow: 0px 1px 3px 1px rgba(0, 0, 0, 0.15);\n",
              "      filter: drop-shadow(0px 1px 2px rgba(0, 0, 0, 0.3));\n",
              "      fill: #FFFFFF;\n",
              "    }\n",
              "  </style>\n",
              "\n",
              "    <script>\n",
              "      const buttonEl =\n",
              "        document.querySelector('#df-376c0172-45c7-4aca-9ee2-0fa7d72ef983 button.colab-df-convert');\n",
              "      buttonEl.style.display =\n",
              "        google.colab.kernel.accessAllowed ? 'block' : 'none';\n",
              "\n",
              "      async function convertToInteractive(key) {\n",
              "        const element = document.querySelector('#df-376c0172-45c7-4aca-9ee2-0fa7d72ef983');\n",
              "        const dataTable =\n",
              "          await google.colab.kernel.invokeFunction('convertToInteractive',\n",
              "                                                    [key], {});\n",
              "        if (!dataTable) return;\n",
              "\n",
              "        const docLinkHtml = 'Like what you see? Visit the ' +\n",
              "          '<a target=\"_blank\" href=https://colab.research.google.com/notebooks/data_table.ipynb>data table notebook</a>'\n",
              "          + ' to learn more about interactive tables.';\n",
              "        element.innerHTML = '';\n",
              "        dataTable['output_type'] = 'display_data';\n",
              "        await google.colab.output.renderOutput(dataTable, element);\n",
              "        const docLink = document.createElement('div');\n",
              "        docLink.innerHTML = docLinkHtml;\n",
              "        element.appendChild(docLink);\n",
              "      }\n",
              "    </script>\n",
              "  </div>\n",
              "\n",
              "\n",
              "<div id=\"df-62db9d35-8dd5-4b66-af50-dfef80708b67\">\n",
              "  <button class=\"colab-df-quickchart\" onclick=\"quickchart('df-62db9d35-8dd5-4b66-af50-dfef80708b67')\"\n",
              "            title=\"Suggest charts\"\n",
              "            style=\"display:none;\">\n",
              "\n",
              "<svg xmlns=\"http://www.w3.org/2000/svg\" height=\"24px\"viewBox=\"0 0 24 24\"\n",
              "     width=\"24px\">\n",
              "    <g>\n",
              "        <path d=\"M19 3H5c-1.1 0-2 .9-2 2v14c0 1.1.9 2 2 2h14c1.1 0 2-.9 2-2V5c0-1.1-.9-2-2-2zM9 17H7v-7h2v7zm4 0h-2V7h2v10zm4 0h-2v-4h2v4z\"/>\n",
              "    </g>\n",
              "</svg>\n",
              "  </button>\n",
              "\n",
              "<style>\n",
              "  .colab-df-quickchart {\n",
              "      --bg-color: #E8F0FE;\n",
              "      --fill-color: #1967D2;\n",
              "      --hover-bg-color: #E2EBFA;\n",
              "      --hover-fill-color: #174EA6;\n",
              "      --disabled-fill-color: #AAA;\n",
              "      --disabled-bg-color: #DDD;\n",
              "  }\n",
              "\n",
              "  [theme=dark] .colab-df-quickchart {\n",
              "      --bg-color: #3B4455;\n",
              "      --fill-color: #D2E3FC;\n",
              "      --hover-bg-color: #434B5C;\n",
              "      --hover-fill-color: #FFFFFF;\n",
              "      --disabled-bg-color: #3B4455;\n",
              "      --disabled-fill-color: #666;\n",
              "  }\n",
              "\n",
              "  .colab-df-quickchart {\n",
              "    background-color: var(--bg-color);\n",
              "    border: none;\n",
              "    border-radius: 50%;\n",
              "    cursor: pointer;\n",
              "    display: none;\n",
              "    fill: var(--fill-color);\n",
              "    height: 32px;\n",
              "    padding: 0;\n",
              "    width: 32px;\n",
              "  }\n",
              "\n",
              "  .colab-df-quickchart:hover {\n",
              "    background-color: var(--hover-bg-color);\n",
              "    box-shadow: 0 1px 2px rgba(60, 64, 67, 0.3), 0 1px 3px 1px rgba(60, 64, 67, 0.15);\n",
              "    fill: var(--button-hover-fill-color);\n",
              "  }\n",
              "\n",
              "  .colab-df-quickchart-complete:disabled,\n",
              "  .colab-df-quickchart-complete:disabled:hover {\n",
              "    background-color: var(--disabled-bg-color);\n",
              "    fill: var(--disabled-fill-color);\n",
              "    box-shadow: none;\n",
              "  }\n",
              "\n",
              "  .colab-df-spinner {\n",
              "    border: 2px solid var(--fill-color);\n",
              "    border-color: transparent;\n",
              "    border-bottom-color: var(--fill-color);\n",
              "    animation:\n",
              "      spin 1s steps(1) infinite;\n",
              "  }\n",
              "\n",
              "  @keyframes spin {\n",
              "    0% {\n",
              "      border-color: transparent;\n",
              "      border-bottom-color: var(--fill-color);\n",
              "      border-left-color: var(--fill-color);\n",
              "    }\n",
              "    20% {\n",
              "      border-color: transparent;\n",
              "      border-left-color: var(--fill-color);\n",
              "      border-top-color: var(--fill-color);\n",
              "    }\n",
              "    30% {\n",
              "      border-color: transparent;\n",
              "      border-left-color: var(--fill-color);\n",
              "      border-top-color: var(--fill-color);\n",
              "      border-right-color: var(--fill-color);\n",
              "    }\n",
              "    40% {\n",
              "      border-color: transparent;\n",
              "      border-right-color: var(--fill-color);\n",
              "      border-top-color: var(--fill-color);\n",
              "    }\n",
              "    60% {\n",
              "      border-color: transparent;\n",
              "      border-right-color: var(--fill-color);\n",
              "    }\n",
              "    80% {\n",
              "      border-color: transparent;\n",
              "      border-right-color: var(--fill-color);\n",
              "      border-bottom-color: var(--fill-color);\n",
              "    }\n",
              "    90% {\n",
              "      border-color: transparent;\n",
              "      border-bottom-color: var(--fill-color);\n",
              "    }\n",
              "  }\n",
              "</style>\n",
              "\n",
              "  <script>\n",
              "    async function quickchart(key) {\n",
              "      const quickchartButtonEl =\n",
              "        document.querySelector('#' + key + ' button');\n",
              "      quickchartButtonEl.disabled = true;  // To prevent multiple clicks.\n",
              "      quickchartButtonEl.classList.add('colab-df-spinner');\n",
              "      try {\n",
              "        const charts = await google.colab.kernel.invokeFunction(\n",
              "            'suggestCharts', [key], {});\n",
              "      } catch (error) {\n",
              "        console.error('Error during call to suggestCharts:', error);\n",
              "      }\n",
              "      quickchartButtonEl.classList.remove('colab-df-spinner');\n",
              "      quickchartButtonEl.classList.add('colab-df-quickchart-complete');\n",
              "    }\n",
              "    (() => {\n",
              "      let quickchartButtonEl =\n",
              "        document.querySelector('#df-62db9d35-8dd5-4b66-af50-dfef80708b67 button');\n",
              "      quickchartButtonEl.style.display =\n",
              "        google.colab.kernel.accessAllowed ? 'block' : 'none';\n",
              "    })();\n",
              "  </script>\n",
              "</div>\n",
              "    </div>\n",
              "  </div>\n"
            ]
          },
          "metadata": {},
          "execution_count": 21
        }
      ]
    },
    {
      "cell_type": "markdown",
      "source": [
        "Kode ini membaca dataset Iris dari URL yang diberikan ke dalam DataFrame menggunakan pandas. Dataset ini memiliki kolom-kolom seperti `sepal-length`, `sepal-width`, `petal-length`, `petal-width`, dan `class`. Data ini diambil dari UCI Machine Learning Repository. `dataset.head(5)` digunakan untuk menampilkan lima baris pertama dari dataset tersebut."
      ],
      "metadata": {
        "id": "krgQRIeFGV54"
      }
    },
    {
      "cell_type": "code",
      "source": [
        "dataset.shape"
      ],
      "metadata": {
        "colab": {
          "base_uri": "https://localhost:8080/"
        },
        "id": "r1wvqk8HjihF",
        "outputId": "2e6903dc-9d4a-4dda-f86c-bee14b5e9556"
      },
      "execution_count": 22,
      "outputs": [
        {
          "output_type": "execute_result",
          "data": {
            "text/plain": [
              "(150, 5)"
            ]
          },
          "metadata": {},
          "execution_count": 22
        }
      ]
    },
    {
      "cell_type": "markdown",
      "source": [
        "Kode `dataset.shape` digunakan untuk mengetahui ukuran dataset, yaitu jumlah baris dan kolom. Outputnya akan berupa tuple dengan dua angka, di mana angka pertama adalah jumlah baris (instances) dan angka kedua adalah jumlah kolom (features)."
      ],
      "metadata": {
        "id": "OaxvPL0SGeVF"
      }
    },
    {
      "cell_type": "code",
      "source": [
        "from sklearn import model_selection"
      ],
      "metadata": {
        "id": "8Ehe04f8jkIY"
      },
      "execution_count": 23,
      "outputs": []
    },
    {
      "cell_type": "markdown",
      "source": [
        "Kode `from sklearn import model_selection` mengimpor modul `model_selection` dari pustaka Scikit-Learn. Modul ini menyediakan berbagai fungsi dan kelas yang berguna untuk pemodelan dan evaluasi model, termasuk fungsi untuk melakukan pemisahan dataset menjadi data pelatihan dan pengujian menggunakan cross-validation."
      ],
      "metadata": {
        "id": "2G74nkoFGspe"
      }
    },
    {
      "cell_type": "code",
      "source": [
        "array = dataset.values\n",
        "\n",
        "X = array[:,0:4]\n",
        "Y = array[:,4]\n",
        "\n",
        "validation_size = 0.20\n",
        "\n",
        "seed = 7\n",
        "\n",
        "X_train, X_validation, Y_train, Y_validation = model_selection.train_test_split(X, Y, test_size=validation_size, random_state=seed)"
      ],
      "metadata": {
        "id": "v2GwwBnAjmYr"
      },
      "execution_count": 24,
      "outputs": []
    },
    {
      "cell_type": "markdown",
      "source": [
        "Kode di atas melakukan beberapa langkah untuk menyiapkan dataset untuk pemodelan:\n",
        "\n",
        "1. `array = dataset.values`: Mengambil nilai-nilai dari dataset dan menyimpannya dalam bentuk array NumPy. Ini memisahkan fitur (X) dan label (Y).\n",
        "\n",
        "2. `X = array[:,0:4]`: Memilih kolom 0 hingga 3 sebagai fitur (sepal-length, sepal-width, petal-length, dan petal-width).\n",
        "\n",
        "3. `Y = array[:,4]`: Memilih kolom ke-4 sebagai label (class).\n",
        "\n",
        "4. `validation_size = 0.20`: Menentukan ukuran dataset pengujian (20% dari total data) untuk digunakan dalam evaluasi model.\n",
        "\n",
        "5. `seed = 7`: Menentukan nilai seed untuk memastikan hasil yang konsisten saat menggunakan fungsi-fungsi yang melibatkan elemen acak.\n",
        "\n",
        "6. `X_train, X_validation, Y_train, Y_validation = model_selection.train_test_split(X, Y, test_size=validation_size, random_state=seed)`: Membagi dataset menjadi data pelatihan dan data pengujian menggunakan fungsi `train_test_split` dari modul `model_selection`. `random_state` diatur untuk memastikan reproduktibilitas hasil.\n",
        "\n",
        "Dengan langkah-langkah ini, sekarang terdapat empat variabel: `X_train` (fitur pelatihan), `X_validation` (fitur pengujian), `Y_train` (label pelatihan), dan `Y_validation` (label pengujian) untuk digunakan dalam pemodelan dan evaluasi."
      ],
      "metadata": {
        "id": "t89SUCa5GyNv"
      }
    },
    {
      "cell_type": "code",
      "source": [
        "print(\"X_train :\", X_train.shape)\n",
        "print(\"X_validation :\", X_validation.shape)\n",
        "print(\"Y_train :\", Y_train.shape)\n",
        "print(\"Y_validation :\", Y_validation.shape)"
      ],
      "metadata": {
        "colab": {
          "base_uri": "https://localhost:8080/"
        },
        "id": "NT5jDUtGjoH6",
        "outputId": "342834d2-c15f-4f46-f9d4-85fd0a8ca0fe"
      },
      "execution_count": 25,
      "outputs": [
        {
          "output_type": "stream",
          "name": "stdout",
          "text": [
            "X_train : (120, 4)\n",
            "X_validation : (30, 4)\n",
            "Y_train : (120,)\n",
            "Y_validation : (30,)\n"
          ]
        }
      ]
    },
    {
      "cell_type": "markdown",
      "source": [
        "Kode di atas digunakan untuk mencetak bentuk (shape) dari masing-masing variabel, memberikan informasi tentang jumlah baris dan kolom dari setiap dataset. Outputnya akan memberikan gambaran tentang seberapa besar dataset pelatihan dan pengujian yang telah dibagi sebelumnya."
      ],
      "metadata": {
        "id": "D2bxJLFXHFlm"
      }
    },
    {
      "cell_type": "markdown",
      "source": [
        "###K-Folds Cross Validation"
      ],
      "metadata": {
        "id": "7rG4-g7995_o"
      }
    },
    {
      "cell_type": "code",
      "source": [
        "seed = 7\n",
        "scoring = 'accuracy'"
      ],
      "metadata": {
        "id": "wsLp6zqgk_Nf"
      },
      "execution_count": 26,
      "outputs": []
    },
    {
      "cell_type": "markdown",
      "source": [
        "Kode tersebut menetapkan seed untuk hasil yang dapat direproduksi (untuk kestabilan eksperimen) dan memilih metrik evaluasi sebagai akurasi untuk mengukur sejauh mana model dapat memprediksi dengan benar selama validasi."
      ],
      "metadata": {
        "id": "mO670Xz1HSSR"
      }
    },
    {
      "cell_type": "markdown",
      "source": [
        "###Membangun Model"
      ],
      "metadata": {
        "id": "tvZKA1yE9z_R"
      }
    },
    {
      "cell_type": "code",
      "source": [
        "from sklearn.tree import DecisionTreeClassifier\n",
        "from sklearn.ensemble import RandomForestClassifier\n",
        "from sklearn.linear_model import LogisticRegression\n",
        "\n",
        "models = []\n",
        "models.append(('Decision Tree', DecisionTreeClassifier()))\n",
        "models.append(('Random Forest', RandomForestClassifier()))\n",
        "models.append(('Logistic Regression', LogisticRegression(max_iter=1000)))\n",
        "\n",
        "results = []\n",
        "names = []\n",
        "for name, model in models:\n",
        "  kfold = model_selection.KFold(n_splits=10, random_state=seed, shuffle=True)\n",
        "  cv_results = model_selection.cross_val_score(model, X_train, Y_train, cv=kfold, scoring=scoring)\n",
        "  results.append(cv_results)\n",
        "  names.append(name)\n",
        "  msg = \"%s: %f (%f)\" % (name, cv_results.mean(), cv_results.std())\n",
        "  print(msg)"
      ],
      "metadata": {
        "colab": {
          "base_uri": "https://localhost:8080/"
        },
        "id": "00Vg1KcSqcev",
        "outputId": "4f41d58f-ce5c-4a75-811e-4945581e65bd"
      },
      "execution_count": 29,
      "outputs": [
        {
          "output_type": "stream",
          "name": "stdout",
          "text": [
            "Decision Tree: 0.958333 (0.076830)\n",
            "Random Forest: 0.966667 (0.040825)\n",
            "Logistic Regression: 0.983333 (0.033333)\n"
          ]
        }
      ]
    },
    {
      "cell_type": "markdown",
      "source": [
        "Kode tersebut membangun, melatih, dan mengevaluasi tiga model machine learning: Decision Tree, Random Forest, dan Logistic Regression. Evaluasinya dilakukan menggunakan metode cross-validation dengan 10 lipatan (folds), dan akurasi diukur sebagai metrik evaluasi. Hasil evaluasi untuk setiap model (mean dan standard deviation) ditampilkan."
      ],
      "metadata": {
        "id": "XNAJY3BpIO4l"
      }
    },
    {
      "cell_type": "markdown",
      "source": [
        "###Memilih Model Terbaik"
      ],
      "metadata": {
        "id": "HbdZvRdl9nKm"
      }
    },
    {
      "cell_type": "code",
      "source": [
        "from sklearn.linear_model import LogisticRegression\n",
        "from sklearn.metrics import accuracy_score, confusion_matrix, classification_report\n",
        "\n",
        "# Inisialisasi model Logistic Regression\n",
        "log_reg = LogisticRegression(max_iter=1000)\n",
        "\n",
        "# Latih model dengan data pelatihan\n",
        "log_reg.fit(X_train, Y_train)\n",
        "\n",
        "# Prediksi pada data validasi\n",
        "predictions = log_reg.predict(X_validation)\n",
        "\n",
        "# Menampilkan metrik evaluasi\n",
        "print(accuracy_score(Y_validation, predictions))\n",
        "print(confusion_matrix(Y_validation, predictions))\n",
        "print(classification_report(Y_validation, predictions))\n"
      ],
      "metadata": {
        "colab": {
          "base_uri": "https://localhost:8080/"
        },
        "id": "m_0uLW1Cr0v7",
        "outputId": "ec5b9dfd-eeb0-40c8-8e4a-09989e05a9f7"
      },
      "execution_count": 28,
      "outputs": [
        {
          "output_type": "stream",
          "name": "stdout",
          "text": [
            "0.8666666666666667\n",
            "[[ 7  0  0]\n",
            " [ 0 10  2]\n",
            " [ 0  2  9]]\n",
            "                 precision    recall  f1-score   support\n",
            "\n",
            "    Iris-setosa       1.00      1.00      1.00         7\n",
            "Iris-versicolor       0.83      0.83      0.83        12\n",
            " Iris-virginica       0.82      0.82      0.82        11\n",
            "\n",
            "       accuracy                           0.87        30\n",
            "      macro avg       0.88      0.88      0.88        30\n",
            "   weighted avg       0.87      0.87      0.87        30\n",
            "\n"
          ]
        }
      ]
    },
    {
      "cell_type": "markdown",
      "source": [
        "Kode tersebut menggunakan Logistic Regression untuk membuat model, melatihnya dengan data pelatihan (`X_train`, `Y_train`), melakukan prediksi pada data validasi (`X_validation`), dan menampilkan beberapa metrik evaluasi seperti akurasi, confusion matrix, dan classification report."
      ],
      "metadata": {
        "id": "e5TfeYJkIpG1"
      }
    },
    {
      "cell_type": "markdown",
      "source": [
        "###Kesimpulan"
      ],
      "metadata": {
        "id": "rsZJazO-Isn-"
      }
    },
    {
      "cell_type": "markdown",
      "source": [
        "Dari eksplorasi dataset iris dengan menggunakan model Decision Tree, Random Forest, dan Logistic Regression, kita dapat menarik kesimpulan sebagai berikut:\n",
        "\n",
        "1. **Decision Tree:**\n",
        "   - Decision Tree memberikan akurasi tertentu pada dataset iris, tetapi akurasi ini mungkin tidak sebaik model lain.\n",
        "   - Decision Tree memiliki kecenderungan untuk overfitting, terutama pada dataset kecil.\n",
        "\n",
        "2. **Random Forest:**\n",
        "   - Random Forest memberikan peningkatan dari Decision Tree karena memanfaatkan ensemble learning.\n",
        "   - Meskipun Random Forest dapat mengatasi overfitting, hasilnya mungkin tidak sebaik Logistic Regression pada dataset tertentu.\n",
        "\n",
        "3. **Logistic Regression:**\n",
        "   - Logistic Regression memberikan akurasi tertinggi di antara model yang diuji pada dataset iris ini.\n",
        "   - Logistic Regression cocok untuk masalah klasifikasi biner dan dapat memberikan hasil yang baik terutama pada dataset dengan fitur yang linear.\n",
        "\n",
        "Dengan demikian, untuk dataset iris, Logistic Regression bisa menjadi pilihan terbaik jika prioritasnya adalah akurasi tertinggi. Namun, pilihan model juga tergantung pada konteks dan tujuan spesifik dari analisis yang dilakukan."
      ],
      "metadata": {
        "id": "liytInUeIvGG"
      }
    }
  ]
}