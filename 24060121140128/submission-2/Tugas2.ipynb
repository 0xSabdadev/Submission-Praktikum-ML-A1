{
  "cells": [
    {
      "cell_type": "markdown",
      "metadata": {
        "id": "8Yc2krxRwcN4"
      },
      "source": [
        "ATHIYA PUTERI HIDAYAT - 24060121140128 - LAB MACHINE LEARNING A1"
      ]
    },
    {
      "cell_type": "markdown",
      "metadata": {
        "id": "fj0Qsp5tlUl4"
      },
      "source": [
        "PERTEMEMUAN 2 - EVALUASI ALGORITMA (IRIS)"
      ]
    },
    {
      "cell_type": "code",
      "execution_count": null,
      "metadata": {
        "id": "BEeUzESQlQdM"
      },
      "outputs": [],
      "source": [
        "# import libary yang dibutuhkan yaitu pandas disingkat menjadi pd\n",
        "import pandas as pd"
      ]
    },
    {
      "cell_type": "code",
      "execution_count": null,
      "metadata": {
        "id": "k4rGSYdzmSMj"
      },
      "outputs": [],
      "source": [
        "# Mendefinisikan link dataset\n",
        "url = \"http://archive.ics.uci.edu/ml/machine-learning-databases/iris/iris.data\"\n",
        "\n",
        "# Mendefinisikan list berisi kolom (attribute) dataset\n",
        "names = ['sepal-length', 'sepal-width', 'petal-length', 'petal-width', 'class']\n",
        "\n",
        "# Membaca dataset dengan library panda\n",
        "dataset = pd.read_csv(url, names=names)"
      ]
    },
    {
      "cell_type": "code",
      "execution_count": null,
      "metadata": {
        "colab": {
          "base_uri": "https://localhost:8080/",
          "height": 206
        },
        "id": "Q2NzXThKm5cT",
        "outputId": "3462983f-a5a6-435a-92ed-e380dfafab80"
      },
      "outputs": [
        {
          "data": {
            "text/html": [
              "\n",
              "  <div id=\"df-b220f5bd-296d-4378-bd5a-7a035480f65e\" class=\"colab-df-container\">\n",
              "    <div>\n",
              "<style scoped>\n",
              "    .dataframe tbody tr th:only-of-type {\n",
              "        vertical-align: middle;\n",
              "    }\n",
              "\n",
              "    .dataframe tbody tr th {\n",
              "        vertical-align: top;\n",
              "    }\n",
              "\n",
              "    .dataframe thead th {\n",
              "        text-align: right;\n",
              "    }\n",
              "</style>\n",
              "<table border=\"1\" class=\"dataframe\">\n",
              "  <thead>\n",
              "    <tr style=\"text-align: right;\">\n",
              "      <th></th>\n",
              "      <th>sepal-length</th>\n",
              "      <th>sepal-width</th>\n",
              "      <th>petal-length</th>\n",
              "      <th>petal-width</th>\n",
              "      <th>class</th>\n",
              "    </tr>\n",
              "  </thead>\n",
              "  <tbody>\n",
              "    <tr>\n",
              "      <th>0</th>\n",
              "      <td>5.1</td>\n",
              "      <td>3.5</td>\n",
              "      <td>1.4</td>\n",
              "      <td>0.2</td>\n",
              "      <td>Iris-setosa</td>\n",
              "    </tr>\n",
              "    <tr>\n",
              "      <th>1</th>\n",
              "      <td>4.9</td>\n",
              "      <td>3.0</td>\n",
              "      <td>1.4</td>\n",
              "      <td>0.2</td>\n",
              "      <td>Iris-setosa</td>\n",
              "    </tr>\n",
              "    <tr>\n",
              "      <th>2</th>\n",
              "      <td>4.7</td>\n",
              "      <td>3.2</td>\n",
              "      <td>1.3</td>\n",
              "      <td>0.2</td>\n",
              "      <td>Iris-setosa</td>\n",
              "    </tr>\n",
              "    <tr>\n",
              "      <th>3</th>\n",
              "      <td>4.6</td>\n",
              "      <td>3.1</td>\n",
              "      <td>1.5</td>\n",
              "      <td>0.2</td>\n",
              "      <td>Iris-setosa</td>\n",
              "    </tr>\n",
              "    <tr>\n",
              "      <th>4</th>\n",
              "      <td>5.0</td>\n",
              "      <td>3.6</td>\n",
              "      <td>1.4</td>\n",
              "      <td>0.2</td>\n",
              "      <td>Iris-setosa</td>\n",
              "    </tr>\n",
              "  </tbody>\n",
              "</table>\n",
              "</div>\n",
              "    <div class=\"colab-df-buttons\">\n",
              "\n",
              "  <div class=\"colab-df-container\">\n",
              "    <button class=\"colab-df-convert\" onclick=\"convertToInteractive('df-b220f5bd-296d-4378-bd5a-7a035480f65e')\"\n",
              "            title=\"Convert this dataframe to an interactive table.\"\n",
              "            style=\"display:none;\">\n",
              "\n",
              "  <svg xmlns=\"http://www.w3.org/2000/svg\" height=\"24px\" viewBox=\"0 -960 960 960\">\n",
              "    <path d=\"M120-120v-720h720v720H120Zm60-500h600v-160H180v160Zm220 220h160v-160H400v160Zm0 220h160v-160H400v160ZM180-400h160v-160H180v160Zm440 0h160v-160H620v160ZM180-180h160v-160H180v160Zm440 0h160v-160H620v160Z\"/>\n",
              "  </svg>\n",
              "    </button>\n",
              "\n",
              "  <style>\n",
              "    .colab-df-container {\n",
              "      display:flex;\n",
              "      gap: 12px;\n",
              "    }\n",
              "\n",
              "    .colab-df-convert {\n",
              "      background-color: #E8F0FE;\n",
              "      border: none;\n",
              "      border-radius: 50%;\n",
              "      cursor: pointer;\n",
              "      display: none;\n",
              "      fill: #1967D2;\n",
              "      height: 32px;\n",
              "      padding: 0 0 0 0;\n",
              "      width: 32px;\n",
              "    }\n",
              "\n",
              "    .colab-df-convert:hover {\n",
              "      background-color: #E2EBFA;\n",
              "      box-shadow: 0px 1px 2px rgba(60, 64, 67, 0.3), 0px 1px 3px 1px rgba(60, 64, 67, 0.15);\n",
              "      fill: #174EA6;\n",
              "    }\n",
              "\n",
              "    .colab-df-buttons div {\n",
              "      margin-bottom: 4px;\n",
              "    }\n",
              "\n",
              "    [theme=dark] .colab-df-convert {\n",
              "      background-color: #3B4455;\n",
              "      fill: #D2E3FC;\n",
              "    }\n",
              "\n",
              "    [theme=dark] .colab-df-convert:hover {\n",
              "      background-color: #434B5C;\n",
              "      box-shadow: 0px 1px 3px 1px rgba(0, 0, 0, 0.15);\n",
              "      filter: drop-shadow(0px 1px 2px rgba(0, 0, 0, 0.3));\n",
              "      fill: #FFFFFF;\n",
              "    }\n",
              "  </style>\n",
              "\n",
              "    <script>\n",
              "      const buttonEl =\n",
              "        document.querySelector('#df-b220f5bd-296d-4378-bd5a-7a035480f65e button.colab-df-convert');\n",
              "      buttonEl.style.display =\n",
              "        google.colab.kernel.accessAllowed ? 'block' : 'none';\n",
              "\n",
              "      async function convertToInteractive(key) {\n",
              "        const element = document.querySelector('#df-b220f5bd-296d-4378-bd5a-7a035480f65e');\n",
              "        const dataTable =\n",
              "          await google.colab.kernel.invokeFunction('convertToInteractive',\n",
              "                                                    [key], {});\n",
              "        if (!dataTable) return;\n",
              "\n",
              "        const docLinkHtml = 'Like what you see? Visit the ' +\n",
              "          '<a target=\"_blank\" href=https://colab.research.google.com/notebooks/data_table.ipynb>data table notebook</a>'\n",
              "          + ' to learn more about interactive tables.';\n",
              "        element.innerHTML = '';\n",
              "        dataTable['output_type'] = 'display_data';\n",
              "        await google.colab.output.renderOutput(dataTable, element);\n",
              "        const docLink = document.createElement('div');\n",
              "        docLink.innerHTML = docLinkHtml;\n",
              "        element.appendChild(docLink);\n",
              "      }\n",
              "    </script>\n",
              "  </div>\n",
              "\n",
              "\n",
              "<div id=\"df-ca046db9-e0e1-469f-ae8c-2815f8c8eb41\">\n",
              "  <button class=\"colab-df-quickchart\" onclick=\"quickchart('df-ca046db9-e0e1-469f-ae8c-2815f8c8eb41')\"\n",
              "            title=\"Suggest charts\"\n",
              "            style=\"display:none;\">\n",
              "\n",
              "<svg xmlns=\"http://www.w3.org/2000/svg\" height=\"24px\"viewBox=\"0 0 24 24\"\n",
              "     width=\"24px\">\n",
              "    <g>\n",
              "        <path d=\"M19 3H5c-1.1 0-2 .9-2 2v14c0 1.1.9 2 2 2h14c1.1 0 2-.9 2-2V5c0-1.1-.9-2-2-2zM9 17H7v-7h2v7zm4 0h-2V7h2v10zm4 0h-2v-4h2v4z\"/>\n",
              "    </g>\n",
              "</svg>\n",
              "  </button>\n",
              "\n",
              "<style>\n",
              "  .colab-df-quickchart {\n",
              "      --bg-color: #E8F0FE;\n",
              "      --fill-color: #1967D2;\n",
              "      --hover-bg-color: #E2EBFA;\n",
              "      --hover-fill-color: #174EA6;\n",
              "      --disabled-fill-color: #AAA;\n",
              "      --disabled-bg-color: #DDD;\n",
              "  }\n",
              "\n",
              "  [theme=dark] .colab-df-quickchart {\n",
              "      --bg-color: #3B4455;\n",
              "      --fill-color: #D2E3FC;\n",
              "      --hover-bg-color: #434B5C;\n",
              "      --hover-fill-color: #FFFFFF;\n",
              "      --disabled-bg-color: #3B4455;\n",
              "      --disabled-fill-color: #666;\n",
              "  }\n",
              "\n",
              "  .colab-df-quickchart {\n",
              "    background-color: var(--bg-color);\n",
              "    border: none;\n",
              "    border-radius: 50%;\n",
              "    cursor: pointer;\n",
              "    display: none;\n",
              "    fill: var(--fill-color);\n",
              "    height: 32px;\n",
              "    padding: 0;\n",
              "    width: 32px;\n",
              "  }\n",
              "\n",
              "  .colab-df-quickchart:hover {\n",
              "    background-color: var(--hover-bg-color);\n",
              "    box-shadow: 0 1px 2px rgba(60, 64, 67, 0.3), 0 1px 3px 1px rgba(60, 64, 67, 0.15);\n",
              "    fill: var(--button-hover-fill-color);\n",
              "  }\n",
              "\n",
              "  .colab-df-quickchart-complete:disabled,\n",
              "  .colab-df-quickchart-complete:disabled:hover {\n",
              "    background-color: var(--disabled-bg-color);\n",
              "    fill: var(--disabled-fill-color);\n",
              "    box-shadow: none;\n",
              "  }\n",
              "\n",
              "  .colab-df-spinner {\n",
              "    border: 2px solid var(--fill-color);\n",
              "    border-color: transparent;\n",
              "    border-bottom-color: var(--fill-color);\n",
              "    animation:\n",
              "      spin 1s steps(1) infinite;\n",
              "  }\n",
              "\n",
              "  @keyframes spin {\n",
              "    0% {\n",
              "      border-color: transparent;\n",
              "      border-bottom-color: var(--fill-color);\n",
              "      border-left-color: var(--fill-color);\n",
              "    }\n",
              "    20% {\n",
              "      border-color: transparent;\n",
              "      border-left-color: var(--fill-color);\n",
              "      border-top-color: var(--fill-color);\n",
              "    }\n",
              "    30% {\n",
              "      border-color: transparent;\n",
              "      border-left-color: var(--fill-color);\n",
              "      border-top-color: var(--fill-color);\n",
              "      border-right-color: var(--fill-color);\n",
              "    }\n",
              "    40% {\n",
              "      border-color: transparent;\n",
              "      border-right-color: var(--fill-color);\n",
              "      border-top-color: var(--fill-color);\n",
              "    }\n",
              "    60% {\n",
              "      border-color: transparent;\n",
              "      border-right-color: var(--fill-color);\n",
              "    }\n",
              "    80% {\n",
              "      border-color: transparent;\n",
              "      border-right-color: var(--fill-color);\n",
              "      border-bottom-color: var(--fill-color);\n",
              "    }\n",
              "    90% {\n",
              "      border-color: transparent;\n",
              "      border-bottom-color: var(--fill-color);\n",
              "    }\n",
              "  }\n",
              "</style>\n",
              "\n",
              "  <script>\n",
              "    async function quickchart(key) {\n",
              "      const quickchartButtonEl =\n",
              "        document.querySelector('#' + key + ' button');\n",
              "      quickchartButtonEl.disabled = true;  // To prevent multiple clicks.\n",
              "      quickchartButtonEl.classList.add('colab-df-spinner');\n",
              "      try {\n",
              "        const charts = await google.colab.kernel.invokeFunction(\n",
              "            'suggestCharts', [key], {});\n",
              "      } catch (error) {\n",
              "        console.error('Error during call to suggestCharts:', error);\n",
              "      }\n",
              "      quickchartButtonEl.classList.remove('colab-df-spinner');\n",
              "      quickchartButtonEl.classList.add('colab-df-quickchart-complete');\n",
              "    }\n",
              "    (() => {\n",
              "      let quickchartButtonEl =\n",
              "        document.querySelector('#df-ca046db9-e0e1-469f-ae8c-2815f8c8eb41 button');\n",
              "      quickchartButtonEl.style.display =\n",
              "        google.colab.kernel.accessAllowed ? 'block' : 'none';\n",
              "    })();\n",
              "  </script>\n",
              "</div>\n",
              "    </div>\n",
              "  </div>\n"
            ],
            "text/plain": [
              "   sepal-length  sepal-width  petal-length  petal-width        class\n",
              "0           5.1          3.5           1.4          0.2  Iris-setosa\n",
              "1           4.9          3.0           1.4          0.2  Iris-setosa\n",
              "2           4.7          3.2           1.3          0.2  Iris-setosa\n",
              "3           4.6          3.1           1.5          0.2  Iris-setosa\n",
              "4           5.0          3.6           1.4          0.2  Iris-setosa"
            ]
          },
          "execution_count": 3,
          "metadata": {},
          "output_type": "execute_result"
        }
      ],
      "source": [
        "dataset.head(5)"
      ]
    },
    {
      "cell_type": "code",
      "execution_count": null,
      "metadata": {
        "colab": {
          "base_uri": "https://localhost:8080/"
        },
        "id": "jCsdmjIMm-7s",
        "outputId": "cf0c2f0b-538b-4a26-ce19-98cb4bcb8cbc"
      },
      "outputs": [
        {
          "data": {
            "text/plain": [
              "(150, 5)"
            ]
          },
          "execution_count": 4,
          "metadata": {},
          "output_type": "execute_result"
        }
      ],
      "source": [
        "# Mencetak bentuk dataset\n",
        "dataset.shape"
      ]
    },
    {
      "cell_type": "markdown",
      "metadata": {
        "id": "Sk1CWV5dnKAD"
      },
      "source": [
        "Training-Test Split"
      ]
    },
    {
      "cell_type": "code",
      "execution_count": null,
      "metadata": {
        "id": "fX7NlRhYnNVH"
      },
      "outputs": [],
      "source": [
        "# import library yang dibutuhkan\n",
        "from sklearn import model_selection"
      ]
    },
    {
      "cell_type": "code",
      "execution_count": null,
      "metadata": {
        "id": "tYQW9y39nbpO"
      },
      "outputs": [],
      "source": [
        "# Split-out validation dataset\n",
        "\n",
        "# Mengkonversi dataset menjadi array\n",
        "array = dataset.values\n",
        "\n",
        "# Memisahkan fitur kolom 0 hingga 4 sebagai variabel independen (X)\n",
        "X = array[:,0:4]\n",
        "\n",
        "# Memilih kolom 4 sebagai variabel dependen (Y)\n",
        "Y = array[:,4]\n",
        "\n",
        "# Menentukan ukuran validasi (20% dari total data)\n",
        "validation_size = 0.20\n",
        "\n",
        "# Menentukan seed untuk reproducibility\n",
        "seed = 7\n",
        "\n",
        "# Membagi dataset menjadi data latih dan data validasi menggunakan train_test_split\n",
        "X_train, X_validation, Y_train, Y_validation = model_selection.train_test_split(X, Y, test_size=validation_size, random_state=seed)"
      ]
    },
    {
      "cell_type": "code",
      "execution_count": null,
      "metadata": {
        "colab": {
          "base_uri": "https://localhost:8080/"
        },
        "id": "bQ8TKZ5DoLz3",
        "outputId": "65614f18-8b83-427f-f8d7-cc929c912f5b"
      },
      "outputs": [
        {
          "name": "stdout",
          "output_type": "stream",
          "text": [
            "X_train : (120, 4)\n",
            "X_validation : (30, 4)\n",
            "Y_train : (120,)\n",
            "Y_validation : (30,)\n"
          ]
        }
      ],
      "source": [
        "# Print Split-Out\n",
        "\n",
        "# Menampilkan shape dari set data X_train\n",
        "print(\"X_train :\", X_train.shape)\n",
        "\n",
        "# Menampilkan shape dari set data X_validation\n",
        "print(\"X_validation :\", X_validation.shape)\n",
        "\n",
        "# Menampilkan shape dari label data Y_train\n",
        "print(\"Y_train :\", Y_train.shape)\n",
        "\n",
        "# Menampilkan shape dari label data Y_validation\n",
        "print(\"Y_validation :\", Y_validation.shape)"
      ]
    },
    {
      "cell_type": "code",
      "execution_count": null,
      "metadata": {
        "id": "5TwHU6ggoqE1"
      },
      "outputs": [],
      "source": [
        "# Test options and evaluation metric\n",
        "seed = 7\n",
        "\n",
        "scoring = 'accuracy'"
      ]
    },
    {
      "cell_type": "code",
      "execution_count": null,
      "metadata": {
        "id": "6NkX6qrPozb1"
      },
      "outputs": [],
      "source": [
        "# Import Library berisi algoritma klasifikasi yang akan digunakan\n",
        "\n",
        "# Mengimport kelas GaussianProcessClassifier dari modul sklearn.gaussian_process\n",
        "from sklearn.gaussian_process import GaussianProcessClassifier\n",
        "\n",
        "# Mengimport kelas AdaBoostClassifier dari modul sklearn.ensemble\n",
        "from sklearn.ensemble import AdaBoostClassifier\n",
        "\n",
        "# Mengimport kelas DecisionTreeClassifier dari modul sklearn.tree\n",
        "from sklearn.tree import DecisionTreeClassifier\n",
        "\n",
        "# Spot Check Algorithms\n",
        "\n",
        "# Inisialisasi model Gaussian, Ada Boost, dan Decision Tree\n",
        "models = []\n",
        "\n",
        "# Menambahkan model Gaussian ke dalam list models\n",
        "models.append(('Gaussian Process', GaussianProcessClassifier()))\n",
        "\n",
        "# Menambahkan model Ada Boost ke dalam list models\n",
        "models.append(('Ada Boost', AdaBoostClassifier()))\n",
        "\n",
        "# Menambahkan model Decision Tree ke dalam list models\n",
        "models.append(('Decision Tree', DecisionTreeClassifier()))"
      ]
    },
    {
      "cell_type": "code",
      "execution_count": null,
      "metadata": {
        "colab": {
          "base_uri": "https://localhost:8080/"
        },
        "id": "kvIoC56TsJ5x",
        "outputId": "f8fb37f1-343a-4720-808d-c100f92d2558"
      },
      "outputs": [
        {
          "name": "stdout",
          "output_type": "stream",
          "text": [
            "Gaussian Process: 0.983333 (0.033333)\n",
            "Ada Boost: 0.966667 (0.040825)\n",
            "Decision Tree: 0.958333 (0.076830)\n"
          ]
        }
      ],
      "source": [
        "# evaluate each model in turn\n",
        "results = []\n",
        "\n",
        "# Menyimpan nama-nama model\n",
        "names = []\n",
        "\n",
        "for name, model in models:\n",
        "  # Membagi data menjadi training dan validasi menggunakan k-fold validation\n",
        "  kfold = model_selection.KFold(n_splits=10, random_state=seed, shuffle=True)\n",
        "\n",
        "  # Menghitung Nilai Akurasi\n",
        "  cv_results = model_selection.cross_val_score(model, X_train, Y_train, cv=kfold, scoring=scoring)\n",
        "\n",
        "  # Memasukan hasil nilai akurasi di results\n",
        "  results.append(cv_results)\n",
        "  names.append(name)\n",
        "\n",
        "  # MEngeluarkan pesan yang berisi nama, rata - rata, dan standar deviasi\n",
        "  msg = \"%s: %f (%f)\" % (name, cv_results.mean(), cv_results.std())\n",
        "  print(msg)"
      ]
    },
    {
      "cell_type": "markdown",
      "source": [
        "Dari hasil evaluasi di atas, dapat dilihat bahwa Gaussian memperoleh nilai akurasi perkiraan terbesar yaitu 0.983333. Dengan mengetahui model yang paling tinggi itu Gaussian dapat dilanjutkan dengan melakukan pengujian keakuratan model Gaussian."
      ],
      "metadata": {
        "id": "fZXJdlVGRb_K"
      }
    },
    {
      "cell_type": "code",
      "execution_count": null,
      "metadata": {
        "id": "fcNpOTgms8NU"
      },
      "outputs": [],
      "source": [
        "#Import Library yang dibutuhkan\n",
        "from sklearn.metrics import accuracy_score, confusion_matrix, classification_report"
      ]
    },
    {
      "cell_type": "code",
      "execution_count": null,
      "metadata": {
        "colab": {
          "base_uri": "https://localhost:8080/"
        },
        "id": "Iv7almyEuYYW",
        "outputId": "0ebd9858-9a31-4f85-f6b7-600b5726a168"
      },
      "outputs": [
        {
          "name": "stdout",
          "output_type": "stream",
          "text": [
            "0.8666666666666667\n",
            "[[ 7  0  0]\n",
            " [ 0 10  2]\n",
            " [ 0  2  9]]\n",
            "                 precision    recall  f1-score   support\n",
            "\n",
            "    Iris-setosa       1.00      1.00      1.00         7\n",
            "Iris-versicolor       0.83      0.83      0.83        12\n",
            " Iris-virginica       0.82      0.82      0.82        11\n",
            "\n",
            "       accuracy                           0.87        30\n",
            "      macro avg       0.88      0.88      0.88        30\n",
            "   weighted avg       0.87      0.87      0.87        30\n",
            "\n"
          ]
        }
      ],
      "source": [
        "# Make predictions on validation dataset\n",
        "gp = GaussianProcessClassifier()\n",
        "\n",
        "# Melatih model Gaussian Process menggunakan data latih\n",
        "gp.fit(X_train, Y_train)\n",
        "\n",
        "# Menguji model klasisifikasi (Gaussian Process) yang dihasilkan dari proses pelatihan data dengan testing data\n",
        "predictions = gp.predict(X_validation)\n",
        "\n",
        "#Mencetak accuracy score menggunakan Y validation (memprediksi masuk kelas mana)\n",
        "print(accuracy_score(Y_validation, predictions))\n",
        "\n",
        "print(confusion_matrix(Y_validation, predictions))\n",
        "print(classification_report(Y_validation, predictions))"
      ]
    },
    {
      "cell_type": "markdown",
      "source": [
        "*   Data validasi yang diterapkan dengan model Gaussian memiliki hasil evaluasi atau tingkat akurasi mencapai nilai 0.8666666666666667 atau 86.67%.\n",
        "*   Confusion matrix akan menunjukan secara detail ketepatan model dalam memprediksi kelas untuk setiap sampel. Hasil menunjukan bahwa model Gaussian memiliki kemampuan yang baik dalam memprediksi tiap kelas. Terdapat 7 contoh berhasil diklasifikasi di kelas Iris-setosa, 12 contoh berhasil diklasifikasi di kelas Iris-versicolor, dan terdapat 11 contoh berhasil diklasifikasi di kelas Iris-virginica.\n",
        "\n",
        "*   Classification Support meenandakan kemampuan model dalam mengindentifikasi dan mengklasifikasi setiap kelas secara akurat. Pada classification support menunjukan bahwa model memiliki precision tinggi pada Iris-setosa, recall semua mencapai akurasi sebesar 0.88 atau 88%, dan f1-score semua mencapai akurasi sebesar 0.87 atau 87%.\n"
      ],
      "metadata": {
        "id": "VnEAkZPIRsu7"
      }
    },
    {
      "cell_type": "markdown",
      "metadata": {
        "id": "5zrqDkqBwogz"
      },
      "source": [
        "PERTEMEMUAN 2 - EVALUASI ALGORITMA (DIABETIC RETINOPATHY DEBRECEN)"
      ]
    },
    {
      "cell_type": "code",
      "source": [
        "pip install ucimlrepo"
      ],
      "metadata": {
        "colab": {
          "base_uri": "https://localhost:8080/"
        },
        "id": "J3eRY_Vo6Mxx",
        "outputId": "aa0bae53-6a26-44f5-a6e7-8a8d07ae493e"
      },
      "execution_count": 1,
      "outputs": [
        {
          "output_type": "stream",
          "name": "stdout",
          "text": [
            "Collecting ucimlrepo\n",
            "  Downloading ucimlrepo-0.0.3-py3-none-any.whl (7.0 kB)\n",
            "Installing collected packages: ucimlrepo\n",
            "Successfully installed ucimlrepo-0.0.3\n"
          ]
        }
      ]
    },
    {
      "cell_type": "code",
      "source": [
        "from ucimlrepo import fetch_ucirepo\n",
        "\n",
        "# fetch dataset\n",
        "diabetic_retinopathy_debrecen = fetch_ucirepo(id=329)\n",
        "\n",
        "# data (as pandas dataframes)\n",
        "X = diabetic_retinopathy_debrecen.data.features\n",
        "y = diabetic_retinopathy_debrecen.data.targets\n",
        "\n",
        "# metadata\n",
        "print(diabetic_retinopathy_debrecen.metadata)\n",
        "\n",
        "# variable information\n",
        "print(diabetic_retinopathy_debrecen.variables)"
      ],
      "metadata": {
        "colab": {
          "base_uri": "https://localhost:8080/"
        },
        "id": "1cB3e4zG6Ne9",
        "outputId": "068a0804-69ea-4a4b-8419-722e24fa993f"
      },
      "execution_count": 2,
      "outputs": [
        {
          "output_type": "stream",
          "name": "stdout",
          "text": [
            "{'uci_id': 329, 'name': 'Diabetic Retinopathy Debrecen', 'repository_url': 'https://archive.ics.uci.edu/dataset/329/diabetic+retinopathy+debrecen', 'data_url': 'https://archive.ics.uci.edu/static/public/329/data.csv', 'abstract': 'This dataset contains features extracted from the Messidor image set to predict whether an image contains signs of diabetic retinopathy or not. ', 'area': 'Health and Medicine', 'tasks': ['Classification'], 'characteristics': ['Multivariate'], 'num_instances': 1151, 'num_features': 19, 'feature_types': ['Integer', 'Real'], 'demographics': [], 'target_col': ['Class'], 'index_col': None, 'has_missing_values': 'no', 'missing_values_symbol': None, 'year_of_dataset_creation': 2014, 'last_updated': 'Fri Nov 03 2023', 'dataset_doi': '10.24432/C5XP4P', 'creators': ['Balint Antal', 'Andras Hajdu'], 'intro_paper': {'title': 'An ensemble-based system for automatic screening of diabetic retinopathy', 'authors': 'B. Antal, A. Hajdu', 'published_in': 'Knowledge-Based Systems', 'year': 2014, 'url': 'https://dl.acm.org/doi/abs/10.1016/j.knosys.2013.12.023', 'doi': 'https://doi.org/10.1016/j.knosys.2013.12.023'}, 'additional_info': {'summary': 'This dataset contains features extracted from the Messidor image set to predict whether an image contains signs of diabetic retinopathy or not. All features represent either a detected lesion, a descriptive feature of a anatomical part or an image-level descriptor. The underlying method image analysis and feature extraction as well as our classification technique is described in Antal and Hajdu, Knowledge-Based Systems, 2014. \\n\\nThe image set (Messidor) is available at http://messidor.crihan.fr/index-en.php.', 'purpose': None, 'funded_by': None, 'instances_represent': 'Medical patients', 'recommended_data_splits': None, 'sensitive_data': None, 'preprocessing_description': None, 'variable_info': '0) The binary result of quality assessment. 0 = bad quality 1 = sufficient quality.\\r\\n1) The binary result of pre-screening, where 1 indicates severe retinal abnormality and 0 its lack.\\r\\n2-7) The results of MA detection. Each feature value stand for the\\r\\nnumber of MAs found at the confidence levels alpha = 0.5, . . . , 1, respectively.\\r\\n8-15) contain the same information as 2-7) for exudates. However,\\r\\nas exudates are represented by a set of points rather than the number of\\r\\npixels constructing the lesions, these features are normalized by dividing the\\r\\nnumber of lesions with the diameter of the ROI to compensate different image\\r\\nsizes.\\r\\n16) The euclidean distance of the center of\\r\\nthe macula and the center of the optic disc to provide important information\\r\\nregarding the patientâ€™s condition. This feature\\r\\nis also normalized with the diameter of the ROI.\\r\\n17) The diameter of the optic disc.\\r\\n18) The binary result of the AM/FM-based classification.\\r\\n19) Class label. 1 = contains signs of DR (Accumulative label for the Messidor classes 1, 2, 3), 0 = no signs of DR.', 'citation': None}}\n",
            "                         name     role        type demographic  \\\n",
            "0                     quality  Feature      Binary        None   \n",
            "1               pre_screening  Feature      Binary        None   \n",
            "2                         ma1  Feature     Integer        None   \n",
            "3                         ma2  Feature     Integer        None   \n",
            "4                         ma3  Feature     Integer        None   \n",
            "5                         ma4  Feature     Integer        None   \n",
            "6                         ma5  Feature     Integer        None   \n",
            "7                         ma6  Feature     Integer        None   \n",
            "8                    exudate1  Feature  Continuous        None   \n",
            "9                    exudate2  Feature  Continuous        None   \n",
            "10                   exudate3  Feature  Continuous        None   \n",
            "11                   exudate3  Feature  Continuous        None   \n",
            "12                   exudate5  Feature  Continuous        None   \n",
            "13                   exudate6  Feature  Continuous        None   \n",
            "14                   exudate7  Feature  Continuous        None   \n",
            "15                   exudate8  Feature  Continuous        None   \n",
            "16  macula_opticdisc_distance  Feature  Continuous        None   \n",
            "17         opticdisc_diameter  Feature  Continuous        None   \n",
            "18       am_fm_classification  Feature      Binary        None   \n",
            "19                      Class   Target      Binary        None   \n",
            "\n",
            "                                          description units missing_values  \n",
            "0   The binary result of quality assessment. 0 = b...  None             no  \n",
            "1   The binary result of pre-screening, where 1 in...  None             no  \n",
            "2   ma1 - ma-6 contain the results of MA detection...  None             no  \n",
            "3                                                None  None             no  \n",
            "4                                                None  None             no  \n",
            "5                                                None  None             no  \n",
            "6                                                None  None             no  \n",
            "7                                                None  None             no  \n",
            "8   exudate1 - exudate8 contain the same informati...  None             no  \n",
            "9                                                None  None             no  \n",
            "10                                               None  None             no  \n",
            "11                                               None  None             no  \n",
            "12                                               None  None             no  \n",
            "13                                               None  None             no  \n",
            "14                                               None  None             no  \n",
            "15                                               None  None             no  \n",
            "16  The euclidean distance of the center of the ma...  None             no  \n",
            "17                    The diameter of the optic disc.  None             no  \n",
            "18  The binary result of the AM/FM-based classific...  None             no  \n",
            "19  Class label. 1 = contains signs of DR (Accumul...  None             no  \n"
          ]
        }
      ]
    },
    {
      "cell_type": "code",
      "execution_count": 3,
      "metadata": {
        "id": "yGGMagEAwq5i"
      },
      "outputs": [],
      "source": [
        "# import libary yang dibutuhkan yaitu pandas disingkat menjadi pd\n",
        "import pandas as pd"
      ]
    },
    {
      "cell_type": "code",
      "execution_count": 4,
      "metadata": {
        "id": "qOKUtw1SzNzl"
      },
      "outputs": [],
      "source": [
        "# Mendefinisikan link dataset\n",
        "url = \"https://archive.ics.uci.edu/static/public/329/data.csv\"\n",
        "\n",
        "# Membaca dataset dari URL\n",
        "raw_dataset = pd.read_csv(url)\n",
        "\n",
        "# Memilih kolom-kolom tertentu dari dataset\n",
        "dataset = raw_dataset.iloc[:, 0:19]"
      ]
    },
    {
      "cell_type": "code",
      "execution_count": 5,
      "metadata": {
        "colab": {
          "base_uri": "https://localhost:8080/",
          "height": 443
        },
        "id": "OEu72y-66A44",
        "outputId": "5c785bc5-d016-49c6-c067-7a96c16bd45d"
      },
      "outputs": [
        {
          "output_type": "execute_result",
          "data": {
            "text/plain": [
              "      quality  pre_screening  ma1  ma2  ma3  ma4  ma5  ma6   exudate1  \\\n",
              "0           1              1   22   22   22   19   18   14  49.895756   \n",
              "1           1              1   24   24   22   18   16   13  57.709936   \n",
              "2           1              1   62   60   59   54   47   33  55.831441   \n",
              "3           1              1   55   53   53   50   43   31  40.467228   \n",
              "4           1              1   44   44   44   41   39   27  18.026254   \n",
              "...       ...            ...  ...  ...  ...  ...  ...  ...        ...   \n",
              "1146        1              1   34   34   34   33   31   24   6.071765   \n",
              "1147        1              1   49   49   49   49   45   37  63.197145   \n",
              "1148        1              0   49   48   48   45   43   33  30.461898   \n",
              "1149        1              1   39   36   29   23   13    7  40.525739   \n",
              "1150        1              1    7    7    7    7    7    5  69.423565   \n",
              "\n",
              "       exudate2   exudate3  exudate3.1  exudate5  exudate6  exudate7  \\\n",
              "0     17.775994   5.270920    0.771761  0.018632  0.006864  0.003923   \n",
              "1     23.799994   3.325423    0.234185  0.003903  0.003903  0.003903   \n",
              "2     27.993933  12.687485    4.852282  1.393889  0.373252  0.041817   \n",
              "3     18.445954   9.118901    3.079428  0.840261  0.272434  0.007653   \n",
              "4      8.570709   0.410381    0.000000  0.000000  0.000000  0.000000   \n",
              "...         ...        ...         ...       ...       ...       ...   \n",
              "1146   0.937472   0.031145    0.003115  0.000000  0.000000  0.000000   \n",
              "1147  27.377668   8.067688    0.979548  0.001552  0.000000  0.000000   \n",
              "1148  13.966980   1.763305    0.137858  0.011221  0.000000  0.000000   \n",
              "1149  12.604947   4.740919    1.077570  0.563518  0.326860  0.239568   \n",
              "1150   7.031843   1.750548    0.046597  0.021180  0.008472  0.000000   \n",
              "\n",
              "      exudate8  macula_opticdisc_distance  opticdisc_diameter  \\\n",
              "0     0.003923                   0.486903            0.100025   \n",
              "1     0.003903                   0.520908            0.144414   \n",
              "2     0.007744                   0.530904            0.128548   \n",
              "3     0.001531                   0.483284            0.114790   \n",
              "4     0.000000                   0.475935            0.123572   \n",
              "...        ...                        ...                 ...   \n",
              "1146  0.000000                   0.537470            0.116795   \n",
              "1147  0.000000                   0.516733            0.124190   \n",
              "1148  0.000000                   0.560632            0.129843   \n",
              "1149  0.174584                   0.485972            0.106690   \n",
              "1150  0.000000                   0.556192            0.088957   \n",
              "\n",
              "      am_fm_classification  \n",
              "0                        1  \n",
              "1                        0  \n",
              "2                        0  \n",
              "3                        0  \n",
              "4                        0  \n",
              "...                    ...  \n",
              "1146                     0  \n",
              "1147                     0  \n",
              "1148                     0  \n",
              "1149                     1  \n",
              "1150                     0  \n",
              "\n",
              "[1151 rows x 19 columns]"
            ],
            "text/html": [
              "\n",
              "  <div id=\"df-6d504dfb-45cd-4aab-a7d8-323a43692ce1\" class=\"colab-df-container\">\n",
              "    <div>\n",
              "<style scoped>\n",
              "    .dataframe tbody tr th:only-of-type {\n",
              "        vertical-align: middle;\n",
              "    }\n",
              "\n",
              "    .dataframe tbody tr th {\n",
              "        vertical-align: top;\n",
              "    }\n",
              "\n",
              "    .dataframe thead th {\n",
              "        text-align: right;\n",
              "    }\n",
              "</style>\n",
              "<table border=\"1\" class=\"dataframe\">\n",
              "  <thead>\n",
              "    <tr style=\"text-align: right;\">\n",
              "      <th></th>\n",
              "      <th>quality</th>\n",
              "      <th>pre_screening</th>\n",
              "      <th>ma1</th>\n",
              "      <th>ma2</th>\n",
              "      <th>ma3</th>\n",
              "      <th>ma4</th>\n",
              "      <th>ma5</th>\n",
              "      <th>ma6</th>\n",
              "      <th>exudate1</th>\n",
              "      <th>exudate2</th>\n",
              "      <th>exudate3</th>\n",
              "      <th>exudate3.1</th>\n",
              "      <th>exudate5</th>\n",
              "      <th>exudate6</th>\n",
              "      <th>exudate7</th>\n",
              "      <th>exudate8</th>\n",
              "      <th>macula_opticdisc_distance</th>\n",
              "      <th>opticdisc_diameter</th>\n",
              "      <th>am_fm_classification</th>\n",
              "    </tr>\n",
              "  </thead>\n",
              "  <tbody>\n",
              "    <tr>\n",
              "      <th>0</th>\n",
              "      <td>1</td>\n",
              "      <td>1</td>\n",
              "      <td>22</td>\n",
              "      <td>22</td>\n",
              "      <td>22</td>\n",
              "      <td>19</td>\n",
              "      <td>18</td>\n",
              "      <td>14</td>\n",
              "      <td>49.895756</td>\n",
              "      <td>17.775994</td>\n",
              "      <td>5.270920</td>\n",
              "      <td>0.771761</td>\n",
              "      <td>0.018632</td>\n",
              "      <td>0.006864</td>\n",
              "      <td>0.003923</td>\n",
              "      <td>0.003923</td>\n",
              "      <td>0.486903</td>\n",
              "      <td>0.100025</td>\n",
              "      <td>1</td>\n",
              "    </tr>\n",
              "    <tr>\n",
              "      <th>1</th>\n",
              "      <td>1</td>\n",
              "      <td>1</td>\n",
              "      <td>24</td>\n",
              "      <td>24</td>\n",
              "      <td>22</td>\n",
              "      <td>18</td>\n",
              "      <td>16</td>\n",
              "      <td>13</td>\n",
              "      <td>57.709936</td>\n",
              "      <td>23.799994</td>\n",
              "      <td>3.325423</td>\n",
              "      <td>0.234185</td>\n",
              "      <td>0.003903</td>\n",
              "      <td>0.003903</td>\n",
              "      <td>0.003903</td>\n",
              "      <td>0.003903</td>\n",
              "      <td>0.520908</td>\n",
              "      <td>0.144414</td>\n",
              "      <td>0</td>\n",
              "    </tr>\n",
              "    <tr>\n",
              "      <th>2</th>\n",
              "      <td>1</td>\n",
              "      <td>1</td>\n",
              "      <td>62</td>\n",
              "      <td>60</td>\n",
              "      <td>59</td>\n",
              "      <td>54</td>\n",
              "      <td>47</td>\n",
              "      <td>33</td>\n",
              "      <td>55.831441</td>\n",
              "      <td>27.993933</td>\n",
              "      <td>12.687485</td>\n",
              "      <td>4.852282</td>\n",
              "      <td>1.393889</td>\n",
              "      <td>0.373252</td>\n",
              "      <td>0.041817</td>\n",
              "      <td>0.007744</td>\n",
              "      <td>0.530904</td>\n",
              "      <td>0.128548</td>\n",
              "      <td>0</td>\n",
              "    </tr>\n",
              "    <tr>\n",
              "      <th>3</th>\n",
              "      <td>1</td>\n",
              "      <td>1</td>\n",
              "      <td>55</td>\n",
              "      <td>53</td>\n",
              "      <td>53</td>\n",
              "      <td>50</td>\n",
              "      <td>43</td>\n",
              "      <td>31</td>\n",
              "      <td>40.467228</td>\n",
              "      <td>18.445954</td>\n",
              "      <td>9.118901</td>\n",
              "      <td>3.079428</td>\n",
              "      <td>0.840261</td>\n",
              "      <td>0.272434</td>\n",
              "      <td>0.007653</td>\n",
              "      <td>0.001531</td>\n",
              "      <td>0.483284</td>\n",
              "      <td>0.114790</td>\n",
              "      <td>0</td>\n",
              "    </tr>\n",
              "    <tr>\n",
              "      <th>4</th>\n",
              "      <td>1</td>\n",
              "      <td>1</td>\n",
              "      <td>44</td>\n",
              "      <td>44</td>\n",
              "      <td>44</td>\n",
              "      <td>41</td>\n",
              "      <td>39</td>\n",
              "      <td>27</td>\n",
              "      <td>18.026254</td>\n",
              "      <td>8.570709</td>\n",
              "      <td>0.410381</td>\n",
              "      <td>0.000000</td>\n",
              "      <td>0.000000</td>\n",
              "      <td>0.000000</td>\n",
              "      <td>0.000000</td>\n",
              "      <td>0.000000</td>\n",
              "      <td>0.475935</td>\n",
              "      <td>0.123572</td>\n",
              "      <td>0</td>\n",
              "    </tr>\n",
              "    <tr>\n",
              "      <th>...</th>\n",
              "      <td>...</td>\n",
              "      <td>...</td>\n",
              "      <td>...</td>\n",
              "      <td>...</td>\n",
              "      <td>...</td>\n",
              "      <td>...</td>\n",
              "      <td>...</td>\n",
              "      <td>...</td>\n",
              "      <td>...</td>\n",
              "      <td>...</td>\n",
              "      <td>...</td>\n",
              "      <td>...</td>\n",
              "      <td>...</td>\n",
              "      <td>...</td>\n",
              "      <td>...</td>\n",
              "      <td>...</td>\n",
              "      <td>...</td>\n",
              "      <td>...</td>\n",
              "      <td>...</td>\n",
              "    </tr>\n",
              "    <tr>\n",
              "      <th>1146</th>\n",
              "      <td>1</td>\n",
              "      <td>1</td>\n",
              "      <td>34</td>\n",
              "      <td>34</td>\n",
              "      <td>34</td>\n",
              "      <td>33</td>\n",
              "      <td>31</td>\n",
              "      <td>24</td>\n",
              "      <td>6.071765</td>\n",
              "      <td>0.937472</td>\n",
              "      <td>0.031145</td>\n",
              "      <td>0.003115</td>\n",
              "      <td>0.000000</td>\n",
              "      <td>0.000000</td>\n",
              "      <td>0.000000</td>\n",
              "      <td>0.000000</td>\n",
              "      <td>0.537470</td>\n",
              "      <td>0.116795</td>\n",
              "      <td>0</td>\n",
              "    </tr>\n",
              "    <tr>\n",
              "      <th>1147</th>\n",
              "      <td>1</td>\n",
              "      <td>1</td>\n",
              "      <td>49</td>\n",
              "      <td>49</td>\n",
              "      <td>49</td>\n",
              "      <td>49</td>\n",
              "      <td>45</td>\n",
              "      <td>37</td>\n",
              "      <td>63.197145</td>\n",
              "      <td>27.377668</td>\n",
              "      <td>8.067688</td>\n",
              "      <td>0.979548</td>\n",
              "      <td>0.001552</td>\n",
              "      <td>0.000000</td>\n",
              "      <td>0.000000</td>\n",
              "      <td>0.000000</td>\n",
              "      <td>0.516733</td>\n",
              "      <td>0.124190</td>\n",
              "      <td>0</td>\n",
              "    </tr>\n",
              "    <tr>\n",
              "      <th>1148</th>\n",
              "      <td>1</td>\n",
              "      <td>0</td>\n",
              "      <td>49</td>\n",
              "      <td>48</td>\n",
              "      <td>48</td>\n",
              "      <td>45</td>\n",
              "      <td>43</td>\n",
              "      <td>33</td>\n",
              "      <td>30.461898</td>\n",
              "      <td>13.966980</td>\n",
              "      <td>1.763305</td>\n",
              "      <td>0.137858</td>\n",
              "      <td>0.011221</td>\n",
              "      <td>0.000000</td>\n",
              "      <td>0.000000</td>\n",
              "      <td>0.000000</td>\n",
              "      <td>0.560632</td>\n",
              "      <td>0.129843</td>\n",
              "      <td>0</td>\n",
              "    </tr>\n",
              "    <tr>\n",
              "      <th>1149</th>\n",
              "      <td>1</td>\n",
              "      <td>1</td>\n",
              "      <td>39</td>\n",
              "      <td>36</td>\n",
              "      <td>29</td>\n",
              "      <td>23</td>\n",
              "      <td>13</td>\n",
              "      <td>7</td>\n",
              "      <td>40.525739</td>\n",
              "      <td>12.604947</td>\n",
              "      <td>4.740919</td>\n",
              "      <td>1.077570</td>\n",
              "      <td>0.563518</td>\n",
              "      <td>0.326860</td>\n",
              "      <td>0.239568</td>\n",
              "      <td>0.174584</td>\n",
              "      <td>0.485972</td>\n",
              "      <td>0.106690</td>\n",
              "      <td>1</td>\n",
              "    </tr>\n",
              "    <tr>\n",
              "      <th>1150</th>\n",
              "      <td>1</td>\n",
              "      <td>1</td>\n",
              "      <td>7</td>\n",
              "      <td>7</td>\n",
              "      <td>7</td>\n",
              "      <td>7</td>\n",
              "      <td>7</td>\n",
              "      <td>5</td>\n",
              "      <td>69.423565</td>\n",
              "      <td>7.031843</td>\n",
              "      <td>1.750548</td>\n",
              "      <td>0.046597</td>\n",
              "      <td>0.021180</td>\n",
              "      <td>0.008472</td>\n",
              "      <td>0.000000</td>\n",
              "      <td>0.000000</td>\n",
              "      <td>0.556192</td>\n",
              "      <td>0.088957</td>\n",
              "      <td>0</td>\n",
              "    </tr>\n",
              "  </tbody>\n",
              "</table>\n",
              "<p>1151 rows × 19 columns</p>\n",
              "</div>\n",
              "    <div class=\"colab-df-buttons\">\n",
              "\n",
              "  <div class=\"colab-df-container\">\n",
              "    <button class=\"colab-df-convert\" onclick=\"convertToInteractive('df-6d504dfb-45cd-4aab-a7d8-323a43692ce1')\"\n",
              "            title=\"Convert this dataframe to an interactive table.\"\n",
              "            style=\"display:none;\">\n",
              "\n",
              "  <svg xmlns=\"http://www.w3.org/2000/svg\" height=\"24px\" viewBox=\"0 -960 960 960\">\n",
              "    <path d=\"M120-120v-720h720v720H120Zm60-500h600v-160H180v160Zm220 220h160v-160H400v160Zm0 220h160v-160H400v160ZM180-400h160v-160H180v160Zm440 0h160v-160H620v160ZM180-180h160v-160H180v160Zm440 0h160v-160H620v160Z\"/>\n",
              "  </svg>\n",
              "    </button>\n",
              "\n",
              "  <style>\n",
              "    .colab-df-container {\n",
              "      display:flex;\n",
              "      gap: 12px;\n",
              "    }\n",
              "\n",
              "    .colab-df-convert {\n",
              "      background-color: #E8F0FE;\n",
              "      border: none;\n",
              "      border-radius: 50%;\n",
              "      cursor: pointer;\n",
              "      display: none;\n",
              "      fill: #1967D2;\n",
              "      height: 32px;\n",
              "      padding: 0 0 0 0;\n",
              "      width: 32px;\n",
              "    }\n",
              "\n",
              "    .colab-df-convert:hover {\n",
              "      background-color: #E2EBFA;\n",
              "      box-shadow: 0px 1px 2px rgba(60, 64, 67, 0.3), 0px 1px 3px 1px rgba(60, 64, 67, 0.15);\n",
              "      fill: #174EA6;\n",
              "    }\n",
              "\n",
              "    .colab-df-buttons div {\n",
              "      margin-bottom: 4px;\n",
              "    }\n",
              "\n",
              "    [theme=dark] .colab-df-convert {\n",
              "      background-color: #3B4455;\n",
              "      fill: #D2E3FC;\n",
              "    }\n",
              "\n",
              "    [theme=dark] .colab-df-convert:hover {\n",
              "      background-color: #434B5C;\n",
              "      box-shadow: 0px 1px 3px 1px rgba(0, 0, 0, 0.15);\n",
              "      filter: drop-shadow(0px 1px 2px rgba(0, 0, 0, 0.3));\n",
              "      fill: #FFFFFF;\n",
              "    }\n",
              "  </style>\n",
              "\n",
              "    <script>\n",
              "      const buttonEl =\n",
              "        document.querySelector('#df-6d504dfb-45cd-4aab-a7d8-323a43692ce1 button.colab-df-convert');\n",
              "      buttonEl.style.display =\n",
              "        google.colab.kernel.accessAllowed ? 'block' : 'none';\n",
              "\n",
              "      async function convertToInteractive(key) {\n",
              "        const element = document.querySelector('#df-6d504dfb-45cd-4aab-a7d8-323a43692ce1');\n",
              "        const dataTable =\n",
              "          await google.colab.kernel.invokeFunction('convertToInteractive',\n",
              "                                                    [key], {});\n",
              "        if (!dataTable) return;\n",
              "\n",
              "        const docLinkHtml = 'Like what you see? Visit the ' +\n",
              "          '<a target=\"_blank\" href=https://colab.research.google.com/notebooks/data_table.ipynb>data table notebook</a>'\n",
              "          + ' to learn more about interactive tables.';\n",
              "        element.innerHTML = '';\n",
              "        dataTable['output_type'] = 'display_data';\n",
              "        await google.colab.output.renderOutput(dataTable, element);\n",
              "        const docLink = document.createElement('div');\n",
              "        docLink.innerHTML = docLinkHtml;\n",
              "        element.appendChild(docLink);\n",
              "      }\n",
              "    </script>\n",
              "  </div>\n",
              "\n",
              "\n",
              "<div id=\"df-4415b9bf-b61e-493e-bbc4-b050452505dd\">\n",
              "  <button class=\"colab-df-quickchart\" onclick=\"quickchart('df-4415b9bf-b61e-493e-bbc4-b050452505dd')\"\n",
              "            title=\"Suggest charts\"\n",
              "            style=\"display:none;\">\n",
              "\n",
              "<svg xmlns=\"http://www.w3.org/2000/svg\" height=\"24px\"viewBox=\"0 0 24 24\"\n",
              "     width=\"24px\">\n",
              "    <g>\n",
              "        <path d=\"M19 3H5c-1.1 0-2 .9-2 2v14c0 1.1.9 2 2 2h14c1.1 0 2-.9 2-2V5c0-1.1-.9-2-2-2zM9 17H7v-7h2v7zm4 0h-2V7h2v10zm4 0h-2v-4h2v4z\"/>\n",
              "    </g>\n",
              "</svg>\n",
              "  </button>\n",
              "\n",
              "<style>\n",
              "  .colab-df-quickchart {\n",
              "      --bg-color: #E8F0FE;\n",
              "      --fill-color: #1967D2;\n",
              "      --hover-bg-color: #E2EBFA;\n",
              "      --hover-fill-color: #174EA6;\n",
              "      --disabled-fill-color: #AAA;\n",
              "      --disabled-bg-color: #DDD;\n",
              "  }\n",
              "\n",
              "  [theme=dark] .colab-df-quickchart {\n",
              "      --bg-color: #3B4455;\n",
              "      --fill-color: #D2E3FC;\n",
              "      --hover-bg-color: #434B5C;\n",
              "      --hover-fill-color: #FFFFFF;\n",
              "      --disabled-bg-color: #3B4455;\n",
              "      --disabled-fill-color: #666;\n",
              "  }\n",
              "\n",
              "  .colab-df-quickchart {\n",
              "    background-color: var(--bg-color);\n",
              "    border: none;\n",
              "    border-radius: 50%;\n",
              "    cursor: pointer;\n",
              "    display: none;\n",
              "    fill: var(--fill-color);\n",
              "    height: 32px;\n",
              "    padding: 0;\n",
              "    width: 32px;\n",
              "  }\n",
              "\n",
              "  .colab-df-quickchart:hover {\n",
              "    background-color: var(--hover-bg-color);\n",
              "    box-shadow: 0 1px 2px rgba(60, 64, 67, 0.3), 0 1px 3px 1px rgba(60, 64, 67, 0.15);\n",
              "    fill: var(--button-hover-fill-color);\n",
              "  }\n",
              "\n",
              "  .colab-df-quickchart-complete:disabled,\n",
              "  .colab-df-quickchart-complete:disabled:hover {\n",
              "    background-color: var(--disabled-bg-color);\n",
              "    fill: var(--disabled-fill-color);\n",
              "    box-shadow: none;\n",
              "  }\n",
              "\n",
              "  .colab-df-spinner {\n",
              "    border: 2px solid var(--fill-color);\n",
              "    border-color: transparent;\n",
              "    border-bottom-color: var(--fill-color);\n",
              "    animation:\n",
              "      spin 1s steps(1) infinite;\n",
              "  }\n",
              "\n",
              "  @keyframes spin {\n",
              "    0% {\n",
              "      border-color: transparent;\n",
              "      border-bottom-color: var(--fill-color);\n",
              "      border-left-color: var(--fill-color);\n",
              "    }\n",
              "    20% {\n",
              "      border-color: transparent;\n",
              "      border-left-color: var(--fill-color);\n",
              "      border-top-color: var(--fill-color);\n",
              "    }\n",
              "    30% {\n",
              "      border-color: transparent;\n",
              "      border-left-color: var(--fill-color);\n",
              "      border-top-color: var(--fill-color);\n",
              "      border-right-color: var(--fill-color);\n",
              "    }\n",
              "    40% {\n",
              "      border-color: transparent;\n",
              "      border-right-color: var(--fill-color);\n",
              "      border-top-color: var(--fill-color);\n",
              "    }\n",
              "    60% {\n",
              "      border-color: transparent;\n",
              "      border-right-color: var(--fill-color);\n",
              "    }\n",
              "    80% {\n",
              "      border-color: transparent;\n",
              "      border-right-color: var(--fill-color);\n",
              "      border-bottom-color: var(--fill-color);\n",
              "    }\n",
              "    90% {\n",
              "      border-color: transparent;\n",
              "      border-bottom-color: var(--fill-color);\n",
              "    }\n",
              "  }\n",
              "</style>\n",
              "\n",
              "  <script>\n",
              "    async function quickchart(key) {\n",
              "      const quickchartButtonEl =\n",
              "        document.querySelector('#' + key + ' button');\n",
              "      quickchartButtonEl.disabled = true;  // To prevent multiple clicks.\n",
              "      quickchartButtonEl.classList.add('colab-df-spinner');\n",
              "      try {\n",
              "        const charts = await google.colab.kernel.invokeFunction(\n",
              "            'suggestCharts', [key], {});\n",
              "      } catch (error) {\n",
              "        console.error('Error during call to suggestCharts:', error);\n",
              "      }\n",
              "      quickchartButtonEl.classList.remove('colab-df-spinner');\n",
              "      quickchartButtonEl.classList.add('colab-df-quickchart-complete');\n",
              "    }\n",
              "    (() => {\n",
              "      let quickchartButtonEl =\n",
              "        document.querySelector('#df-4415b9bf-b61e-493e-bbc4-b050452505dd button');\n",
              "      quickchartButtonEl.style.display =\n",
              "        google.colab.kernel.accessAllowed ? 'block' : 'none';\n",
              "    })();\n",
              "  </script>\n",
              "</div>\n",
              "    </div>\n",
              "  </div>\n"
            ]
          },
          "metadata": {},
          "execution_count": 5
        }
      ],
      "source": [
        "dataset"
      ]
    },
    {
      "cell_type": "code",
      "execution_count": 6,
      "metadata": {
        "colab": {
          "base_uri": "https://localhost:8080/"
        },
        "id": "IXg_g7lY7bYu",
        "outputId": "c0753d4e-6e4d-4650-9e96-bb92bef9f924"
      },
      "outputs": [
        {
          "output_type": "execute_result",
          "data": {
            "text/plain": [
              "(1151, 19)"
            ]
          },
          "metadata": {},
          "execution_count": 6
        }
      ],
      "source": [
        "# Mencetak bentuk dataset\n",
        "dataset.shape"
      ]
    },
    {
      "cell_type": "code",
      "execution_count": 7,
      "metadata": {
        "id": "7yF6ZVj37bGk"
      },
      "outputs": [],
      "source": [
        "# import library yang dibutuhkan\n",
        "from sklearn import model_selection"
      ]
    },
    {
      "cell_type": "code",
      "execution_count": 45,
      "metadata": {
        "id": "KhqNAcqF7gxe"
      },
      "outputs": [],
      "source": [
        "# Split-out validation dataset\n",
        "\n",
        "# Mengkonversi dataset menjadi array\n",
        "array = dataset.values\n",
        "\n",
        "# Memisahkan fitur kolom 0 hingga 19 sebagai variabel independen (X)\n",
        "X = array[:, 0:19]\n",
        "\n",
        "# Memilih kolom 18 sebagai variabel dependen (Y)\n",
        "Y = array[:, 18]\n",
        "\n",
        "# Menentukan ukuran validasi (20% dari total data)\n",
        "validation_size = 0.20\n",
        "\n",
        "# Menentukan seed untuk reproducibility\n",
        "seed = 7\n",
        "\n",
        "# Membagi dataset menjadi data latih dan data validasi menggunakan train_test_split\n",
        "X_train, X_validation, Y_train, Y_validation = model_selection.train_test_split(X, Y, test_size=validation_size, random_state=seed)"
      ]
    },
    {
      "cell_type": "code",
      "execution_count": 46,
      "metadata": {
        "colab": {
          "base_uri": "https://localhost:8080/"
        },
        "id": "AgHLAHSK7jgE",
        "outputId": "24b563fc-ea22-4ed0-cdfd-a765115164f2"
      },
      "outputs": [
        {
          "output_type": "stream",
          "name": "stdout",
          "text": [
            "X_train : (920, 19)\n",
            "X_validation : (231, 19)\n",
            "Y_train : (920,)\n",
            "Y_validation : (231,)\n"
          ]
        }
      ],
      "source": [
        "# Print Split-Out\n",
        "\n",
        "# Menampilkan shape dari set data X_train\n",
        "print(\"X_train :\", X_train.shape)\n",
        "\n",
        "# Menampilkan shape dari set data X_validation\n",
        "print(\"X_validation :\", X_validation.shape)\n",
        "\n",
        "# Menampilkan shape dari label data Y_train\n",
        "print(\"Y_train :\", Y_train.shape)\n",
        "\n",
        "# Menampilkan shape dari label data Y_validation\n",
        "print(\"Y_validation :\", Y_validation.shape)"
      ]
    },
    {
      "cell_type": "code",
      "execution_count": 47,
      "metadata": {
        "id": "RBgXJEJz7nwC"
      },
      "outputs": [],
      "source": [
        "# Ini adalah penentuan nilai seed untuk reproducibility.\n",
        "seed = 7\n",
        "\n",
        "# Mengukur sejauh mana model dapat mengklasifikasikan data dengan benar.\n",
        "scoring = 'accuracy'"
      ]
    },
    {
      "cell_type": "code",
      "execution_count": 48,
      "metadata": {
        "id": "jb57-Nov7ph2"
      },
      "outputs": [],
      "source": [
        "# Import Library berisi algoritma klasifikasi yang akan digunakan\n",
        "\n",
        "# Mengimport kelas KNeighborsClassifier dari modul sklearn.neighbors\n",
        "from sklearn.neighbors import KNeighborsClassifier\n",
        "\n",
        "# Mengimport kelas GaussianNB dari modul sklearn.naive_bayes\n",
        "from sklearn.naive_bayes import GaussianNB\n",
        "\n",
        "# Mengimport kelas SVC (Support Vector Classification) dari modul sklearn.svm\n",
        "from sklearn.svm import SVC\n",
        "\n",
        "# Spot Check Algorithms\n",
        "# Inisialisasi model K-Nearest Neighbors (KNN), Naive Bayes (NB), dan Support Vector Machine (SVM)\n",
        "models = []\n",
        "\n",
        "# Menambahkan model KNN ke dalam list models\n",
        "models.append(('KNN', KNeighborsClassifier()))\n",
        "\n",
        "# Menambahkan model Naive Bayes (NB) ke dalam list models\n",
        "models.append(('NB', GaussianNB()))\n",
        "\n",
        "# Menambahkan model Support Vector Machine (SVM) ke dalam list models\n",
        "models.append(('SVM', SVC()))"
      ]
    },
    {
      "cell_type": "code",
      "execution_count": 49,
      "metadata": {
        "colab": {
          "base_uri": "https://localhost:8080/"
        },
        "id": "4XsXIvRs70Ks",
        "outputId": "57b70cef-41da-4522-e636-b31069be8370"
      },
      "outputs": [
        {
          "output_type": "stream",
          "name": "stdout",
          "text": [
            "KNN: 0.736957 (0.045549)\n",
            "NB: 1.000000 (0.000000)\n",
            "SVM: 0.755435 (0.027174)\n"
          ]
        }
      ],
      "source": [
        "# evaluate each model in turn\n",
        "results = []\n",
        "\n",
        "# Menyimpan nama-nama model\n",
        "names = []\n",
        "\n",
        "for name, model in models:\n",
        "  # Membagi data menjadi training dan validasi menggunakan k-fold validation\n",
        "  kfold = model_selection.KFold(n_splits=10, random_state=seed, shuffle=True)\n",
        "\n",
        "  # Menghitung Nilai Akurasi\n",
        "  cv_results = model_selection.cross_val_score(model, X_train, Y_train, cv=kfold, scoring=scoring)\n",
        "\n",
        "  # Memasukan hasil nilai akurasi di results\n",
        "  results.append(cv_results)\n",
        "  names.append(name)\n",
        "\n",
        "  # MEngeluarkan pesan yang berisi nama, rata - rata, dan standar deviasi\n",
        "  msg = \"%s: %f (%f)\" % (name, cv_results.mean(), cv_results.std())\n",
        "  print(msg)"
      ]
    },
    {
      "cell_type": "markdown",
      "source": [
        "Dari hasil evaluasi di atas, dapat dilihat bahwa Gaussian Naive Bayes (GaussianNB) memperoleh nilai akurasi perkiraan terbesar yaitu 1.000000. Dengan mengetahui model yang paling tinggi itu Gaussian Naive Bayes (GaussianNB) dapat dilanjutkan dengan melakukan pengujian keakuratan model Gaussian Naive Bayes (GaussianNB)."
      ],
      "metadata": {
        "id": "ptuNnGyxDqNX"
      }
    },
    {
      "cell_type": "code",
      "source": [
        "#Import Library yang dibutuhkan\n",
        "from sklearn.metrics import accuracy_score, confusion_matrix, classification_report"
      ],
      "metadata": {
        "id": "OaUK3tvm7fJH"
      },
      "execution_count": 50,
      "outputs": []
    },
    {
      "cell_type": "code",
      "source": [
        "# Make predictions on validation dataset\n",
        "nb = GaussianNB()\n",
        "\n",
        "# Melatih model Gaussian Process menggunakan data latih\n",
        "nb.fit(X_train, Y_train)\n",
        "\n",
        "# Menguji model klasisifikasi (Gaussian Process) yang dihasilkan dari proses pelatihan data dengan testing data\n",
        "predictions = nb.predict(X_validation)\n",
        "\n",
        "#Mencetak accuracy score menggunakan Y validation (memprediksi masuk kelas mana)\n",
        "print(accuracy_score(Y_validation, predictions))\n",
        "\n",
        "print(confusion_matrix(Y_validation, predictions))\n",
        "print(classification_report(Y_validation, predictions))"
      ],
      "metadata": {
        "colab": {
          "base_uri": "https://localhost:8080/"
        },
        "id": "pmavIh267hp3",
        "outputId": "4c4c7fe3-eef8-4632-cf8d-a3d926140098"
      },
      "execution_count": 51,
      "outputs": [
        {
          "output_type": "stream",
          "name": "stdout",
          "text": [
            "1.0\n",
            "[[153   0]\n",
            " [  0  78]]\n",
            "              precision    recall  f1-score   support\n",
            "\n",
            "         0.0       1.00      1.00      1.00       153\n",
            "         1.0       1.00      1.00      1.00        78\n",
            "\n",
            "    accuracy                           1.00       231\n",
            "   macro avg       1.00      1.00      1.00       231\n",
            "weighted avg       1.00      1.00      1.00       231\n",
            "\n"
          ]
        }
      ]
    },
    {
      "cell_type": "markdown",
      "source": [
        "*   Validasi dataset yang diterapkan dengan model Gaussian Naive Bayes (GaussianNB) menghasilkan hasil evaluasi yang sempurna yaitu mencapai nilai 1.0 atau 100%. Hak tersebut menunjukan bahwa model Gaussian Naive Bayes (GaussianNB) berhasil mengklasifikasi seluruh data validasi tanpa kesalahan atau kekurangan.\n",
        "*   Confusion matrix akan menunjukan secara detail ketepatan model dalam memprediksi kelas untuk setiap sampel. Pada hasil confusion matrix menunjukan pada data validasi diklasifikasi dengan sempurna. Terdapat 153 instance yang semuanya diprediksi benar sebagai kelas 0.0. Lalu terdapat 78 instance yang semuanya diprediksi benar sebagai kelas 1.0.\n",
        "\n",
        "*   Classification Support meenandakan kemampuan model dalam mengindentifikasi dan mengklasifikasi setiap kelas secara akurat karena menunjukan bahwa model memiliki precision, recall, dan f1-score yang sangat tinggi pada tiap kelas.\n",
        "\n",
        "\n"
      ],
      "metadata": {
        "id": "Cd1LwrBvLWsR"
      }
    },
    {
      "cell_type": "code",
      "source": [
        "# Make predictions on validation dataset\n",
        "knn = KNeighborsClassifier()\n",
        "\n",
        "# Melatih model Gaussian Process menggunakan data latih\n",
        "knn.fit(X_train, Y_train)\n",
        "\n",
        "# Menguji model klasisifikasi (Gaussian Process) yang dihasilkan dari proses pelatihan data dengan testing data\n",
        "predictions = knn.predict(X_validation)\n",
        "\n",
        "#Mencetak accuracy score menggunakan Y validation (memprediksi masuk kelas mana)\n",
        "print(accuracy_score(Y_validation, predictions))\n",
        "\n",
        "print(confusion_matrix(Y_validation, predictions))\n",
        "print(classification_report(Y_validation, predictions))"
      ],
      "metadata": {
        "colab": {
          "base_uri": "https://localhost:8080/"
        },
        "id": "cNI4C2_97k-M",
        "outputId": "772fd6d7-4a5d-427c-8f27-5f9ced5a6d9b"
      },
      "execution_count": 52,
      "outputs": [
        {
          "output_type": "stream",
          "name": "stdout",
          "text": [
            "0.7402597402597403\n",
            "[[118  35]\n",
            " [ 25  53]]\n",
            "              precision    recall  f1-score   support\n",
            "\n",
            "         0.0       0.83      0.77      0.80       153\n",
            "         1.0       0.60      0.68      0.64        78\n",
            "\n",
            "    accuracy                           0.74       231\n",
            "   macro avg       0.71      0.73      0.72       231\n",
            "weighted avg       0.75      0.74      0.74       231\n",
            "\n"
          ]
        }
      ]
    },
    {
      "cell_type": "code",
      "source": [
        "# Make predictions on validation dataset\n",
        "svc = SVC()\n",
        "\n",
        "# Melatih model Gaussian Process menggunakan data latih\n",
        "svc.fit(X_train, Y_train)\n",
        "\n",
        "# Menguji model klasisifikasi (Gaussian Process) yang dihasilkan dari proses pelatihan data dengan testing data\n",
        "predictions = svc.predict(X_validation)\n",
        "\n",
        "#Mencetak accuracy score menggunakan Y validation (memprediksi masuk kelas mana)\n",
        "print(accuracy_score(Y_validation, predictions))\n",
        "\n",
        "print(confusion_matrix(Y_validation, predictions))\n",
        "print(classification_report(Y_validation, predictions))"
      ],
      "metadata": {
        "colab": {
          "base_uri": "https://localhost:8080/"
        },
        "id": "hjeQF0RD7mIe",
        "outputId": "9578c1b7-641c-42cb-e7bf-5ca21534f35e"
      },
      "execution_count": 53,
      "outputs": [
        {
          "output_type": "stream",
          "name": "stdout",
          "text": [
            "0.7445887445887446\n",
            "[[125  28]\n",
            " [ 31  47]]\n",
            "              precision    recall  f1-score   support\n",
            "\n",
            "         0.0       0.80      0.82      0.81       153\n",
            "         1.0       0.63      0.60      0.61        78\n",
            "\n",
            "    accuracy                           0.74       231\n",
            "   macro avg       0.71      0.71      0.71       231\n",
            "weighted avg       0.74      0.74      0.74       231\n",
            "\n"
          ]
        }
      ]
    }
  ],
  "metadata": {
    "colab": {
      "provenance": []
    },
    "kernelspec": {
      "display_name": "Python 3",
      "name": "python3"
    },
    "language_info": {
      "name": "python"
    }
  },
  "nbformat": 4,
  "nbformat_minor": 0
}