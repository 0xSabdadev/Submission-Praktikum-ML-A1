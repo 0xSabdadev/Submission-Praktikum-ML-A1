{
  "nbformat": 4,
  "nbformat_minor": 0,
  "metadata": {
    "colab": {
      "provenance": []
    },
    "kernelspec": {
      "name": "python3",
      "display_name": "Python 3"
    },
    "language_info": {
      "name": "python"
    }
  },
  "cells": [
    {
      "cell_type": "markdown",
      "source": [
        "**Nama    : Della Shanda Anggrivani**\n",
        "\n",
        "**NIM     : 24060121120024**\n",
        "\n",
        "**Dataset : Glass Identification**\n",
        "\n",
        "**Link    : https://archive.ics.uci.edu/dataset/42/glass+identification**"
      ],
      "metadata": {
        "id": "DGTQgspJDauO"
      }
    },
    {
      "cell_type": "markdown",
      "source": [
        "**Import Libraries**"
      ],
      "metadata": {
        "id": "6dbyzK_GC5KP"
      }
    },
    {
      "cell_type": "code",
      "source": [
        "from google.colab import drive\n",
        "drive.mount('/content/drive')"
      ],
      "metadata": {
        "id": "-6SqNl5TP5A9",
        "colab": {
          "base_uri": "https://localhost:8080/"
        },
        "outputId": "74f74c2f-46de-4f85-9ffc-a58f59d00d7a"
      },
      "execution_count": null,
      "outputs": [
        {
          "output_type": "stream",
          "name": "stdout",
          "text": [
            "Drive already mounted at /content/drive; to attempt to forcibly remount, call drive.mount(\"/content/drive\", force_remount=True).\n"
          ]
        }
      ]
    },
    {
      "cell_type": "code",
      "execution_count": null,
      "metadata": {
        "id": "4UN-S5BvCx56"
      },
      "outputs": [],
      "source": [
        "# Import library yang dibutuhkan\n",
        "import pandas as pd\n",
        "from matplotlib import pyplot as plt\n",
        "from sklearn.preprocessing import StandardScaler\n",
        "from sklearn.decomposition import PCA"
      ]
    },
    {
      "cell_type": "code",
      "source": [
        "# Mendefinisikan link dataset\n",
        "file_path = \"/content/drive/MyDrive/Praktikum ML/glass.data\"\n",
        "\n",
        "# Mendefinisikan list beserta kolom-kolom (attribute) dataset\n",
        "df = pd.read_csv(file_path, names=['RI', 'Na', 'Mg', 'AI', 'Si', 'K', 'Ca', 'Ba', 'Fe', 'Type of glass'])"
      ],
      "metadata": {
        "id": "j52tRF02Dz0J"
      },
      "execution_count": null,
      "outputs": []
    },
    {
      "cell_type": "code",
      "source": [
        "df.info()\n",
        "\n",
        "df['Type of glass'] = df['Type of glass'].astype(str)"
      ],
      "metadata": {
        "colab": {
          "base_uri": "https://localhost:8080/"
        },
        "id": "WVDr1JT21pyM",
        "outputId": "d63d772f-ab57-478a-b17e-02055631b083"
      },
      "execution_count": null,
      "outputs": [
        {
          "output_type": "stream",
          "name": "stdout",
          "text": [
            "<class 'pandas.core.frame.DataFrame'>\n",
            "Int64Index: 214 entries, 1 to 214\n",
            "Data columns (total 10 columns):\n",
            " #   Column         Non-Null Count  Dtype  \n",
            "---  ------         --------------  -----  \n",
            " 0   RI             214 non-null    float64\n",
            " 1   Na             214 non-null    float64\n",
            " 2   Mg             214 non-null    float64\n",
            " 3   AI             214 non-null    float64\n",
            " 4   Si             214 non-null    float64\n",
            " 5   K              214 non-null    float64\n",
            " 6   Ca             214 non-null    float64\n",
            " 7   Ba             214 non-null    float64\n",
            " 8   Fe             214 non-null    float64\n",
            " 9   Type of glass  214 non-null    int64  \n",
            "dtypes: float64(9), int64(1)\n",
            "memory usage: 18.4 KB\n"
          ]
        }
      ]
    },
    {
      "cell_type": "markdown",
      "source": [
        "Penjelasan:\n",
        "- `df.info()` memberikan informasi tentang DataFrame seperti jumlah baris, nama dan tipe data kolom, serta penggunaan memori. Dalam hasilnya, dapat dilihat bahwa DataFrame memiliki 214 baris dan 10 kolom, dengan 9 kolom memiliki tipe data float64 dan satu kolom dengan tipe data int64.\n",
        "\n",
        "- `df['Type of glass'] = df['Type of glass'].astype(str)` mengubah tipe data kolom 'Type of glass' dari int64 ke str (string). Hal ini bisa berguna jika 'Type of glass' seharusnya berisi kategori atau label, dan penggunaan tipe data string lebih sesuai untuk representasi tersebut.\n"
      ],
      "metadata": {
        "id": "OFBkoPOZvXs4"
      }
    },
    {
      "cell_type": "code",
      "source": [
        "features = ['RI', 'Na', 'Mg', 'AI', 'Si', 'K', 'Ca', 'Ba', 'Fe']\n",
        "\n",
        "# Separating out the features\n",
        "x = df.loc[:, features].values\n",
        "\n",
        "# Separating out the target\n",
        "y = df.loc[:, ['Type of glass']].values\n",
        "\n",
        "# Standardizing the features\n",
        "x = StandardScaler().fit_transform(x)"
      ],
      "metadata": {
        "id": "Uq5xk4eRELUK"
      },
      "execution_count": null,
      "outputs": []
    },
    {
      "cell_type": "markdown",
      "source": [
        "Penjelasan kode :\n",
        "\n",
        "1. Variabel `features` berisi daftar nama kolom yang akan dianggap sebagai fitur atau variabel independen. Dalam hal ini, fitur-fitur tersebut adalah 'RI', 'Na', 'Mg', 'AI', 'Si', 'K', 'Ca', 'Ba', dan 'Fe'.\n",
        "\n",
        "2. `x = df.loc[:, features].values` menghasilkan matriks fitur `x` dengan memilih kolom-kolom yang terdapat dalam `features` dari DataFrame `df`. Penggunaan `.loc[:, features]` mengambil seluruh baris (`:`) dari DataFrame untuk kolom-kolom yang terdapat dalam `features`. `.values` mengubah DataFrame menjadi representasi array NumPy.\n",
        "\n",
        "3. `y = df.loc[:, ['Type of glass']].values` menghasilkan array target `y` dengan memilih kolom 'Type of glass' dari DataFrame `df`. Dalam hal ini, `y` akan berisi nilai target atau variabel dependen.\n",
        "\n",
        "4. `x = StandardScaler().fit_transform(x)`: Baris ini menggunakan `StandardScaler` dari modul scikit-learn untuk melakukan penskalaan standar pada matriks fitur `x`. Penskalaan standar dilakukan dengan mengurangkan rata-rata dari setiap fitur dan membagi hasilnya dengan standar deviasi.\n",
        "   - `StandardScaler()`: Menciptakan objek penskalaan standar.\n",
        "   - `fit_transform(x)`: Metode ini melakukan penskalaan standar pada matriks fitur `x`, dengan menghitung rata-rata dan deviasi standar dari setiap fitur dan kemudian mengubah nilai-nilai fitur tersebut sesuai dengan skala yang telah dihitung.\n"
      ],
      "metadata": {
        "id": "HXckJ-86Bps1"
      }
    },
    {
      "cell_type": "code",
      "source": [
        "print(df['Type of glass'].unique())"
      ],
      "metadata": {
        "colab": {
          "base_uri": "https://localhost:8080/"
        },
        "id": "6hUQs8z41aOX",
        "outputId": "a63f4b2c-9046-4681-e8c8-2c11ec5e6bdb"
      },
      "execution_count": null,
      "outputs": [
        {
          "output_type": "stream",
          "name": "stdout",
          "text": [
            "['1' '2' '3' '5' '6' '7']\n"
          ]
        }
      ]
    },
    {
      "cell_type": "markdown",
      "source": [
        "Penjelasan:\n",
        "- `df['Type of glass'].unique()` digunakan untuk mendapatkan nilai unik dari kolom 'Type of glass'. Hasilnya adalah array yang berisi nilai unik dari kolom tersebut.\n",
        "\n",
        "Hasil cetakan menunjukkan bahwa kolom 'Type of glass' sekarang memiliki nilai unik '1', '2', '3', '5', '6', dan '7'. Sebelumnya, kolom ini memiliki tipe data int64, tetapi setelah operasi `astype(str)` pada kode sebelumnya, nilai-nilai ini sekarang direpresentasikan sebagai string."
      ],
      "metadata": {
        "id": "wetcXT4rv5HQ"
      }
    },
    {
      "cell_type": "code",
      "source": [
        "pca = PCA(n_components=2)\n",
        "principalComponents = pca.fit_transform(x)\n",
        "principalDf = pd.DataFrame(data = principalComponents,\n",
        "                           columns = ['Principal Component 1', 'Principal Component 2'])\n",
        "\n",
        "print(principalDf.describe())"
      ],
      "metadata": {
        "id": "RduP5EG6MoVg",
        "colab": {
          "base_uri": "https://localhost:8080/"
        },
        "outputId": "97e8d3db-4307-42bc-edb6-088df457df8d"
      },
      "execution_count": null,
      "outputs": [
        {
          "output_type": "stream",
          "name": "stdout",
          "text": [
            "       Principal Component 1  Principal Component 2\n",
            "count           2.140000e+02             214.000000\n",
            "mean            6.640586e-17               0.000000\n",
            "std             1.588381e+00               1.435164\n",
            "min            -4.432540e+00              -1.816556\n",
            "25%            -6.575585e-01              -1.021452\n",
            "50%            -5.651885e-02              -0.659192\n",
            "75%             6.342901e-01               0.634529\n",
            "max             7.138698e+00               6.193445\n"
          ]
        }
      ]
    },
    {
      "cell_type": "markdown",
      "source": [
        "Penjelasan kode:\n",
        "Kode di atas menggunakan metode Principal Component Analysis (PCA) dari library scikit-learn untuk mengurangi dimensi dari data yang diwakili oleh variabel `x` menjadi dua komponen utama (`Principal Component 1` dan `Principal Component 2`).\n",
        "\n",
        "- `pca = PCA(n_components=2)`: Inisialisasi objek PCA dengan mengatur jumlah komponen utama yang diinginkan menjadi 2.\n",
        "  \n",
        "- `principalComponents = pca.fit_transform(x)`: Melakukan transformasi PCA pada data `x`.\n",
        "\n",
        "- `principalDf = pd.DataFrame(data=principalComponents, columns=['Principal Component 1', 'Principal Component 2'])`: Membuat DataFrame baru (`principalDf`) dari hasil transformasi PCA.\n",
        "\n",
        "- `print(principalDf.describe())`: Mencetak ringkasan statistik dari DataFrame `principalDf`.\n",
        "\n",
        "Hasil cetakan menunjukkan statistik deskriptif untuk kedua komponen utama. Sebagai contoh:\n",
        "- `count`: Jumlah data.\n",
        "- `mean`: Rata-rata.\n",
        "- `std`: Standar deviasi.\n",
        "- `min`, `25%`, `50%`, `75%`, `max`: Nilai minimum, kuartil, median, dan maksimum.\n",
        "\n",
        "Penjelasan hasil:\n",
        "\n",
        "- Deskripsi statistik menunjukkan bahwa kedua komponen utama memiliki rata-rata (mean) mendekati 0, menunjukkan bahwa keduanya tidak bias ke arah nilai positif atau negatif.\n",
        "- Standar deviasi (std) dari komponen utama pertama lebih besar dari yang kedua, menunjukkan bahwa komponen utama pertama menangkap lebih banyak variasi dalam data.\n",
        "- Nilai minimum dan maksimum menunjukkan rentang nilai untuk setiap komponen utama.\n",
        "- Persentil ke-25, 50, dan 75 menunjukkan distribusi nilai untuk setiap komponen utama."
      ],
      "metadata": {
        "id": "Ghjz9wBpw2x2"
      }
    },
    {
      "cell_type": "code",
      "source": [
        "finalDf = pd.concat([principalDf, df[['Type of glass']]], axis = 1)"
      ],
      "metadata": {
        "id": "xNuFmdVPNgIn"
      },
      "execution_count": null,
      "outputs": []
    },
    {
      "cell_type": "markdown",
      "source": [
        "Penjelasan:\n",
        "Code di atas menggunakan library pandas untuk menggabungkan dua DataFrames, yaitu `principalDf` dan `df[['Type of glass']]`, menjadi satu DataFrame baru yang disimpan dalam variabel `finalDf`. Berikut penjelasan untuk setiap bagian dari kode tersebut:\n",
        "\n",
        "- `pd.concat`: Ini adalah fungsi dari library pandas yang digunakan untuk menggabungkan DataFrames. Fungsi ini mengambil sejumlah DataFrames atau Series dan menggabungkannya berdasarkan sumbu tertentu.\n",
        "\n",
        "- `[principalDf, df[['Type of glass']]]`: Ini adalah daftar DataFrames yang akan digabungkan. `principalDf` adalah salah satu DataFrame yang akan digabungkan, dan `df[['Type of glass']]` adalah DataFrame lainnya. Bagian `df[['Type of glass']]` digunakan untuk memilih hanya kolom 'Type of glass' dari DataFrame `df`.\n",
        "\n",
        "- `axis=1`: Parameter ini menunjukkan bahwa penggabungan akan dilakukan berdasarkan sumbu kolom (horizontal). Artinya, DataFrames akan digabungkan berdampingan.\n",
        "\n",
        "- `finalDf = ...`: Hasil penggabungan disimpan dalam variabel baru yang disebut `finalDf`.\n",
        "\n",
        "Dengan menggunakan `pd.concat` dengan `axis=1`, kita menggabungkan `principalDf` dan `df[['Type of glass']]` berdampingan berdasarkan kolom, sehingga membentuk DataFrame baru `finalDf` yang memiliki semua kolom dari `principalDf` dan kolom 'Type of glass' dari DataFrame `df`."
      ],
      "metadata": {
        "id": "wJSBMFS75nFD"
      }
    },
    {
      "cell_type": "code",
      "source": [
        "fig = plt.figure(figsize = (8,8))\n",
        "ax = fig.add_subplot(1,1,1)\n",
        "ax.set_xlabel('Principal Component 1', fontsize = 15)\n",
        "ax.set_ylabel('Principal Component 2', fontsize = 15)\n",
        "ax.set_title('2 component PCA', fontsize = 20)\n",
        "\n",
        "targets = ['1', '2', '3', '4', '5', '6', '7']\n",
        "colors = ['red', 'green', 'blue', 'yellow', 'black', 'purple', 'brown']\n",
        "\n",
        "ax.set_xlim([-8, 8])\n",
        "ax.set_ylim([-8, 8])\n",
        "\n",
        "for target, color in zip(targets, colors):\n",
        "  indicesToKeep = finalDf['Type of glass'] == target\n",
        "  ax.scatter(finalDf.loc[indicesToKeep, 'Principal Component 1']\n",
        "             , finalDf.loc[indicesToKeep, 'Principal Component 2']\n",
        "             , c = color\n",
        "             , s = 50)\n",
        "  ax.legend(targets)\n",
        "  ax.grid()"
      ],
      "metadata": {
        "id": "w_iQVLRDMrGH",
        "colab": {
          "base_uri": "https://localhost:8080/",
          "height": 732
        },
        "outputId": "91628a9a-0570-4731-c5d7-ebd5416c1de9"
      },
      "execution_count": null,
      "outputs": [
        {
          "output_type": "display_data",
          "data": {
            "text/plain": [
              "<Figure size 800x800 with 1 Axes>"
            ],
            "image/png": "[encoded data removed]"
          },
          "metadata": {}
        }
      ]
    },
    {
      "cell_type": "markdown",
      "source": [
        "Penjelasan hasil :\n",
        "\n",
        "Plot di atas menunjukkan hasil Principal Component Analysis (PCA) dua komponen pada dataset gelas. PCA adalah metode reduksi dimensi yang dapat digunakan untuk mengurangi jumlah fitur dalam dataset tanpa kehilangan terlalu banyak informasi. Dalam kasus ini, PCA telah digunakan untuk mengurangi 9 fitur asli dataset menjadi 2 komponen utama.\n",
        "\n",
        "Sumbu x dan y dari plot menunjukkan nilai komponen utama pertama dan kedua, masing-masing. Setiap titik dalam plot mewakili sampel data, dan warna titik menunjukkan jenis gelas yang sesuai.\n",
        "\n",
        "Dapat kita lihat dari plot bahwa sampel data dari jenis gelas yang berbeda umumnya mengelompok bersama. Ini menunjukkan bahwa komponen utama yang diekstraksi oleh PCA dapat menangkap variasi dalam dataset yang terkait dengan jenis gelas.\n",
        "\n",
        "Selain itu, kita juga dapat mengamati bahwa beberapa jenis gelas memiliki tumpang tindih. Hal ini menunjukkan bahwa komponen utama yang diekstraksi oleh PCA tidak dapat sepenuhnya memisahkan semua jenis gelas. Namun, PCA tetap merupakan metode yang berguna untuk reduksi dimensi dan visualisasi data."
      ],
      "metadata": {
        "id": "DEMRUyObIDII"
      }
    },
    {
      "cell_type": "code",
      "source": [
        "pca.explained_variance_ratio_"
      ],
      "metadata": {
        "colab": {
          "base_uri": "https://localhost:8080/"
        },
        "id": "zl0yZrrU0Toe",
        "outputId": "0efe7810-f3c1-4fd2-b15a-969de331ede4"
      },
      "execution_count": null,
      "outputs": [
        {
          "output_type": "execute_result",
          "data": {
            "text/plain": [
              "array([0.27901819, 0.2277858 ])"
            ]
          },
          "metadata": {},
          "execution_count": 10
        }
      ]
    },
    {
      "cell_type": "markdown",
      "source": [
        "Penjelasan kode:\n",
        "'pca.explained_variance_ratio_': Atribut ini menghasilkan array yang berisi rasio varian yang dijelaskan oleh setiap komponen utama. Dalam hal ini, array tersebut memiliki dua elemen, yang masing-masing menyatakan persentase varian yang dijelaskan oleh komponen utama pertama dan kedua.\n",
        "\n",
        "Penjelasan hasil:\n",
        "\n",
        " Setelah menerapkan PCA, komponen utama pertama (PC1) menjelaskan sekitar 27.9% dari total varians dalam data, sedangkan komponen utama kedua (PC2) menjelaskan sekitar 22.8%. Jumlah kedua rasio ini memberikan gambaran tentang seberapa baik representasi data yang telah direduksi dimensinya oleh dua komponen utama pertama."
      ],
      "metadata": {
        "id": "zXA-WK8UC5OE"
      }
    }
  ]
}