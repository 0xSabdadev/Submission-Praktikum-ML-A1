{
  "nbformat": 4,
  "nbformat_minor": 0,
  "metadata": {
    "colab": {
      "provenance": []
    },
    "kernelspec": {
      "name": "python3",
      "display_name": "Python 3"
    },
    "language_info": {
      "name": "python"
    }
  },
  "cells": [
    {
      "cell_type": "markdown",
      "source": [
        "**Nama    : Della Shanda Anggrivani**\n",
        "\n",
        "**NIM     : 24060121120024**\n",
        "\n",
        "**Dataset : Glass Identification**\n",
        "\n",
        "**Link    : https://archive.ics.uci.edu/dataset/42/glass+identification**"
      ],
      "metadata": {
        "id": "ZWSS6ZhM_ZLv"
      }
    },
    {
      "cell_type": "markdown",
      "source": [
        "**1. Melakukan eksplorasi menggunakan algoritma klasifikasi lain pada dataset Iris**"
      ],
      "metadata": {
        "id": "tj9A7RY1_qDL"
      }
    },
    {
      "cell_type": "code",
      "source": [
        "# Import library yang dibutuhkan\n",
        "import pandas as pd"
      ],
      "metadata": {
        "id": "nZ5rYzwg5ih1"
      },
      "execution_count": 53,
      "outputs": []
    },
    {
      "cell_type": "code",
      "source": [
        "path = \"http://archive.ics.uci.edu/ml/machine-learning-databases/iris/iris.data\"\n",
        "\n",
        "names = ['sepal-length', 'sepal-width', 'petal-length', 'petal-width', 'class']\n",
        "\n",
        "dataset = pd.read_csv(path, names=names)"
      ],
      "metadata": {
        "id": "TTp5hjuuAgEH"
      },
      "execution_count": 57,
      "outputs": []
    },
    {
      "cell_type": "code",
      "source": [
        "dataset"
      ],
      "metadata": {
        "colab": {
          "base_uri": "https://localhost:8080/",
          "height": 423
        },
        "id": "ik_yZo485rAL",
        "outputId": "ebe3b5ec-67a3-4e16-fdb6-f2e479175d19"
      },
      "execution_count": 58,
      "outputs": [
        {
          "output_type": "execute_result",
          "data": {
            "text/plain": [
              "     sepal-length  sepal-width  petal-length  petal-width           class\n",
              "0             5.1          3.5           1.4          0.2     Iris-setosa\n",
              "1             4.9          3.0           1.4          0.2     Iris-setosa\n",
              "2             4.7          3.2           1.3          0.2     Iris-setosa\n",
              "3             4.6          3.1           1.5          0.2     Iris-setosa\n",
              "4             5.0          3.6           1.4          0.2     Iris-setosa\n",
              "..            ...          ...           ...          ...             ...\n",
              "145           6.7          3.0           5.2          2.3  Iris-virginica\n",
              "146           6.3          2.5           5.0          1.9  Iris-virginica\n",
              "147           6.5          3.0           5.2          2.0  Iris-virginica\n",
              "148           6.2          3.4           5.4          2.3  Iris-virginica\n",
              "149           5.9          3.0           5.1          1.8  Iris-virginica\n",
              "\n",
              "[150 rows x 5 columns]"
            ],
            "text/html": [
              "\n",
              "  <div id=\"df-e4dd934b-6f15-4752-88a4-24d372f05d88\" class=\"colab-df-container\">\n",
              "    <div>\n",
              "<style scoped>\n",
              "    .dataframe tbody tr th:only-of-type {\n",
              "        vertical-align: middle;\n",
              "    }\n",
              "\n",
              "    .dataframe tbody tr th {\n",
              "        vertical-align: top;\n",
              "    }\n",
              "\n",
              "    .dataframe thead th {\n",
              "        text-align: right;\n",
              "    }\n",
              "</style>\n",
              "<table border=\"1\" class=\"dataframe\">\n",
              "  <thead>\n",
              "    <tr style=\"text-align: right;\">\n",
              "      <th></th>\n",
              "      <th>sepal-length</th>\n",
              "      <th>sepal-width</th>\n",
              "      <th>petal-length</th>\n",
              "      <th>petal-width</th>\n",
              "      <th>class</th>\n",
              "    </tr>\n",
              "  </thead>\n",
              "  <tbody>\n",
              "    <tr>\n",
              "      <th>0</th>\n",
              "      <td>5.1</td>\n",
              "      <td>3.5</td>\n",
              "      <td>1.4</td>\n",
              "      <td>0.2</td>\n",
              "      <td>Iris-setosa</td>\n",
              "    </tr>\n",
              "    <tr>\n",
              "      <th>1</th>\n",
              "      <td>4.9</td>\n",
              "      <td>3.0</td>\n",
              "      <td>1.4</td>\n",
              "      <td>0.2</td>\n",
              "      <td>Iris-setosa</td>\n",
              "    </tr>\n",
              "    <tr>\n",
              "      <th>2</th>\n",
              "      <td>4.7</td>\n",
              "      <td>3.2</td>\n",
              "      <td>1.3</td>\n",
              "      <td>0.2</td>\n",
              "      <td>Iris-setosa</td>\n",
              "    </tr>\n",
              "    <tr>\n",
              "      <th>3</th>\n",
              "      <td>4.6</td>\n",
              "      <td>3.1</td>\n",
              "      <td>1.5</td>\n",
              "      <td>0.2</td>\n",
              "      <td>Iris-setosa</td>\n",
              "    </tr>\n",
              "    <tr>\n",
              "      <th>4</th>\n",
              "      <td>5.0</td>\n",
              "      <td>3.6</td>\n",
              "      <td>1.4</td>\n",
              "      <td>0.2</td>\n",
              "      <td>Iris-setosa</td>\n",
              "    </tr>\n",
              "    <tr>\n",
              "      <th>...</th>\n",
              "      <td>...</td>\n",
              "      <td>...</td>\n",
              "      <td>...</td>\n",
              "      <td>...</td>\n",
              "      <td>...</td>\n",
              "    </tr>\n",
              "    <tr>\n",
              "      <th>145</th>\n",
              "      <td>6.7</td>\n",
              "      <td>3.0</td>\n",
              "      <td>5.2</td>\n",
              "      <td>2.3</td>\n",
              "      <td>Iris-virginica</td>\n",
              "    </tr>\n",
              "    <tr>\n",
              "      <th>146</th>\n",
              "      <td>6.3</td>\n",
              "      <td>2.5</td>\n",
              "      <td>5.0</td>\n",
              "      <td>1.9</td>\n",
              "      <td>Iris-virginica</td>\n",
              "    </tr>\n",
              "    <tr>\n",
              "      <th>147</th>\n",
              "      <td>6.5</td>\n",
              "      <td>3.0</td>\n",
              "      <td>5.2</td>\n",
              "      <td>2.0</td>\n",
              "      <td>Iris-virginica</td>\n",
              "    </tr>\n",
              "    <tr>\n",
              "      <th>148</th>\n",
              "      <td>6.2</td>\n",
              "      <td>3.4</td>\n",
              "      <td>5.4</td>\n",
              "      <td>2.3</td>\n",
              "      <td>Iris-virginica</td>\n",
              "    </tr>\n",
              "    <tr>\n",
              "      <th>149</th>\n",
              "      <td>5.9</td>\n",
              "      <td>3.0</td>\n",
              "      <td>5.1</td>\n",
              "      <td>1.8</td>\n",
              "      <td>Iris-virginica</td>\n",
              "    </tr>\n",
              "  </tbody>\n",
              "</table>\n",
              "<p>150 rows × 5 columns</p>\n",
              "</div>\n",
              "    <div class=\"colab-df-buttons\">\n",
              "\n",
              "  <div class=\"colab-df-container\">\n",
              "    <button class=\"colab-df-convert\" onclick=\"convertToInteractive('df-e4dd934b-6f15-4752-88a4-24d372f05d88')\"\n",
              "            title=\"Convert this dataframe to an interactive table.\"\n",
              "            style=\"display:none;\">\n",
              "\n",
              "  <svg xmlns=\"http://www.w3.org/2000/svg\" height=\"24px\" viewBox=\"0 -960 960 960\">\n",
              "    <path d=\"M120-120v-720h720v720H120Zm60-500h600v-160H180v160Zm220 220h160v-160H400v160Zm0 220h160v-160H400v160ZM180-400h160v-160H180v160Zm440 0h160v-160H620v160ZM180-180h160v-160H180v160Zm440 0h160v-160H620v160Z\"/>\n",
              "  </svg>\n",
              "    </button>\n",
              "\n",
              "  <style>\n",
              "    .colab-df-container {\n",
              "      display:flex;\n",
              "      gap: 12px;\n",
              "    }\n",
              "\n",
              "    .colab-df-convert {\n",
              "      background-color: #E8F0FE;\n",
              "      border: none;\n",
              "      border-radius: 50%;\n",
              "      cursor: pointer;\n",
              "      display: none;\n",
              "      fill: #1967D2;\n",
              "      height: 32px;\n",
              "      padding: 0 0 0 0;\n",
              "      width: 32px;\n",
              "    }\n",
              "\n",
              "    .colab-df-convert:hover {\n",
              "      background-color: #E2EBFA;\n",
              "      box-shadow: 0px 1px 2px rgba(60, 64, 67, 0.3), 0px 1px 3px 1px rgba(60, 64, 67, 0.15);\n",
              "      fill: #174EA6;\n",
              "    }\n",
              "\n",
              "    .colab-df-buttons div {\n",
              "      margin-bottom: 4px;\n",
              "    }\n",
              "\n",
              "    [theme=dark] .colab-df-convert {\n",
              "      background-color: #3B4455;\n",
              "      fill: #D2E3FC;\n",
              "    }\n",
              "\n",
              "    [theme=dark] .colab-df-convert:hover {\n",
              "      background-color: #434B5C;\n",
              "      box-shadow: 0px 1px 3px 1px rgba(0, 0, 0, 0.15);\n",
              "      filter: drop-shadow(0px 1px 2px rgba(0, 0, 0, 0.3));\n",
              "      fill: #FFFFFF;\n",
              "    }\n",
              "  </style>\n",
              "\n",
              "    <script>\n",
              "      const buttonEl =\n",
              "        document.querySelector('#df-e4dd934b-6f15-4752-88a4-24d372f05d88 button.colab-df-convert');\n",
              "      buttonEl.style.display =\n",
              "        google.colab.kernel.accessAllowed ? 'block' : 'none';\n",
              "\n",
              "      async function convertToInteractive(key) {\n",
              "        const element = document.querySelector('#df-e4dd934b-6f15-4752-88a4-24d372f05d88');\n",
              "        const dataTable =\n",
              "          await google.colab.kernel.invokeFunction('convertToInteractive',\n",
              "                                                    [key], {});\n",
              "        if (!dataTable) return;\n",
              "\n",
              "        const docLinkHtml = 'Like what you see? Visit the ' +\n",
              "          '<a target=\"_blank\" href=https://colab.research.google.com/notebooks/data_table.ipynb>data table notebook</a>'\n",
              "          + ' to learn more about interactive tables.';\n",
              "        element.innerHTML = '';\n",
              "        dataTable['output_type'] = 'display_data';\n",
              "        await google.colab.output.renderOutput(dataTable, element);\n",
              "        const docLink = document.createElement('div');\n",
              "        docLink.innerHTML = docLinkHtml;\n",
              "        element.appendChild(docLink);\n",
              "      }\n",
              "    </script>\n",
              "  </div>\n",
              "\n",
              "\n",
              "<div id=\"df-0e3968f9-fc43-4c19-b437-b1c0c5a9bf32\">\n",
              "  <button class=\"colab-df-quickchart\" onclick=\"quickchart('df-0e3968f9-fc43-4c19-b437-b1c0c5a9bf32')\"\n",
              "            title=\"Suggest charts\"\n",
              "            style=\"display:none;\">\n",
              "\n",
              "<svg xmlns=\"http://www.w3.org/2000/svg\" height=\"24px\"viewBox=\"0 0 24 24\"\n",
              "     width=\"24px\">\n",
              "    <g>\n",
              "        <path d=\"M19 3H5c-1.1 0-2 .9-2 2v14c0 1.1.9 2 2 2h14c1.1 0 2-.9 2-2V5c0-1.1-.9-2-2-2zM9 17H7v-7h2v7zm4 0h-2V7h2v10zm4 0h-2v-4h2v4z\"/>\n",
              "    </g>\n",
              "</svg>\n",
              "  </button>\n",
              "\n",
              "<style>\n",
              "  .colab-df-quickchart {\n",
              "      --bg-color: #E8F0FE;\n",
              "      --fill-color: #1967D2;\n",
              "      --hover-bg-color: #E2EBFA;\n",
              "      --hover-fill-color: #174EA6;\n",
              "      --disabled-fill-color: #AAA;\n",
              "      --disabled-bg-color: #DDD;\n",
              "  }\n",
              "\n",
              "  [theme=dark] .colab-df-quickchart {\n",
              "      --bg-color: #3B4455;\n",
              "      --fill-color: #D2E3FC;\n",
              "      --hover-bg-color: #434B5C;\n",
              "      --hover-fill-color: #FFFFFF;\n",
              "      --disabled-bg-color: #3B4455;\n",
              "      --disabled-fill-color: #666;\n",
              "  }\n",
              "\n",
              "  .colab-df-quickchart {\n",
              "    background-color: var(--bg-color);\n",
              "    border: none;\n",
              "    border-radius: 50%;\n",
              "    cursor: pointer;\n",
              "    display: none;\n",
              "    fill: var(--fill-color);\n",
              "    height: 32px;\n",
              "    padding: 0;\n",
              "    width: 32px;\n",
              "  }\n",
              "\n",
              "  .colab-df-quickchart:hover {\n",
              "    background-color: var(--hover-bg-color);\n",
              "    box-shadow: 0 1px 2px rgba(60, 64, 67, 0.3), 0 1px 3px 1px rgba(60, 64, 67, 0.15);\n",
              "    fill: var(--button-hover-fill-color);\n",
              "  }\n",
              "\n",
              "  .colab-df-quickchart-complete:disabled,\n",
              "  .colab-df-quickchart-complete:disabled:hover {\n",
              "    background-color: var(--disabled-bg-color);\n",
              "    fill: var(--disabled-fill-color);\n",
              "    box-shadow: none;\n",
              "  }\n",
              "\n",
              "  .colab-df-spinner {\n",
              "    border: 2px solid var(--fill-color);\n",
              "    border-color: transparent;\n",
              "    border-bottom-color: var(--fill-color);\n",
              "    animation:\n",
              "      spin 1s steps(1) infinite;\n",
              "  }\n",
              "\n",
              "  @keyframes spin {\n",
              "    0% {\n",
              "      border-color: transparent;\n",
              "      border-bottom-color: var(--fill-color);\n",
              "      border-left-color: var(--fill-color);\n",
              "    }\n",
              "    20% {\n",
              "      border-color: transparent;\n",
              "      border-left-color: var(--fill-color);\n",
              "      border-top-color: var(--fill-color);\n",
              "    }\n",
              "    30% {\n",
              "      border-color: transparent;\n",
              "      border-left-color: var(--fill-color);\n",
              "      border-top-color: var(--fill-color);\n",
              "      border-right-color: var(--fill-color);\n",
              "    }\n",
              "    40% {\n",
              "      border-color: transparent;\n",
              "      border-right-color: var(--fill-color);\n",
              "      border-top-color: var(--fill-color);\n",
              "    }\n",
              "    60% {\n",
              "      border-color: transparent;\n",
              "      border-right-color: var(--fill-color);\n",
              "    }\n",
              "    80% {\n",
              "      border-color: transparent;\n",
              "      border-right-color: var(--fill-color);\n",
              "      border-bottom-color: var(--fill-color);\n",
              "    }\n",
              "    90% {\n",
              "      border-color: transparent;\n",
              "      border-bottom-color: var(--fill-color);\n",
              "    }\n",
              "  }\n",
              "</style>\n",
              "\n",
              "  <script>\n",
              "    async function quickchart(key) {\n",
              "      const quickchartButtonEl =\n",
              "        document.querySelector('#' + key + ' button');\n",
              "      quickchartButtonEl.disabled = true;  // To prevent multiple clicks.\n",
              "      quickchartButtonEl.classList.add('colab-df-spinner');\n",
              "      try {\n",
              "        const charts = await google.colab.kernel.invokeFunction(\n",
              "            'suggestCharts', [key], {});\n",
              "      } catch (error) {\n",
              "        console.error('Error during call to suggestCharts:', error);\n",
              "      }\n",
              "      quickchartButtonEl.classList.remove('colab-df-spinner');\n",
              "      quickchartButtonEl.classList.add('colab-df-quickchart-complete');\n",
              "    }\n",
              "    (() => {\n",
              "      let quickchartButtonEl =\n",
              "        document.querySelector('#df-0e3968f9-fc43-4c19-b437-b1c0c5a9bf32 button');\n",
              "      quickchartButtonEl.style.display =\n",
              "        google.colab.kernel.accessAllowed ? 'block' : 'none';\n",
              "    })();\n",
              "  </script>\n",
              "</div>\n",
              "    </div>\n",
              "  </div>\n"
            ]
          },
          "metadata": {},
          "execution_count": 58
        }
      ]
    },
    {
      "cell_type": "code",
      "source": [
        "dataset.shape"
      ],
      "metadata": {
        "colab": {
          "base_uri": "https://localhost:8080/"
        },
        "id": "xHVhPVtX52jq",
        "outputId": "c14e8d5f-a9de-43da-eed3-b830d671eee3"
      },
      "execution_count": 59,
      "outputs": [
        {
          "output_type": "execute_result",
          "data": {
            "text/plain": [
              "(150, 5)"
            ]
          },
          "metadata": {},
          "execution_count": 59
        }
      ]
    },
    {
      "cell_type": "markdown",
      "source": [
        "Pada kode diatas dihasilkan 150 jumlah baris data dalam dataset, serta 5 kolom atau fitur dalam dataset, yaitu sepal-length, sepal-width, petal-length, petal-width, dan class"
      ],
      "metadata": {
        "id": "tTnjXZId-A6J"
      }
    },
    {
      "cell_type": "code",
      "source": [
        "# Import library yang dibutuhkan\n",
        "from sklearn import model_selection"
      ],
      "metadata": {
        "id": "2vLsEd8054z-"
      },
      "execution_count": 60,
      "outputs": []
    },
    {
      "cell_type": "code",
      "source": [
        "array = dataset.values\n",
        "\n",
        "X = array[:,0:4]\n",
        "Y = array[:,4]\n",
        "\n",
        "validation_size = 0.20\n",
        "\n",
        "# untuk mengacak data\n",
        "seed = 7\n",
        "\n",
        "X_train, X_validation, Y_train, Y_validation = model_selection.train_test_split(X, Y, test_size=validation_size,random_state=seed)"
      ],
      "metadata": {
        "id": "IcyrMarO58Fv"
      },
      "execution_count": 61,
      "outputs": []
    },
    {
      "cell_type": "markdown",
      "source": [
        "Code diatas adalah contoh proses persiapan data untuk pembelajaran mesin menggunakan pustaka scikit-learn di Python. Penjelasan code:\n",
        "\n",
        "1. `array = dataset.values`: Mengonversi dataset ke dalam bentuk array. Jika `dataset` adalah objek DataFrame dari pustaka pandas, maka metode `values` akan mengonversinya ke dalam array NumPy. Dengan menggunakan indeksing, kita dapat memisahkan array menjadi dua bagian: `X` (matriks fitur) dan `Y` (vektor target).\n",
        "\n",
        "2. `X = array[:, 0:4]`: Memilih kolom 0 hingga 3 (indeks 0, 1, 2, dan 3) dari array sebagai matriks fitur `X`.\n",
        "\n",
        "3. `Y = array[:, 4]`: Memilih kolom dengan indeks 4 dari array sebagai vektor target `Y`.\n",
        "\n",
        "4. `validation_size = 0.20`: Menetapkan ukuran data validasi sebesar 20% dari total data. Hal ini akan digunakan dalam pemisahan data latih dan data validasi.\n",
        "\n",
        "5. `seed = 7`: Menetapkan seed untuk mengacak data. Seed digunakan agar hasil pengacakan dapat direproduksi.\n",
        "\n",
        "6. `X_train, X_validation, Y_train, Y_validation = model_selection.train_test_split(X, Y, test_size=validation_size, random_state=seed)`: menggunakan fungsi `train_test_split` dari modul `model_selection` di scikit-learn untuk memisahkan dataset menjadi data latih (`X_train` dan `Y_train`) dan data validasi (`X_validation` dan `Y_validation`). Parameter `test_size` menentukan ukuran data validasi (dalam hal ini, 20%), dan `random_state` adalah seed untuk pengacakan.\n"
      ],
      "metadata": {
        "id": "zj8eEjcu-lhz"
      }
    },
    {
      "cell_type": "code",
      "source": [
        "print(\"X_train :\", X_train.shape)\n",
        "print(\"X_validation :\", X_validation.shape)\n",
        "print(\"Y_train :\", Y_train.shape)\n",
        "print(\"Y_validation :\", Y_validation.shape)"
      ],
      "metadata": {
        "colab": {
          "base_uri": "https://localhost:8080/"
        },
        "id": "jgBBa-ku6AB2",
        "outputId": "69157fd3-43d1-42f6-f071-0519bd5bef8f"
      },
      "execution_count": 62,
      "outputs": [
        {
          "output_type": "stream",
          "name": "stdout",
          "text": [
            "X_train : (120, 4)\n",
            "X_validation : (30, 4)\n",
            "Y_train : (120,)\n",
            "Y_validation : (30,)\n"
          ]
        }
      ]
    },
    {
      "cell_type": "markdown",
      "source": [
        "Code di atas digunakan untuk mencetak dimensi (shape) dari matriks fitur dan vektor target setelah dilakukan pembagian data menjadi data latih (`X_train` dan `Y_train`) serta data validasi (`X_validation` dan `Y_validation`). Pembahasan code:\n",
        "\n",
        "1. `print(\"X_train :\", X_train.shape)`: Menampilkan dimensi dari matriks fitur data latih (`X_train`). Hasilnya adalah `(120, 4)`, yang berarti terdapat 120 baris dan 4 kolom dalam matriks fitur `X_train`. Setiap baris mewakili satu sampel data latih, dan setiap kolom mewakili satu fitur.\n",
        "\n",
        "2. `print(\"X_validation :\", X_validation.shape)`: Menampilkan dimensi dari matriks fitur data validasi (`X_validation`). Hasilnya adalah `(30, 4)`, yang berarti terdapat 30 baris dan 4 kolom dalam matriks fitur `X_validation`. Seperti pada `X_train`, setiap baris mewakili satu sampel data validasi.\n",
        "\n",
        "3. `print(\"Y_train :\", Y_train.shape)`: Menampilkan dimensi dari vektor target data latih (`Y_train`). Hasilnya adalah `(120,)`, yang berarti terdapat 120 elemen dalam vektor target `Y_train`. Setiap elemen mewakili label atau kelas dari satu sampel data latih.\n",
        "\n",
        "4. `print(\"Y_validation :\", Y_validation.shape)`: Menampilkan dimensi dari vektor target data validasi (`Y_validation`). Hasilnya adalah `(30,)`, yang berarti terdapat 30 elemen dalam vektor target `Y_validation`. Seperti pada `Y_train`, setiap elemen mewakili label atau kelas dari satu sampel data validasi.\n"
      ],
      "metadata": {
        "id": "_a9t1bAs_eZB"
      }
    },
    {
      "cell_type": "code",
      "source": [
        "seed = 7\n",
        "\n",
        "scoring = 'accuracy'"
      ],
      "metadata": {
        "id": "h9p09NFf6CYt"
      },
      "execution_count": 63,
      "outputs": []
    },
    {
      "cell_type": "markdown",
      "source": [
        "Code di atas menetapkan dua variabel, yaitu seed dan scoring.\n",
        "\n",
        "1. seed = 7: Mendefinisikan seed yang akan digunakan dalam beberapa fungsi yang melibatkan pengacakan atau pembagian data. Seed digunakan untuk mengontrol hasil acak sehingga hasilnya dapat direproduksi. .\n",
        "\n",
        "2. scoring = 'accuracy': Mendefinisikan metrik evaluasi yang akan digunakan pada saat validasi model. Dalam konteks ini, metrik evaluasi yang digunakan adalah akurasi (accuracy). Akurasi mengukur sejauh mana model dapat memprediksi dengan benar. Untuk tugas klasifikasi, akurasi adalah rasio antara jumlah prediksi yang benar dengan total jumlah prediksi."
      ],
      "metadata": {
        "id": "pfGLSRUP_ykh"
      }
    },
    {
      "cell_type": "code",
      "source": [
        "# Import library berisi algoritma klasifikasi yang akan digunakan\n",
        "from sklearn.tree import DecisionTreeClassifier\n",
        "from sklearn.ensemble import RandomForestClassifier"
      ],
      "metadata": {
        "id": "wFnyQIl66DfT"
      },
      "execution_count": 64,
      "outputs": []
    },
    {
      "cell_type": "code",
      "source": [
        "# Spot Check Algorithms\n",
        "models = []\n",
        "\n",
        "models.append(('Tree', DecisionTreeClassifier()))\n",
        "models.append(('RandomForest', RandomForestClassifier()))"
      ],
      "metadata": {
        "id": "jKcuZxYG6aBE"
      },
      "execution_count": 65,
      "outputs": []
    },
    {
      "cell_type": "markdown",
      "source": [
        "Code tersebut merupakan bagian dari proses \"Spot Checking Algorithms\" atau pemeriksaan algoritma untuk memilih model terbaik dari berbagai algoritma klasifikasi.\n",
        "\n",
        "1. Pembuatan List Models,\n",
        "baris ini membuat sebuah list kosong yang nantinya akan diisi oleh berbagai model klasifikasi yang akan diuji. Setiap model akan ditambahkan ke dalam list menggunakan metode append()\n",
        "\n",
        "2. Spot Check Algorithms,\n",
        "baris ini menambahkan dua model ke dalam list models. Model pertama adalah Decision Tree (pohon keputusan), dan model kedua adalah Random Forest.\n"
      ],
      "metadata": {
        "id": "9aW5LyrgA1mt"
      }
    },
    {
      "cell_type": "code",
      "source": [
        "# evaluate each model in turn\n",
        "results = [] #menyimpan hasil evaluasi\n",
        "\n",
        "names = [] #menyimpan nama model\n",
        "\n",
        "for name, model in models: #mengambil nama dan model dari daftar models tadi\n",
        "\n",
        "  kfold = model_selection.KFold(n_splits=10, random_state=seed, shuffle=True)\n",
        "\n",
        "  # menghitung nilai akurasi dari setiap iterasi\n",
        "  cv_results = model_selection.cross_val_score(model, X_train, Y_train, cv=kfold, scoring=scoring)\n",
        "\n",
        "  results.append(cv_results)\n",
        "\n",
        "  names.append(name)\n",
        "\n",
        "  msg = \"%s: %f (%f)\" % (name, cv_results.mean(), cv_results.std())\n",
        "  print(msg)"
      ],
      "metadata": {
        "colab": {
          "base_uri": "https://localhost:8080/"
        },
        "id": "mPqTVJj578gS",
        "outputId": "8ff423d8-6a28-443c-9e13-b6e9d429a298"
      },
      "execution_count": 66,
      "outputs": [
        {
          "output_type": "stream",
          "name": "stdout",
          "text": [
            "Tree: 0.950000 (0.076376)\n",
            "RandomForest: 0.966667 (0.040825)\n"
          ]
        }
      ]
    },
    {
      "cell_type": "markdown",
      "source": [
        "Penjelasan code :\n",
        "\n",
        "1. **Inisialisasi Variabel Hasil dan Nama:**\n",
        "   ```python\n",
        "   results = [] # Menyimpan hasil evaluasi\n",
        "   names = [] # Menyimpan nama model\n",
        "   ```\n",
        "   Baris ini membuat dua list kosong (`results` dan `names`) yang akan digunakan untuk menyimpan hasil evaluasi dari setiap model dan nama modelnya.\n",
        "\n",
        "2. **Looping untuk Setiap Model:**\n",
        "   ```python\n",
        "   for name, model in models:\n",
        "   ```\n",
        "   Baris ini memulai loop yang akan berjalan untuk setiap model dalam list `models`. Dalam setiap iterasi, `name` akan berisi nama model, dan `model` akan berisi objek model yang akan dievaluasi.\n",
        "\n",
        "3. **Inisialisasi K-Fold Cross-Validation:**\n",
        "   ```python\n",
        "   kfold = model_selection.KFold(n_splits=10, random_state=seed, shuffle=True)\n",
        "   ```\n",
        "   Baris ini membuat objek KFold untuk melakukan validasi silang dengan 10 lipatan. `shuffle=True` menunjukkan bahwa data akan diacak sebelum dibagi menjadi lipatan.\n",
        "\n",
        "4. **Cross-Validation dan Penyimpanan Hasil:**\n",
        "   ```python\n",
        "   cv_results = model_selection.cross_val_score(model, X_train, Y_train, cv=kfold, scoring=scoring)\n",
        "   ```\n",
        "   Baris ini menggunakan `cross_val_score` untuk melakukan validasi silang pada model dengan menggunakan K-Fold yang telah diinisialisasi sebelumnya. Hasilnya disimpan dalam variabel `cv_results`.\n",
        "\n",
        "5. **Penyimpanan Hasil dan Cetak Informasi:**\n",
        "   ```python\n",
        "   results.append(cv_results)\n",
        "   names.append(name)\n",
        "   msg = \"%s: %f (%f)\" % (name, cv_results.mean(), cv_results.std())\n",
        "   print(msg)\n",
        "   ```\n",
        "   Baris ini menyimpan hasil evaluasi (`cv_results`) ke dalam list `results` dan nama model ke dalam list `names`. Selanjutnya, pesan (`msg`) berisi informasi tentang nama model, rata-rata akurasi, dan deviasi standar akurasi. Pesan ini kemudian dicetak ke layar.\n",
        "\n"
      ],
      "metadata": {
        "id": "2PshFrEkDxGh"
      }
    },
    {
      "cell_type": "markdown",
      "source": [
        "Hasil evaluasi yang dicetak adalah rata-rata akurasi dan deviasi standar dari 10-fold cross-validation untuk setiap model. Berikut adalah penjelasan hasilnya:\n",
        "\n",
        "1. **Decision Tree (`Tree`):**\n",
        "   - Rata-rata akurasi: 0.950000\n",
        "   - Deviasi standar: 0.076376\n",
        "\n",
        "   Hasil ini menunjukkan bahwa model Decision Tree memiliki rata-rata akurasi sekitar 95% dan deviasi standar sekitar 0.076. Ini berarti model tersebut cukup konsisten dalam melakukan prediksi, dan akurasi rata-ratanya adalah sekitar 95%.\n",
        "\n",
        "2. **Random Forest (`RandomForest`):**\n",
        "   - Rata-rata akurasi: 0.966667\n",
        "   - Deviasi standar: 0.040825\n",
        "\n",
        "   Hasil ini menunjukkan bahwa model Random Forest memiliki rata-rata akurasi sekitar 96.67% dan deviasi standar sekitar 0.041. Random Forest memiliki akurasi rata-rata yang sedikit lebih tinggi dibandingkan dengan Decision Tree dan juga menunjukkan deviasi standar yang lebih rendah, menunjukkan konsistensi yang baik dalam prediksi.\n",
        "\n",
        "Secara umum, hasil ini menunjukkan bahwa Random Forest memberikan kinerja yang sedikit lebih baik daripada Decision Tree untuk dataset dan tugas klasifikasi yang sedang diuji."
      ],
      "metadata": {
        "id": "D0T8OVkcDxf2"
      }
    },
    {
      "cell_type": "code",
      "source": [
        "# Make predictions on validation dataset\n",
        "RF = RandomForestClassifier()\n",
        "\n",
        "# melatih svm menggunakan data latih\n",
        "RF.fit(X_train, Y_train)\n",
        "\n",
        "# menguji model klasifikasi yang dihasilkan dari proses pelatihan\n",
        "# data dengan testing data\n",
        "predictions = RF.predict(X_validation)\n",
        "\n",
        "print(\"Accuracy:\", accuracy_score(Y_validation, predictions))\n",
        "print(\"\\nConfusion Matrix:\\n\", confusion_matrix(Y_validation, predictions))\n",
        "print(\"\\nClassification Report:\\n\", classification_report(Y_validation, predictions))"
      ],
      "metadata": {
        "colab": {
          "base_uri": "https://localhost:8080/"
        },
        "id": "s3Qot4CI8F0U",
        "outputId": "26686db6-f2b8-4a4b-be92-d7481a0f6309"
      },
      "execution_count": 67,
      "outputs": [
        {
          "output_type": "stream",
          "name": "stdout",
          "text": [
            "Accuracy: 0.8666666666666667\n",
            "\n",
            "Confusion Matrix:\n",
            " [[ 7  0  0]\n",
            " [ 0 10  2]\n",
            " [ 0  2  9]]\n",
            "\n",
            "Classification Report:\n",
            "                  precision    recall  f1-score   support\n",
            "\n",
            "    Iris-setosa       1.00      1.00      1.00         7\n",
            "Iris-versicolor       0.83      0.83      0.83        12\n",
            " Iris-virginica       0.82      0.82      0.82        11\n",
            "\n",
            "       accuracy                           0.87        30\n",
            "      macro avg       0.88      0.88      0.88        30\n",
            "   weighted avg       0.87      0.87      0.87        30\n",
            "\n"
          ]
        }
      ]
    },
    {
      "cell_type": "markdown",
      "source": [
        "Code diatas digunakan untuk membuat prediksi pada dataset validasi menggunakan model klasifikasi Random Forest yang telah dilatih sebelumnya. Penjelasan code :\n",
        "\n",
        "1. **Inisialisasi dan Pelatihan Model:**\n",
        "   ```python\n",
        "   RF = RandomForestClassifier()\n",
        "   RF.fit(X_train, Y_train)\n",
        "   ```\n",
        "   Baris pertama membuat objek dari kelas `RandomForestClassifier` dan menetapkannya ke variabel `RF`. Baris kedua melatih model tersebut menggunakan data latih (`X_train` dan `Y_train`).\n",
        "\n",
        "2. **Membuat Prediksi pada Dataset Validasi:**\n",
        "   ```python\n",
        "   predictions = RF.predict(X_validation)\n",
        "   ```\n",
        "   Baris ini menggunakan model yang telah dilatih untuk membuat prediksi pada dataset validasi (`X_validation`). Hasil prediksi disimpan dalam variabel `predictions`.\n",
        "\n",
        "3. **Evaluasi Performa Model pada Dataset Validasi:**\n",
        "   ```python\n",
        "   print(\"Accuracy:\", accuracy_score(Y_validation, predictions))\n",
        "   print(\"\\nConfusion Matrix:\\n\", confusion_matrix(Y_validation, predictions))\n",
        "   print(\"\\nClassification Report:\\n\", classification_report(Y_validation, predictions))\n",
        "   ```\n",
        "   Baris ini mencetak beberapa metrik evaluasi performa model pada dataset validasi. Metrik tersebut meliputi akurasi (`accuracy`), `confusion matrix`, dan laporan klasifikasi (`classification report`).\n",
        "\n",
        "   - `accuracy_score`: Menghitung akurasi prediksi model.\n",
        "   - `confusion_matrix`: Menampilkan matriks, yang memberikan informasi tentang jumlah prediksi yang benar dan salah untuk setiap kelas.\n",
        "   - `classification_report`: Menampilkan laporan klasifikasi yang mencakup precision, recall, dan f1-score untuk setiap kelas, serta rata-rata akurasi dan f1-score secara keseluruhan.\n",
        "\n"
      ],
      "metadata": {
        "id": "iptY9JuGFdTm"
      }
    },
    {
      "cell_type": "markdown",
      "source": [
        "Hasil evaluasi performa model pada dataset validasi mencakup tiga komponen utama: akurasi (`accuracy`),`confusion matrix`, dan laporan klasifikasi (`classification report`). Penjelasan hasil :\n",
        "\n",
        "1. **Akurasi (Accuracy):**\n",
        "   ```\n",
        "   Accuracy: 0.8666666666666667\n",
        "   ```\n",
        "   Akurasi adalah metrik yang mengukur sejauh mana model dapat memprediksi dengan benar. Dalam konteks ini, akurasi model pada dataset validasi adalah sekitar 86.67%, yang berarti sekitar 86.67% dari prediksi model benar.\n",
        "\n",
        "2. **Confusion Matrix:**\n",
        "\n",
        "```\n",
        "Confusion Matrix:\n",
        "[[ 7  0  0]\n",
        " [ 0 10  2]\n",
        " [ 0  2  9]]\n",
        "```\n",
        "\n",
        "- **Baris pertama:** Mewakili kelas Iris-setosa.\n",
        "- **Baris kedua:** Mewakili kelas Iris-versicolor.\n",
        "- **Baris ketiga:** Mewakili kelas Iris-virginica.\n",
        "\n",
        "- **Kolom pertama:** Mewakili prediksi untuk kelas Iris-setosa.\n",
        "- **Kolom kedua:** Mewakili prediksi untuk kelas Iris-versicolor.\n",
        "- **Kolom ketiga:** Mewakili prediksi untuk kelas Iris-virginica.\n",
        "\n",
        "Dengan menggunakan confusion matrix, kita dapat melihat:\n",
        "\n",
        "1. **Kelas Iris-setosa (Baris Pertama):**\n",
        "   - Terdapat 7 prediksi yang benar (True Positive).\n",
        "   - Tidak ada prediksi yang salah untuk kelas Iris-setosa (False Positive dan False Negative adalah 0).\n",
        "\n",
        "2. **Kelas Iris-versicolor (Baris Kedua):**\n",
        "   - Terdapat 10 prediksi yang benar (True Positive).\n",
        "   - Terdapat 2 prediksi yang salah, yaitu 2 data Iris-versicolor yang salah diprediksi sebagai Iris-virginica (False Negative).\n",
        "\n",
        "3. **Kelas Iris-virginica (Baris Ketiga):**\n",
        "   - Terdapat 9 prediksi yang benar (True Positive).\n",
        "   - Terdapat 2 prediksi yang salah, yaitu 2 data Iris-virginica yang salah diprediksi sebagai Iris-versicolor (False Negative).\n",
        "\n",
        "\n",
        "3. **Laporan Klasifikasi (Classification Report):**\n",
        "   ```\n",
        "                  precision    recall  f1-score   support\n",
        "\n",
        "    Iris-setosa       1.00      1.00      1.00         7\n",
        "Iris-versicolor       0.83      0.83      0.83        12\n",
        " Iris-virginica       0.82      0.82      0.82        11\n",
        "\n",
        "       accuracy                           0.87        30\n",
        "      macro avg       0.88      0.88      0.88        30\n",
        "   weighted avg       0.87      0.87      0.87        30\n",
        "   ```\n",
        "   Laporan klasifikasi memberikan informasi lebih rinci tentang precision, recall, dan f1-score untuk setiap kelas, serta rata-rata akurasi dan f1-score secara keseluruhan. Precision mengukur seberapa baik model dapat mengidentifikasi instance positif, recall mengukur sejauh mana model dapat mendeteksi semua instance positif yang seharusnya, dan f1-score adalah harmonic mean dari precision dan recall.\n",
        "\n",
        "   - `Iris-setosa`: Precision, recall, dan f1-score sebesar 1.00, menunjukkan performa sempurna untuk kelas ini.\n",
        "   - `Iris-versicolor` dan `Iris-virginica`: Precision, recall, dan f1-score sekitar 0.83 dan 0.82, menunjukkan performa yang baik, meskipun tidak sempurna.\n",
        "\n",
        "   Bagian akhir dari laporan klasifikasi (`accuracy`, `macro avg`, dan `weighted avg`) memberikan rata-rata akurasi dan f1-score, baik secara rata-rata sederhana (macro avg) maupun berbobot (weighted avg). Dalam kasus ini, akurasi rata-rata adalah sekitar 87%."
      ],
      "metadata": {
        "id": "hCYNTTjJF0ME"
      }
    },
    {
      "cell_type": "markdown",
      "source": [
        "**2. Melakukan evaluasi algoritma dengan dataset Glass Identification, menggunakan algoritma KNN, NB, dan SVM**"
      ],
      "metadata": {
        "id": "JlWZeOHlAJq7"
      }
    },
    {
      "cell_type": "markdown",
      "source": [
        "Import libraries"
      ],
      "metadata": {
        "id": "YE-LD1EPAjfs"
      }
    },
    {
      "cell_type": "code",
      "execution_count": 69,
      "metadata": {
        "id": "W9FLXkUF_Uoi"
      },
      "outputs": [],
      "source": [
        "# Import library yang dibutuhkan\n",
        "import pandas as pd"
      ]
    },
    {
      "cell_type": "markdown",
      "source": [
        "Membaca dan mempersiapkan dataset"
      ],
      "metadata": {
        "id": "yPbmv2WZA-HS"
      }
    },
    {
      "cell_type": "code",
      "source": [
        "# Variabel names berisi daftar nama kolom/feature yang akan digunakan untuk DataFrame yang akan dibaca.\n",
        "names = ['RI', 'Na', 'Mg', 'AI', 'Si', 'K', 'Ca', 'Ba', 'Fe', 'Type of glass']\n",
        "\n",
        "# Dataset yang digunakan\n",
        "dataset = pd.read_csv('glass.data', names=names)"
      ],
      "metadata": {
        "id": "MMsMDwgoBDRQ"
      },
      "execution_count": 70,
      "outputs": []
    },
    {
      "cell_type": "markdown",
      "source": [
        "Melihat isi dataset"
      ],
      "metadata": {
        "id": "ReNw1Ab7BUpV"
      }
    },
    {
      "cell_type": "code",
      "source": [
        "dataset"
      ],
      "metadata": {
        "colab": {
          "base_uri": "https://localhost:8080/",
          "height": 423
        },
        "id": "ajXpbAV1BWrZ",
        "outputId": "2d70a386-c6fe-42a7-911e-64d4616f5387"
      },
      "execution_count": 71,
      "outputs": [
        {
          "output_type": "execute_result",
          "data": {
            "text/plain": [
              "          RI     Na    Mg    AI     Si     K    Ca    Ba   Fe  Type of glass\n",
              "1    1.52101  13.64  4.49  1.10  71.78  0.06  8.75  0.00  0.0              1\n",
              "2    1.51761  13.89  3.60  1.36  72.73  0.48  7.83  0.00  0.0              1\n",
              "3    1.51618  13.53  3.55  1.54  72.99  0.39  7.78  0.00  0.0              1\n",
              "4    1.51766  13.21  3.69  1.29  72.61  0.57  8.22  0.00  0.0              1\n",
              "5    1.51742  13.27  3.62  1.24  73.08  0.55  8.07  0.00  0.0              1\n",
              "..       ...    ...   ...   ...    ...   ...   ...   ...  ...            ...\n",
              "210  1.51623  14.14  0.00  2.88  72.61  0.08  9.18  1.06  0.0              7\n",
              "211  1.51685  14.92  0.00  1.99  73.06  0.00  8.40  1.59  0.0              7\n",
              "212  1.52065  14.36  0.00  2.02  73.42  0.00  8.44  1.64  0.0              7\n",
              "213  1.51651  14.38  0.00  1.94  73.61  0.00  8.48  1.57  0.0              7\n",
              "214  1.51711  14.23  0.00  2.08  73.36  0.00  8.62  1.67  0.0              7\n",
              "\n",
              "[214 rows x 10 columns]"
            ],
            "text/html": [
              "\n",
              "  <div id=\"df-2d358d58-5249-47a7-ad68-c5a88271bf69\" class=\"colab-df-container\">\n",
              "    <div>\n",
              "<style scoped>\n",
              "    .dataframe tbody tr th:only-of-type {\n",
              "        vertical-align: middle;\n",
              "    }\n",
              "\n",
              "    .dataframe tbody tr th {\n",
              "        vertical-align: top;\n",
              "    }\n",
              "\n",
              "    .dataframe thead th {\n",
              "        text-align: right;\n",
              "    }\n",
              "</style>\n",
              "<table border=\"1\" class=\"dataframe\">\n",
              "  <thead>\n",
              "    <tr style=\"text-align: right;\">\n",
              "      <th></th>\n",
              "      <th>RI</th>\n",
              "      <th>Na</th>\n",
              "      <th>Mg</th>\n",
              "      <th>AI</th>\n",
              "      <th>Si</th>\n",
              "      <th>K</th>\n",
              "      <th>Ca</th>\n",
              "      <th>Ba</th>\n",
              "      <th>Fe</th>\n",
              "      <th>Type of glass</th>\n",
              "    </tr>\n",
              "  </thead>\n",
              "  <tbody>\n",
              "    <tr>\n",
              "      <th>1</th>\n",
              "      <td>1.52101</td>\n",
              "      <td>13.64</td>\n",
              "      <td>4.49</td>\n",
              "      <td>1.10</td>\n",
              "      <td>71.78</td>\n",
              "      <td>0.06</td>\n",
              "      <td>8.75</td>\n",
              "      <td>0.00</td>\n",
              "      <td>0.0</td>\n",
              "      <td>1</td>\n",
              "    </tr>\n",
              "    <tr>\n",
              "      <th>2</th>\n",
              "      <td>1.51761</td>\n",
              "      <td>13.89</td>\n",
              "      <td>3.60</td>\n",
              "      <td>1.36</td>\n",
              "      <td>72.73</td>\n",
              "      <td>0.48</td>\n",
              "      <td>7.83</td>\n",
              "      <td>0.00</td>\n",
              "      <td>0.0</td>\n",
              "      <td>1</td>\n",
              "    </tr>\n",
              "    <tr>\n",
              "      <th>3</th>\n",
              "      <td>1.51618</td>\n",
              "      <td>13.53</td>\n",
              "      <td>3.55</td>\n",
              "      <td>1.54</td>\n",
              "      <td>72.99</td>\n",
              "      <td>0.39</td>\n",
              "      <td>7.78</td>\n",
              "      <td>0.00</td>\n",
              "      <td>0.0</td>\n",
              "      <td>1</td>\n",
              "    </tr>\n",
              "    <tr>\n",
              "      <th>4</th>\n",
              "      <td>1.51766</td>\n",
              "      <td>13.21</td>\n",
              "      <td>3.69</td>\n",
              "      <td>1.29</td>\n",
              "      <td>72.61</td>\n",
              "      <td>0.57</td>\n",
              "      <td>8.22</td>\n",
              "      <td>0.00</td>\n",
              "      <td>0.0</td>\n",
              "      <td>1</td>\n",
              "    </tr>\n",
              "    <tr>\n",
              "      <th>5</th>\n",
              "      <td>1.51742</td>\n",
              "      <td>13.27</td>\n",
              "      <td>3.62</td>\n",
              "      <td>1.24</td>\n",
              "      <td>73.08</td>\n",
              "      <td>0.55</td>\n",
              "      <td>8.07</td>\n",
              "      <td>0.00</td>\n",
              "      <td>0.0</td>\n",
              "      <td>1</td>\n",
              "    </tr>\n",
              "    <tr>\n",
              "      <th>...</th>\n",
              "      <td>...</td>\n",
              "      <td>...</td>\n",
              "      <td>...</td>\n",
              "      <td>...</td>\n",
              "      <td>...</td>\n",
              "      <td>...</td>\n",
              "      <td>...</td>\n",
              "      <td>...</td>\n",
              "      <td>...</td>\n",
              "      <td>...</td>\n",
              "    </tr>\n",
              "    <tr>\n",
              "      <th>210</th>\n",
              "      <td>1.51623</td>\n",
              "      <td>14.14</td>\n",
              "      <td>0.00</td>\n",
              "      <td>2.88</td>\n",
              "      <td>72.61</td>\n",
              "      <td>0.08</td>\n",
              "      <td>9.18</td>\n",
              "      <td>1.06</td>\n",
              "      <td>0.0</td>\n",
              "      <td>7</td>\n",
              "    </tr>\n",
              "    <tr>\n",
              "      <th>211</th>\n",
              "      <td>1.51685</td>\n",
              "      <td>14.92</td>\n",
              "      <td>0.00</td>\n",
              "      <td>1.99</td>\n",
              "      <td>73.06</td>\n",
              "      <td>0.00</td>\n",
              "      <td>8.40</td>\n",
              "      <td>1.59</td>\n",
              "      <td>0.0</td>\n",
              "      <td>7</td>\n",
              "    </tr>\n",
              "    <tr>\n",
              "      <th>212</th>\n",
              "      <td>1.52065</td>\n",
              "      <td>14.36</td>\n",
              "      <td>0.00</td>\n",
              "      <td>2.02</td>\n",
              "      <td>73.42</td>\n",
              "      <td>0.00</td>\n",
              "      <td>8.44</td>\n",
              "      <td>1.64</td>\n",
              "      <td>0.0</td>\n",
              "      <td>7</td>\n",
              "    </tr>\n",
              "    <tr>\n",
              "      <th>213</th>\n",
              "      <td>1.51651</td>\n",
              "      <td>14.38</td>\n",
              "      <td>0.00</td>\n",
              "      <td>1.94</td>\n",
              "      <td>73.61</td>\n",
              "      <td>0.00</td>\n",
              "      <td>8.48</td>\n",
              "      <td>1.57</td>\n",
              "      <td>0.0</td>\n",
              "      <td>7</td>\n",
              "    </tr>\n",
              "    <tr>\n",
              "      <th>214</th>\n",
              "      <td>1.51711</td>\n",
              "      <td>14.23</td>\n",
              "      <td>0.00</td>\n",
              "      <td>2.08</td>\n",
              "      <td>73.36</td>\n",
              "      <td>0.00</td>\n",
              "      <td>8.62</td>\n",
              "      <td>1.67</td>\n",
              "      <td>0.0</td>\n",
              "      <td>7</td>\n",
              "    </tr>\n",
              "  </tbody>\n",
              "</table>\n",
              "<p>214 rows × 10 columns</p>\n",
              "</div>\n",
              "    <div class=\"colab-df-buttons\">\n",
              "\n",
              "  <div class=\"colab-df-container\">\n",
              "    <button class=\"colab-df-convert\" onclick=\"convertToInteractive('df-2d358d58-5249-47a7-ad68-c5a88271bf69')\"\n",
              "            title=\"Convert this dataframe to an interactive table.\"\n",
              "            style=\"display:none;\">\n",
              "\n",
              "  <svg xmlns=\"http://www.w3.org/2000/svg\" height=\"24px\" viewBox=\"0 -960 960 960\">\n",
              "    <path d=\"M120-120v-720h720v720H120Zm60-500h600v-160H180v160Zm220 220h160v-160H400v160Zm0 220h160v-160H400v160ZM180-400h160v-160H180v160Zm440 0h160v-160H620v160ZM180-180h160v-160H180v160Zm440 0h160v-160H620v160Z\"/>\n",
              "  </svg>\n",
              "    </button>\n",
              "\n",
              "  <style>\n",
              "    .colab-df-container {\n",
              "      display:flex;\n",
              "      gap: 12px;\n",
              "    }\n",
              "\n",
              "    .colab-df-convert {\n",
              "      background-color: #E8F0FE;\n",
              "      border: none;\n",
              "      border-radius: 50%;\n",
              "      cursor: pointer;\n",
              "      display: none;\n",
              "      fill: #1967D2;\n",
              "      height: 32px;\n",
              "      padding: 0 0 0 0;\n",
              "      width: 32px;\n",
              "    }\n",
              "\n",
              "    .colab-df-convert:hover {\n",
              "      background-color: #E2EBFA;\n",
              "      box-shadow: 0px 1px 2px rgba(60, 64, 67, 0.3), 0px 1px 3px 1px rgba(60, 64, 67, 0.15);\n",
              "      fill: #174EA6;\n",
              "    }\n",
              "\n",
              "    .colab-df-buttons div {\n",
              "      margin-bottom: 4px;\n",
              "    }\n",
              "\n",
              "    [theme=dark] .colab-df-convert {\n",
              "      background-color: #3B4455;\n",
              "      fill: #D2E3FC;\n",
              "    }\n",
              "\n",
              "    [theme=dark] .colab-df-convert:hover {\n",
              "      background-color: #434B5C;\n",
              "      box-shadow: 0px 1px 3px 1px rgba(0, 0, 0, 0.15);\n",
              "      filter: drop-shadow(0px 1px 2px rgba(0, 0, 0, 0.3));\n",
              "      fill: #FFFFFF;\n",
              "    }\n",
              "  </style>\n",
              "\n",
              "    <script>\n",
              "      const buttonEl =\n",
              "        document.querySelector('#df-2d358d58-5249-47a7-ad68-c5a88271bf69 button.colab-df-convert');\n",
              "      buttonEl.style.display =\n",
              "        google.colab.kernel.accessAllowed ? 'block' : 'none';\n",
              "\n",
              "      async function convertToInteractive(key) {\n",
              "        const element = document.querySelector('#df-2d358d58-5249-47a7-ad68-c5a88271bf69');\n",
              "        const dataTable =\n",
              "          await google.colab.kernel.invokeFunction('convertToInteractive',\n",
              "                                                    [key], {});\n",
              "        if (!dataTable) return;\n",
              "\n",
              "        const docLinkHtml = 'Like what you see? Visit the ' +\n",
              "          '<a target=\"_blank\" href=https://colab.research.google.com/notebooks/data_table.ipynb>data table notebook</a>'\n",
              "          + ' to learn more about interactive tables.';\n",
              "        element.innerHTML = '';\n",
              "        dataTable['output_type'] = 'display_data';\n",
              "        await google.colab.output.renderOutput(dataTable, element);\n",
              "        const docLink = document.createElement('div');\n",
              "        docLink.innerHTML = docLinkHtml;\n",
              "        element.appendChild(docLink);\n",
              "      }\n",
              "    </script>\n",
              "  </div>\n",
              "\n",
              "\n",
              "<div id=\"df-12816606-0c20-46c3-996e-23ca42ccb304\">\n",
              "  <button class=\"colab-df-quickchart\" onclick=\"quickchart('df-12816606-0c20-46c3-996e-23ca42ccb304')\"\n",
              "            title=\"Suggest charts\"\n",
              "            style=\"display:none;\">\n",
              "\n",
              "<svg xmlns=\"http://www.w3.org/2000/svg\" height=\"24px\"viewBox=\"0 0 24 24\"\n",
              "     width=\"24px\">\n",
              "    <g>\n",
              "        <path d=\"M19 3H5c-1.1 0-2 .9-2 2v14c0 1.1.9 2 2 2h14c1.1 0 2-.9 2-2V5c0-1.1-.9-2-2-2zM9 17H7v-7h2v7zm4 0h-2V7h2v10zm4 0h-2v-4h2v4z\"/>\n",
              "    </g>\n",
              "</svg>\n",
              "  </button>\n",
              "\n",
              "<style>\n",
              "  .colab-df-quickchart {\n",
              "      --bg-color: #E8F0FE;\n",
              "      --fill-color: #1967D2;\n",
              "      --hover-bg-color: #E2EBFA;\n",
              "      --hover-fill-color: #174EA6;\n",
              "      --disabled-fill-color: #AAA;\n",
              "      --disabled-bg-color: #DDD;\n",
              "  }\n",
              "\n",
              "  [theme=dark] .colab-df-quickchart {\n",
              "      --bg-color: #3B4455;\n",
              "      --fill-color: #D2E3FC;\n",
              "      --hover-bg-color: #434B5C;\n",
              "      --hover-fill-color: #FFFFFF;\n",
              "      --disabled-bg-color: #3B4455;\n",
              "      --disabled-fill-color: #666;\n",
              "  }\n",
              "\n",
              "  .colab-df-quickchart {\n",
              "    background-color: var(--bg-color);\n",
              "    border: none;\n",
              "    border-radius: 50%;\n",
              "    cursor: pointer;\n",
              "    display: none;\n",
              "    fill: var(--fill-color);\n",
              "    height: 32px;\n",
              "    padding: 0;\n",
              "    width: 32px;\n",
              "  }\n",
              "\n",
              "  .colab-df-quickchart:hover {\n",
              "    background-color: var(--hover-bg-color);\n",
              "    box-shadow: 0 1px 2px rgba(60, 64, 67, 0.3), 0 1px 3px 1px rgba(60, 64, 67, 0.15);\n",
              "    fill: var(--button-hover-fill-color);\n",
              "  }\n",
              "\n",
              "  .colab-df-quickchart-complete:disabled,\n",
              "  .colab-df-quickchart-complete:disabled:hover {\n",
              "    background-color: var(--disabled-bg-color);\n",
              "    fill: var(--disabled-fill-color);\n",
              "    box-shadow: none;\n",
              "  }\n",
              "\n",
              "  .colab-df-spinner {\n",
              "    border: 2px solid var(--fill-color);\n",
              "    border-color: transparent;\n",
              "    border-bottom-color: var(--fill-color);\n",
              "    animation:\n",
              "      spin 1s steps(1) infinite;\n",
              "  }\n",
              "\n",
              "  @keyframes spin {\n",
              "    0% {\n",
              "      border-color: transparent;\n",
              "      border-bottom-color: var(--fill-color);\n",
              "      border-left-color: var(--fill-color);\n",
              "    }\n",
              "    20% {\n",
              "      border-color: transparent;\n",
              "      border-left-color: var(--fill-color);\n",
              "      border-top-color: var(--fill-color);\n",
              "    }\n",
              "    30% {\n",
              "      border-color: transparent;\n",
              "      border-left-color: var(--fill-color);\n",
              "      border-top-color: var(--fill-color);\n",
              "      border-right-color: var(--fill-color);\n",
              "    }\n",
              "    40% {\n",
              "      border-color: transparent;\n",
              "      border-right-color: var(--fill-color);\n",
              "      border-top-color: var(--fill-color);\n",
              "    }\n",
              "    60% {\n",
              "      border-color: transparent;\n",
              "      border-right-color: var(--fill-color);\n",
              "    }\n",
              "    80% {\n",
              "      border-color: transparent;\n",
              "      border-right-color: var(--fill-color);\n",
              "      border-bottom-color: var(--fill-color);\n",
              "    }\n",
              "    90% {\n",
              "      border-color: transparent;\n",
              "      border-bottom-color: var(--fill-color);\n",
              "    }\n",
              "  }\n",
              "</style>\n",
              "\n",
              "  <script>\n",
              "    async function quickchart(key) {\n",
              "      const quickchartButtonEl =\n",
              "        document.querySelector('#' + key + ' button');\n",
              "      quickchartButtonEl.disabled = true;  // To prevent multiple clicks.\n",
              "      quickchartButtonEl.classList.add('colab-df-spinner');\n",
              "      try {\n",
              "        const charts = await google.colab.kernel.invokeFunction(\n",
              "            'suggestCharts', [key], {});\n",
              "      } catch (error) {\n",
              "        console.error('Error during call to suggestCharts:', error);\n",
              "      }\n",
              "      quickchartButtonEl.classList.remove('colab-df-spinner');\n",
              "      quickchartButtonEl.classList.add('colab-df-quickchart-complete');\n",
              "    }\n",
              "    (() => {\n",
              "      let quickchartButtonEl =\n",
              "        document.querySelector('#df-12816606-0c20-46c3-996e-23ca42ccb304 button');\n",
              "      quickchartButtonEl.style.display =\n",
              "        google.colab.kernel.accessAllowed ? 'block' : 'none';\n",
              "    })();\n",
              "  </script>\n",
              "</div>\n",
              "    </div>\n",
              "  </div>\n"
            ]
          },
          "metadata": {},
          "execution_count": 71
        }
      ]
    },
    {
      "cell_type": "code",
      "source": [
        "dataset.shape"
      ],
      "metadata": {
        "colab": {
          "base_uri": "https://localhost:8080/"
        },
        "id": "jC96HBUXBiLM",
        "outputId": "574a97b3-e82a-4660-a07c-aad91397e114"
      },
      "execution_count": 72,
      "outputs": [
        {
          "output_type": "execute_result",
          "data": {
            "text/plain": [
              "(214, 10)"
            ]
          },
          "metadata": {},
          "execution_count": 72
        }
      ]
    },
    {
      "cell_type": "markdown",
      "source": [
        "Pada kode diatas dihasilkan 214 jumlah baris data dalam dataset, serta 10 kolom atau fitur dalam dataset, yaitu RI, Na, Mg, AI, Si, K, Ca, Ba, Fe, dan Type of glass."
      ],
      "metadata": {
        "id": "6_hBzJkCHk4X"
      }
    },
    {
      "cell_type": "markdown",
      "source": [
        "Train test split"
      ],
      "metadata": {
        "id": "R3NN0nejBmYS"
      }
    },
    {
      "cell_type": "code",
      "source": [
        "# Import library yang dibutuhkan\n",
        "from sklearn import model_selection"
      ],
      "metadata": {
        "id": "5gTbI0v5Bl1o"
      },
      "execution_count": 73,
      "outputs": []
    },
    {
      "cell_type": "code",
      "source": [
        "array = dataset.values\n",
        "\n",
        "X = array[:,0:9]\n",
        "Y = array[:,9]\n",
        "Y = Y.astype('int')\n",
        "\n",
        "validation_size = 0.20\n",
        "\n",
        "# untuk mengacak data\n",
        "seed = 7\n",
        "\n",
        "X_train, X_validation, Y_train, Y_validation = model_selection.train_test_split(X, Y, test_size=validation_size,random_state=seed)"
      ],
      "metadata": {
        "id": "KAv1Leb4BwES"
      },
      "execution_count": 74,
      "outputs": []
    },
    {
      "cell_type": "markdown",
      "source": [
        "Code diatas adalah contoh proses persiapan data untuk pembelajaran mesin menggunakan pustaka scikit-learn di Python. Penjelasan code:\n",
        "\n",
        "- array = dataset.values: Mengonversi dataset ke dalam bentuk array. Jika dataset adalah objek DataFrame dari pustaka pandas, maka metode values akan mengonversinya ke dalam array NumPy. Dengan menggunakan indeksing, kita dapat memisahkan array menjadi dua bagian: X (matriks fitur) dan Y (vektor target).\n",
        "\n",
        "- X = array[:, 0:9]: Memilih kolom 0 hingga 8 dari array sebagai matriks fitur X.\n",
        "\n",
        "- Y = array[:, 9]: Memilih kolom dengan indeks 9 dari array sebagai vektor target Y.\n",
        "\n",
        "- Y = Y.astype('int') digunakan untuk mengonversi tipe data vektor target Y menjadi tipe data integer.\n",
        "\n",
        "- validation_size = 0.20: Menetapkan ukuran data validasi sebesar 20% dari total data. Hal ini akan digunakan dalam pemisahan data latih dan data validasi.\n",
        "\n",
        "- seed = 7: Menetapkan seed untuk mengacak data. Seed digunakan agar hasil pengacakan dapat direproduksi.\n",
        "\n",
        "- X_train, X_validation, Y_train, Y_validation = model_selection.train_test_split(X, Y, test_size=validation_size, random_state=seed): menggunakan fungsi train_test_split dari modul model_selection di scikit-learn untuk memisahkan dataset menjadi data latih (X_train dan Y_train) dan data validasi (X_validation dan Y_validation). Parameter test_size menentukan ukuran data validasi (dalam hal ini, 20%), dan random_state adalah seed untuk pengacakan."
      ],
      "metadata": {
        "id": "SJecrC4-IO9y"
      }
    },
    {
      "cell_type": "code",
      "source": [
        "print(\"X_train :\", X_train.shape)\n",
        "print(\"X_validation :\", X_validation.shape)\n",
        "print(\"Y_train :\", Y_train.shape)\n",
        "print(\"Y_validation :\", Y_validation.shape)"
      ],
      "metadata": {
        "colab": {
          "base_uri": "https://localhost:8080/"
        },
        "id": "-Z07j4UyB8WJ",
        "outputId": "60b57e7c-18ca-479d-f5e6-92e136e8f076"
      },
      "execution_count": 75,
      "outputs": [
        {
          "output_type": "stream",
          "name": "stdout",
          "text": [
            "X_train : (171, 9)\n",
            "X_validation : (43, 9)\n",
            "Y_train : (171,)\n",
            "Y_validation : (43,)\n"
          ]
        }
      ]
    },
    {
      "cell_type": "markdown",
      "source": [
        "Code di atas digunakan untuk mencetak dimensi (shape) dari matriks fitur dan vektor target setelah dilakukan pembagian data menjadi data latih (X_train dan Y_train) serta data validasi (X_validation dan Y_validation). Pembahasan code:\n",
        "\n",
        "print(\"X_train :\", X_train.shape): Menampilkan dimensi dari matriks fitur data latih (X_train). Hasilnya adalah (171, 9), yang berarti terdapat 171 baris dan 9 kolom dalam matriks fitur X_train. Setiap baris mewakili satu sampel data latih, dan setiap kolom mewakili satu fitur.\n",
        "\n",
        "print(\"X_validation :\", X_validation.shape): Menampilkan dimensi dari matriks fitur data validasi (X_validation). Hasilnya adalah (43, 9), yang berarti terdapat 43 baris dan 9 kolom dalam matriks fitur X_validation. Seperti pada X_train, setiap baris mewakili satu sampel data validasi.\n",
        "\n",
        "print(\"Y_train :\", Y_train.shape): Menampilkan dimensi dari vektor target data latih (Y_train). Hasilnya adalah (171,), yang berarti terdapat 171 elemen dalam vektor target Y_train. Setiap elemen mewakili label atau kelas dari satu sampel data latih.\n",
        "\n",
        "print(\"Y_validation :\", Y_validation.shape): Menampilkan dimensi dari vektor target data validasi (Y_validation). Hasilnya adalah (43,), yang berarti terdapat 43 elemen dalam vektor target Y_validation. Seperti pada Y_train, setiap elemen mewakili label atau kelas dari satu sampel data validasi."
      ],
      "metadata": {
        "id": "XAqZp3kdI7L7"
      }
    },
    {
      "cell_type": "code",
      "source": [
        "seed = 7\n",
        "\n",
        "scoring = 'accuracy'"
      ],
      "metadata": {
        "id": "Op-h7pytCApN"
      },
      "execution_count": 76,
      "outputs": []
    },
    {
      "cell_type": "markdown",
      "source": [
        "Code di atas menetapkan dua variabel, yaitu seed dan scoring.\n",
        "\n",
        "seed = 7: Mendefinisikan seed yang akan digunakan dalam beberapa fungsi yang melibatkan pengacakan atau pembagian data. Seed digunakan untuk mengontrol hasil acak sehingga hasilnya dapat direproduksi. .\n",
        "\n",
        "scoring = 'accuracy': Mendefinisikan metrik evaluasi yang akan digunakan pada saat validasi model. Dalam konteks ini, metrik evaluasi yang digunakan adalah akurasi (accuracy). Akurasi mengukur sejauh mana model dapat memprediksi dengan benar. Untuk tugas klasifikasi, akurasi adalah rasio antara jumlah prediksi yang benar dengan total jumlah prediksi."
      ],
      "metadata": {
        "id": "RI_tBMfqJVax"
      }
    },
    {
      "cell_type": "code",
      "source": [
        "# Import library berisi algoritma klasifikasi yang akan digunakan\n",
        "from sklearn.neighbors import KNeighborsClassifier\n",
        "from sklearn.naive_bayes import GaussianNB\n",
        "from sklearn.svm import SVC"
      ],
      "metadata": {
        "id": "HTxFAPxYCEsp"
      },
      "execution_count": 77,
      "outputs": []
    },
    {
      "cell_type": "code",
      "source": [
        "# Spot Check Algorithms\n",
        "models = []\n",
        "\n",
        "models.append(('KNN', KNeighborsClassifier()))\n",
        "models.append(('NB', GaussianNB()))\n",
        "models.append(('SVM', SVC()))"
      ],
      "metadata": {
        "id": "i75vjhjBCGbH"
      },
      "execution_count": 78,
      "outputs": []
    },
    {
      "cell_type": "markdown",
      "source": [
        "Code tersebut merupakan bagian dari proses \"Spot Checking Algorithms\" atau pemeriksaan algoritma untuk memilih model terbaik dari berbagai algoritma klasifikasi.\n",
        "\n",
        "1. Pembuatan List Models, baris ini membuat sebuah list kosong yang nantinya akan diisi oleh berbagai model klasifikasi yang akan diuji. Setiap model akan ditambahkan ke dalam list menggunakan metode append()\n",
        "\n",
        "2. Spot Check Algorithms, baris ini menambahkan dua model ke dalam list models. Model pertama adalah KNN, dan model kedua adalah Naive Bayes, dan model ketiga adalah SVM."
      ],
      "metadata": {
        "id": "ZTz8iyR3Jepm"
      }
    },
    {
      "cell_type": "code",
      "source": [
        "# evaluate each model in turn\n",
        "results = [] #menyimpan hasil evaluasi\n",
        "\n",
        "names = [] #menyimpan nama model\n",
        "\n",
        "for name, model in models: #mengambil nama dan model dari daftar models tadi\n",
        "\n",
        "  kfold = model_selection.KFold(n_splits=10, random_state=seed, shuffle=True)\n",
        "\n",
        "  # menghitung nilai akurasi dari setiap iterasi\n",
        "  cv_results = model_selection.cross_val_score(model, X_train, Y_train, cv=kfold, scoring=scoring, error_score='raise')\n",
        "\n",
        "  results.append(cv_results)\n",
        "\n",
        "  names.append(name)\n",
        "\n",
        "  msg = \"%s: %f (%f)\" % (name, cv_results.mean(), cv_results.std())\n",
        "  print(msg)"
      ],
      "metadata": {
        "colab": {
          "base_uri": "https://localhost:8080/"
        },
        "id": "kX_GvZHFCJqY",
        "outputId": "1126eacc-3126-4aa1-9261-1050ced5e8bd"
      },
      "execution_count": 79,
      "outputs": [
        {
          "output_type": "stream",
          "name": "stdout",
          "text": [
            "KNN: 0.671569 (0.125187)\n",
            "NB: 0.391503 (0.062036)\n",
            "SVM: 0.350654 (0.077501)\n"
          ]
        }
      ]
    },
    {
      "cell_type": "markdown",
      "source": [
        "Code tersebut digunakan untuk mengevaluasi performa beberapa model klasifikasi menggunakan validasi silang (cross-validation) dengan 10 lipatan (10-fold cross-validation). Penjelasan :\n",
        "\n",
        "1. **Inisialisasi Variabel Hasil dan Nama:**\n",
        "   ```python\n",
        "   results = [] # Menyimpan hasil evaluasi\n",
        "   names = [] # Menyimpan nama model\n",
        "   ```\n",
        "   Baris ini membuat dua list kosong (`results` dan `names`) yang akan digunakan untuk menyimpan hasil evaluasi dari setiap model dan nama modelnya.\n",
        "\n",
        "2. **Looping untuk Setiap Model:**\n",
        "   ```python\n",
        "   for name, model in models:\n",
        "   ```\n",
        "   Baris ini memulai loop yang akan berjalan untuk setiap model dalam list `models`. Dalam setiap iterasi, `name` akan berisi nama model, dan `model` akan berisi objek model yang akan dievaluasi.\n",
        "\n",
        "3. **Inisialisasi K-Fold Cross-Validation:**\n",
        "   ```python\n",
        "   kfold = model_selection.KFold(n_splits=10, random_state=seed, shuffle=True)\n",
        "   ```\n",
        "   Baris ini membuat objek KFold untuk melakukan validasi silang dengan 10 lipatan. `shuffle=True` menunjukkan bahwa data akan diacak sebelum dibagi menjadi lipatan.\n",
        "\n",
        "4. **Cross-Validation dan Penyimpanan Hasil:**\n",
        "   ```python\n",
        "   cv_results = model_selection.cross_val_score(model, X_train, Y_train, cv=kfold, scoring=scoring, error_score='raise')\n",
        "   ```\n",
        "   Baris ini menggunakan `cross_val_score` untuk melakukan validasi silang pada model dengan menggunakan K-Fold yang telah diinisialisasi sebelumnya. Hasilnya disimpan dalam variabel `cv_results`.\n",
        "\n",
        "   - `scoring`: Parameter ini menentukan metrik evaluasi yang akan digunakan. Dalam konteks ini, metriknya adalah akurasi.\n",
        "   - `error_score='raise'`: Parameter ini menentukan apakah kesalahan dalam validasi silang harus diangkat (`'raise'`) atau diabaikan (`'raise'` akan memunculkan kesalahan jika ada).\n",
        "\n",
        "5. **Penyimpanan Hasil dan Cetak Informasi:**\n",
        "   ```python\n",
        "   results.append(cv_results)\n",
        "   names.append(name)\n",
        "   msg = \"%s: %f (%f)\" % (name, cv_results.mean(), cv_results.std())\n",
        "   print(msg)\n",
        "   ```\n",
        "   Baris ini menyimpan hasil evaluasi (`cv_results`) ke dalam list `results` dan nama model ke dalam list `names`. Selanjutnya, pesan (`msg`) berisi informasi tentang nama model, rata-rata akurasi, dan deviasi standar akurasi. Pesan ini kemudian dicetak ke layar.\n",
        "\n"
      ],
      "metadata": {
        "id": "i6kDLw2mJ3Ho"
      }
    },
    {
      "cell_type": "markdown",
      "source": [
        "Hasil cetakan tersebut memberikan informasi tentang performa beberapa model klasifikasi yang dievaluasi menggunakan validasi silang dengan 10 lipatan.\n",
        "\n",
        "1. **Model KNN (K-Nearest Neighbors):**\n",
        "   ```\n",
        "   KNN: 0.671569 (0.125187)\n",
        "   ```\n",
        "   - Rata-rata akurasi KNN selama 10 lipatan adalah sekitar 67.16%.\n",
        "   - Deviasi standar sekitar 12.52% menunjukkan variasi akurasi antar lipatan. Semakin kecil deviasi standar, semakin stabil performa model.\n",
        "\n",
        "2. **Model Naive Bayes (NB):**\n",
        "   ```\n",
        "   NB: 0.391503 (0.062036)\n",
        "   ```\n",
        "   - Rata-rata akurasi Naive Bayes selama 10 lipatan adalah sekitar 39.15%.\n",
        "   - Deviasi standar sekitar 6.20% menunjukkan variasi akurasi antar lipatan. Perlu diperhatikan bahwa akurasi yang rendah dan deviasi standar yang kecil menunjukkan bahwa model Naive Bayes mungkin tidak cocok untuk dataset ini atau perlu penanganan lebih lanjut.\n",
        "\n",
        "3. **Model Support Vector Machine (SVM):**\n",
        "   ```\n",
        "   SVM: 0.350654 (0.077501)\n",
        "   ```\n",
        "   - Rata-rata akurasi SVM selama 10 lipatan adalah sekitar 35.07%.\n",
        "   - Deviasi standar sekitar 7.75% menunjukkan variasi akurasi antar lipatan. Seperti halnya dengan Naive Bayes, akurasi yang rendah dan deviasi standar yang kecil menunjukkan bahwa model SVM mungkin tidak cocok untuk dataset ini atau perlu penanganan lebih lanjut.\n",
        "\n",
        "\n",
        "\n"
      ],
      "metadata": {
        "id": "jX8sISR7Ke-U"
      }
    },
    {
      "cell_type": "code",
      "source": [
        "from sklearn.metrics import accuracy_score, confusion_matrix, classification_report"
      ],
      "metadata": {
        "id": "qvE2ZfqEJbVv"
      },
      "execution_count": 81,
      "outputs": []
    },
    {
      "cell_type": "code",
      "source": [
        "from sklearn.preprocessing import StandardScaler\n",
        "\n",
        "# Inisialisasi model k-NN\n",
        "knn_model = KNeighborsClassifier(n_neighbors=3)  # n_neighbors adalah jumlah tetangga yang akan digunakan\n",
        "\n",
        "# Melakukan normalisasi data dengan StandardScaler\n",
        "scaler = StandardScaler()\n",
        "X_scaled = scaler.fit_transform(X)  # X adalah matriks fitur\n",
        "\n",
        "# Melatih model k-NN menggunakan data latih\n",
        "knn_model.fit(X_train, Y_train)\n",
        "\n",
        "# Melakukan prediksi pada dataset validasi\n",
        "predictions_knn = knn_model.predict(X_validation)\n",
        "\n",
        "# Evaluasi performa model k-NN\n",
        "print(\"Accuracy:\", accuracy_score(Y_validation, predictions_knn))\n",
        "print(\"\\nConfusion Matrix:\\n\", confusion_matrix(Y_validation, predictions_knn))\n",
        "print(\"\\nClassification Report:\\n\", classification_report(Y_validation, predictions_knn, zero_division=1))\n"
      ],
      "metadata": {
        "colab": {
          "base_uri": "https://localhost:8080/"
        },
        "id": "IXHWVWSZJco1",
        "outputId": "886314e6-af37-46c7-98f4-e08a5ba78234"
      },
      "execution_count": 87,
      "outputs": [
        {
          "output_type": "stream",
          "name": "stdout",
          "text": [
            "Accuracy: 0.6511627906976745\n",
            "\n",
            "Confusion Matrix:\n",
            " [[ 8  2  0  0  0  0]\n",
            " [ 6 14  2  0  0  0]\n",
            " [ 1  2  0  0  0  0]\n",
            " [ 1  0  0  1  0  0]\n",
            " [ 0  0  0  0  0  1]\n",
            " [ 0  0  0  0  0  5]]\n",
            "\n",
            "Classification Report:\n",
            "               precision    recall  f1-score   support\n",
            "\n",
            "           1       0.50      0.80      0.62        10\n",
            "           2       0.78      0.64      0.70        22\n",
            "           3       0.00      0.00      0.00         3\n",
            "           5       1.00      0.50      0.67         2\n",
            "           6       1.00      0.00      0.00         1\n",
            "           7       0.83      1.00      0.91         5\n",
            "\n",
            "    accuracy                           0.65        43\n",
            "   macro avg       0.69      0.49      0.48        43\n",
            "weighted avg       0.68      0.65      0.64        43\n",
            "\n"
          ]
        }
      ]
    },
    {
      "cell_type": "markdown",
      "source": [
        "Code tersebut merupakan implementasi dari algoritma k-Nearest Neighbors (k-NN) menggunakan pustaka scikit-learn dalam bahasa pemrograman Python.\n",
        "\n",
        "1. **Import Library:**\n",
        "   ```python\n",
        "   from sklearn.preprocessing import StandardScaler\n",
        "   ```\n",
        "   Baris ini mengimpor modul `StandardScaler` dari scikit-learn, yang digunakan untuk normalisasi data.\n",
        "\n",
        "2. **Inisialisasi Model k-NN:**\n",
        "   ```python\n",
        "   knn_model = KNeighborsClassifier(n_neighbors=3)\n",
        "   ```\n",
        "   Baris ini membuat objek model k-NN dengan menggunakan `KNeighborsClassifier` dan mengatur parameter `n_neighbors` ke 3. Parameter ini menentukan jumlah tetangga terdekat yang akan dipertimbangkan oleh model saat melakukan prediksi.\n",
        "\n",
        "3. **Normalisasi Data:**\n",
        "   ```python\n",
        "   scaler = StandardScaler()\n",
        "   X_scaled = scaler.fit_transform(X)\n",
        "   ```\n",
        "   Baris ini membuat objek `StandardScaler` dan menggunakan metode `fit_transform` untuk melakukan normalisasi data fitur (`X`). Normalisasi dilakukan agar semua fitur memiliki skala yang serupa dan tidak mendominasi satu sama lain.\n",
        "\n",
        "4. **Pelatihan Model k-NN Menggunakan Data Latih:**\n",
        "   ```python\n",
        "   knn_model.fit(X_train, Y_train)\n",
        "   ```\n",
        "   Baris ini melatih model k-NN menggunakan data latih (`X_train`, `Y_train`). Model mempelajari pola dari data latih untuk kemudian digunakan dalam prediksi.\n",
        "\n",
        "5. **Prediksi pada Dataset Validasi:**\n",
        "   ```python\n",
        "   predictions_knn = knn_model.predict(X_validation)\n",
        "   ```\n",
        "   Baris ini membuat prediksi menggunakan model k-NN pada dataset validasi (`X_validation`). Model menggunakan informasi yang telah dipelajari selama pelatihan untuk memprediksi kelas dari data validasi.\n",
        "\n",
        "6. **Evaluasi Performa Model:**\n",
        "   ```python\n",
        "   print(\"Accuracy:\", accuracy_score(Y_validation, predictions_knn))\n",
        "   print(\"\\nConfusion Matrix:\\n\", confusion_matrix(Y_validation, predictions_knn))\n",
        "   print(\"\\nClassification Report:\\n\", classification_report(Y_validation, predictions_knn, zero_division=1))\n",
        "   ```\n",
        "   Baris ini mencetak metrik evaluasi performa model k-NN pada dataset validasi:\n",
        "   - `accuracy_score`: Akurasi prediksi, mengukur sejauh mana prediksi model cocok dengan label aktual.\n",
        "   - `confusion_matrix`: menunjukkan jumlah prediksi yang benar dan salah untuk setiap kelas.\n",
        "   - `classification_report`: Laporan klasifikasi yang mencakup precision, recall, dan f1-score untuk setiap kelas, serta rata-rata akurasi dan f1-score secara keseluruhan. `zero_division=1` digunakan untuk menghindari peringatan (warning) jika terdapat pembagian dengan nol dalam perhitungan.\n"
      ],
      "metadata": {
        "id": "1jSe3BhVPwdl"
      }
    },
    {
      "cell_type": "markdown",
      "source": [
        "Evaluasi performa model k-NN pada dataset validasi memberikan informasi tentang seberapa baik model tersebut dapat melakukan prediksi pada data yang tidak pernah dilihat selama pelatihan.\n",
        "\n",
        "1. **Accuracy (Akurasi):**\n",
        "   ```\n",
        "   Accuracy: 0.6511627906976745\n",
        "   ```\n",
        "   Akurasi mengukur seberapa besar proporsi prediksi yang benar dari total prediksi. Dalam konteks ini, akurasi model k-NN sekitar 65.12%, yang berarti sekitar 65.12% dari semua prediksi yang dibuat oleh model benar.\n",
        "\n",
        "2. **Confusion Matrix :**\n",
        "```\n",
        "[[ 8  2  0  0  0  0]\n",
        " [ 6 14  2  0  0  0]\n",
        " [ 1  2  0  0  0  0]\n",
        " [ 1  0  0  1  0  0]\n",
        " [ 0  0  0  0  0  1]\n",
        " [ 0  0  0  0  0  5]]\n",
        "```\n",
        "- Baris matriks ini mewakili kelas sebenarnya.\n",
        "- Kolom matriks ini mewakili kelas yang diprediksi oleh model.\n",
        "- Jumlah diagonal utama menunjukkan jumlah prediksi yang benar untuk setiap kelas.\n",
        "  \n",
        "**Analisis Confusion Matrix:**\n",
        "- Untuk kelas 1, ada 8 prediksi yang benar, 2 prediksi yang salah terhadap kelas 2.\n",
        "- Untuk kelas 2, ada 14 prediksi yang benar, 6 prediksi yang salah terhadap kelas 1, 2 prediksi yang salah terhadap kelas 3.\n",
        "- Untuk kelas 3, tidak ada prediksi yang benar, dan 3 prediksi yang salah terhadap kelas 1 dan 2.\n",
        "- Untuk kelas 5, ada 1 prediksi yang benar, dan 1 prediksi yang salah terhadap kelas 1.\n",
        "- Untuk kelas 6, ada 1 prediksi yang benar.\n",
        "- Untuk kelas 7, ada 5 prediksi yang benar.\n",
        "\n",
        "**Classification Report (Laporan Klasifikasi):**\n",
        "```\n",
        "             precision    recall  f1-score   support\n",
        "\n",
        "           1       0.50      0.80      0.62        10\n",
        "           2       0.78      0.64      0.70        22\n",
        "           3       0.00      0.00      0.00         3\n",
        "           5       1.00      0.50      0.67         2\n",
        "           6       1.00      0.00      0.00         1\n",
        "           7       0.83      1.00      0.91         5\n",
        "\n",
        "accuracy                           0.65        43\n",
        "macro avg       0.69      0.49      0.48        43\n",
        "weighted avg    0.68      0.65      0.64        43\n",
        "```\n",
        "\n",
        "3. **Analisis Classification Report:**\n",
        "- **Precision (Presisi):**\n",
        "  - Presisi untuk kelas 1: 0.50. Dari semua prediksi positif untuk kelas 1, 50% di antaranya adalah benar.\n",
        "  - Presisi untuk kelas 2: 0.78. Dari semua prediksi positif untuk kelas 2, 78% di antaranya adalah benar.\n",
        "  - Presisi untuk kelas 3: 0.00. Tidak ada prediksi positif untuk kelas 3.\n",
        "  - Presisi untuk kelas 5: 1.00. Dari semua prediksi positif untuk kelas 5, 100% di antaranya adalah benar.\n",
        "  - Presisi untuk kelas 6: 1.00. Dari semua prediksi positif untuk kelas 6, 100% di antaranya adalah benar.\n",
        "  - Presisi untuk kelas 7: 0.83. Dari semua prediksi positif untuk kelas 7, 83% di antaranya adalah benar.\n",
        "\n",
        "- **Recall (Sensitivitas):**\n",
        "  - Recall untuk kelas 1: 0.80. Model berhasil mengidentifikasi 80% dari semua instance kelas 1.\n",
        "  - Recall untuk kelas 2: 0.64. Model berhasil mengidentifikasi 64% dari semua instance kelas 2.\n",
        "  - Recall untuk kelas 3: 0.00. Model tidak dapat mengidentifikasi instance kelas 3.\n",
        "  - Recall untuk kelas 5: 0.50. Model berhasil mengidentifikasi 50% dari semua instance kelas 5.\n",
        "  - Recall untuk kelas 6: 0.00. Model tidak dapat mengidentifikasi instance kelas 6.\n",
        "  - Recall untuk kelas 7: 1.00. Model berhasil mengidentifikasi semua instance kelas 7.\n",
        "\n",
        "- **F1-Score:**\n",
        "  - F1-score memberikan rata-rata harmonik dari presisi dan recall.\n",
        "  - F1-score untuk kelas 1: 0.62.\n",
        "  - F1-score untuk kelas 2: 0.70.\n",
        "  - F1-score untuk kelas 3: 0.00.\n",
        "  - F1-score untuk kelas 5: 0.67.\n",
        "  - F1-score untuk kelas 6: 0.00.\n",
        "  - F1-score untuk kelas 7: 0.91.\n",
        "\n",
        "- **Support:**\n",
        "  - Jumlah instance di setiap kelas.\n",
        "\n",
        "- **Accuracy (Akurasi):**\n",
        "  - Akurasi keseluruhan dari model terhadap dataset validasi adalah 65%.\n",
        "  \n",
        "- **Macro Avg dan Weighted Avg:**\n",
        "  - Macro Avg adalah rata-rata dari setiap metrik tanpa mempertimbangkan bobot kelas. Weighted Avg memberikan bobot lebih besar pada kelas yang memiliki lebih banyak instance.\n",
        "\n",
        "**Kesimpulan:**\n",
        "- Meskipun akurasi keseluruhan sekitar 65%, performa model bervariasi tergantung pada kelasnya.\n",
        "- Kelas 1 memiliki presisi yang rendah (50%) namun recall yang tinggi (80%), menunjukkan bahwa model cenderung untuk lebih banyak mengidentifikasi instance kelas 1, meskipun beberapa prediksinya salah.\n",
        "- Kelas 3 memiliki precision dan recall yang rendah (0.00), menunjukkan bahwa model tidak dapat mengidentifikasi instance kelas 3.\n",
        "- F1-score dapat memberikan gambaran keseluruhan tentang keseimbangan antara precision dan recall untuk setiap kelas. Sebuah f1-score yang tinggi mengindikasikan keseimbangan yang baik."
      ],
      "metadata": {
        "id": "itOx-YTZRAPH"
      }
    }
  ]
}