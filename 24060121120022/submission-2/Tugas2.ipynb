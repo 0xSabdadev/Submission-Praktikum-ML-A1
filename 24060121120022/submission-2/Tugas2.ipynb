{
  "nbformat": 4,
  "nbformat_minor": 0,
  "metadata": {
    "colab": {
      "provenance": []
    },
    "kernelspec": {
      "name": "python3",
      "display_name": "Python 3"
    },
    "language_info": {
      "name": "python"
    }
  },
  "cells": [
    {
      "cell_type": "code",
      "source": [
        "# Name    : Aprilyanto Setiyawan Siburian\n",
        "# NIM     : 24060121120022\n",
        "# Dataset : National Health and Nutrition Health Survey 2013-2014 (NHANES) Age Prediction Subset\n",
        "# Link    : https://archive.ics.uci.edu/dataset/887/national+health+and+nutrition+health+survey+2013-2014+(nhanes)+age+prediction+subset"
      ],
      "metadata": {
        "id": "tZ4DB92lcy2V"
      },
      "execution_count": 187,
      "outputs": []
    },
    {
      "cell_type": "code",
      "source": [
        "# 1. Lakukan Eksplorasi terhadapat algoritma klasifikasi lain yang ada! (LOGICAL REGRESSION CLASSIFICATION)"
      ],
      "metadata": {
        "id": "cL4Y3_PwkhNR"
      },
      "execution_count": 188,
      "outputs": []
    },
    {
      "cell_type": "code",
      "source": [
        "# Importing the necessary functions and librarys\n",
        "import pandas as pd\n",
        "from sklearn import model_selection\n",
        "from sklearn.model_selection import train_test_split\n",
        "from sklearn.linear_model import LogisticRegression\n",
        "from sklearn.metrics import accuracy_score, classification_report, confusion_matrix\n",
        "\n",
        "# Importing IRIS Dataset\n",
        "url = \"http://archive.ics.uci.edu/ml/machine-learning-databases/iris/iris.data\"\n",
        "names = ['sepal-length', 'sepal-width', 'petal-length', 'petal-width', 'class']\n",
        "dataset = pd.read_csv(url, names=names)"
      ],
      "metadata": {
        "id": "XlOZ9FUIktDy"
      },
      "execution_count": 189,
      "outputs": []
    },
    {
      "cell_type": "code",
      "source": [
        "# Displaying the first few rows of the dataset to quickly inspect the structure and content of a dataset\n",
        "dataset.head()"
      ],
      "metadata": {
        "colab": {
          "base_uri": "https://localhost:8080/",
          "height": 206
        },
        "id": "zjK-qvDtyDPd",
        "outputId": "aaabe675-a127-4604-da7f-93dff93d8402"
      },
      "execution_count": 190,
      "outputs": [
        {
          "output_type": "execute_result",
          "data": {
            "text/plain": [
              "   sepal-length  sepal-width  petal-length  petal-width        class\n",
              "0           5.1          3.5           1.4          0.2  Iris-setosa\n",
              "1           4.9          3.0           1.4          0.2  Iris-setosa\n",
              "2           4.7          3.2           1.3          0.2  Iris-setosa\n",
              "3           4.6          3.1           1.5          0.2  Iris-setosa\n",
              "4           5.0          3.6           1.4          0.2  Iris-setosa"
            ],
            "text/html": [
              "\n",
              "  <div id=\"df-5e60faf2-1aeb-4b18-bc26-60adfc7404b8\" class=\"colab-df-container\">\n",
              "    <div>\n",
              "<style scoped>\n",
              "    .dataframe tbody tr th:only-of-type {\n",
              "        vertical-align: middle;\n",
              "    }\n",
              "\n",
              "    .dataframe tbody tr th {\n",
              "        vertical-align: top;\n",
              "    }\n",
              "\n",
              "    .dataframe thead th {\n",
              "        text-align: right;\n",
              "    }\n",
              "</style>\n",
              "<table border=\"1\" class=\"dataframe\">\n",
              "  <thead>\n",
              "    <tr style=\"text-align: right;\">\n",
              "      <th></th>\n",
              "      <th>sepal-length</th>\n",
              "      <th>sepal-width</th>\n",
              "      <th>petal-length</th>\n",
              "      <th>petal-width</th>\n",
              "      <th>class</th>\n",
              "    </tr>\n",
              "  </thead>\n",
              "  <tbody>\n",
              "    <tr>\n",
              "      <th>0</th>\n",
              "      <td>5.1</td>\n",
              "      <td>3.5</td>\n",
              "      <td>1.4</td>\n",
              "      <td>0.2</td>\n",
              "      <td>Iris-setosa</td>\n",
              "    </tr>\n",
              "    <tr>\n",
              "      <th>1</th>\n",
              "      <td>4.9</td>\n",
              "      <td>3.0</td>\n",
              "      <td>1.4</td>\n",
              "      <td>0.2</td>\n",
              "      <td>Iris-setosa</td>\n",
              "    </tr>\n",
              "    <tr>\n",
              "      <th>2</th>\n",
              "      <td>4.7</td>\n",
              "      <td>3.2</td>\n",
              "      <td>1.3</td>\n",
              "      <td>0.2</td>\n",
              "      <td>Iris-setosa</td>\n",
              "    </tr>\n",
              "    <tr>\n",
              "      <th>3</th>\n",
              "      <td>4.6</td>\n",
              "      <td>3.1</td>\n",
              "      <td>1.5</td>\n",
              "      <td>0.2</td>\n",
              "      <td>Iris-setosa</td>\n",
              "    </tr>\n",
              "    <tr>\n",
              "      <th>4</th>\n",
              "      <td>5.0</td>\n",
              "      <td>3.6</td>\n",
              "      <td>1.4</td>\n",
              "      <td>0.2</td>\n",
              "      <td>Iris-setosa</td>\n",
              "    </tr>\n",
              "  </tbody>\n",
              "</table>\n",
              "</div>\n",
              "    <div class=\"colab-df-buttons\">\n",
              "\n",
              "  <div class=\"colab-df-container\">\n",
              "    <button class=\"colab-df-convert\" onclick=\"convertToInteractive('df-5e60faf2-1aeb-4b18-bc26-60adfc7404b8')\"\n",
              "            title=\"Convert this dataframe to an interactive table.\"\n",
              "            style=\"display:none;\">\n",
              "\n",
              "  <svg xmlns=\"http://www.w3.org/2000/svg\" height=\"24px\" viewBox=\"0 -960 960 960\">\n",
              "    <path d=\"M120-120v-720h720v720H120Zm60-500h600v-160H180v160Zm220 220h160v-160H400v160Zm0 220h160v-160H400v160ZM180-400h160v-160H180v160Zm440 0h160v-160H620v160ZM180-180h160v-160H180v160Zm440 0h160v-160H620v160Z\"/>\n",
              "  </svg>\n",
              "    </button>\n",
              "\n",
              "  <style>\n",
              "    .colab-df-container {\n",
              "      display:flex;\n",
              "      gap: 12px;\n",
              "    }\n",
              "\n",
              "    .colab-df-convert {\n",
              "      background-color: #E8F0FE;\n",
              "      border: none;\n",
              "      border-radius: 50%;\n",
              "      cursor: pointer;\n",
              "      display: none;\n",
              "      fill: #1967D2;\n",
              "      height: 32px;\n",
              "      padding: 0 0 0 0;\n",
              "      width: 32px;\n",
              "    }\n",
              "\n",
              "    .colab-df-convert:hover {\n",
              "      background-color: #E2EBFA;\n",
              "      box-shadow: 0px 1px 2px rgba(60, 64, 67, 0.3), 0px 1px 3px 1px rgba(60, 64, 67, 0.15);\n",
              "      fill: #174EA6;\n",
              "    }\n",
              "\n",
              "    .colab-df-buttons div {\n",
              "      margin-bottom: 4px;\n",
              "    }\n",
              "\n",
              "    [theme=dark] .colab-df-convert {\n",
              "      background-color: #3B4455;\n",
              "      fill: #D2E3FC;\n",
              "    }\n",
              "\n",
              "    [theme=dark] .colab-df-convert:hover {\n",
              "      background-color: #434B5C;\n",
              "      box-shadow: 0px 1px 3px 1px rgba(0, 0, 0, 0.15);\n",
              "      filter: drop-shadow(0px 1px 2px rgba(0, 0, 0, 0.3));\n",
              "      fill: #FFFFFF;\n",
              "    }\n",
              "  </style>\n",
              "\n",
              "    <script>\n",
              "      const buttonEl =\n",
              "        document.querySelector('#df-5e60faf2-1aeb-4b18-bc26-60adfc7404b8 button.colab-df-convert');\n",
              "      buttonEl.style.display =\n",
              "        google.colab.kernel.accessAllowed ? 'block' : 'none';\n",
              "\n",
              "      async function convertToInteractive(key) {\n",
              "        const element = document.querySelector('#df-5e60faf2-1aeb-4b18-bc26-60adfc7404b8');\n",
              "        const dataTable =\n",
              "          await google.colab.kernel.invokeFunction('convertToInteractive',\n",
              "                                                    [key], {});\n",
              "        if (!dataTable) return;\n",
              "\n",
              "        const docLinkHtml = 'Like what you see? Visit the ' +\n",
              "          '<a target=\"_blank\" href=https://colab.research.google.com/notebooks/data_table.ipynb>data table notebook</a>'\n",
              "          + ' to learn more about interactive tables.';\n",
              "        element.innerHTML = '';\n",
              "        dataTable['output_type'] = 'display_data';\n",
              "        await google.colab.output.renderOutput(dataTable, element);\n",
              "        const docLink = document.createElement('div');\n",
              "        docLink.innerHTML = docLinkHtml;\n",
              "        element.appendChild(docLink);\n",
              "      }\n",
              "    </script>\n",
              "  </div>\n",
              "\n",
              "\n",
              "<div id=\"df-30e4dea2-b7e3-4954-b609-9ecbc3729024\">\n",
              "  <button class=\"colab-df-quickchart\" onclick=\"quickchart('df-30e4dea2-b7e3-4954-b609-9ecbc3729024')\"\n",
              "            title=\"Suggest charts\"\n",
              "            style=\"display:none;\">\n",
              "\n",
              "<svg xmlns=\"http://www.w3.org/2000/svg\" height=\"24px\"viewBox=\"0 0 24 24\"\n",
              "     width=\"24px\">\n",
              "    <g>\n",
              "        <path d=\"M19 3H5c-1.1 0-2 .9-2 2v14c0 1.1.9 2 2 2h14c1.1 0 2-.9 2-2V5c0-1.1-.9-2-2-2zM9 17H7v-7h2v7zm4 0h-2V7h2v10zm4 0h-2v-4h2v4z\"/>\n",
              "    </g>\n",
              "</svg>\n",
              "  </button>\n",
              "\n",
              "<style>\n",
              "  .colab-df-quickchart {\n",
              "      --bg-color: #E8F0FE;\n",
              "      --fill-color: #1967D2;\n",
              "      --hover-bg-color: #E2EBFA;\n",
              "      --hover-fill-color: #174EA6;\n",
              "      --disabled-fill-color: #AAA;\n",
              "      --disabled-bg-color: #DDD;\n",
              "  }\n",
              "\n",
              "  [theme=dark] .colab-df-quickchart {\n",
              "      --bg-color: #3B4455;\n",
              "      --fill-color: #D2E3FC;\n",
              "      --hover-bg-color: #434B5C;\n",
              "      --hover-fill-color: #FFFFFF;\n",
              "      --disabled-bg-color: #3B4455;\n",
              "      --disabled-fill-color: #666;\n",
              "  }\n",
              "\n",
              "  .colab-df-quickchart {\n",
              "    background-color: var(--bg-color);\n",
              "    border: none;\n",
              "    border-radius: 50%;\n",
              "    cursor: pointer;\n",
              "    display: none;\n",
              "    fill: var(--fill-color);\n",
              "    height: 32px;\n",
              "    padding: 0;\n",
              "    width: 32px;\n",
              "  }\n",
              "\n",
              "  .colab-df-quickchart:hover {\n",
              "    background-color: var(--hover-bg-color);\n",
              "    box-shadow: 0 1px 2px rgba(60, 64, 67, 0.3), 0 1px 3px 1px rgba(60, 64, 67, 0.15);\n",
              "    fill: var(--button-hover-fill-color);\n",
              "  }\n",
              "\n",
              "  .colab-df-quickchart-complete:disabled,\n",
              "  .colab-df-quickchart-complete:disabled:hover {\n",
              "    background-color: var(--disabled-bg-color);\n",
              "    fill: var(--disabled-fill-color);\n",
              "    box-shadow: none;\n",
              "  }\n",
              "\n",
              "  .colab-df-spinner {\n",
              "    border: 2px solid var(--fill-color);\n",
              "    border-color: transparent;\n",
              "    border-bottom-color: var(--fill-color);\n",
              "    animation:\n",
              "      spin 1s steps(1) infinite;\n",
              "  }\n",
              "\n",
              "  @keyframes spin {\n",
              "    0% {\n",
              "      border-color: transparent;\n",
              "      border-bottom-color: var(--fill-color);\n",
              "      border-left-color: var(--fill-color);\n",
              "    }\n",
              "    20% {\n",
              "      border-color: transparent;\n",
              "      border-left-color: var(--fill-color);\n",
              "      border-top-color: var(--fill-color);\n",
              "    }\n",
              "    30% {\n",
              "      border-color: transparent;\n",
              "      border-left-color: var(--fill-color);\n",
              "      border-top-color: var(--fill-color);\n",
              "      border-right-color: var(--fill-color);\n",
              "    }\n",
              "    40% {\n",
              "      border-color: transparent;\n",
              "      border-right-color: var(--fill-color);\n",
              "      border-top-color: var(--fill-color);\n",
              "    }\n",
              "    60% {\n",
              "      border-color: transparent;\n",
              "      border-right-color: var(--fill-color);\n",
              "    }\n",
              "    80% {\n",
              "      border-color: transparent;\n",
              "      border-right-color: var(--fill-color);\n",
              "      border-bottom-color: var(--fill-color);\n",
              "    }\n",
              "    90% {\n",
              "      border-color: transparent;\n",
              "      border-bottom-color: var(--fill-color);\n",
              "    }\n",
              "  }\n",
              "</style>\n",
              "\n",
              "  <script>\n",
              "    async function quickchart(key) {\n",
              "      const quickchartButtonEl =\n",
              "        document.querySelector('#' + key + ' button');\n",
              "      quickchartButtonEl.disabled = true;  // To prevent multiple clicks.\n",
              "      quickchartButtonEl.classList.add('colab-df-spinner');\n",
              "      try {\n",
              "        const charts = await google.colab.kernel.invokeFunction(\n",
              "            'suggestCharts', [key], {});\n",
              "      } catch (error) {\n",
              "        console.error('Error during call to suggestCharts:', error);\n",
              "      }\n",
              "      quickchartButtonEl.classList.remove('colab-df-spinner');\n",
              "      quickchartButtonEl.classList.add('colab-df-quickchart-complete');\n",
              "    }\n",
              "    (() => {\n",
              "      let quickchartButtonEl =\n",
              "        document.querySelector('#df-30e4dea2-b7e3-4954-b609-9ecbc3729024 button');\n",
              "      quickchartButtonEl.style.display =\n",
              "        google.colab.kernel.accessAllowed ? 'block' : 'none';\n",
              "    })();\n",
              "  </script>\n",
              "</div>\n",
              "    </div>\n",
              "  </div>\n"
            ]
          },
          "metadata": {},
          "execution_count": 190
        }
      ]
    },
    {
      "cell_type": "code",
      "source": [
        "# Checking the shape of the dataset, which provides information about the number of rows and columns in the Dataset\n",
        "dataset.shape"
      ],
      "metadata": {
        "colab": {
          "base_uri": "https://localhost:8080/"
        },
        "id": "nor7_I-ByHcf",
        "outputId": "8234a72a-ee31-4b51-a1e5-5ecb92497e78"
      },
      "execution_count": 191,
      "outputs": [
        {
          "output_type": "execute_result",
          "data": {
            "text/plain": [
              "(150, 5)"
            ]
          },
          "metadata": {},
          "execution_count": 191
        }
      ]
    },
    {
      "cell_type": "code",
      "source": [
        "# Preprocessing the dataset\n",
        "X = dataset.values[:,0:4] # Using the first four columns as the features of the model\n",
        "Y = dataset.values[:,4] # Target feature (labels or classes) is in the fifth column, which is \"class\" column.\n",
        "\n",
        "# Splitting-out validation dataset, validation options and evaluation metric\n",
        "validation_size = 0.20\n",
        "seed = 7\n",
        "scoring = 'accuracy'\n",
        "\n",
        "# Splitting the data into training and validation sets\n",
        "X_train, X_validation, Y_train, Y_validation = model_selection.train_test_split(X, Y, test_size=validation_size, random_state=seed)\n",
        "\n",
        "# Printing the shapes of training and validation data\n",
        "print(\"X_train =\", X_train.shape)\n",
        "print(\"X_validation =\", X_validation.shape)\n",
        "print(\"Y_train =\", Y_train.shape)\n",
        "print(\"Y_validation =\", Y_validation.shape)"
      ],
      "metadata": {
        "colab": {
          "base_uri": "https://localhost:8080/"
        },
        "id": "CD8qWWQ73eUW",
        "outputId": "dd22e9af-e47e-43fc-ad2f-27b3ec12a0d2"
      },
      "execution_count": 192,
      "outputs": [
        {
          "output_type": "stream",
          "name": "stdout",
          "text": [
            "X_train = (120, 4)\n",
            "X_validation = (30, 4)\n",
            "Y_train = (120,)\n",
            "Y_validation = (30,)\n"
          ]
        }
      ]
    },
    {
      "cell_type": "code",
      "source": [
        "# Creating a logistic regression model\n",
        "model = LogisticRegression(max_iter=2000, random_state=seed)\n",
        "\n",
        "# Training the model\n",
        "model.fit(X_train, Y_train)\n",
        "\n",
        "# Making the predictions on the validation set\n",
        "predictions = model.predict(X_validation)\n",
        "\n",
        "# Evaluating the model\n",
        "accuracy = accuracy_score(Y_validation, predictions)\n",
        "conf_matrix = confusion_matrix(Y_validation, predictions)\n",
        "classification_rep = classification_report(Y_validation, predictions)\n",
        "\n",
        "print(f'Accuracy: {accuracy}')\n",
        "print(f'Confusion Matrix:\\n{conf_matrix}')\n",
        "print(f'Classification Report:\\n{classification_rep}')"
      ],
      "metadata": {
        "colab": {
          "base_uri": "https://localhost:8080/"
        },
        "id": "lV2LA7F6yBzt",
        "outputId": "9359189a-29c8-485c-c3f9-10514f251c2e"
      },
      "execution_count": 193,
      "outputs": [
        {
          "output_type": "stream",
          "name": "stdout",
          "text": [
            "Accuracy: 0.8666666666666667\n",
            "Confusion Matrix:\n",
            "[[ 7  0  0]\n",
            " [ 0 10  2]\n",
            " [ 0  2  9]]\n",
            "Classification Report:\n",
            "                 precision    recall  f1-score   support\n",
            "\n",
            "    Iris-setosa       1.00      1.00      1.00         7\n",
            "Iris-versicolor       0.83      0.83      0.83        12\n",
            " Iris-virginica       0.82      0.82      0.82        11\n",
            "\n",
            "       accuracy                           0.87        30\n",
            "      macro avg       0.88      0.88      0.88        30\n",
            "   weighted avg       0.87      0.87      0.87        30\n",
            "\n"
          ]
        }
      ]
    },
    {
      "cell_type": "markdown",
      "source": [
        "From the output above, the logistic regression model seems to perform reasonably well, with 0.8666666666666667 or 86.67% high accuracy across classes. The confusion matrix provides a detailed breakdown of the model's performance on each class. Also the classification report provides precision, recall, and F1-score for each class, along with support (number of instances) for each class. As we can see, \"Iris-setosa\" class has the 1 or 100% maximum and highest precision among all the classes and \"Iris-virginica\" has the opposite.\n",
        "\n",
        "The key components of the Classification Report:\n",
        "*   Precision: The ratio of correctly predicted positive observations to\n",
        "the total predicted positives.\n",
        "*   Recall: The ratio of correctly predicted positive observations to the total actual positives.\n",
        "*   F1-score: The harmonic mean of precision and recall.\n",
        "*   Support: The number of actual occurrences of the class in the specified dataset.\n",
        "*   Macro Avg: The unweighted average of precision, recall, and F1-score\n",
        "*   Weighted Avg: The weighted average based on the support for each class."
      ],
      "metadata": {
        "id": "PYkxRUoetm86"
      }
    },
    {
      "cell_type": "code",
      "source": [
        "# 2. Buatlah evaluasi algoritma dengan dataset yang telah dicoba pada tugas praktikum sebelumnya (dengan menggunakan 3 model yaitu KNN, NB dan SVM)!"
      ],
      "metadata": {
        "id": "bjba_NExef8j"
      },
      "execution_count": 194,
      "outputs": []
    },
    {
      "cell_type": "code",
      "source": [
        "# Installing the ucimlrepo package\n",
        "# ucimlrepo is a Python package for easily importing datasets from the UC Irvine Machine Learning Repository into scripts and notebooks.\n",
        "\n",
        "!pip3 install -U ucimlrepo"
      ],
      "metadata": {
        "colab": {
          "base_uri": "https://localhost:8080/"
        },
        "id": "JAuQagZYwUZZ",
        "outputId": "df5e7e11-1fa3-452f-ed32-1fad88b356eb"
      },
      "execution_count": 195,
      "outputs": [
        {
          "output_type": "stream",
          "name": "stdout",
          "text": [
            "Requirement already satisfied: ucimlrepo in /usr/local/lib/python3.10/dist-packages (0.0.3)\n"
          ]
        }
      ]
    },
    {
      "cell_type": "code",
      "source": [
        "# Importing the necessary functions and librarys\n",
        "from ucimlrepo import fetch_ucirepo\n",
        "from sklearn import model_selection\n",
        "import pandas as pd\n",
        "from sklearn.neighbors import KNeighborsClassifier\n",
        "from sklearn.naive_bayes import GaussianNB\n",
        "from sklearn.svm import SVC\n",
        "from sklearn.metrics import accuracy_score, confusion_matrix, classification_report\n",
        "from sklearn.preprocessing import LabelEncoder\n",
        "\n",
        "# Fetching the dataset National Health and Nutrition Health Survey 2013-2014 (NHANES) Age Prediction Subset\n",
        "# This dataset has 10 attributes and needs to be renamed to make it readable with an array of names\n",
        "url = \"https://archive.ics.uci.edu/static/public/887/data.csv\"\n",
        "names = ['ID', 'age_group', 'age', 'gender', 'activity_level', 'bmi', 'blood_glucose', 'is_diabetic', 'ogtt', 'insulin_levels']\n",
        "\n",
        "# Reading the csv file from the URL and generating a DataFrame via read_csv function\n",
        "dataset = pd.read_csv(url)\n",
        "\n",
        "# Renaming the columns with the array of names\n",
        "dataset.rename(columns={'SEQN': names[0], 'age_group': names[1], 'RIDAGEYR': names[2], 'RIAGENDR': names[3], 'PAQ605': names[4], 'BMXBMI': names[5], 'LBXGLU': names[6], 'DIQ010': names[7], 'LBXGLT': names[8], 'LBXIN': names[9]}, inplace=True)"
      ],
      "metadata": {
        "id": "oRvWKbj8ef-x"
      },
      "execution_count": 196,
      "outputs": []
    },
    {
      "cell_type": "code",
      "source": [
        "# Since the \"age_group\" column is categorical and contains string values, we need to encode the column from Adult and Senior to 0 and 1 respectively\n",
        "label_encoder = LabelEncoder()\n",
        "dataset['age_group'] = label_encoder.fit_transform(dataset['age_group'])"
      ],
      "metadata": {
        "id": "kWJusiOR5aHG"
      },
      "execution_count": 197,
      "outputs": []
    },
    {
      "cell_type": "code",
      "source": [
        "# Displaying the first few rows of the dataset to quickly inspect the structure and content of a dataset\n",
        "dataset.head()"
      ],
      "metadata": {
        "colab": {
          "base_uri": "https://localhost:8080/",
          "height": 206
        },
        "id": "Ulhu7VpwegA5",
        "outputId": "fdd67028-6eb9-46e1-e15b-4d7380189d1f"
      },
      "execution_count": 198,
      "outputs": [
        {
          "output_type": "execute_result",
          "data": {
            "text/plain": [
              "        ID  age_group   age  gender  activity_level   bmi  blood_glucose  \\\n",
              "0  73564.0          0  61.0     2.0             2.0  35.7          110.0   \n",
              "1  73568.0          0  26.0     2.0             2.0  20.3           89.0   \n",
              "2  73576.0          0  16.0     1.0             2.0  23.2           89.0   \n",
              "3  73577.0          0  32.0     1.0             2.0  28.9          104.0   \n",
              "4  73580.0          0  38.0     2.0             1.0  35.9          103.0   \n",
              "\n",
              "   is_diabetic   ogtt  insulin_levels  \n",
              "0          2.0  150.0           14.91  \n",
              "1          2.0   80.0            3.85  \n",
              "2          2.0   68.0            6.14  \n",
              "3          2.0   84.0           16.15  \n",
              "4          2.0   81.0           10.92  "
            ],
            "text/html": [
              "\n",
              "  <div id=\"df-1d93aff2-029e-43dd-a92f-d5b763bcaa96\" class=\"colab-df-container\">\n",
              "    <div>\n",
              "<style scoped>\n",
              "    .dataframe tbody tr th:only-of-type {\n",
              "        vertical-align: middle;\n",
              "    }\n",
              "\n",
              "    .dataframe tbody tr th {\n",
              "        vertical-align: top;\n",
              "    }\n",
              "\n",
              "    .dataframe thead th {\n",
              "        text-align: right;\n",
              "    }\n",
              "</style>\n",
              "<table border=\"1\" class=\"dataframe\">\n",
              "  <thead>\n",
              "    <tr style=\"text-align: right;\">\n",
              "      <th></th>\n",
              "      <th>ID</th>\n",
              "      <th>age_group</th>\n",
              "      <th>age</th>\n",
              "      <th>gender</th>\n",
              "      <th>activity_level</th>\n",
              "      <th>bmi</th>\n",
              "      <th>blood_glucose</th>\n",
              "      <th>is_diabetic</th>\n",
              "      <th>ogtt</th>\n",
              "      <th>insulin_levels</th>\n",
              "    </tr>\n",
              "  </thead>\n",
              "  <tbody>\n",
              "    <tr>\n",
              "      <th>0</th>\n",
              "      <td>73564.0</td>\n",
              "      <td>0</td>\n",
              "      <td>61.0</td>\n",
              "      <td>2.0</td>\n",
              "      <td>2.0</td>\n",
              "      <td>35.7</td>\n",
              "      <td>110.0</td>\n",
              "      <td>2.0</td>\n",
              "      <td>150.0</td>\n",
              "      <td>14.91</td>\n",
              "    </tr>\n",
              "    <tr>\n",
              "      <th>1</th>\n",
              "      <td>73568.0</td>\n",
              "      <td>0</td>\n",
              "      <td>26.0</td>\n",
              "      <td>2.0</td>\n",
              "      <td>2.0</td>\n",
              "      <td>20.3</td>\n",
              "      <td>89.0</td>\n",
              "      <td>2.0</td>\n",
              "      <td>80.0</td>\n",
              "      <td>3.85</td>\n",
              "    </tr>\n",
              "    <tr>\n",
              "      <th>2</th>\n",
              "      <td>73576.0</td>\n",
              "      <td>0</td>\n",
              "      <td>16.0</td>\n",
              "      <td>1.0</td>\n",
              "      <td>2.0</td>\n",
              "      <td>23.2</td>\n",
              "      <td>89.0</td>\n",
              "      <td>2.0</td>\n",
              "      <td>68.0</td>\n",
              "      <td>6.14</td>\n",
              "    </tr>\n",
              "    <tr>\n",
              "      <th>3</th>\n",
              "      <td>73577.0</td>\n",
              "      <td>0</td>\n",
              "      <td>32.0</td>\n",
              "      <td>1.0</td>\n",
              "      <td>2.0</td>\n",
              "      <td>28.9</td>\n",
              "      <td>104.0</td>\n",
              "      <td>2.0</td>\n",
              "      <td>84.0</td>\n",
              "      <td>16.15</td>\n",
              "    </tr>\n",
              "    <tr>\n",
              "      <th>4</th>\n",
              "      <td>73580.0</td>\n",
              "      <td>0</td>\n",
              "      <td>38.0</td>\n",
              "      <td>2.0</td>\n",
              "      <td>1.0</td>\n",
              "      <td>35.9</td>\n",
              "      <td>103.0</td>\n",
              "      <td>2.0</td>\n",
              "      <td>81.0</td>\n",
              "      <td>10.92</td>\n",
              "    </tr>\n",
              "  </tbody>\n",
              "</table>\n",
              "</div>\n",
              "    <div class=\"colab-df-buttons\">\n",
              "\n",
              "  <div class=\"colab-df-container\">\n",
              "    <button class=\"colab-df-convert\" onclick=\"convertToInteractive('df-1d93aff2-029e-43dd-a92f-d5b763bcaa96')\"\n",
              "            title=\"Convert this dataframe to an interactive table.\"\n",
              "            style=\"display:none;\">\n",
              "\n",
              "  <svg xmlns=\"http://www.w3.org/2000/svg\" height=\"24px\" viewBox=\"0 -960 960 960\">\n",
              "    <path d=\"M120-120v-720h720v720H120Zm60-500h600v-160H180v160Zm220 220h160v-160H400v160Zm0 220h160v-160H400v160ZM180-400h160v-160H180v160Zm440 0h160v-160H620v160ZM180-180h160v-160H180v160Zm440 0h160v-160H620v160Z\"/>\n",
              "  </svg>\n",
              "    </button>\n",
              "\n",
              "  <style>\n",
              "    .colab-df-container {\n",
              "      display:flex;\n",
              "      gap: 12px;\n",
              "    }\n",
              "\n",
              "    .colab-df-convert {\n",
              "      background-color: #E8F0FE;\n",
              "      border: none;\n",
              "      border-radius: 50%;\n",
              "      cursor: pointer;\n",
              "      display: none;\n",
              "      fill: #1967D2;\n",
              "      height: 32px;\n",
              "      padding: 0 0 0 0;\n",
              "      width: 32px;\n",
              "    }\n",
              "\n",
              "    .colab-df-convert:hover {\n",
              "      background-color: #E2EBFA;\n",
              "      box-shadow: 0px 1px 2px rgba(60, 64, 67, 0.3), 0px 1px 3px 1px rgba(60, 64, 67, 0.15);\n",
              "      fill: #174EA6;\n",
              "    }\n",
              "\n",
              "    .colab-df-buttons div {\n",
              "      margin-bottom: 4px;\n",
              "    }\n",
              "\n",
              "    [theme=dark] .colab-df-convert {\n",
              "      background-color: #3B4455;\n",
              "      fill: #D2E3FC;\n",
              "    }\n",
              "\n",
              "    [theme=dark] .colab-df-convert:hover {\n",
              "      background-color: #434B5C;\n",
              "      box-shadow: 0px 1px 3px 1px rgba(0, 0, 0, 0.15);\n",
              "      filter: drop-shadow(0px 1px 2px rgba(0, 0, 0, 0.3));\n",
              "      fill: #FFFFFF;\n",
              "    }\n",
              "  </style>\n",
              "\n",
              "    <script>\n",
              "      const buttonEl =\n",
              "        document.querySelector('#df-1d93aff2-029e-43dd-a92f-d5b763bcaa96 button.colab-df-convert');\n",
              "      buttonEl.style.display =\n",
              "        google.colab.kernel.accessAllowed ? 'block' : 'none';\n",
              "\n",
              "      async function convertToInteractive(key) {\n",
              "        const element = document.querySelector('#df-1d93aff2-029e-43dd-a92f-d5b763bcaa96');\n",
              "        const dataTable =\n",
              "          await google.colab.kernel.invokeFunction('convertToInteractive',\n",
              "                                                    [key], {});\n",
              "        if (!dataTable) return;\n",
              "\n",
              "        const docLinkHtml = 'Like what you see? Visit the ' +\n",
              "          '<a target=\"_blank\" href=https://colab.research.google.com/notebooks/data_table.ipynb>data table notebook</a>'\n",
              "          + ' to learn more about interactive tables.';\n",
              "        element.innerHTML = '';\n",
              "        dataTable['output_type'] = 'display_data';\n",
              "        await google.colab.output.renderOutput(dataTable, element);\n",
              "        const docLink = document.createElement('div');\n",
              "        docLink.innerHTML = docLinkHtml;\n",
              "        element.appendChild(docLink);\n",
              "      }\n",
              "    </script>\n",
              "  </div>\n",
              "\n",
              "\n",
              "<div id=\"df-11eedd08-795a-478b-ba61-f25ac50daca3\">\n",
              "  <button class=\"colab-df-quickchart\" onclick=\"quickchart('df-11eedd08-795a-478b-ba61-f25ac50daca3')\"\n",
              "            title=\"Suggest charts\"\n",
              "            style=\"display:none;\">\n",
              "\n",
              "<svg xmlns=\"http://www.w3.org/2000/svg\" height=\"24px\"viewBox=\"0 0 24 24\"\n",
              "     width=\"24px\">\n",
              "    <g>\n",
              "        <path d=\"M19 3H5c-1.1 0-2 .9-2 2v14c0 1.1.9 2 2 2h14c1.1 0 2-.9 2-2V5c0-1.1-.9-2-2-2zM9 17H7v-7h2v7zm4 0h-2V7h2v10zm4 0h-2v-4h2v4z\"/>\n",
              "    </g>\n",
              "</svg>\n",
              "  </button>\n",
              "\n",
              "<style>\n",
              "  .colab-df-quickchart {\n",
              "      --bg-color: #E8F0FE;\n",
              "      --fill-color: #1967D2;\n",
              "      --hover-bg-color: #E2EBFA;\n",
              "      --hover-fill-color: #174EA6;\n",
              "      --disabled-fill-color: #AAA;\n",
              "      --disabled-bg-color: #DDD;\n",
              "  }\n",
              "\n",
              "  [theme=dark] .colab-df-quickchart {\n",
              "      --bg-color: #3B4455;\n",
              "      --fill-color: #D2E3FC;\n",
              "      --hover-bg-color: #434B5C;\n",
              "      --hover-fill-color: #FFFFFF;\n",
              "      --disabled-bg-color: #3B4455;\n",
              "      --disabled-fill-color: #666;\n",
              "  }\n",
              "\n",
              "  .colab-df-quickchart {\n",
              "    background-color: var(--bg-color);\n",
              "    border: none;\n",
              "    border-radius: 50%;\n",
              "    cursor: pointer;\n",
              "    display: none;\n",
              "    fill: var(--fill-color);\n",
              "    height: 32px;\n",
              "    padding: 0;\n",
              "    width: 32px;\n",
              "  }\n",
              "\n",
              "  .colab-df-quickchart:hover {\n",
              "    background-color: var(--hover-bg-color);\n",
              "    box-shadow: 0 1px 2px rgba(60, 64, 67, 0.3), 0 1px 3px 1px rgba(60, 64, 67, 0.15);\n",
              "    fill: var(--button-hover-fill-color);\n",
              "  }\n",
              "\n",
              "  .colab-df-quickchart-complete:disabled,\n",
              "  .colab-df-quickchart-complete:disabled:hover {\n",
              "    background-color: var(--disabled-bg-color);\n",
              "    fill: var(--disabled-fill-color);\n",
              "    box-shadow: none;\n",
              "  }\n",
              "\n",
              "  .colab-df-spinner {\n",
              "    border: 2px solid var(--fill-color);\n",
              "    border-color: transparent;\n",
              "    border-bottom-color: var(--fill-color);\n",
              "    animation:\n",
              "      spin 1s steps(1) infinite;\n",
              "  }\n",
              "\n",
              "  @keyframes spin {\n",
              "    0% {\n",
              "      border-color: transparent;\n",
              "      border-bottom-color: var(--fill-color);\n",
              "      border-left-color: var(--fill-color);\n",
              "    }\n",
              "    20% {\n",
              "      border-color: transparent;\n",
              "      border-left-color: var(--fill-color);\n",
              "      border-top-color: var(--fill-color);\n",
              "    }\n",
              "    30% {\n",
              "      border-color: transparent;\n",
              "      border-left-color: var(--fill-color);\n",
              "      border-top-color: var(--fill-color);\n",
              "      border-right-color: var(--fill-color);\n",
              "    }\n",
              "    40% {\n",
              "      border-color: transparent;\n",
              "      border-right-color: var(--fill-color);\n",
              "      border-top-color: var(--fill-color);\n",
              "    }\n",
              "    60% {\n",
              "      border-color: transparent;\n",
              "      border-right-color: var(--fill-color);\n",
              "    }\n",
              "    80% {\n",
              "      border-color: transparent;\n",
              "      border-right-color: var(--fill-color);\n",
              "      border-bottom-color: var(--fill-color);\n",
              "    }\n",
              "    90% {\n",
              "      border-color: transparent;\n",
              "      border-bottom-color: var(--fill-color);\n",
              "    }\n",
              "  }\n",
              "</style>\n",
              "\n",
              "  <script>\n",
              "    async function quickchart(key) {\n",
              "      const quickchartButtonEl =\n",
              "        document.querySelector('#' + key + ' button');\n",
              "      quickchartButtonEl.disabled = true;  // To prevent multiple clicks.\n",
              "      quickchartButtonEl.classList.add('colab-df-spinner');\n",
              "      try {\n",
              "        const charts = await google.colab.kernel.invokeFunction(\n",
              "            'suggestCharts', [key], {});\n",
              "      } catch (error) {\n",
              "        console.error('Error during call to suggestCharts:', error);\n",
              "      }\n",
              "      quickchartButtonEl.classList.remove('colab-df-spinner');\n",
              "      quickchartButtonEl.classList.add('colab-df-quickchart-complete');\n",
              "    }\n",
              "    (() => {\n",
              "      let quickchartButtonEl =\n",
              "        document.querySelector('#df-11eedd08-795a-478b-ba61-f25ac50daca3 button');\n",
              "      quickchartButtonEl.style.display =\n",
              "        google.colab.kernel.accessAllowed ? 'block' : 'none';\n",
              "    })();\n",
              "  </script>\n",
              "</div>\n",
              "    </div>\n",
              "  </div>\n"
            ]
          },
          "metadata": {},
          "execution_count": 198
        }
      ]
    },
    {
      "cell_type": "code",
      "source": [
        "# Checking the shape of the dataset, which provides information about the number of rows and columns in the Dataset\n",
        "dataset.shape"
      ],
      "metadata": {
        "colab": {
          "base_uri": "https://localhost:8080/"
        },
        "id": "1bdVu_3zegDh",
        "outputId": "718dc671-e294-4faf-df03-bbbfee48e0e9"
      },
      "execution_count": 199,
      "outputs": [
        {
          "output_type": "execute_result",
          "data": {
            "text/plain": [
              "(2278, 10)"
            ]
          },
          "metadata": {},
          "execution_count": 199
        }
      ]
    },
    {
      "cell_type": "code",
      "source": [
        "# Preprocessing the dataset\n",
        "X = dataset.values[:,0:4] # Using the first four columns as the features of the model\n",
        "Y = dataset.values[:,1] # Target feature (labels or classes) is in the second column, which is \"age_group\" column.\n",
        "\n",
        "# Splitting-out validation dataset, validation options and evaluation metric\n",
        "validation_size = 0.20\n",
        "seed = 7\n",
        "scoring = 'accuracy'\n",
        "\n",
        "# Splitting the data into training and validation sets\n",
        "X_train, X_validation, Y_train, Y_validation = model_selection.train_test_split(X, Y, test_size=validation_size, random_state=seed)\n",
        "\n",
        "# Printing the shapes of training and validation data\n",
        "print(\"X_train =\", X_train.shape)\n",
        "print(\"X_validation =\", X_validation.shape)\n",
        "print(\"Y_train =\", Y_train.shape)\n",
        "print(\"Y_validation =\", Y_validation.shape)"
      ],
      "metadata": {
        "colab": {
          "base_uri": "https://localhost:8080/"
        },
        "id": "q3JrLJTGegFu",
        "outputId": "87237ab0-fd8f-46d7-9a5f-70e4ca2343a8"
      },
      "execution_count": 200,
      "outputs": [
        {
          "output_type": "stream",
          "name": "stdout",
          "text": [
            "X_train = (1822, 4)\n",
            "X_validation = (456, 4)\n",
            "Y_train = (1822,)\n",
            "Y_validation = (456,)\n"
          ]
        }
      ]
    },
    {
      "cell_type": "code",
      "source": [
        "# Spot-Checking Algorithms\n",
        "models = []\n",
        "models.append(('KNN', KNeighborsClassifier()))\n",
        "models.append(('NB', GaussianNB()))\n",
        "models.append(('SVM', SVC()))\n",
        "\n",
        "# Evaluating each model in turn\n",
        "results = []\n",
        "names = []\n",
        "for name, model in models:\n",
        "  kfold = model_selection.KFold(n_splits=10, random_state=seed, shuffle=True)\n",
        "  cv_results = model_selection.cross_val_score(model, X_train, Y_train, cv=kfold, scoring=scoring)\n",
        "  results.append(cv_results)\n",
        "  names.append(name)\n",
        "  msg = \"%s: %f (%f)\" % (name, cv_results.mean(), cv_results.std())\n",
        "  print(msg)"
      ],
      "metadata": {
        "colab": {
          "base_uri": "https://localhost:8080/"
        },
        "id": "whkULyxRegKP",
        "outputId": "1349734d-5242-490b-9ae6-03a6ee170f14"
      },
      "execution_count": 201,
      "outputs": [
        {
          "output_type": "stream",
          "name": "stdout",
          "text": [
            "KNN: 0.859479 (0.018690)\n",
            "NB: 1.000000 (0.000000)\n",
            "SVM: 0.838639 (0.019217)\n"
          ]
        }
      ]
    },
    {
      "cell_type": "markdown",
      "source": [
        "From the output above, we can see that NB has the highest estimated accuracy value with 1 or 100% maximum accuracy. Even so, we will create all of the three models to compare them and try to test the accuracy of all three models with the existing data."
      ],
      "metadata": {
        "id": "q0apsJr498d8"
      }
    },
    {
      "cell_type": "code",
      "source": [
        "# Creating the KNN Model\n",
        "knn = KNeighborsClassifier(n_neighbors=5)\n",
        "\n",
        "# Train the model\n",
        "knn.fit(X_train, Y_train)\n",
        "\n",
        "# Make predictions\n",
        "predictions = knn.predict(X_validation)\n",
        "\n",
        "# Printing the evaluation of the performance of a machine learning model\n",
        "print(accuracy_score(Y_validation, predictions))\n",
        "print(confusion_matrix(Y_validation, predictions))\n",
        "print(classification_report(Y_validation, predictions, zero_division=1))"
      ],
      "metadata": {
        "colab": {
          "base_uri": "https://localhost:8080/"
        },
        "id": "AcBk7_I678Ey",
        "outputId": "2787255c-3548-4298-853a-3209e2a21abb"
      },
      "execution_count": 202,
      "outputs": [
        {
          "output_type": "stream",
          "name": "stdout",
          "text": [
            "0.8947368421052632\n",
            "[[383   3]\n",
            " [ 45  25]]\n",
            "              precision    recall  f1-score   support\n",
            "\n",
            "         0.0       0.89      0.99      0.94       386\n",
            "         1.0       0.89      0.36      0.51        70\n",
            "\n",
            "    accuracy                           0.89       456\n",
            "   macro avg       0.89      0.67      0.73       456\n",
            "weighted avg       0.89      0.89      0.87       456\n",
            "\n"
          ]
        }
      ]
    },
    {
      "cell_type": "markdown",
      "source": [
        "From the output above, the KNN model seems to perform reasonably well, with 0.8947368421052632 or 89.47% high accuracy across classes. The confusion matrix provides a detailed breakdown of the model's performance on each class. Also the classification report provides precision, recall, and F1-score for each class, along with support (number of instances) for each class. As we can see, the KNN model has the same precision score across classes with 0.89 or 89% high which means the KNN model can predict the age prediction subset into the Adult (0) or Senior (1) with the given data.\n",
        "\n",
        "The key components of the Classification Report:\n",
        "*   Precision: The ratio of correctly predicted positive observations to\n",
        "the total predicted positives.\n",
        "*   Recall: The ratio of correctly predicted positive observations to the total actual positives.\n",
        "*   F1-score: The harmonic mean of precision and recall.\n",
        "*   Support: The number of actual occurrences of the class in the specified dataset.\n",
        "*   Macro Avg: The unweighted average of precision, recall, and F1-score\n",
        "*   Weighted Avg: The weighted average based on the support for each class."
      ],
      "metadata": {
        "id": "ahpikX8yDh7f"
      }
    },
    {
      "cell_type": "code",
      "source": [
        "# Creating the Naive Bayes Model (GaussianNB for continuous features)\n",
        "nb = GaussianNB()\n",
        "\n",
        "# Train the model\n",
        "nb.fit(X_train, Y_train)\n",
        "\n",
        "# Make predictions\n",
        "predictions = nb.predict(X_validation)\n",
        "\n",
        "# Printing the evaluation of the performance of a machine learning model\n",
        "print(accuracy_score(Y_validation, predictions))\n",
        "print(confusion_matrix(Y_validation, predictions))\n",
        "print(classification_report(Y_validation, predictions, zero_division=1))"
      ],
      "metadata": {
        "colab": {
          "base_uri": "https://localhost:8080/"
        },
        "id": "lilgiG3p774X",
        "outputId": "18f4c406-7f39-4d94-fad8-0e9523863df3"
      },
      "execution_count": 203,
      "outputs": [
        {
          "output_type": "stream",
          "name": "stdout",
          "text": [
            "1.0\n",
            "[[386   0]\n",
            " [  0  70]]\n",
            "              precision    recall  f1-score   support\n",
            "\n",
            "         0.0       1.00      1.00      1.00       386\n",
            "         1.0       1.00      1.00      1.00        70\n",
            "\n",
            "    accuracy                           1.00       456\n",
            "   macro avg       1.00      1.00      1.00       456\n",
            "weighted avg       1.00      1.00      1.00       456\n",
            "\n"
          ]
        }
      ]
    },
    {
      "cell_type": "markdown",
      "source": [
        "From the output above, the NB model seems to perform perfectly well, with 1 or 100% maximum accuracy across classes. The confusion matrix provides a detailed breakdown of the model's performance on each class. Also the classification report provides precision, recall, and F1-score for each class, along with support (number of instances) for each class. As we can see, the KNN model has the same perfect precision score across classes with 1 or 100% high which means the NB model can predict the age prediction subset into the Adult (0) or Senior (1) flawlessly with the given data.\n",
        "\n",
        "The key components of the Classification Report:\n",
        "*   Precision: The ratio of correctly predicted positive observations to\n",
        "the total predicted positives.\n",
        "*   Recall: The ratio of correctly predicted positive observations to the total actual positives.\n",
        "*   F1-score: The harmonic mean of precision and recall.\n",
        "*   Support: The number of actual occurrences of the class in the specified dataset.\n",
        "*   Macro Avg: The unweighted average of precision, recall, and F1-score\n",
        "*   Weighted Avg: The weighted average based on the support for each class."
      ],
      "metadata": {
        "id": "zhU7AhSHELTx"
      }
    },
    {
      "cell_type": "code",
      "source": [
        "# Creating the SVM model\n",
        "svm = SVC()\n",
        "\n",
        "# Train the model\n",
        "svm.fit(X_train, Y_train)\n",
        "\n",
        "# Make predictions\n",
        "predictions = svm.predict(X_validation)\n",
        "\n",
        "# Printing the evaluation of the performance of a machine learning model\n",
        "print(accuracy_score(Y_validation, predictions))\n",
        "print(confusion_matrix(Y_validation, predictions))\n",
        "print(classification_report(Y_validation, predictions, zero_division=1))"
      ],
      "metadata": {
        "colab": {
          "base_uri": "https://localhost:8080/"
        },
        "id": "-9WBwKSaegMl",
        "outputId": "3890b721-d412-4811-8b82-1a0dd808722e"
      },
      "execution_count": 204,
      "outputs": [
        {
          "output_type": "stream",
          "name": "stdout",
          "text": [
            "0.8464912280701754\n",
            "[[386   0]\n",
            " [ 70   0]]\n",
            "              precision    recall  f1-score   support\n",
            "\n",
            "         0.0       0.85      1.00      0.92       386\n",
            "         1.0       1.00      0.00      0.00        70\n",
            "\n",
            "    accuracy                           0.85       456\n",
            "   macro avg       0.92      0.50      0.46       456\n",
            "weighted avg       0.87      0.85      0.78       456\n",
            "\n"
          ]
        }
      ]
    },
    {
      "cell_type": "markdown",
      "source": [
        "From the output above, the SVM model seems to perform reasonably well, with 0.8464912280701754 or 84.65% a little bit lower than the KNN model accuracy across classes. The confusion matrix provides a detailed breakdown of the model's performance on each class. Also the classification report provides precision, recall, and F1-score for each class, along with support (number of instances) for each class. As we can see, the SVM model does not have the well-balanced precision score across classes like the KNN model, but the SVM model does perfectly well in predicting the Senior (1) age group with 1 or 100% flawless score.\n",
        "\n",
        "The key components of the Classification Report:\n",
        "*   Precision: The ratio of correctly predicted positive observations to\n",
        "the total predicted positives.\n",
        "*   Recall: The ratio of correctly predicted positive observations to the total actual positives.\n",
        "*   F1-score: The harmonic mean of precision and recall.\n",
        "*   Support: The number of actual occurrences of the class in the specified dataset.\n",
        "*   Macro Avg: The unweighted average of precision, recall, and F1-score\n",
        "*   Weighted Avg: The weighted average based on the support for each class."
      ],
      "metadata": {
        "id": "hdL1uBjSEjWu"
      }
    },
    {
      "cell_type": "markdown",
      "source": [
        "# CONCLUSION\n",
        "In the testing of the accuracy against the available data out of the three models, NB is the most accurate model for the National Health and Nutrition Examination Survey 2013-2014 (NHANES) Age Prediction Subset, with a perfect score of 1 or 100%. On the other hand, KNN and SVM models have scores that are not significantly different. The KNN model achieves a balanced score in predicting all age groups with 0.89 or 89% precision score, while the SVM model accurately predicts the Senior (1) age group with 1 or 100% perfect precision score."
      ],
      "metadata": {
        "id": "Nj_AODMIFS0a"
      }
    }
  ]
}