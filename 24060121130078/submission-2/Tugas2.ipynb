{
  "nbformat": 4,
  "nbformat_minor": 0,
  "metadata": {
    "colab": {
      "provenance": []
    },
    "kernelspec": {
      "name": "python3",
      "display_name": "Python 3"
    },
    "language_info": {
      "name": "python"
    }
  },
  "cells": [
    {
      "cell_type": "markdown",
      "source": [
        "SOAL NO 1"
      ],
      "metadata": {
        "id": "lVljCWaf2A_U"
      }
    },
    {
      "cell_type": "code",
      "source": [
        "import pandas as pd\n",
        "import ssl\n",
        "from sklearn import model_selection\n",
        "from sklearn.tree import DecisionTreeClassifier\n",
        "from sklearn.metrics import accuracy_score, classification_report\n",
        "from sklearn.preprocessing import LabelEncoder\n",
        "\n",
        "# Disable SSL certificate verification\n",
        "ssl._create_default_https_context = ssl._create_unverified_context\n",
        "\n",
        "url = \"https://archive.ics.uci.edu/ml/machine-learning-databases/iris/iris.data\"\n",
        "names = ['sepal-length', 'sepal-width', 'petal-length', 'petal-width', 'class']\n",
        "dataset = pd.read_csv(url, names=names)\n",
        "\n",
        "# Gunakan LabelEncoder untuk mengonversi label kelas string menjadi label numerik\n",
        "le = LabelEncoder()\n",
        "dataset['class'] = le.fit_transform(dataset['class'])\n",
        "\n",
        "# Split-out validation dataset\n",
        "array = dataset.values\n",
        "X = array[:, 0:4]\n",
        "Y = array[:, 4]  # Menggunakan kolom terakhir yang sekarang adalah label numerik\n",
        "validation_size = 0.20\n",
        "seed = 7\n",
        "X_train, X_validation, Y_train, Y_validation = model_selection.train_test_split(X, Y, test_size=validation_size, random_state=seed)\n",
        "\n",
        "# Membuat model Decision Tree\n",
        "dt_model = DecisionTreeClassifier()\n",
        "\n",
        "# Melatih model pada dataset pelatihan\n",
        "dt_model.fit(X_train, Y_train)\n",
        "\n",
        "# Menguji model pada dataset pengujian\n",
        "Y_pred = dt_model.predict(X_validation)\n",
        "\n",
        "# Mengukur performa model\n",
        "accuracy = accuracy_score(Y_validation, Y_pred)\n",
        "print(\"Accuracy:\", accuracy)\n",
        "\n",
        "# Menampilkan laporan klasifikasi\n",
        "print(\"\\nClassification Report:\\n\", classification_report(Y_validation, Y_pred))\n"
      ],
      "metadata": {
        "colab": {
          "base_uri": "https://localhost:8080/"
        },
        "id": "tEEfxace2O8Q",
        "outputId": "cac1980b-cdbb-4126-ffe7-9718eb16cb25"
      },
      "execution_count": 34,
      "outputs": [
        {
          "output_type": "stream",
          "name": "stdout",
          "text": [
            "Accuracy: 0.8666666666666667\n",
            "\n",
            "Classification Report:\n",
            "               precision    recall  f1-score   support\n",
            "\n",
            "         0.0       1.00      1.00      1.00         7\n",
            "         1.0       0.83      0.83      0.83        12\n",
            "         2.0       0.82      0.82      0.82        11\n",
            "\n",
            "    accuracy                           0.87        30\n",
            "   macro avg       0.88      0.88      0.88        30\n",
            "weighted avg       0.87      0.87      0.87        30\n",
            "\n"
          ]
        }
      ]
    },
    {
      "cell_type": "markdown",
      "source": [
        "PENJELASAN NO 1:\n",
        "\n",
        "KODE:\n",
        "\n",
        "-pandas digunakan untuk manipulasi dan analisis data.\n",
        "\n",
        "-ssl digunakan untuk menangani sertifikat SSL (dalam hal ini, untuk menonaktifkan verifikasi sertifikat).\n",
        "\n",
        "-model_selection menyediakan fungsi untuk pembagian dataset.\n",
        "\n",
        "-DecisionTreeClassifier adalah kelas dari scikit-learn untuk membangun model pohon keputusan.\n",
        "\n",
        "-accuracy_score dan classification_report digunakan untuk mengevaluasi performa model.\n",
        "\n",
        "-LabelEncoder digunakan untuk mengubah label kelas string menjadi label numerik.\n",
        "\n",
        "-Pertama, menggunakan LabelEncoder untuk mengonversi label kelas string menjadi label numerik. Ini dilakukan agar model dapat memahami label kelas sebagai nilai numerik.\n",
        "\n",
        "-X: Fitur dari dataset Iris (kolom 0 hingga 3).\n",
        "\n",
        "-Y: Label dari dataset Iris (kolom 4).\n",
        "\n",
        "-test_size: Menentukan ukuran dataset validasi sebagai pecahan dari keseluruhan dataset. Dalam kasus ini, validation_size diatur ke 0.20, yang berarti 20% dari data akan digunakan sebagai dataset validasi.\n",
        "\n",
        "-random_state: Digunakan untuk menghasilkan hasil yang konsisten setiap kali kode dijalankan. Ini berguna agar pembagian dataset dapat direproduksi dengan cara yang sama.\n",
        "\n",
        "-X_train: Fitur dari dataset yang akan digunakan untuk melatih model.\n",
        "\n",
        "-X_validation: Fitur dari dataset yang akan digunakan untuk menguji model.\n",
        "\n",
        "-Y_train: Label yang sesuai dengan X_train.\n",
        "\n",
        "-Y_validation: Label yang sesuai dengan X_validation.\n",
        "\n",
        "-Kedua, membuat model Decision Tree dan melatihnya menggunakan data latih.\n",
        "\n",
        "-Ketiga, menggunakan model yang telah dilatih untuk membuat prediksi pada data validasi dan mengukur akurasi prediksi.\n",
        "\n",
        "-Terakhir, menampilkan akurasi model dan laporan klasifikasi yang mencakup precision, recall, dan f1-score untuk setiap kelas, serta nilai rata-rata berponderasi.\n",
        "\n",
        "OUTPUT:\n",
        "\n",
        "-akurasi sekitar 0.87 atau 87%, yang berarti model mampu memprediksi kelas dengan benar untuk sekitar 87% dari data validasi.\n",
        "\n",
        "-Model ini memiliki akurasi yang baik, terutama mengenai kelas 0 yang memiliki precision dan recall 1.00, mencapai f1-score 1.00.\n",
        "\n",
        "-Untuk kelas 1 dan 2, model juga memberikan hasil yang baik, dengan precision dan recall di atas 0.80.\n",
        "\n",
        "-Macro avg dan weighted avg memberikan gambaran umum tentang performa model secara keseluruhan, dan keduanya mencerminkan akurasi sekitar 0.87.\n",
        "\n",
        "KESIMPULAN:\n",
        "\n",
        "Hasil ini menunjukkan bahwa model Decision Tree yang telah dilatih dengan dataset tersebut memiliki kinerja yang baik dalam memprediksi kelas pada dataset validasi. Namun, evaluasi lebih lanjut atau fine-tuning mungkin diperlukan tergantung pada kebutuhan spesifik dan tujuan analisis."
      ],
      "metadata": {
        "id": "PNxLi6OY-Mui"
      }
    },
    {
      "cell_type": "markdown",
      "source": [
        "SOAL NO 2"
      ],
      "metadata": {
        "id": "JqVLBhey42hF"
      }
    },
    {
      "cell_type": "code",
      "source": [
        "import pandas as pd\n",
        "from sklearn import model_selection\n",
        "from sklearn.preprocessing import LabelEncoder\n",
        "from sklearn.neighbors import KNeighborsClassifier\n",
        "from sklearn.naive_bayes import GaussianNB\n",
        "from sklearn.svm import SVC\n",
        "from sklearn.metrics import accuracy_score, classification_report, confusion_matrix\n",
        "\n",
        "url = \"https://archive.ics.uci.edu/static/public/50/data.csv\"\n",
        "names = ['class', 'region-centroid-col', 'region-centroid-row', 'region-pixel-count', 'short-line-density-5',\n",
        "         'short-line-density-2', 'vedge-mean', 'vedge-sd', 'hedge-mean', 'hedge-sd', 'intensity-mean', 'rawred-mean',\n",
        "         'rawblue-mean', 'rawgreen-mean', 'exred-mean', 'exblue-mean', 'exgreen-mean', 'value-mean', 'saturation-mean',\n",
        "         'hue-mean']\n",
        "dataset = pd.read_csv(url, names=names, skiprows=1)  # skip the first row\n",
        "\n",
        "# Gunakan LabelEncoder untuk mengonversi label kelas string menjadi label numerik\n",
        "le = LabelEncoder()\n",
        "dataset['class'] = le.fit_transform(dataset['class'])\n",
        "\n",
        "# Split-out validation dataset\n",
        "array = dataset.values\n",
        "X = array[:, 1:]  # Fitur dari kolom kedua hingga terakhir\n",
        "Y = array[:, 0]   # Label (class) dari kolom pertama\n",
        "validation_size = 0.20\n",
        "seed = 7\n",
        "X_train, X_validation, Y_train, Y_validation = model_selection.train_test_split(X, Y, test_size=validation_size,random_state=seed)\n",
        "\n",
        "# Test options and Evaluasi Perhitungan\n",
        "seed = 7\n",
        "scoring = 'accuracy'\n",
        "\n",
        "models = []\n",
        "models.append(('KNN', KNeighborsClassifier()))\n",
        "models.append(('NB', GaussianNB()))\n",
        "models.append(('SVM', SVC()))\n",
        "\n",
        "# Evaluasi setiap model\n",
        "results = []\n",
        "names = []\n",
        "for name, model in models:\n",
        "    kfold = model_selection.KFold(n_splits=10, random_state=seed, shuffle=True)\n",
        "    cv_results = model_selection.cross_val_score(model, X_train, Y_train, cv=kfold, scoring=scoring, error_score='raise')\n",
        "    results.append(cv_results)\n",
        "    names.append(name)\n",
        "    msg = \"%s: %f (%f)\" % (name, cv_results.mean(), cv_results.std())\n",
        "    print(msg)\n",
        "\n",
        "# Membuat Prediksi pada dataset validasi\n",
        "nb = SVC()\n",
        "nb.fit(X_train, Y_train)\n",
        "predictions = nb.predict(X_validation)\n",
        "print(accuracy_score(Y_validation, predictions))\n",
        "print(confusion_matrix(Y_validation, predictions))\n",
        "print(classification_report(Y_validation, predictions))\n"
      ],
      "metadata": {
        "id": "8-wpev1jcriR",
        "colab": {
          "base_uri": "https://localhost:8080/"
        },
        "outputId": "74173c04-a143-4014-c936-b67608322156"
      },
      "execution_count": 3,
      "outputs": [
        {
          "output_type": "stream",
          "name": "stdout",
          "text": [
            "KNN: 0.768750 (0.107946)\n",
            "NB: 0.786397 (0.099012)\n",
            "SVM: 0.744118 (0.092880)\n",
            "0.7380952380952381\n",
            "[[ 5  0  0  0  0  0  0]\n",
            " [ 1 10  0  0  0  0  1]\n",
            " [ 7  0  0  0  0  0  2]\n",
            " [ 0  0  0  5  0  0  0]\n",
            " [ 0  0  0  0  7  0  0]\n",
            " [ 0  0  0  0  0  2  0]\n",
            " [ 0  0  0  0  0  0  2]]\n",
            "              precision    recall  f1-score   support\n",
            "\n",
            "         0.0       0.38      1.00      0.56         5\n",
            "         1.0       1.00      0.83      0.91        12\n",
            "         2.0       0.00      0.00      0.00         9\n",
            "         3.0       1.00      1.00      1.00         5\n",
            "         4.0       1.00      1.00      1.00         7\n",
            "         5.0       1.00      1.00      1.00         2\n",
            "         6.0       0.40      1.00      0.57         2\n",
            "\n",
            "    accuracy                           0.74        42\n",
            "   macro avg       0.68      0.83      0.72        42\n",
            "weighted avg       0.68      0.74      0.69        42\n",
            "\n"
          ]
        },
        {
          "output_type": "stream",
          "name": "stderr",
          "text": [
            "/usr/local/lib/python3.10/dist-packages/sklearn/metrics/_classification.py:1344: UndefinedMetricWarning: Precision and F-score are ill-defined and being set to 0.0 in labels with no predicted samples. Use `zero_division` parameter to control this behavior.\n",
            "  _warn_prf(average, modifier, msg_start, len(result))\n",
            "/usr/local/lib/python3.10/dist-packages/sklearn/metrics/_classification.py:1344: UndefinedMetricWarning: Precision and F-score are ill-defined and being set to 0.0 in labels with no predicted samples. Use `zero_division` parameter to control this behavior.\n",
            "  _warn_prf(average, modifier, msg_start, len(result))\n",
            "/usr/local/lib/python3.10/dist-packages/sklearn/metrics/_classification.py:1344: UndefinedMetricWarning: Precision and F-score are ill-defined and being set to 0.0 in labels with no predicted samples. Use `zero_division` parameter to control this behavior.\n",
            "  _warn_prf(average, modifier, msg_start, len(result))\n"
          ]
        }
      ]
    },
    {
      "cell_type": "markdown",
      "source": [
        "PENJELASAN NO 2:\n",
        "\n",
        "KODE:\n",
        "\n",
        "-Pertama, menggunakan LabelEncoder untuk mengonversi label kelas dari string menjadi label numerik.\n",
        "\n",
        "--X: Fitur dari dataset Image Segmentation (kolom 1 dan seterusnya).\n",
        "\n",
        "-Y: Label dari dataset Image Segmentation (kolom 0).\n",
        "\n",
        "-test_size: Menentukan ukuran dataset validasi sebagai pecahan dari keseluruhan dataset. Dalam kasus ini, validation_size diatur ke 0.20, yang berarti 20% dari data akan digunakan sebagai dataset validasi.\n",
        "\n",
        "-random_state: Digunakan untuk menghasilkan hasil yang konsisten setiap kali kode dijalankan. Ini berguna agar pembagian dataset dapat direproduksi dengan cara yang sama.\n",
        "\n",
        "-X_train: Fitur dari dataset yang akan digunakan untuk melatih model.\n",
        "\n",
        "-X_validation: Fitur dari dataset yang akan digunakan untuk menguji model.\n",
        "\n",
        "-Y_train: Label yang sesuai dengan X_train.\n",
        "\n",
        "-Y_validation: Label yang sesuai dengan X_validation.\n",
        "\n",
        "-Kedua, melatih dan mengevaluasi tiga model machine learning (KNN, NB, SVM) menggunakan cross-validation.\n",
        "\n",
        "-Ketiga, menampilkan hasil evaluasi untuk setiap model, termasuk mean dan standard deviation dari akurasi.\n",
        "\n",
        "-menggunakan K-Fold Cross-Validation dengan 10 lipatan (n_splits=10).\n",
        "\n",
        "-random_state digunakan agar pembagian lipatan dapat direproduksi dengan cara yang sama.\n",
        "\n",
        "-shuffle=True mengacak dataset sebelum pembagian lipatan.\n",
        "\n",
        "-menggunakan cross_val_score untuk melakukan cross-validation pada model tertentu (model) dengan data latih (X_train, Y_train).\n",
        "scoring ditentukan sebelumnya sebagai 'accuracy', yang akan menghitung akurasi pada setiap lipatan.\n",
        "\n",
        "-Keempat, membuat model SVM baru (nb), melatihnya dengan data latih, dan melakukan prediksi pada data validasi.\n",
        "\n",
        "-Terakhir, menampilkan akurasi, confusion matrix, dan laporan klasifikasi untuk hasil prediksi pada data validasi.\n",
        "\n",
        "OUTPUT:\n",
        "\n",
        "-KNN: Rata-rata akurasi sekitar 0.768 dengan deviasi standar sekitar 0.108.\n",
        "\n",
        "-NB: Rata-rata akurasi sekitar 0.786 dengan deviasi standar sekitar 0.099.\n",
        "\n",
        "-SVM: Rata-rata akurasi sekitar 0.744 dengan deviasi standar sekitar 0.093.\n",
        "\n",
        "-Hasil di atas merupakan hasil rata-rata akurasi dan deviasi standar dari masing-masing model selama proses cross-validation dengan 10 lipatan. Rata-rata akurasi memberikan gambaran tentang seberapa baik model dapat memprediksi pada data latih, sedangkan deviasi standar memberikan informasi tentang seberapa konsisten model dalam melakukan prediksi.\n",
        "\n",
        "-Akurasi pada data validasi adalah sekitar 0.738, yang berarti model dapat memprediksi dengan benar untuk sekitar 73.8% dari data validasi.\n",
        "\n",
        "-Confusion matrix memberikan informasi tentang seberapa baik model dalam mengklasifikasikan setiap kelas. Misalnya, kelas 2 tidak memiliki prediksi yang benar.\n",
        "\n",
        "-Classification report memberikan informasi lebih lanjut tentang precision, recall, dan f1-score untuk setiap kelas, serta rata-rata berponderasi."
      ],
      "metadata": {
        "id": "xUK6jyIVCXLW"
      }
    }
  ]
}