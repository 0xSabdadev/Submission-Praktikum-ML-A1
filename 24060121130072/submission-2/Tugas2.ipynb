{
  "nbformat": 4,
  "nbformat_minor": 0,
  "metadata": {
    "colab": {
      "provenance": []
    },
    "kernelspec": {
      "name": "python3",
      "display_name": "Python 3"
    },
    "language_info": {
      "name": "python"
    }
  },
  "cells": [
    {
      "cell_type": "markdown",
      "source": [
        "Nama : Galih Aji Syafaat\n",
        "\n",
        "NIM  : 24060121130072\n",
        "\n",
        "Nama Dataset : winequality\n",
        "\n",
        "\n",
        "                    *   winequality-red.csv\n",
        "                    *   winequality-white.csv\n",
        "Link Dataset Asli : https://archive.ics.uci.edu/dataset/186/wine+quality\n",
        "\n",
        "Link Dataset Yang dipakai : https://drive.google.com/drive/folders/1KtECM62OZ1VHNqkPvK2Gmb1uhMKYNHM2\n",
        "\n",
        "\n"
      ],
      "metadata": {
        "id": "1_BYQ5ywJo8y"
      }
    },
    {
      "cell_type": "code",
      "execution_count": null,
      "metadata": {
        "id": "-mJqDdORlwtS"
      },
      "outputs": [],
      "source": [
        "from sklearn import model_selection\n",
        "from sklearn.metrics import accuracy_score\n",
        "from sklearn.metrics import confusion_matrix\n",
        "from sklearn.metrics import classification_report\n",
        "from sklearn.naive_bayes import GaussianNB\n",
        "from sklearn import metrics\n",
        "from sklearn.svm import SVC\n",
        "from sklearn.neighbors import KNeighborsClassifier\n",
        "from sklearn.ensemble import RandomForestClassifier\n",
        "from sklearn.tree import DecisionTreeClassifier\n",
        "from sklearn.linear_model import SGDClassifier\n",
        "import pandas as pd\n",
        "import numpy as np"
      ]
    },
    {
      "cell_type": "markdown",
      "source": [
        "model_selection: Modul ini menyediakan fungsi untuk membagi dataset menjadi set pelatihan dan pengujian, validasi silang, dan teknik pemilihan model lainnya.\n",
        "\n",
        "\n",
        "---\n",
        "\n",
        "\n",
        "accuracy_score: Fungsi ini menghitung akurasi dari model klasifikasi.\n",
        "confusion_matrix: Fungsi ini menghitung matriks konfusi untuk mengevaluasi kinerja algoritma klasifikasi.\n",
        "\n",
        "\n",
        "---\n",
        "\n",
        "\n",
        "classification_report: Fungsi ini menghasilkan laporan teks yang menunjukkan metrik klasifikasi utama seperti presisi, recall, dan F1-score.\n",
        "\n",
        "\n",
        "---\n",
        "\n",
        "\n",
        "GaussianNB: Klasifikasi Gaussian Naive Bayes untuk tugas klasifikasi.\n",
        "\n",
        "\n",
        "---\n",
        "\n",
        "\n",
        "metrics: Submodul di scikit-learn yang berisi berbagai metrik untuk mengevaluasi kinerja model.\n",
        "\n",
        "\n",
        "---\n",
        "\n",
        "\n",
        "SVC: Support Vector Classification, jenis klasifikasi Support Vector Machine (SVM).\n",
        "\n",
        "\n",
        "---\n",
        "\n",
        "\n",
        "KNeighborsClassifier: Klasifikasi K-Nearest Neighbors.\n",
        "\n",
        "\n",
        "---\n",
        "\n",
        "\n",
        "RandomForestClassifier: Klasifikasi Random Forest.\n",
        "\n",
        "\n",
        "---\n",
        "\n",
        "\n",
        "DecisionTreeClassifier: Klasifikasi Decision Tree.\n",
        "\n",
        "\n",
        "---\n",
        "\n",
        "\n",
        "SGDClassifier: Klasifikasi Stochastic Gradient Descent.\n",
        "\n",
        "\n",
        "---\n",
        "\n",
        "\n",
        "pandas as pd: Library untuk manipulasi data, umumnya digunakan untuk bekerja dengan data tabular.\n",
        "\n",
        "\n",
        "---\n",
        "\n",
        "\n",
        "numpy as np: Library untuk operasi numerik dan bekerja dengan array."
      ],
      "metadata": {
        "id": "wv0ud-HQJxAP"
      }
    },
    {
      "cell_type": "code",
      "source": [
        "from google.colab import drive\n",
        "drive.mount('/content/drive')"
      ],
      "metadata": {
        "colab": {
          "base_uri": "https://localhost:8080/"
        },
        "id": "zgAAnhErl_IF",
        "outputId": "d0af4f94-59cb-4a03-b34c-195b87f73086"
      },
      "execution_count": null,
      "outputs": [
        {
          "output_type": "stream",
          "name": "stdout",
          "text": [
            "Drive already mounted at /content/drive; to attempt to forcibly remount, call drive.mount(\"/content/drive\", force_remount=True).\n"
          ]
        }
      ]
    },
    {
      "cell_type": "markdown",
      "source": [
        "Pada baris pertama (from google.colab import drive), kode mengimpor modul drive dari pustaka google.colab. Modul ini menyediakan fungsi untuk menghubungkan Google Colab dengan Google Drive."
      ],
      "metadata": {
        "id": "Er-3euVqJ14H"
      }
    },
    {
      "cell_type": "code",
      "source": [
        "names = [\"fixed acidity\", \"volatile acidity\", \"citric acid\", \"residual sugar\", \"chlorides\", \"free sulfur dioxide\", \"total sulfur dioxide\", \"density\", \"pH\", \"sulphates\", \"alcohol\", \"quality\"]\n",
        "dataset_red = pd.read_csv('/content/drive/MyDrive/ML/MLA1/winequality-red.csv', delimiter=';', names=names,header=0)"
      ],
      "metadata": {
        "id": "xUKuL6vY9udw"
      },
      "execution_count": null,
      "outputs": []
    },
    {
      "cell_type": "markdown",
      "source": [
        "Kode di atas membaca dua file CSV yang berisi data kualitas anggur, memuatnya ke dalam dua dataset terpisah: dataset_red untuk anggur merah dan dataset_white untuk anggur putih.\n",
        "\n",
        "Pada baris pertama, digunakan untuk daftar nama kolom yang akan digunakan untuk dataset. Nama-nama ini akan digunakan sebagai header atau label kolom untuk setiap dataset yang akan dibaca."
      ],
      "metadata": {
        "id": "Mff7wqZJJ6zp"
      }
    },
    {
      "cell_type": "code",
      "source": [
        "array = dataset_red.values\n",
        "X = array[:,0:11]\n",
        "Y = array[:,11]\n",
        "validation_size = 0.20\n",
        "seed = 7\n",
        "X_train, X_validation, Y_train, Y_validation = model_selection.train_test_split(X, Y, test_size=validation_size, random_state=seed)"
      ],
      "metadata": {
        "id": "UIrRCAkomGr5"
      },
      "execution_count": null,
      "outputs": []
    },
    {
      "cell_type": "markdown",
      "source": [
        "Mengubah Dataset ke dalam Array:\n",
        "\n",
        "array = dataset_red.values\n",
        "\n",
        "Membuat array dari dataset yang telah dibaca. Setiap baris dalam array ini akan mewakili entri dari dataset, dan setiap kolom akan mewakili fitur atau label.\n",
        "\n",
        "\n",
        "---\n",
        "Pemisahan Fitur dan Label:\n",
        "\n",
        "Memisahkan fitur (X) dan label (Y) dari array. X akan berisi kolom 0 hingga 10 (indeks 0-10), sedangkan Y akan berisi kolom ke-11 (indeks 11).\n",
        "---\n",
        "Pembagian Data menjadi Data Pelatihan dan Data Validasi:\n",
        "\n",
        "validation_size = 0.20\n",
        "\n",
        "seed = 7\n",
        "\n",
        "X_train, X_validation, Y_train, Y_validation = model_selection.train_test_split(X, Y, test_size=validation_size, random_state=seed)\n",
        "\n",
        "Menggunakan train_test_split dari modul model_selection untuk membagi dataset menjadi data pelatihan (X_train, Y_train) dan data validasi (X_validation, Y_validation). Persentase data validasi diatur sebesar 20%, dan random_state digunakan untuk memastikan hasil pembagian data dapat direproduksi dengan seed yang sama.\n",
        "\n",
        "---\n"
      ],
      "metadata": {
        "id": "rMsH3iiKJ3tw"
      }
    },
    {
      "cell_type": "code",
      "source": [
        "X_train"
      ],
      "metadata": {
        "colab": {
          "base_uri": "https://localhost:8080/"
        },
        "id": "F1jNwCYOmJjQ",
        "outputId": "bac293f7-0ea0-44d5-b203-5176fee7fa7c"
      },
      "execution_count": null,
      "outputs": [
        {
          "output_type": "execute_result",
          "data": {
            "text/plain": [
              "array([[12.5  ,  0.46 ,  0.63 , ...,  2.99 ,  0.87 , 10.2  ],\n",
              "       [ 8.   ,  0.81 ,  0.25 , ...,  3.19 ,  0.42 ,  9.2  ],\n",
              "       [ 6.9  ,  0.765,  0.02 , ...,  3.57 ,  0.78 ,  9.9  ],\n",
              "       ...,\n",
              "       [ 8.1  ,  0.825,  0.24 , ...,  3.37 ,  0.77 , 10.7  ],\n",
              "       [10.9  ,  0.32 ,  0.52 , ...,  3.28 ,  0.77 , 11.5  ],\n",
              "       [ 6.9  ,  0.5  ,  0.04 , ...,  3.35 ,  0.78 ,  9.5  ]])"
            ]
          },
          "metadata": {},
          "execution_count": 49
        }
      ]
    },
    {
      "cell_type": "code",
      "source": [
        "Y_train"
      ],
      "metadata": {
        "colab": {
          "base_uri": "https://localhost:8080/"
        },
        "id": "STvqhNjr_ht5",
        "outputId": "c0162487-7335-45ad-9ba3-e12dd83e530d"
      },
      "execution_count": null,
      "outputs": [
        {
          "output_type": "execute_result",
          "data": {
            "text/plain": [
              "array([5., 5., 5., ..., 6., 6., 5.])"
            ]
          },
          "metadata": {},
          "execution_count": 50
        }
      ]
    },
    {
      "cell_type": "code",
      "source": [
        "# Test options and evaluation metric\n",
        "seed = 7\n",
        "scoring = 'accuracy'"
      ],
      "metadata": {
        "id": "_gSPlRFjmKzp"
      },
      "execution_count": null,
      "outputs": []
    },
    {
      "cell_type": "markdown",
      "source": [
        "\n",
        "\n",
        "\n",
        "---\n",
        "\n",
        "\n",
        "\n",
        "\n",
        "*   Variabel seed digunakan untuk menetapkan nilai seed dalam proses pembagian data atau validasi silang. Menetapkan seed memastikan bahwa hasil yang diperoleh dapat direproduksi jika menggunakan seed yang sama.\n",
        "\n",
        "\n",
        "---\n",
        "\n",
        "\n",
        "*   Variabel scoring menentukan metrik evaluasi yang akan digunakan selama proses pelatihan dan evaluasi model. Dalam hal ini, metriknya adalah akurasi (accuracy). Akurasi mengukur sejauh mana model dapat membuat prediksi yang benar dibandingkan dengan total jumlah prediksi.\n",
        "\n",
        "\n",
        "\n",
        "\n",
        "---\n",
        "\n",
        "\n"
      ],
      "metadata": {
        "id": "lXW04HF5Lx18"
      }
    },
    {
      "cell_type": "code",
      "source": [
        "# Spot Check Algorithms\n",
        "models = []\n",
        "models.append(('KNN', KNeighborsClassifier()))\n",
        "models.append(('NB', GaussianNB()))\n",
        "models.append(('SVM', SVC()))\n",
        "\n",
        "# evaluate each model in turn\n",
        "results = []\n",
        "names = []\n",
        "for name, model in models:\n",
        "  kfold = model_selection.KFold(n_splits=10, random_state=seed, shuffle=True)\n",
        "  cv_results = model_selection.cross_val_score(model, X_train, Y_train, cv=kfold, scoring=scoring)\n",
        "  results.append(cv_results)\n",
        "  names.append(name)\n",
        "\n",
        "  msg = \"%s: %f (%f)\" % (name, cv_results.mean(), cv_results.std())\n",
        "  print(msg)"
      ],
      "metadata": {
        "colab": {
          "base_uri": "https://localhost:8080/"
        },
        "id": "RIwNx1krmL1B",
        "outputId": "204c1abf-8f6a-4380-f126-8a361003fc5c"
      },
      "execution_count": null,
      "outputs": [
        {
          "output_type": "stream",
          "name": "stdout",
          "text": [
            "KNN: 0.499656 (0.040829)\n",
            "NB: 0.541831 (0.035975)\n",
            "SVM: 0.499606 (0.051481)\n"
          ]
        }
      ]
    },
    {
      "cell_type": "markdown",
      "source": [
        "\n",
        "\n",
        "1.   Inisialisasi Model:\n",
        "\n",
        "      *   Membuat list models yang berisi beberapa algoritma klasifikasi, seperti K-Nearest Neighbors (KNN), Gaussian Naive Bayes (NB), dan Support Vector Machine (SVM).\n",
        "      *  Setiap algoritma diinisialisasi sebagai objek kelasifikasi yang siap digunakan.\n",
        "\n",
        "\n",
        "2.  Evaluasi Model:\n",
        "\n",
        "      *   Looping melalui setiap model dalam list models.\n",
        "      *   Menggunakan validasi silang (cross-validation) dengan KFold untuk menghitung performa model.\n",
        "      *   Metrik evaluasi yang digunakan diatur sebelumnya sebagai scoring (dalam hal ini, akurasi).\n",
        "      *  Hasil evaluasi, yaitu akurasi dari setiap lipatan validasi, dicatat dan dicetak untuk setiap model.\n",
        "\n",
        "\n",
        "3.   Output:\n",
        "\n",
        "        *   Hasil akhirnya adalah cetakan yang menunjukkan nama model, rata-rata akurasi dari validasi silang, dan deviasi standar akurasi dari validasi silang.\n",
        "\n",
        "\n",
        "\n",
        "\n"
      ],
      "metadata": {
        "id": "sQLDVnUsM-XZ"
      }
    },
    {
      "cell_type": "code",
      "source": [
        "print(dataset_red.dtypes)"
      ],
      "metadata": {
        "colab": {
          "base_uri": "https://localhost:8080/"
        },
        "id": "HddgBKjZmw3t",
        "outputId": "5372ca64-0880-464b-d8ed-f17dbed04b87"
      },
      "execution_count": null,
      "outputs": [
        {
          "output_type": "stream",
          "name": "stdout",
          "text": [
            "fixed acidity           float64\n",
            "volatile acidity        float64\n",
            "citric acid             float64\n",
            "residual sugar          float64\n",
            "chlorides               float64\n",
            "free sulfur dioxide     float64\n",
            "total sulfur dioxide    float64\n",
            "density                 float64\n",
            "pH                      float64\n",
            "sulphates               float64\n",
            "alcohol                 float64\n",
            "quality                   int64\n",
            "dtype: object\n"
          ]
        }
      ]
    },
    {
      "cell_type": "code",
      "source": [
        "from sklearn.metrics import accuracy_score, confusion_matrix, classification_report\n",
        "\n",
        "# Make predictions on the validation dataset\n",
        "svm = SVC()\n",
        "svm.fit(X_train, Y_train)\n",
        "predictions = svm.predict(X_validation)\n",
        "\n",
        "print(\"Accuracy:\", accuracy_score(Y_validation, predictions))\n",
        "print(\"Confusion Matrix:\\n\", confusion_matrix(Y_validation, predictions))\n",
        "print(\"Classification Report:\\n\", classification_report(Y_validation, predictions, zero_division=1))\n"
      ],
      "metadata": {
        "colab": {
          "base_uri": "https://localhost:8080/"
        },
        "id": "o0G4CnOTmNX5",
        "outputId": "cc816042-61fc-412c-e0a1-a14524d41159"
      },
      "execution_count": null,
      "outputs": [
        {
          "output_type": "stream",
          "name": "stdout",
          "text": [
            "Accuracy: 0.521875\n",
            "Confusion Matrix:\n",
            " [[  0   2   8   0   0]\n",
            " [  0  59  64   0   0]\n",
            " [  0  38 108   0   0]\n",
            " [  0   2  35   0   0]\n",
            " [  0   0   4   0   0]]\n",
            "Classification Report:\n",
            "               precision    recall  f1-score   support\n",
            "\n",
            "         4.0       1.00      0.00      0.00        10\n",
            "         5.0       0.58      0.48      0.53       123\n",
            "         6.0       0.49      0.74      0.59       146\n",
            "         7.0       1.00      0.00      0.00        37\n",
            "         8.0       1.00      0.00      0.00         4\n",
            "\n",
            "    accuracy                           0.52       320\n",
            "   macro avg       0.82      0.24      0.22       320\n",
            "weighted avg       0.61      0.52      0.47       320\n",
            "\n"
          ]
        }
      ]
    },
    {
      "cell_type": "markdown",
      "source": [
        "\n",
        "\n",
        "1.   Pelatihan Model dan Prediksi:\n",
        "\n",
        "\n",
        "\n",
        ">   Membuat objek SVC() sebagai model Support Vector Machine.\n",
        "  Melatih model menggunakan data pelatihan (X_train, Y_train) dengan menggunakan metode fit.\n",
        "  Membuat prediksi pada dataset validasi (X_validation), dan hasilnya disimpan dalam variabel predictions.\n",
        "\n",
        "\n",
        "2.   Evaluasi dan Cetak Hasil\n",
        "\n",
        "> *   Mencetak hasil evaluasi performa model pada dataset validasi.\n",
        "*   accuracy_score digunakan untuk menghitung akurasi prediksi.\n",
        "*   classification_report memberikan laporan yang lebih rinci termasuk presisi, recall, dan F1-score untuk setiap kelas.\n",
        "*   confusion_matrix memberikan matriks konfusi yang menunjukkan seberapa baik model dapat memprediksi setiap kelas.\n",
        "*   Parameter zero_division=1 digunakan untuk menghindari peringatan jika ada pembagian nol dalam perhitungan metrik tersebut.\n",
        "\n",
        "\n",
        "\n",
        "\n",
        "\n",
        "\n"
      ],
      "metadata": {
        "id": "1UsidpmDN3u9"
      }
    },
    {
      "cell_type": "code",
      "source": [
        "cm = confusion_matrix (Y_validation, predictions)"
      ],
      "metadata": {
        "id": "SkObD8NomPWD"
      },
      "execution_count": null,
      "outputs": []
    },
    {
      "cell_type": "markdown",
      "source": [
        "1. Penghitungan Matriks Konfusi:\n",
        "\n",
        "\n",
        "\n",
        "> * Fungsi confusion_matrix digunakan untuk menghitung matriks konfusi.\n",
        "* Parameter pertama (Y_validation) adalah nilai sebenarnya dari dataset validasi.\n",
        "* Parameter kedua (predictions) adalah hasil prediksi yang dihasilkan oleh model.\n",
        "\n",
        "\n",
        "\n",
        "2. Variabel cm:\n",
        "\n",
        "\n",
        "\n",
        "> * Variabel cm akan berisi hasil dari matriks konfusi yang dihasilkan oleh fungsi tersebut.\n",
        "* Matriks konfusi adalah array dua dimensi di mana setiap elemen [i, j]\n",
        " mewakili jumlah sampel yang sebenarnya berada dalam kelas ke-i dan diprediksi masuk ke kelas ke-j.\n",
        "\n"
      ],
      "metadata": {
        "id": "Xq12JRH8N4PJ"
      }
    },
    {
      "cell_type": "code",
      "source": [
        "cm_display = metrics.ConfusionMatrixDisplay(confusion_matrix=cm, display_labels=[\"4.0\", \"5.0\", \"6.0\", \"7.0\", \"8.0\"])"
      ],
      "metadata": {
        "id": "hr6iyrvwmQUg"
      },
      "execution_count": null,
      "outputs": []
    },
    {
      "cell_type": "markdown",
      "source": [
        "Confusion Matrix Display:\n",
        "\n",
        "\n",
        "> * Membuat objek ConfusionMatrixDisplay untuk menampilkan matriks konfusi.\n",
        "* confusion_matrix=cm menyediakan matriks konfusi yang akan ditampilkan.\n",
        "* display_labels menyediakan label kelas yang akan ditampilkan pada matriks konfusi. Dalam hal ini, label kelas adalah \"4.0\", \"5.0\", \"6.0\", \"7.0\", \"8.0\".\n",
        "\n",
        "\n"
      ],
      "metadata": {
        "id": "fxxW_OXON4so"
      }
    },
    {
      "cell_type": "code",
      "source": [
        "import matplotlib.pyplot as plt\n",
        "cm_display.plot()\n",
        "plt.show()"
      ],
      "metadata": {
        "colab": {
          "base_uri": "https://localhost:8080/",
          "height": 449
        },
        "id": "mbWy1HGsmRcI",
        "outputId": "3a4eef03-d803-486d-d19a-4a14808e358d"
      },
      "execution_count": null,
      "outputs": [
        {
          "output_type": "display_data",
          "data": {
            "text/plain": [
              "<Figure size 640x480 with 2 Axes>"
            ],
            "image/png": "[encoded data removed]"
          },
          "metadata": {}
        }
      ]
    },
    {
      "cell_type": "markdown",
      "source": [
        "\n",
        "\n",
        "---\n",
        "\n",
        "\n",
        "Plot Matriks Konfusi:\n",
        "\n",
        "Memanggil metode plot() pada objek matriks konfusi (cm_display). Metode ini menghasilkan visualisasi matriks konfusi dalam bentuk plot.\n",
        "\n",
        "\n",
        "---\n",
        "\n",
        "\n",
        "Tampilkan Plot:\n",
        "\n",
        "Memanggil fungsi show() dari matplotlib.pyplot untuk menampilkan plot matriks konfusi.\n",
        "\n",
        "\n",
        "---\n",
        "\n"
      ],
      "metadata": {
        "id": "KBRkTrocQg8j"
      }
    },
    {
      "cell_type": "code",
      "source": [
        "import ssl\n",
        "\n",
        "# Non-secure SSL certificate\n",
        "ssl._create_default_https_context = ssl._create_unverified_context\n",
        "url = \"https://archive.ics.uci.edu/ml/machine-learning-databases/iris/iris.data\""
      ],
      "metadata": {
        "id": "g6vNuJZiITbF"
      },
      "execution_count": null,
      "outputs": []
    },
    {
      "cell_type": "markdown",
      "source": [
        "\n",
        "\n",
        "---\n",
        "\n",
        "\n",
        "Import Library SSL:\n",
        "\n",
        "Mengimpor modul SSL (ssl) yang digunakan untuk mengelola protokol keamanan dan sertifikat SSL.\n",
        "\n",
        "\n",
        "---\n",
        "\n",
        "\n",
        "Non-Secure SSL Certificate:\n",
        "\n",
        "Baris pertama (ssl._create_default_https_context = ssl._create_unverified_context) digunakan untuk mengatur konteks SSL default agar tidak memverifikasi sertifikat SSL.\n",
        "Ini dapat digunakan dalam situasi di mana sertifikat SSL tidak dapat diverifikasi atau di mana sertifikat SSL tidak dianggap sebagai kebutuhan yang kritis.\n",
        "\n",
        "\n",
        "---\n",
        "\n",
        "\n",
        "URL:\n",
        "\n",
        "Mendefinisikan variabel url yang berisi lokasi URL dari dataset Iris pada UCI Machine Learning Repository yang disediakan melalui protokol HTTPS.\n",
        "\n",
        "\n",
        "---\n",
        "\n"
      ],
      "metadata": {
        "id": "YJ3JSr04RNCZ"
      }
    },
    {
      "cell_type": "code",
      "source": [
        "names = ['sepal-length', 'sepal-width', 'petal-length', 'petal-width', 'class']\n",
        "dataset = pd.read_csv(url, names=names)"
      ],
      "metadata": {
        "id": "5_L2bdM7IRHy"
      },
      "execution_count": null,
      "outputs": []
    },
    {
      "cell_type": "markdown",
      "source": [
        "\n",
        "\n",
        "---\n",
        "\n",
        "\n",
        "Mendefinisikan Nama Kolom:\n",
        "\n",
        "names adalah sebuah list yang berisi nama-nama kolom untuk dataset. Kolom-kolom tersebut adalah 'sepal-length', 'sepal-width', 'petal-length', 'petal-width', dan 'class'.\n",
        "\n",
        "\n",
        "---\n",
        "\n",
        "\n",
        "Membaca Dataset dari URL:\n",
        "\n",
        "pd.read_csv(url, names=names): Menggunakan fungsi read_csv dari pandas (pd) untuk membaca dataset dari URL yang telah diberikan.\n",
        "url: Lokasi URL dari dataset Iris.\n",
        "names=names: Menentukan nama kolom untuk dataset, sesuai dengan yang telah didefinisikan sebelumnya dalam variabel names.\n",
        "\n",
        "\n",
        "---\n",
        "\n"
      ],
      "metadata": {
        "id": "NbCTXWTfRb7H"
      }
    },
    {
      "cell_type": "code",
      "source": [
        "array = dataset.values\n",
        "X = array[:,0:4]\n",
        "Y = array[:,4]\n",
        "validation_size = 0.20\n",
        "seed = 7\n",
        "X_train, X_validation, Y_train, Y_validation = model_selection.train_test_split(X, Y, test_size=validation_size, random_state=seed)"
      ],
      "metadata": {
        "id": "Ay-dlBWHIKRP"
      },
      "execution_count": null,
      "outputs": []
    },
    {
      "cell_type": "markdown",
      "source": [
        "\n",
        "\n",
        "---\n",
        "\n",
        "\n",
        "Mengonversi Dataset ke dalam Array:\n",
        "\n",
        "\n",
        "array = dataset.values\n",
        "\n",
        "Menggunakan metode values dari objek dataset untuk mengonversi dataset menjadi array NumPy. Setiap baris array akan mewakili satu entri dalam dataset, dan setiap kolom akan mewakili fitur atau label.\n",
        "\n",
        "\n",
        "---\n",
        "\n",
        "\n",
        "Pemisahan Fitur dan Label:\n",
        "\n",
        "\n",
        "X = array[:, 0:4]\n",
        "\n",
        "Y = array[:, 4]\n",
        "\n",
        "Memisahkan fitur (X) dan label (Y) dari array. X akan berisi kolom 0 hingga 3 (indeks 0-3), sedangkan Y akan berisi kolom ke-4 (indeks 4).\n",
        "\n",
        "\n",
        "---\n",
        "\n",
        "\n",
        "\n",
        "Pembagian Data Menjadi Data Pelatihan dan Data Validasi:\n",
        "\n",
        "\n",
        "validation_size = 0.20\n",
        "\n",
        "seed = 7\n",
        "\n",
        "X_train, X_validation, Y_train, Y_validation = model_selection.\n",
        "train_test_split(X, Y, test_size=validation_size, random_state=seed)\n",
        "\n",
        "* Menggunakan fungsi train_test_split dari modul model_selection untuk membagi dataset menjadi data pelatihan (X_train, Y_train) dan data validasi (X_validation, Y_validation).\n",
        "* Parameter test_size menentukan persentase data yang akan dialokasikan untuk data validasi (dalam hal ini, 20%).\n",
        "* random_state digunakan untuk memastikan hasil pembagian data dapat direproduksi dengan seed yang sama.\n",
        "\n",
        "\n",
        "---\n",
        "\n"
      ],
      "metadata": {
        "id": "BoCnfObMR1LF"
      }
    },
    {
      "cell_type": "code",
      "source": [
        "seed = 7\n",
        "scoring = 'accuracy'"
      ],
      "metadata": {
        "id": "zw0Pf-8iIHV-"
      },
      "execution_count": null,
      "outputs": []
    },
    {
      "cell_type": "code",
      "source": [
        "models = []\n",
        "models.append(('RFC', RandomForestClassifier()))\n",
        "models.append(('DTC', DecisionTreeClassifier()))\n",
        "models.append(('SGDC', SGDClassifier()))\n",
        "\n",
        "results = []\n",
        "names = []\n",
        "for name, model in models:\n",
        "  kfold = model_selection.KFold(n_splits=10, random_state=seed, shuffle=True)\n",
        "  cv_results = model_selection.cross_val_score(model, X_train, Y_train, cv=kfold, scoring=scoring)\n",
        "  results.append(cv_results)\n",
        "  names.append(name)\n",
        "  msg = \"%s: %f (%f)\" % (name, cv_results.mean(), cv_results.std())\n",
        "  print(msg)"
      ],
      "metadata": {
        "id": "85R3r6qIIESb",
        "outputId": "19e76fe3-4fde-4db2-ccb9-85019c044570",
        "colab": {
          "base_uri": "https://localhost:8080/"
        }
      },
      "execution_count": null,
      "outputs": [
        {
          "output_type": "stream",
          "name": "stdout",
          "text": [
            "RFC: 0.966667 (0.040825)\n",
            "DTC: 0.950000 (0.076376)\n",
            "SGDC: 0.916667 (0.149071)\n"
          ]
        }
      ]
    },
    {
      "cell_type": "markdown",
      "source": [
        "Kode tersebut membuat dan mengevaluasi tiga model klasifikasi berbeda (Random Forest Classifier, Decision Tree Classifier, dan Stochastic Gradient Descent Classifier) menggunakan validasi silang dengan 10 lipatan. Setiap model dinilai berdasarkan akurasi, dan hasilnya dicetak untuk dianalisis."
      ],
      "metadata": {
        "id": "cG-ZN1_CSwm7"
      }
    },
    {
      "cell_type": "code",
      "source": [
        "RFC = RandomForestClassifier()\n",
        "RFC.fit(X_train, Y_train)\n",
        "predictions = RFC.predict(X_validation)\n",
        "print(accuracy_score(Y_validation, predictions))\n",
        "print(confusion_matrix(Y_validation, predictions))\n",
        "print(classification_report(Y_validation, predictions))"
      ],
      "metadata": {
        "id": "q_CPNwiZIAic",
        "outputId": "31f709e9-ff4e-4cb9-8821-c4030eec57fc",
        "colab": {
          "base_uri": "https://localhost:8080/"
        }
      },
      "execution_count": null,
      "outputs": [
        {
          "output_type": "stream",
          "name": "stdout",
          "text": [
            "0.8666666666666667\n",
            "[[ 7  0  0]\n",
            " [ 0 10  2]\n",
            " [ 0  2  9]]\n",
            "                 precision    recall  f1-score   support\n",
            "\n",
            "    Iris-setosa       1.00      1.00      1.00         7\n",
            "Iris-versicolor       0.83      0.83      0.83        12\n",
            " Iris-virginica       0.82      0.82      0.82        11\n",
            "\n",
            "       accuracy                           0.87        30\n",
            "      macro avg       0.88      0.88      0.88        30\n",
            "   weighted avg       0.87      0.87      0.87        30\n",
            "\n"
          ]
        }
      ]
    },
    {
      "cell_type": "markdown",
      "source": [
        "1. Membuat objek RandomForestClassifier sebagai model klasifikasi.\n",
        "2. Melatih model menggunakan data pelatihan (X_train, Y_train) dengan metode fit.\n",
        "3. Membuat prediksi pada dataset validasi (X_validation), dan hasilnya disimpan dalam variabel predictions.\n",
        "4. Mencetak akurasi prediksi menggunakan accuracy_score.\n",
        "5. Mencetak matriks konfusi menggunakan confusion_matrix.\n",
        "6. Mencetak laporan klasifikasi yang mencakup metrik presisi, recall, dan F1-score untuk setiap kelas menggunakan classification_report.\n",
        "\n",
        ">Kode ini bertujuan untuk memberikan pemahaman tentang seberapa baik model Random Forest Classifier berkinerja pada dataset validasi dan memberikan informasi terperinci tentang kinerja model untuk setiap kelas dalam bentuk laporan klasifikasi."
      ],
      "metadata": {
        "id": "UN1HBXhvSpS0"
      }
    }
  ]
}