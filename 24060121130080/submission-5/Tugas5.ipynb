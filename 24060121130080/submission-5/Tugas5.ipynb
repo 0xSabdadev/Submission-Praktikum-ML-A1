{
  "nbformat": 4,
  "nbformat_minor": 0,
  "metadata": {
    "colab": {
      "provenance": []
    },
    "kernelspec": {
      "name": "python3",
      "display_name": "Python 3"
    },
    "language_info": {
      "name": "python"
    }
  },
  "cells": [
    {
      "cell_type": "markdown",
      "source": [
        "### Nama : Thifa Ziada Taqiyya\n",
        "### NIM : 24060121130080\n",
        "### Tugas 6 - Priciple Component Analysis\n",
        "### Nama Dataset : Thyroid Disease\n",
        "### Link Dataset : https://archive.ics.uci.edu/dataset/102/thyroid+disease\n"
      ],
      "metadata": {
        "id": "qfVqw64MA8x_"
      }
    },
    {
      "cell_type": "code",
      "execution_count": 17,
      "metadata": {
        "id": "8G2F078MAB6I"
      },
      "outputs": [],
      "source": [
        "import pandas as pd\n",
        "import numpy as np\n",
        "from matplotlib import pyplot as plt\n",
        "from sklearn.preprocessing import StandardScaler\n",
        "from sklearn.decomposition import PCA\n",
        "%matplotlib inline"
      ]
    },
    {
      "cell_type": "markdown",
      "source": [
        "Kode di atas mengimport beberapa library yang diperlukan, yaitu pandas (sebagai pd), numpy (sebagai np), matplotlib.pyplot (sebagai plt), serta modul preprocessing dan decomposition dari scikit-learn untuk standarisasi data dan analisis komponen utama (PCA) secara berurutan. Pernyataan %matplotlib inline digunakan untuk memastikan bahwa plot hasil visualisasi akan ditampilkan secara langsung di notebook."
      ],
      "metadata": {
        "id": "VjpS4IqNONV4"
      }
    },
    {
      "cell_type": "code",
      "source": [
        "url = \"https://archive.ics.uci.edu/ml/machine-learning-databases/thyroid-disease/new-thyroid.data\"\n",
        "names = ['class', 't3_resin', 'total_thyroxin', 'total_t3', 'basal_tsh', 'diff_tshvalue']\n",
        "dataset = pd.read_csv(url, names=names)"
      ],
      "metadata": {
        "id": "UfxSNa_0A7qX"
      },
      "execution_count": 3,
      "outputs": []
    },
    {
      "cell_type": "markdown",
      "source": [
        "Kode di atas menggunakan library pandas untuk mengambil dataset thyroid disease. Dataset ini berisi informasi mengenai beberapa parameter klinis terkait tiroid, seperti t3_resin, total_thyroxin, total_t3, basal_tsh, dan diff_tshvalue. Setelah mengambil dataset, kode tersebut membaca dan memuatnya ke dalam struktur data DataFrame menggunakan fungsi read_csv dari pandas. Nama-nama kolom dataset ditentukan oleh list 'names', yaitu 'class', 't3_resin', 'total_thyroxin', 'total_t3', 'basal_tsh', dan 'diff_tshvalue'.\n",
        "\n",
        "\n",
        "\n",
        "\n"
      ],
      "metadata": {
        "id": "3WiKNWeKOdhE"
      }
    },
    {
      "cell_type": "code",
      "source": [
        "print(dataset.shape)\n",
        "print(dataset[:10])\n",
        "print(np.unique(dataset['class']))"
      ],
      "metadata": {
        "colab": {
          "base_uri": "https://localhost:8080/"
        },
        "id": "BLDsXF3wFbp1",
        "outputId": "91a5619b-33a2-4ef2-c559-19e277cdd33d"
      },
      "execution_count": 18,
      "outputs": [
        {
          "output_type": "stream",
          "name": "stdout",
          "text": [
            "(215, 6)\n",
            "   class  t3_resin  total_thyroxin  total_t3  basal_tsh  diff_tshvalue\n",
            "0      1       107            10.1       2.2        0.9            2.7\n",
            "1      1       113             9.9       3.1        2.0            5.9\n",
            "2      1       127            12.9       2.4        1.4            0.6\n",
            "3      1       109             5.3       1.6        1.4            1.5\n",
            "4      1       105             7.3       1.5        1.5           -0.1\n",
            "5      1       105             6.1       2.1        1.4            7.0\n",
            "6      1       110            10.4       1.6        1.6            2.7\n",
            "7      1       114             9.9       2.4        1.5            5.7\n",
            "8      1       106             9.4       2.2        1.5            0.0\n",
            "9      1       107            13.0       1.1        0.9            3.1\n",
            "[1 2 3]\n"
          ]
        }
      ]
    },
    {
      "cell_type": "markdown",
      "source": [
        "\n",
        "Hasil output pertama menunjukkan bentuk (shape) dari dataset, yaitu (215, 6), yang berarti terdapat 215 baris dan 6 kolom dalam dataset tersebut. Output kedua mencetak sepuluh baris pertama dari dataset, memberikan gambaran awal mengenai nilai-nilai dalam setiap kolom. Kolom 'class' menyatakan kategori penyakit tiroid, sedangkan kolom-kolom lainnya seperti 't3_resin', 'total_thyroxin', 'total_t3', 'basal_tsh', dan 'diff_tshvalue' menyajikan informasi klinis terkait tiroid.\n",
        "\n",
        "Selanjutnya, output ketiga menampilkan nilai unik dalam kolom 'class', yang berisi angka 1, 2, dan 3. Angka-angka tersebut mungkin merepresentasikan kategori-kategori tertentu terkait jenis penyakit tiroid pada dataset ini. Dengan informasi ini, pengguna dapat memahami struktur dasar dari dataset dan memulai analisis lebih lanjut untuk memahami hubungan antara variabel-variabel dalam konteks penyakit tiroid."
      ],
      "metadata": {
        "id": "HRz3oSLAO5Ou"
      }
    },
    {
      "cell_type": "markdown",
      "source": [
        "#### Standarisasi Data"
      ],
      "metadata": {
        "id": "hQCwbblsJOpo"
      }
    },
    {
      "cell_type": "code",
      "source": [
        "features = ['t3_resin', 'total_thyroxin', 'total_t3', 'basal_tsh', 'diff_tshvalue']\n",
        "x = dataset.loc[:, features].values\n",
        "y = dataset.loc[:,['class']].values\n",
        "x = StandardScaler().fit_transform(x)"
      ],
      "metadata": {
        "id": "0XKsx3xuBpHb"
      },
      "execution_count": 5,
      "outputs": []
    },
    {
      "cell_type": "markdown",
      "source": [
        "Kode di atas bertujuan untuk menyiapkan data untuk proses analisis lebih lanjut. Dalam langkah pertama, variabel features didefinisikan sebagai daftar yang berisi nama-nama kolom yang akan digunakan sebagai fitur dalam analisis, yaitu 't3_resin', 'total_thyroxin', 'total_t3', 'basal_tsh', dan 'diff_tshvalue'. Selanjutnya, variabel x dibentuk dengan mengambil nilai-nilai dari kolom-kolom fitur tersebut dalam DataFrame dataset. Demi konsistensi dan interpretasi yang lebih baik, nilai-nilai fitur tersebut kemudian di-standarisasi menggunakan fungsi StandardScaler dari scikit-learn.\n",
        "\n",
        "Di samping itu, variabel y dibentuk dengan mengambil nilai dari kolom 'class' sebagai target atau variabel respons dalam analisis. Proses ini merupakan langkah awal yang umum dalam pemrosesan data sebelum menerapkan model pembelajaran mesin atau melakukan analisis statistik. Standarisasi fitur-fitur dapat membantu memastikan bahwa variabilitas dalam skala tidak memengaruhi hasil analisis secara tidak seimbang.\n",
        "\n",
        "Setelah sudah dilakukan standarisasi maka data sudah siap untuk diolah dengan algoritma PCA. proses PCA selanjutnya biasanya melibatkan perhitungan matriks kovarian, ekstraksi nilai eigen, dan proyeksi data ke ruang dimensi yang lebih rendah menggunakan komponen utama yang dihasilkan"
      ],
      "metadata": {
        "id": "Wls2mNE_KB-6"
      }
    },
    {
      "cell_type": "code",
      "source": [
        "print(x.shape)\n",
        "print(y.shape)\n",
        "print(x[:10])\n",
        "print(y[:10])"
      ],
      "metadata": {
        "colab": {
          "base_uri": "https://localhost:8080/"
        },
        "id": "RvrcyXjhJlhc",
        "outputId": "98c2e503-1a67-4944-ef29-eb82adf6f235"
      },
      "execution_count": 19,
      "outputs": [
        {
          "output_type": "stream",
          "name": "stdout",
          "text": [
            "(215, 5)\n",
            "(215, 1)\n",
            "[[-0.19789404  0.0630222   0.10575442 -0.32438883 -0.18617988]\n",
            " [ 0.25960294  0.02034575  0.74126623 -0.14417281  0.21125033]\n",
            " [ 1.32709588  0.6604925   0.24697927 -0.24247246 -0.44699346]\n",
            " [-0.04539505 -0.9612126  -0.31792012 -0.24247246 -0.33521621]\n",
            " [-0.35039303 -0.5344481  -0.38853255 -0.22608918 -0.53393132]\n",
            " [-0.35039303 -0.7905068   0.035142   -0.24247246  0.34786697]\n",
            " [ 0.03085445  0.12703687 -0.31792012 -0.20970591 -0.18617988]\n",
            " [ 0.33585243  0.02034575  0.24697927 -0.22608918  0.18641094]\n",
            " [-0.27414354 -0.08634538  0.10575442 -0.22608918 -0.52151162]\n",
            " [-0.19789404  0.68183073 -0.67098224 -0.32438883 -0.1365011 ]]\n",
            "[[1]\n",
            " [1]\n",
            " [1]\n",
            " [1]\n",
            " [1]\n",
            " [1]\n",
            " [1]\n",
            " [1]\n",
            " [1]\n",
            " [1]]\n"
          ]
        }
      ]
    },
    {
      "cell_type": "markdown",
      "source": [
        "#### Proyeksi PCA ke 2D\n",
        "Diketahui bahwa data asli memiliki 5 kolom (t3_resin, total_thyroxin, total_t3, basal_tsh, diff_tshvalue). Pada bagian ini kode memproyeksikan data asli yang 5 dimensi menjadi 2 dimensi"
      ],
      "metadata": {
        "id": "63FSorOYJkv8"
      }
    },
    {
      "cell_type": "code",
      "source": [
        "pca = PCA(n_components=2)\n",
        "principalComponents = pca.fit_transform(x)\n",
        "principalDf = pd.DataFrame(data = principalComponents\n",
        "              , columns = ['principal component 1', 'principal component 2'])"
      ],
      "metadata": {
        "id": "6IJxGiTYDdXA"
      },
      "execution_count": 29,
      "outputs": []
    },
    {
      "cell_type": "markdown",
      "source": [
        "Kode di atas mengimplementasikan analisis komponen utama (PCA) pada matriks fitur x yang telah di-standarisasi. Pertama, objek PCA dengan parameter n_components=2 dibuat, yang mengindikasikan bahwa analisis komponen utama akan menghasilkan dua komponen utama sebagai representasi baru dari data. Selanjutnya, fungsi fit_transform dari objek PCA digunakan untuk mentransformasikan matriks fitur x ke dalam ruang berdimensi lebih rendah, yang kemudian disimpan dalam variabel principalComponents.\n",
        "\n",
        "Hasil transformasi ini disusun dalam suatu DataFrame baru, principalDf, yang memiliki dua kolom, 'principal component 1' dan 'principal component 2'. DataFrame ini dapat digunakan untuk visualisasi data dalam ruang berdimensi dua, di mana setiap baris merepresentasikan suatu observasi dalam bentuk dua komponen utama tersebut. Proses PCA membantu mereduksi dimensi data, menggambarkan variasi yang signifikan dalam dataset, dan memfasilitasi interpretasi visual yang lebih sederhana dalam analisis data."
      ],
      "metadata": {
        "id": "esrf44wnQFH3"
      }
    },
    {
      "cell_type": "code",
      "source": [
        "finalDf = pd.concat([principalDf, dataset[['class']]], axis = 1)"
      ],
      "metadata": {
        "id": "p0FupHNNEWCs"
      },
      "execution_count": 30,
      "outputs": []
    },
    {
      "cell_type": "code",
      "source": [
        "finalDf.head()"
      ],
      "metadata": {
        "colab": {
          "base_uri": "https://localhost:8080/",
          "height": 206
        },
        "id": "mDHUsZz3GZwJ",
        "outputId": "1b938d89-9bd9-4ac8-e360-dc1cca3888a4"
      },
      "execution_count": 31,
      "outputs": [
        {
          "output_type": "execute_result",
          "data": {
            "text/plain": [
              "   principal component 1  principal component 2  class\n",
              "0              -0.369771              -0.174168      1\n",
              "1              -0.222660               0.323880      1\n",
              "2              -0.145453              -0.538760      1\n",
              "3               0.411900              -0.643836      1\n",
              "4               0.015772              -0.620086      1"
            ],
            "text/html": [
              "\n",
              "  <div id=\"df-f7fae064-ae6c-4f25-a763-7ced5befd9c5\" class=\"colab-df-container\">\n",
              "    <div>\n",
              "<style scoped>\n",
              "    .dataframe tbody tr th:only-of-type {\n",
              "        vertical-align: middle;\n",
              "    }\n",
              "\n",
              "    .dataframe tbody tr th {\n",
              "        vertical-align: top;\n",
              "    }\n",
              "\n",
              "    .dataframe thead th {\n",
              "        text-align: right;\n",
              "    }\n",
              "</style>\n",
              "<table border=\"1\" class=\"dataframe\">\n",
              "  <thead>\n",
              "    <tr style=\"text-align: right;\">\n",
              "      <th></th>\n",
              "      <th>principal component 1</th>\n",
              "      <th>principal component 2</th>\n",
              "      <th>class</th>\n",
              "    </tr>\n",
              "  </thead>\n",
              "  <tbody>\n",
              "    <tr>\n",
              "      <th>0</th>\n",
              "      <td>-0.369771</td>\n",
              "      <td>-0.174168</td>\n",
              "      <td>1</td>\n",
              "    </tr>\n",
              "    <tr>\n",
              "      <th>1</th>\n",
              "      <td>-0.222660</td>\n",
              "      <td>0.323880</td>\n",
              "      <td>1</td>\n",
              "    </tr>\n",
              "    <tr>\n",
              "      <th>2</th>\n",
              "      <td>-0.145453</td>\n",
              "      <td>-0.538760</td>\n",
              "      <td>1</td>\n",
              "    </tr>\n",
              "    <tr>\n",
              "      <th>3</th>\n",
              "      <td>0.411900</td>\n",
              "      <td>-0.643836</td>\n",
              "      <td>1</td>\n",
              "    </tr>\n",
              "    <tr>\n",
              "      <th>4</th>\n",
              "      <td>0.015772</td>\n",
              "      <td>-0.620086</td>\n",
              "      <td>1</td>\n",
              "    </tr>\n",
              "  </tbody>\n",
              "</table>\n",
              "</div>\n",
              "    <div class=\"colab-df-buttons\">\n",
              "\n",
              "  <div class=\"colab-df-container\">\n",
              "    <button class=\"colab-df-convert\" onclick=\"convertToInteractive('df-f7fae064-ae6c-4f25-a763-7ced5befd9c5')\"\n",
              "            title=\"Convert this dataframe to an interactive table.\"\n",
              "            style=\"display:none;\">\n",
              "\n",
              "  <svg xmlns=\"http://www.w3.org/2000/svg\" height=\"24px\" viewBox=\"0 -960 960 960\">\n",
              "    <path d=\"M120-120v-720h720v720H120Zm60-500h600v-160H180v160Zm220 220h160v-160H400v160Zm0 220h160v-160H400v160ZM180-400h160v-160H180v160Zm440 0h160v-160H620v160ZM180-180h160v-160H180v160Zm440 0h160v-160H620v160Z\"/>\n",
              "  </svg>\n",
              "    </button>\n",
              "\n",
              "  <style>\n",
              "    .colab-df-container {\n",
              "      display:flex;\n",
              "      gap: 12px;\n",
              "    }\n",
              "\n",
              "    .colab-df-convert {\n",
              "      background-color: #E8F0FE;\n",
              "      border: none;\n",
              "      border-radius: 50%;\n",
              "      cursor: pointer;\n",
              "      display: none;\n",
              "      fill: #1967D2;\n",
              "      height: 32px;\n",
              "      padding: 0 0 0 0;\n",
              "      width: 32px;\n",
              "    }\n",
              "\n",
              "    .colab-df-convert:hover {\n",
              "      background-color: #E2EBFA;\n",
              "      box-shadow: 0px 1px 2px rgba(60, 64, 67, 0.3), 0px 1px 3px 1px rgba(60, 64, 67, 0.15);\n",
              "      fill: #174EA6;\n",
              "    }\n",
              "\n",
              "    .colab-df-buttons div {\n",
              "      margin-bottom: 4px;\n",
              "    }\n",
              "\n",
              "    [theme=dark] .colab-df-convert {\n",
              "      background-color: #3B4455;\n",
              "      fill: #D2E3FC;\n",
              "    }\n",
              "\n",
              "    [theme=dark] .colab-df-convert:hover {\n",
              "      background-color: #434B5C;\n",
              "      box-shadow: 0px 1px 3px 1px rgba(0, 0, 0, 0.15);\n",
              "      filter: drop-shadow(0px 1px 2px rgba(0, 0, 0, 0.3));\n",
              "      fill: #FFFFFF;\n",
              "    }\n",
              "  </style>\n",
              "\n",
              "    <script>\n",
              "      const buttonEl =\n",
              "        document.querySelector('#df-f7fae064-ae6c-4f25-a763-7ced5befd9c5 button.colab-df-convert');\n",
              "      buttonEl.style.display =\n",
              "        google.colab.kernel.accessAllowed ? 'block' : 'none';\n",
              "\n",
              "      async function convertToInteractive(key) {\n",
              "        const element = document.querySelector('#df-f7fae064-ae6c-4f25-a763-7ced5befd9c5');\n",
              "        const dataTable =\n",
              "          await google.colab.kernel.invokeFunction('convertToInteractive',\n",
              "                                                    [key], {});\n",
              "        if (!dataTable) return;\n",
              "\n",
              "        const docLinkHtml = 'Like what you see? Visit the ' +\n",
              "          '<a target=\"_blank\" href=https://colab.research.google.com/notebooks/data_table.ipynb>data table notebook</a>'\n",
              "          + ' to learn more about interactive tables.';\n",
              "        element.innerHTML = '';\n",
              "        dataTable['output_type'] = 'display_data';\n",
              "        await google.colab.output.renderOutput(dataTable, element);\n",
              "        const docLink = document.createElement('div');\n",
              "        docLink.innerHTML = docLinkHtml;\n",
              "        element.appendChild(docLink);\n",
              "      }\n",
              "    </script>\n",
              "  </div>\n",
              "\n",
              "\n",
              "<div id=\"df-6d553450-e977-42b6-af36-d6609c9fd833\">\n",
              "  <button class=\"colab-df-quickchart\" onclick=\"quickchart('df-6d553450-e977-42b6-af36-d6609c9fd833')\"\n",
              "            title=\"Suggest charts\"\n",
              "            style=\"display:none;\">\n",
              "\n",
              "<svg xmlns=\"http://www.w3.org/2000/svg\" height=\"24px\"viewBox=\"0 0 24 24\"\n",
              "     width=\"24px\">\n",
              "    <g>\n",
              "        <path d=\"M19 3H5c-1.1 0-2 .9-2 2v14c0 1.1.9 2 2 2h14c1.1 0 2-.9 2-2V5c0-1.1-.9-2-2-2zM9 17H7v-7h2v7zm4 0h-2V7h2v10zm4 0h-2v-4h2v4z\"/>\n",
              "    </g>\n",
              "</svg>\n",
              "  </button>\n",
              "\n",
              "<style>\n",
              "  .colab-df-quickchart {\n",
              "      --bg-color: #E8F0FE;\n",
              "      --fill-color: #1967D2;\n",
              "      --hover-bg-color: #E2EBFA;\n",
              "      --hover-fill-color: #174EA6;\n",
              "      --disabled-fill-color: #AAA;\n",
              "      --disabled-bg-color: #DDD;\n",
              "  }\n",
              "\n",
              "  [theme=dark] .colab-df-quickchart {\n",
              "      --bg-color: #3B4455;\n",
              "      --fill-color: #D2E3FC;\n",
              "      --hover-bg-color: #434B5C;\n",
              "      --hover-fill-color: #FFFFFF;\n",
              "      --disabled-bg-color: #3B4455;\n",
              "      --disabled-fill-color: #666;\n",
              "  }\n",
              "\n",
              "  .colab-df-quickchart {\n",
              "    background-color: var(--bg-color);\n",
              "    border: none;\n",
              "    border-radius: 50%;\n",
              "    cursor: pointer;\n",
              "    display: none;\n",
              "    fill: var(--fill-color);\n",
              "    height: 32px;\n",
              "    padding: 0;\n",
              "    width: 32px;\n",
              "  }\n",
              "\n",
              "  .colab-df-quickchart:hover {\n",
              "    background-color: var(--hover-bg-color);\n",
              "    box-shadow: 0 1px 2px rgba(60, 64, 67, 0.3), 0 1px 3px 1px rgba(60, 64, 67, 0.15);\n",
              "    fill: var(--button-hover-fill-color);\n",
              "  }\n",
              "\n",
              "  .colab-df-quickchart-complete:disabled,\n",
              "  .colab-df-quickchart-complete:disabled:hover {\n",
              "    background-color: var(--disabled-bg-color);\n",
              "    fill: var(--disabled-fill-color);\n",
              "    box-shadow: none;\n",
              "  }\n",
              "\n",
              "  .colab-df-spinner {\n",
              "    border: 2px solid var(--fill-color);\n",
              "    border-color: transparent;\n",
              "    border-bottom-color: var(--fill-color);\n",
              "    animation:\n",
              "      spin 1s steps(1) infinite;\n",
              "  }\n",
              "\n",
              "  @keyframes spin {\n",
              "    0% {\n",
              "      border-color: transparent;\n",
              "      border-bottom-color: var(--fill-color);\n",
              "      border-left-color: var(--fill-color);\n",
              "    }\n",
              "    20% {\n",
              "      border-color: transparent;\n",
              "      border-left-color: var(--fill-color);\n",
              "      border-top-color: var(--fill-color);\n",
              "    }\n",
              "    30% {\n",
              "      border-color: transparent;\n",
              "      border-left-color: var(--fill-color);\n",
              "      border-top-color: var(--fill-color);\n",
              "      border-right-color: var(--fill-color);\n",
              "    }\n",
              "    40% {\n",
              "      border-color: transparent;\n",
              "      border-right-color: var(--fill-color);\n",
              "      border-top-color: var(--fill-color);\n",
              "    }\n",
              "    60% {\n",
              "      border-color: transparent;\n",
              "      border-right-color: var(--fill-color);\n",
              "    }\n",
              "    80% {\n",
              "      border-color: transparent;\n",
              "      border-right-color: var(--fill-color);\n",
              "      border-bottom-color: var(--fill-color);\n",
              "    }\n",
              "    90% {\n",
              "      border-color: transparent;\n",
              "      border-bottom-color: var(--fill-color);\n",
              "    }\n",
              "  }\n",
              "</style>\n",
              "\n",
              "  <script>\n",
              "    async function quickchart(key) {\n",
              "      const quickchartButtonEl =\n",
              "        document.querySelector('#' + key + ' button');\n",
              "      quickchartButtonEl.disabled = true;  // To prevent multiple clicks.\n",
              "      quickchartButtonEl.classList.add('colab-df-spinner');\n",
              "      try {\n",
              "        const charts = await google.colab.kernel.invokeFunction(\n",
              "            'suggestCharts', [key], {});\n",
              "      } catch (error) {\n",
              "        console.error('Error during call to suggestCharts:', error);\n",
              "      }\n",
              "      quickchartButtonEl.classList.remove('colab-df-spinner');\n",
              "      quickchartButtonEl.classList.add('colab-df-quickchart-complete');\n",
              "    }\n",
              "    (() => {\n",
              "      let quickchartButtonEl =\n",
              "        document.querySelector('#df-6d553450-e977-42b6-af36-d6609c9fd833 button');\n",
              "      quickchartButtonEl.style.display =\n",
              "        google.colab.kernel.accessAllowed ? 'block' : 'none';\n",
              "    })();\n",
              "  </script>\n",
              "</div>\n",
              "    </div>\n",
              "  </div>\n"
            ]
          },
          "metadata": {},
          "execution_count": 31
        }
      ]
    },
    {
      "cell_type": "markdown",
      "source": [
        "Kode di atas membuat DataFrame baru yang disebut finalDf dengan menggabungkan hasil transformasi PCA (principalDf) dan kolom 'class' dari DataFrame asli (dataset). Fungsi pd.concat digunakan untuk menggabungkan dua DataFrame, yaitu principalDf yang berisi dua komponen utama hasil PCA, dan kolom 'class' dari DataFrame asli yang berisi kategori penyakit tiroid.\n",
        "\n",
        "Dengan parameter axis=1, penggabungan dilakukan secara horizontal (sepanjang kolom). Hasilnya, DataFrame finalDf terdiri dari tiga kolom: 'principal component 1', 'principal component 2', dan 'class'. DataFrame ini dapat digunakan untuk melakukan visualisasi atau analisis lebih lanjut, dengan mengintegrasikan informasi hasil PCA dengan label kategori penyakit tiroid untuk setiap observasi dalam dataset. Proses ini membantu pemahaman visual terhadap distribusi dan pola data dalam ruang berdimensi dua berdasarkan dua komponen utama."
      ],
      "metadata": {
        "id": "B3VjcL-1QSmC"
      }
    },
    {
      "cell_type": "code",
      "source": [
        "fig = plt.figure(figsize = (8,8))\n",
        "ax = fig.add_subplot (1,1,1)\n",
        "ax.set_xlabel ('Principal Component 1', fontsize = 15)\n",
        "ax.set_ylabel ('Principal Component 2', fontsize = 15)\n",
        "ax.set_title('2 component PCA', fontsize = 20)\n",
        "targets = [ 1, 2, 3]\n",
        "colors = ['r','g','b']\n",
        "for target, color in zip(targets,colors):\n",
        "  indicesToKeep = finalDf['class'] == target\n",
        "  ax.scatter(finalDf.loc[indicesToKeep, 'principal component 1']\n",
        "  , finalDf.loc[indicesToKeep, 'principal component 2']\n",
        "  , c= color\n",
        "  , s = 50)\n",
        "ax.legend (targets)\n",
        "ax.grid()"
      ],
      "metadata": {
        "colab": {
          "base_uri": "https://localhost:8080/",
          "height": 732
        },
        "id": "YUpWOyW1CIhx",
        "outputId": "00e0cc0c-52b2-4d6e-9dd5-c08a433308c2"
      },
      "execution_count": 32,
      "outputs": [
        {
          "output_type": "display_data",
          "data": {
            "text/plain": [
              "<Figure size 800x800 with 1 Axes>"
            ],
            "image/png": "[encoded data removed]"
          },
          "metadata": {}
        }
      ]
    },
    {
      "cell_type": "markdown",
      "source": [
        "Kode di atas digunakan untuk membuat plot dua dimensi dari hasil transformasi PCA. Sebuah figure dengan ukuran 8x8 dibuat, dan sebuah subplot ditambahkan ke dalamnya. Label sumbu x dan y ditetapkan sebagai 'Principal Component 1' dan 'Principal Component 2', sedangkan judul plot diberi nama '2 component PCA'.\n",
        "\n",
        "Selanjutnya, dilakukan penggambaran titik-titik pada plot untuk setiap kategori penyakit tiroid (1, 2, dan 3) menggunakan warna merah, hijau, dan biru. Dalam loop, setiap kategori diberi label dan ditentukan dengan warna yang sesuai. Scatter plot digunakan untuk menunjukkan distribusi data hasil PCA dalam ruang dua dimensi.\n",
        "\n",
        "Pada akhirnya, legend ditambahkan ke plot untuk menandakan setiap kategori, dan grid ditampilkan untuk mempermudah interpretasi visual. Visualisasi ini memberikan gambaran bagaimana data terdistribusi dalam dua komponen utama hasil PCA, memungkinkan pemahaman yang lebih baik tentang pola dan hubungan antar-observasi dalam dataset penyakit tiroid."
      ],
      "metadata": {
        "id": "lETdkcx6Qx1Y"
      }
    },
    {
      "cell_type": "code",
      "source": [
        "print(pca.explained_variance_ratio_)\n",
        "print(sum(pca.explained_variance_ratio_))\n"
      ],
      "metadata": {
        "colab": {
          "base_uri": "https://localhost:8080/"
        },
        "id": "UC0ytzeaFEhv",
        "outputId": "54b951c7-2a41-4a09-c2b3-3deda27a9b99"
      },
      "execution_count": 33,
      "outputs": [
        {
          "output_type": "stream",
          "name": "stdout",
          "text": [
            "[0.53607135 0.20542603]\n",
            "0.7414973811834986\n"
          ]
        }
      ]
    },
    {
      "cell_type": "markdown",
      "source": [
        "Kode tersebut mencetak nilai rasio varians yang dijelaskan oleh setiap pca. Dalam kasus ini, komponen utama pertama (Principal Component 1) mampu menjelaskan sekitar 53.61% varians dalam data, sementara komponen utama kedua (Principal Component 2) menjelaskan sekitar 20.54% varians. Oleh karena itu, kedua komponen ini bersama-sama dapat menjelaskan sekitar 74.15% varians dalam total dataset."
      ],
      "metadata": {
        "id": "24e0aKwVMG0w"
      }
    },
    {
      "cell_type": "markdown",
      "source": [
        "Kesimpulan : Keseluruhan, informasi ini memberikan gambaran sejauh mana komponen-komponen utama hasil PCA mampu merangkum variasi dalam data asli. Semakin tinggi nilai rasio varians, semakin besar kontribusi komponen utama terhadap menjelaskan struktur data yang ada. Dalam konteks ini, sekitar 74.15% varians dapat dijelaskan oleh dua komponen utama, memberikan representasi yang relatif baik terhadap dataset penyakit tiroid."
      ],
      "metadata": {
        "id": "FMzc-Ci7RbZD"
      }
    }
  ]
}