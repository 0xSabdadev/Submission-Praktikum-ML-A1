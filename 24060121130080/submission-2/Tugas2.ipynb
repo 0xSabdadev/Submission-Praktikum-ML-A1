{
  "cells": [
    {
      "cell_type": "markdown",
      "source": [
        "## Nama : Thifa Ziada Taqiyya\n",
        "## NIM  : 24060121130080\n",
        "## LAB ML A1"
      ],
      "metadata": {
        "id": "CWUr8Vpux3OV"
      }
    },
    {
      "cell_type": "markdown",
      "source": [
        "Judul Dataset : Thyroid Diseases\n",
        "\n",
        "Link : https://archive.ics.uci.edu/dataset/102/thyroid+disease"
      ],
      "metadata": {
        "id": "L99TFrL0JGs0"
      }
    },
    {
      "cell_type": "markdown",
      "source": [
        "# Pertemuan 1 - Introduction to Machine Learning and Google Colab"
      ],
      "metadata": {
        "id": "J9krHixEykQ1"
      }
    },
    {
      "cell_type": "markdown",
      "metadata": {
        "id": "Bw_hNSQq-1Yp"
      },
      "source": [
        "### Import Libraries"
      ]
    },
    {
      "cell_type": "code",
      "execution_count": 1,
      "metadata": {
        "id": "Y04SKw3sO1wi"
      },
      "outputs": [],
      "source": [
        "import pandas as pd"
      ]
    },
    {
      "cell_type": "code",
      "execution_count": 2,
      "metadata": {
        "id": "IT6Tp7m-95Ow"
      },
      "outputs": [],
      "source": [
        "url = \"https://archive.ics.uci.edu/ml/machine-learning-databases/thyroid-disease/new-thyroid.data\"\n",
        "names = ['class', 't3_resin', 'total_thyroxin', 'total_t3', 'basal_tsh', 'diff_tshvalue']\n",
        "dataset = pd.read_csv(url, names=names)\n"
      ]
    },
    {
      "cell_type": "markdown",
      "source": [
        "### Melakukan Summary Dataset"
      ],
      "metadata": {
        "id": "3cgE4JHFJZ4I"
      }
    },
    {
      "cell_type": "markdown",
      "source": [
        "#### Menentukan Dimensi dari Dataset"
      ],
      "metadata": {
        "id": "PK7DpvQkLNip"
      }
    },
    {
      "cell_type": "code",
      "source": [
        "print(dataset.shape)"
      ],
      "metadata": {
        "colab": {
          "base_uri": "https://localhost:8080/"
        },
        "id": "X82MZbMJInL8",
        "outputId": "a2f519e7-baeb-4153-e9d3-9d36623a90e2"
      },
      "execution_count": null,
      "outputs": [
        {
          "output_type": "stream",
          "name": "stdout",
          "text": [
            "(215, 6)\n"
          ]
        }
      ]
    },
    {
      "cell_type": "markdown",
      "source": [
        "Dataset tersebut  terdiri dari 215 sampel data dan 6 atribut data"
      ],
      "metadata": {
        "id": "JeU0JYwqLYdD"
      }
    },
    {
      "cell_type": "markdown",
      "source": [
        "#### Melihat Isi Dataset"
      ],
      "metadata": {
        "id": "QwcFJ5OaLih4"
      }
    },
    {
      "cell_type": "code",
      "source": [
        "print(dataset.head(20))"
      ],
      "metadata": {
        "colab": {
          "base_uri": "https://localhost:8080/"
        },
        "id": "Fl1Lqz5VLnGs",
        "outputId": "09c2103c-93b3-4b7e-cbd7-b74f8898060c"
      },
      "execution_count": null,
      "outputs": [
        {
          "output_type": "stream",
          "name": "stdout",
          "text": [
            "    class  t3_resin  total_thyroxin  total_t3  basal_tsh  diff_tshvalue\n",
            "0       1       107            10.1       2.2        0.9            2.7\n",
            "1       1       113             9.9       3.1        2.0            5.9\n",
            "2       1       127            12.9       2.4        1.4            0.6\n",
            "3       1       109             5.3       1.6        1.4            1.5\n",
            "4       1       105             7.3       1.5        1.5           -0.1\n",
            "5       1       105             6.1       2.1        1.4            7.0\n",
            "6       1       110            10.4       1.6        1.6            2.7\n",
            "7       1       114             9.9       2.4        1.5            5.7\n",
            "8       1       106             9.4       2.2        1.5            0.0\n",
            "9       1       107            13.0       1.1        0.9            3.1\n",
            "10      1       106             4.2       1.2        1.6            1.4\n",
            "11      1       110            11.3       2.3        0.9            3.3\n",
            "12      1       116             9.2       2.7        1.0            4.2\n",
            "13      1       112             8.1       1.9        3.7            2.0\n",
            "14      1       122             9.7       1.6        0.9            2.2\n",
            "15      1       109             8.4       2.1        1.1            3.6\n",
            "16      1       111             8.4       1.5        0.8            1.2\n",
            "17      1       114             6.7       1.5        1.0            3.5\n",
            "18      1       119            10.6       2.1        1.3            1.1\n",
            "19      1       115             7.1       1.3        1.3            2.0\n"
          ]
        }
      ]
    },
    {
      "cell_type": "markdown",
      "source": [
        "####Distribusi Kelas Data"
      ],
      "metadata": {
        "id": "mPRVUzRPLuFT"
      }
    },
    {
      "cell_type": "code",
      "source": [
        "print(dataset.groupby('class').size())"
      ],
      "metadata": {
        "colab": {
          "base_uri": "https://localhost:8080/"
        },
        "id": "PJkP1KphLxKG",
        "outputId": "daef845e-53db-4f8d-b579-31e480df4a32"
      },
      "execution_count": null,
      "outputs": [
        {
          "output_type": "stream",
          "name": "stdout",
          "text": [
            "class\n",
            "1    150\n",
            "2     35\n",
            "3     30\n",
            "dtype: int64\n"
          ]
        }
      ]
    },
    {
      "cell_type": "markdown",
      "source": [
        "Pada dataset ini terdapat tiga class dengan distribusi sebagai berikut:\n",
        "- class 1 (normal) dengan jumlah data 150\n",
        "- class 2 (hyper) dengan jumlah data 35\n",
        "- class 3 (hypo) dengan jumlah data 30"
      ],
      "metadata": {
        "id": "biq3ZPEyQ2ai"
      }
    },
    {
      "cell_type": "markdown",
      "source": [
        "#### Ringkasan Statistik"
      ],
      "metadata": {
        "id": "t9K0tgJ3MBTX"
      }
    },
    {
      "cell_type": "code",
      "source": [
        "print(dataset.describe())"
      ],
      "metadata": {
        "colab": {
          "base_uri": "https://localhost:8080/"
        },
        "id": "ixNQHTC7MFe4",
        "outputId": "7cdbe36a-691f-41e2-8c97-4962a638895b"
      },
      "execution_count": null,
      "outputs": [
        {
          "output_type": "stream",
          "name": "stdout",
          "text": [
            "            class    t3_resin  total_thyroxin    total_t3   basal_tsh  \\\n",
            "count  215.000000  215.000000      215.000000  215.000000  215.000000   \n",
            "mean     1.441860  109.595349        9.804651    2.050233    2.880000   \n",
            "std      0.726737   13.145447        4.697362    1.419486    6.118031   \n",
            "min      1.000000   65.000000        0.500000    0.200000    0.100000   \n",
            "25%      1.000000  103.000000        7.100000    1.350000    1.000000   \n",
            "50%      1.000000  110.000000        9.200000    1.700000    1.300000   \n",
            "75%      2.000000  117.500000       11.300000    2.200000    1.700000   \n",
            "max      3.000000  144.000000       25.300000   10.000000   56.400000   \n",
            "\n",
            "       diff_tshvalue  \n",
            "count     215.000000  \n",
            "mean        4.199070  \n",
            "std         8.070519  \n",
            "min        -0.700000  \n",
            "25%         0.550000  \n",
            "50%         2.000000  \n",
            "75%         4.100000  \n",
            "max        56.300000  \n"
          ]
        }
      ]
    },
    {
      "cell_type": "markdown",
      "source": [
        "ringkasan statistik menunjukkan statistik tiap atribut pada dataset yang meliputi jumlah data, rata-rata, standar deviasi, nilai minimum, kuartil 1, median, kuartil 3, dan nilai maksimum"
      ],
      "metadata": {
        "id": "p9_9MzdJSi1o"
      }
    },
    {
      "cell_type": "markdown",
      "source": [
        "#### Visualisasi Data Menggunakan Plot Univariat"
      ],
      "metadata": {
        "id": "ET-gxHamMLkv"
      }
    },
    {
      "cell_type": "code",
      "source": [
        "import matplotlib.pyplot as plt\n",
        "\n",
        "# Membuat box plot untuk setiap atribut\n",
        "dataset.plot(kind='box', subplots=True, layout=(2,4), sharex=False, sharey=False)\n",
        "plt.show()"
      ],
      "metadata": {
        "colab": {
          "base_uri": "https://localhost:8080/",
          "height": 430
        },
        "id": "8BF0NikGMR3x",
        "outputId": "f2f87b53-cf75-4a86-f8d5-6d919b263db6"
      },
      "execution_count": null,
      "outputs": [
        {
          "output_type": "display_data",
          "data": {
            "text/plain": [
              "<Figure size 640x480 with 8 Axes>"
            ],
            "image/png": "[encoded data removed]"
          },
          "metadata": {}
        }
      ]
    },
    {
      "cell_type": "markdown",
      "source": [
        "Box Plot merupakan salah satu bentuk untuk memvisualisasikan sebuah dataset. Box plot menunjukkan distribusi data berupa nilai median, kuartil 1, kuartil 3, IQR dan outlier.\n",
        "Berdasarkan pada boxplot di atas, diperoleh bahwa:\n",
        "- pada atribut class distribusi data kebanyakan berada pada nilai 1-2\n",
        "- pada atribut t3_resin menunjukkan median, q1 dan q3 berada pada nilai kisaran 100-120. pada atribut ini ditemukan pula beberapa outlier.\n",
        "- pada atribut total_thyroxin nilai median berada pada kisaran nilai 9 an, sedangkan q1 dan q3 nya berada pada kisaran 7-11 an, disini juga terdapat outlier\n",
        "- pada atribut total_t3 nilai median berada pada kisaran nilai 1-2 an, serta q1 dan q3 nya berada pada kisaran 1-2 an juga, IQR yang dihasilkan pad atribut ini memiliki panjang yang tidak besar artinya distribusi data memiliki variasi yang rendah, selain itu disini juga terdapat outlier.\n",
        "- pada atribut basal_tsh nilai median berada pada kisaran nilai 0-2 an, serta q1 dan q3 nya berada pada kisaran 0-2 an juga, IQR yang dihasilkan pada atribut ini memiliki panjang yang tidak besar yang artinya distribusi data memiliki variasi yang rendah, selain itu disini juga terdapat outlier.\n",
        "- pada atribut diff_tshvalue nilai median berada pada kisaran nilai 0-4 an, serta q1 dan q3 nya berada pada kisaran 0-4 an juga, IQR yang dihasilkan pada atribut ini memiliki panjang yang tidak besar yang artinya distribusi data memiliki variasi yang rendah, selain itu disini juga terdapat outlier.\n"
      ],
      "metadata": {
        "id": "FhFU_X4oS88b"
      }
    },
    {
      "cell_type": "code",
      "source": [
        "# membuat histogram untuk setiap atribut\n",
        "dataset.hist(figsize=(12,10))\n",
        "plt.show()"
      ],
      "metadata": {
        "colab": {
          "base_uri": "https://localhost:8080/",
          "height": 853
        },
        "id": "-GoBBr1_Mv-3",
        "outputId": "7ec458b9-ac27-48b0-b7c7-f8bc2c85e821"
      },
      "execution_count": null,
      "outputs": [
        {
          "output_type": "display_data",
          "data": {
            "text/plain": [
              "<Figure size 1200x1000 with 6 Axes>"
            ],
            "image/png": "[encoded data removed]"
          },
          "metadata": {}
        }
      ]
    },
    {
      "cell_type": "markdown",
      "source": [
        "Histogram di atas menunjukkan distribusi data tiap atribut data, histogram merupakan visualisasi distribusi nilai dan frekuensi. pada histogram diatas diperoleh bahwa:\n",
        "- pada atribut kelas diperoleh bahwa sebaran data terbanyak yaitu pada class 1 yang memiliki frekuensi sebesar 150\n",
        "- pada atribut t3_resin distribusi data yang dihasilkan cukup variatif dengan frekuensi yang tidak jauh berbeda antar satu sama lain, pada t3_resin nilai pada kisaran 110 memiliki frekuensi yang terbanyak yaitu sekitar 60an.\n",
        "- pada atribut total_thyroxin distribusi data yang dihasilkan cukup variatif dengan frekuensi yang tidak jauh berbeda antar satu sama lain, pada total_thyroxin nilai pada rentang 8-10 memiliki frekuensi yang terbanyak yaitu sekitar 60an.\n",
        "- pada atribut total_t3 distribusi data pada rentang 1-2 memiliki frekuensi yang lebih besar dibandingkan data lainnya yaitu sekitar 120an data\n",
        "- pada atribut basal_tsh diperoleh bahwa distribusi data kebanyakan pada rentang 0-5 dengan jumlah data sekitar 180 an.\n",
        "- pada atribut diff_tshvalue diperoleh bahwa sebaran data terbanyak yaitu pada nilai 0-5 dengan jumlah data 150an lebih"
      ],
      "metadata": {
        "id": "Dr29KYtNceVB"
      }
    },
    {
      "cell_type": "markdown",
      "source": [
        "#### Visualisasi Data Menggunakan Plot Multivariat"
      ],
      "metadata": {
        "id": "Sb2KLza8MpUn"
      }
    },
    {
      "cell_type": "code",
      "source": [
        "import pandas\n",
        "from pandas.plotting import scatter_matrix\n",
        "scatter_matrix(dataset)\n",
        "plt.show()"
      ],
      "metadata": {
        "colab": {
          "base_uri": "https://localhost:8080/",
          "height": 459
        },
        "id": "wS2W0plJM0dW",
        "outputId": "2bb7cf44-243a-4d83-8090-dc44802c1dfe"
      },
      "execution_count": null,
      "outputs": [
        {
          "output_type": "display_data",
          "data": {
            "text/plain": [
              "<Figure size 640x480 with 36 Axes>"
            ],
            "image/png": "[encoded data removed]"
          },
          "metadata": {}
        }
      ]
    },
    {
      "cell_type": "markdown",
      "source": [
        "scatter matrix merupakan salah satu visualisasi dataset dengan plot multivariat, yang artinya pada plot ini menunjukkan hubungan antar dua variabel, sehingga pada scatter matrix diatasd diperoleh:\n",
        "- pada atribut total_t3 dan total_thyroxin menunjukkan hubungan positif dimana peningkatan total_t3 akan memengaruhi peningkatan pada total_thyroxin.\n",
        "- pada atribut total_thyroxin dan t3_resin menunjukkan hubungan negatif dimana peningkatan pada total_thyroxin akan menghasilkan penurunan pada t3_resin\n"
      ],
      "metadata": {
        "id": "0m21X5uegux-"
      }
    },
    {
      "cell_type": "markdown",
      "source": [
        "# Pertemuan 2 - Evaluasi Algoritma (Thyroid Diseases)"
      ],
      "metadata": {
        "id": "W2RStFSFyDmp"
      }
    },
    {
      "cell_type": "code",
      "source": [
        "# import libraries dan dataset\n",
        "import pandas as pd\n",
        "url = \"https://archive.ics.uci.edu/ml/machine-learning-databases/thyroid-disease/new-thyroid.data\"\n",
        "names = ['class', 't3_resin', 'total_thyroxin', 'total_t3', 'basal_tsh', 'diff_tshvalue']\n",
        "dataset = pd.read_csv(url, names=names)"
      ],
      "metadata": {
        "id": "9ak6CIuGHtfk"
      },
      "execution_count": 19,
      "outputs": []
    },
    {
      "cell_type": "code",
      "source": [
        "dataset.head(5)"
      ],
      "metadata": {
        "colab": {
          "base_uri": "https://localhost:8080/",
          "height": 206
        },
        "id": "bUz90wb10khf",
        "outputId": "1f0c67cc-1637-4b24-f4e0-f30adad8fc91"
      },
      "execution_count": 3,
      "outputs": [
        {
          "output_type": "execute_result",
          "data": {
            "text/plain": [
              "   class  t3_resin  total_thyroxin  total_t3  basal_tsh  diff_tshvalue\n",
              "0      1       107            10.1       2.2        0.9            2.7\n",
              "1      1       113             9.9       3.1        2.0            5.9\n",
              "2      1       127            12.9       2.4        1.4            0.6\n",
              "3      1       109             5.3       1.6        1.4            1.5\n",
              "4      1       105             7.3       1.5        1.5           -0.1"
            ],
            "text/html": [
              "\n",
              "  <div id=\"df-1e4bef92-2bcf-408e-a6e3-5bdf7197aa5e\" class=\"colab-df-container\">\n",
              "    <div>\n",
              "<style scoped>\n",
              "    .dataframe tbody tr th:only-of-type {\n",
              "        vertical-align: middle;\n",
              "    }\n",
              "\n",
              "    .dataframe tbody tr th {\n",
              "        vertical-align: top;\n",
              "    }\n",
              "\n",
              "    .dataframe thead th {\n",
              "        text-align: right;\n",
              "    }\n",
              "</style>\n",
              "<table border=\"1\" class=\"dataframe\">\n",
              "  <thead>\n",
              "    <tr style=\"text-align: right;\">\n",
              "      <th></th>\n",
              "      <th>class</th>\n",
              "      <th>t3_resin</th>\n",
              "      <th>total_thyroxin</th>\n",
              "      <th>total_t3</th>\n",
              "      <th>basal_tsh</th>\n",
              "      <th>diff_tshvalue</th>\n",
              "    </tr>\n",
              "  </thead>\n",
              "  <tbody>\n",
              "    <tr>\n",
              "      <th>0</th>\n",
              "      <td>1</td>\n",
              "      <td>107</td>\n",
              "      <td>10.1</td>\n",
              "      <td>2.2</td>\n",
              "      <td>0.9</td>\n",
              "      <td>2.7</td>\n",
              "    </tr>\n",
              "    <tr>\n",
              "      <th>1</th>\n",
              "      <td>1</td>\n",
              "      <td>113</td>\n",
              "      <td>9.9</td>\n",
              "      <td>3.1</td>\n",
              "      <td>2.0</td>\n",
              "      <td>5.9</td>\n",
              "    </tr>\n",
              "    <tr>\n",
              "      <th>2</th>\n",
              "      <td>1</td>\n",
              "      <td>127</td>\n",
              "      <td>12.9</td>\n",
              "      <td>2.4</td>\n",
              "      <td>1.4</td>\n",
              "      <td>0.6</td>\n",
              "    </tr>\n",
              "    <tr>\n",
              "      <th>3</th>\n",
              "      <td>1</td>\n",
              "      <td>109</td>\n",
              "      <td>5.3</td>\n",
              "      <td>1.6</td>\n",
              "      <td>1.4</td>\n",
              "      <td>1.5</td>\n",
              "    </tr>\n",
              "    <tr>\n",
              "      <th>4</th>\n",
              "      <td>1</td>\n",
              "      <td>105</td>\n",
              "      <td>7.3</td>\n",
              "      <td>1.5</td>\n",
              "      <td>1.5</td>\n",
              "      <td>-0.1</td>\n",
              "    </tr>\n",
              "  </tbody>\n",
              "</table>\n",
              "</div>\n",
              "    <div class=\"colab-df-buttons\">\n",
              "\n",
              "  <div class=\"colab-df-container\">\n",
              "    <button class=\"colab-df-convert\" onclick=\"convertToInteractive('df-1e4bef92-2bcf-408e-a6e3-5bdf7197aa5e')\"\n",
              "            title=\"Convert this dataframe to an interactive table.\"\n",
              "            style=\"display:none;\">\n",
              "\n",
              "  <svg xmlns=\"http://www.w3.org/2000/svg\" height=\"24px\" viewBox=\"0 -960 960 960\">\n",
              "    <path d=\"M120-120v-720h720v720H120Zm60-500h600v-160H180v160Zm220 220h160v-160H400v160Zm0 220h160v-160H400v160ZM180-400h160v-160H180v160Zm440 0h160v-160H620v160ZM180-180h160v-160H180v160Zm440 0h160v-160H620v160Z\"/>\n",
              "  </svg>\n",
              "    </button>\n",
              "\n",
              "  <style>\n",
              "    .colab-df-container {\n",
              "      display:flex;\n",
              "      gap: 12px;\n",
              "    }\n",
              "\n",
              "    .colab-df-convert {\n",
              "      background-color: #E8F0FE;\n",
              "      border: none;\n",
              "      border-radius: 50%;\n",
              "      cursor: pointer;\n",
              "      display: none;\n",
              "      fill: #1967D2;\n",
              "      height: 32px;\n",
              "      padding: 0 0 0 0;\n",
              "      width: 32px;\n",
              "    }\n",
              "\n",
              "    .colab-df-convert:hover {\n",
              "      background-color: #E2EBFA;\n",
              "      box-shadow: 0px 1px 2px rgba(60, 64, 67, 0.3), 0px 1px 3px 1px rgba(60, 64, 67, 0.15);\n",
              "      fill: #174EA6;\n",
              "    }\n",
              "\n",
              "    .colab-df-buttons div {\n",
              "      margin-bottom: 4px;\n",
              "    }\n",
              "\n",
              "    [theme=dark] .colab-df-convert {\n",
              "      background-color: #3B4455;\n",
              "      fill: #D2E3FC;\n",
              "    }\n",
              "\n",
              "    [theme=dark] .colab-df-convert:hover {\n",
              "      background-color: #434B5C;\n",
              "      box-shadow: 0px 1px 3px 1px rgba(0, 0, 0, 0.15);\n",
              "      filter: drop-shadow(0px 1px 2px rgba(0, 0, 0, 0.3));\n",
              "      fill: #FFFFFF;\n",
              "    }\n",
              "  </style>\n",
              "\n",
              "    <script>\n",
              "      const buttonEl =\n",
              "        document.querySelector('#df-1e4bef92-2bcf-408e-a6e3-5bdf7197aa5e button.colab-df-convert');\n",
              "      buttonEl.style.display =\n",
              "        google.colab.kernel.accessAllowed ? 'block' : 'none';\n",
              "\n",
              "      async function convertToInteractive(key) {\n",
              "        const element = document.querySelector('#df-1e4bef92-2bcf-408e-a6e3-5bdf7197aa5e');\n",
              "        const dataTable =\n",
              "          await google.colab.kernel.invokeFunction('convertToInteractive',\n",
              "                                                    [key], {});\n",
              "        if (!dataTable) return;\n",
              "\n",
              "        const docLinkHtml = 'Like what you see? Visit the ' +\n",
              "          '<a target=\"_blank\" href=https://colab.research.google.com/notebooks/data_table.ipynb>data table notebook</a>'\n",
              "          + ' to learn more about interactive tables.';\n",
              "        element.innerHTML = '';\n",
              "        dataTable['output_type'] = 'display_data';\n",
              "        await google.colab.output.renderOutput(dataTable, element);\n",
              "        const docLink = document.createElement('div');\n",
              "        docLink.innerHTML = docLinkHtml;\n",
              "        element.appendChild(docLink);\n",
              "      }\n",
              "    </script>\n",
              "  </div>\n",
              "\n",
              "\n",
              "<div id=\"df-272d242b-c139-42a0-b924-9ddd4055d1c4\">\n",
              "  <button class=\"colab-df-quickchart\" onclick=\"quickchart('df-272d242b-c139-42a0-b924-9ddd4055d1c4')\"\n",
              "            title=\"Suggest charts\"\n",
              "            style=\"display:none;\">\n",
              "\n",
              "<svg xmlns=\"http://www.w3.org/2000/svg\" height=\"24px\"viewBox=\"0 0 24 24\"\n",
              "     width=\"24px\">\n",
              "    <g>\n",
              "        <path d=\"M19 3H5c-1.1 0-2 .9-2 2v14c0 1.1.9 2 2 2h14c1.1 0 2-.9 2-2V5c0-1.1-.9-2-2-2zM9 17H7v-7h2v7zm4 0h-2V7h2v10zm4 0h-2v-4h2v4z\"/>\n",
              "    </g>\n",
              "</svg>\n",
              "  </button>\n",
              "\n",
              "<style>\n",
              "  .colab-df-quickchart {\n",
              "      --bg-color: #E8F0FE;\n",
              "      --fill-color: #1967D2;\n",
              "      --hover-bg-color: #E2EBFA;\n",
              "      --hover-fill-color: #174EA6;\n",
              "      --disabled-fill-color: #AAA;\n",
              "      --disabled-bg-color: #DDD;\n",
              "  }\n",
              "\n",
              "  [theme=dark] .colab-df-quickchart {\n",
              "      --bg-color: #3B4455;\n",
              "      --fill-color: #D2E3FC;\n",
              "      --hover-bg-color: #434B5C;\n",
              "      --hover-fill-color: #FFFFFF;\n",
              "      --disabled-bg-color: #3B4455;\n",
              "      --disabled-fill-color: #666;\n",
              "  }\n",
              "\n",
              "  .colab-df-quickchart {\n",
              "    background-color: var(--bg-color);\n",
              "    border: none;\n",
              "    border-radius: 50%;\n",
              "    cursor: pointer;\n",
              "    display: none;\n",
              "    fill: var(--fill-color);\n",
              "    height: 32px;\n",
              "    padding: 0;\n",
              "    width: 32px;\n",
              "  }\n",
              "\n",
              "  .colab-df-quickchart:hover {\n",
              "    background-color: var(--hover-bg-color);\n",
              "    box-shadow: 0 1px 2px rgba(60, 64, 67, 0.3), 0 1px 3px 1px rgba(60, 64, 67, 0.15);\n",
              "    fill: var(--button-hover-fill-color);\n",
              "  }\n",
              "\n",
              "  .colab-df-quickchart-complete:disabled,\n",
              "  .colab-df-quickchart-complete:disabled:hover {\n",
              "    background-color: var(--disabled-bg-color);\n",
              "    fill: var(--disabled-fill-color);\n",
              "    box-shadow: none;\n",
              "  }\n",
              "\n",
              "  .colab-df-spinner {\n",
              "    border: 2px solid var(--fill-color);\n",
              "    border-color: transparent;\n",
              "    border-bottom-color: var(--fill-color);\n",
              "    animation:\n",
              "      spin 1s steps(1) infinite;\n",
              "  }\n",
              "\n",
              "  @keyframes spin {\n",
              "    0% {\n",
              "      border-color: transparent;\n",
              "      border-bottom-color: var(--fill-color);\n",
              "      border-left-color: var(--fill-color);\n",
              "    }\n",
              "    20% {\n",
              "      border-color: transparent;\n",
              "      border-left-color: var(--fill-color);\n",
              "      border-top-color: var(--fill-color);\n",
              "    }\n",
              "    30% {\n",
              "      border-color: transparent;\n",
              "      border-left-color: var(--fill-color);\n",
              "      border-top-color: var(--fill-color);\n",
              "      border-right-color: var(--fill-color);\n",
              "    }\n",
              "    40% {\n",
              "      border-color: transparent;\n",
              "      border-right-color: var(--fill-color);\n",
              "      border-top-color: var(--fill-color);\n",
              "    }\n",
              "    60% {\n",
              "      border-color: transparent;\n",
              "      border-right-color: var(--fill-color);\n",
              "    }\n",
              "    80% {\n",
              "      border-color: transparent;\n",
              "      border-right-color: var(--fill-color);\n",
              "      border-bottom-color: var(--fill-color);\n",
              "    }\n",
              "    90% {\n",
              "      border-color: transparent;\n",
              "      border-bottom-color: var(--fill-color);\n",
              "    }\n",
              "  }\n",
              "</style>\n",
              "\n",
              "  <script>\n",
              "    async function quickchart(key) {\n",
              "      const quickchartButtonEl =\n",
              "        document.querySelector('#' + key + ' button');\n",
              "      quickchartButtonEl.disabled = true;  // To prevent multiple clicks.\n",
              "      quickchartButtonEl.classList.add('colab-df-spinner');\n",
              "      try {\n",
              "        const charts = await google.colab.kernel.invokeFunction(\n",
              "            'suggestCharts', [key], {});\n",
              "      } catch (error) {\n",
              "        console.error('Error during call to suggestCharts:', error);\n",
              "      }\n",
              "      quickchartButtonEl.classList.remove('colab-df-spinner');\n",
              "      quickchartButtonEl.classList.add('colab-df-quickchart-complete');\n",
              "    }\n",
              "    (() => {\n",
              "      let quickchartButtonEl =\n",
              "        document.querySelector('#df-272d242b-c139-42a0-b924-9ddd4055d1c4 button');\n",
              "      quickchartButtonEl.style.display =\n",
              "        google.colab.kernel.accessAllowed ? 'block' : 'none';\n",
              "    })();\n",
              "  </script>\n",
              "</div>\n",
              "    </div>\n",
              "  </div>\n"
            ]
          },
          "metadata": {},
          "execution_count": 3
        }
      ]
    },
    {
      "cell_type": "code",
      "source": [
        "dataset.shape"
      ],
      "metadata": {
        "colab": {
          "base_uri": "https://localhost:8080/"
        },
        "id": "fUQO3AGo0spq",
        "outputId": "5961b2a6-f307-4f35-d125-43804a5a3531"
      },
      "execution_count": 4,
      "outputs": [
        {
          "output_type": "execute_result",
          "data": {
            "text/plain": [
              "(215, 6)"
            ]
          },
          "metadata": {},
          "execution_count": 4
        }
      ]
    },
    {
      "cell_type": "markdown",
      "source": [
        "### Train-Test Split"
      ],
      "metadata": {
        "id": "VBZEsqmD04iV"
      }
    },
    {
      "cell_type": "code",
      "source": [
        "# import library yang dibutuhkan\n",
        "from sklearn import model_selection"
      ],
      "metadata": {
        "id": "nXig-Bdh1NLH"
      },
      "execution_count": 6,
      "outputs": []
    },
    {
      "cell_type": "code",
      "source": [
        "# Split-out validation dataset\n",
        "array = dataset.values\n",
        "\n",
        "X = array[:,1:6]\n",
        "Y = array[:,0]\n",
        "\n",
        "validation_size = 0.20\n",
        "\n",
        "seed = 7\n",
        "\n",
        "X_train, X_validation, Y_train, Y_validation = model_selection.train_test_split(X, Y, test_size=validation_size, random_state=seed)"
      ],
      "metadata": {
        "id": "0bEB84uz1UBm"
      },
      "execution_count": 7,
      "outputs": []
    },
    {
      "cell_type": "markdown",
      "source": [
        "membagi data pelatihan dan data validasi berdasarkan parameter yang diatur\n",
        "X = 5 atribut masukan (t3_resin, total_thyroxin, total_t3, basal_tsh, diff_tshvalue)\n",
        "Y = atribut class (target)"
      ],
      "metadata": {
        "id": "4FV2FleS23MV"
      }
    },
    {
      "cell_type": "code",
      "source": [
        "print(\"X_train :\", X_train.shape)\n",
        "print(\"X_validation :\", X_validation.shape)\n",
        "print(\"Y_train :\", Y_train.shape)\n",
        "print(\"Y_validation :\", Y_validation.shape)"
      ],
      "metadata": {
        "colab": {
          "base_uri": "https://localhost:8080/"
        },
        "id": "HXS3xyAn3mmC",
        "outputId": "194aa344-bc44-45ce-d68e-7377eb5928c8"
      },
      "execution_count": 8,
      "outputs": [
        {
          "output_type": "stream",
          "name": "stdout",
          "text": [
            "X_train : (172, 5)\n",
            "X_validation : (43, 5)\n",
            "Y_train : (172,)\n",
            "Y_validation : (43,)\n"
          ]
        }
      ]
    },
    {
      "cell_type": "markdown",
      "source": [
        "Data training yang dihasilkan adalah 80% dari data keseluruhan yaitu sejumlah 172 data training.Sedangkan untuk data testingnya adalah 20% dari data keselurahan yaitu sejumlah 43 data testing."
      ],
      "metadata": {
        "id": "7cq9hfhn4DwD"
      }
    },
    {
      "cell_type": "markdown",
      "source": [
        "### K-Folds Cross Validation"
      ],
      "metadata": {
        "id": "1jwIbKkP4f4N"
      }
    },
    {
      "cell_type": "code",
      "source": [
        "# Test options and evaluation metric\n",
        "seed = 7\n",
        "\n",
        "scoring = 'accuracy'"
      ],
      "metadata": {
        "id": "yGtcuRdj4j2R"
      },
      "execution_count": 9,
      "outputs": []
    },
    {
      "cell_type": "markdown",
      "source": [
        "### Membangun Model"
      ],
      "metadata": {
        "id": "Oi-qrULy5JEV"
      }
    },
    {
      "cell_type": "code",
      "source": [
        "# Import Library berisi algoritma klasifikasi yang akan digunakan\n",
        "from sklearn.neighbors import KNeighborsClassifier\n",
        "from sklearn.naive_bayes import GaussianNB\n",
        "from sklearn.svm import SVC\n",
        "\n",
        "# Spot Check Algorithms\n",
        "models = []\n",
        "models.append(('KNN', KNeighborsClassifier()))\n",
        "models.append(('NB', GaussianNB()))\n",
        "models.append(('SVM', SVC()))\n",
        "\n"
      ],
      "metadata": {
        "id": "utWt5BNq5ZaY"
      },
      "execution_count": 11,
      "outputs": []
    },
    {
      "cell_type": "code",
      "source": [
        "# evaluate each model in turn\n",
        "results = []\n",
        "\n",
        "names = []\n",
        "\n",
        "for name, model in models:\n",
        "  kfold = model_selection.KFold(n_splits=10, random_state=seed, shuffle=True)\n",
        "  cv_results = model_selection.cross_val_score(model, X_train, Y_train, cv=kfold, scoring=scoring)\n",
        "  results.append(cv_results)\n",
        "  names.append(name)\n",
        "  msg = \"%s: %f (%f)\" % (name, cv_results.mean(), cv_results.std())\n",
        "  print(msg)"
      ],
      "metadata": {
        "colab": {
          "base_uri": "https://localhost:8080/"
        },
        "id": "iuC73pMV6Rqe",
        "outputId": "b49e3711-f8f3-47ab-beb2-be9f45d09192"
      },
      "execution_count": 12,
      "outputs": [
        {
          "output_type": "stream",
          "name": "stdout",
          "text": [
            "KNN: 0.906536 (0.075648)\n",
            "NB: 0.965033 (0.038834)\n",
            "SVM: 0.814706 (0.100259)\n"
          ]
        }
      ]
    },
    {
      "cell_type": "markdown",
      "source": [
        "Penjelasan :\n",
        "- result : menyimpan hasil evaluasi dari masing-masing model\n",
        "- names : menyimpan nama-nama model\n",
        "- k-fold : membagi data menjadi training dan validation memggunakan k-folds cross validation\n",
        "- cv_result : mengukur kinerja dari model dengan data latih x_train dan y_train menggunakan k-folds validation\n",
        "- result.append : menyimpan hasil akurasi setiap iterasi\n",
        "- msg : mengeluarkan pesan berisi nama model, rata-rata kinerja model, dan standar deviasi"
      ],
      "metadata": {
        "id": "XSYx9VdP6iqj"
      }
    },
    {
      "cell_type": "markdown",
      "source": [
        "### Memilih Model Terbaik"
      ],
      "metadata": {
        "id": "jmgRqPY18yKL"
      }
    },
    {
      "cell_type": "markdown",
      "source": [
        "Dari hasil evaluasi dari ketiga model di atas, maka diperoleh nilai akurasi tertinggi adalah Naive Bayes yaitu sebesar 0,965033"
      ],
      "metadata": {
        "id": "QOQhdabW8ZGR"
      }
    },
    {
      "cell_type": "code",
      "source": [
        "#import\n",
        "from sklearn.metrics import accuracy_score, confusion_matrix, classification_report"
      ],
      "metadata": {
        "id": "bIJBvuLS8d6r"
      },
      "execution_count": 17,
      "outputs": []
    },
    {
      "cell_type": "code",
      "source": [
        "# Make predictions on validation dataset\n",
        "nb_model = GaussianNB()\n",
        "\n",
        "nb_model.fit(X_train, Y_train)\n",
        "\n",
        "predictions = nb_model.predict(X_validation)\n",
        "\n",
        "print(accuracy_score(Y_validation, predictions))\n",
        "\n",
        "print(confusion_matrix(Y_validation, predictions))\n",
        "print(classification_report(Y_validation, predictions))"
      ],
      "metadata": {
        "colab": {
          "base_uri": "https://localhost:8080/"
        },
        "id": "SGDqeEXO9nqr",
        "outputId": "b3ad573f-c3b9-404e-cb2b-e097ba60481d"
      },
      "execution_count": 18,
      "outputs": [
        {
          "output_type": "stream",
          "name": "stdout",
          "text": [
            "0.9767441860465116\n",
            "[[32  0  0]\n",
            " [ 0  6  0]\n",
            " [ 1  0  4]]\n",
            "              precision    recall  f1-score   support\n",
            "\n",
            "         1.0       0.97      1.00      0.98        32\n",
            "         2.0       1.00      1.00      1.00         6\n",
            "         3.0       1.00      0.80      0.89         5\n",
            "\n",
            "    accuracy                           0.98        43\n",
            "   macro avg       0.99      0.93      0.96        43\n",
            "weighted avg       0.98      0.98      0.98        43\n",
            "\n"
          ]
        }
      ]
    },
    {
      "cell_type": "markdown",
      "source": [
        "Penjelasan :\n",
        "- accuracy_score : 0,976744\n",
        "\n",
        "- confusion_matrix : memberikan pandangan lebih rinci tentang performa model, dengan membandingkan prediksi dengan nilai sebenarnya untuk setiap kelas. Confusion matrix di atas menunjukkan bahwa dari 32 instance yang sebenarnya termasuk kelas 1.0, semuanya diprediksi dengan benar sebagai kelas 1.0 (tanpa false positives atau false negatives).\n",
        "Kemudian dari 6 instance yang sebenarnya termasuk kelas 2.0, semuanya diprediksi dengan benar sebagai kelas 2.0.\n",
        "Selanjutnya di baris ketiga menunjukkan bahwa dari 5 instance yang sebenarnya termasuk kelas 3.0, 1 diprediksi sebagai kelas 1.0 (false positive), dan 4 diprediksi dengan benar sebagai kelas 3.0.\n",
        "\n",
        "- Classification report : menyediakan matriks klasifikasi seperti presisi, recall, dan f1-score untuk setiap kelas. Presisi (precision) mengukur sejauh mana prediksi positif model benar, recall mengukur sejauh mana model dapat mendeteksi keseluruhan instance yang sebenarnya positif, dan f1-score adalah harmonic mean dari presisi dan recall.\n",
        "Secara keseluruhan, laporan ini memberikan wawasan lebih lanjut tentang seberapa baik model melakukan klasifikasi pada setiap kelas.\n"
      ],
      "metadata": {
        "id": "OQDwQIeuCwKv"
      }
    },
    {
      "cell_type": "markdown",
      "source": [
        "Kesimpulan:\n",
        "- Model Gaussian Naive Bayes memiliki kinerja yang baik pada dataset validasi, dengan akurasi sekitar 97.67%.\n",
        "- Dari matriks konfusi dan laporan klasifikasi, terlihat bahwa model memiliki kinerja yang baik dalam memprediksi kelas 1.0 dan 2.0, tetapi mungkin ada beberapa kesulitan dalam memprediksi kelas 3.0, seperti terlihat dari nilai recall yang lebih rendah untuk kelas tersebut."
      ],
      "metadata": {
        "id": "C9KRVCenF9gK"
      }
    },
    {
      "cell_type": "markdown",
      "source": [
        "# Pertemuan 2 - Evaluasi Algoritma (Iris)"
      ],
      "metadata": {
        "id": "5R8VjB7eHPyl"
      }
    },
    {
      "cell_type": "code",
      "source": [
        "# import libraries dan dataset\n",
        "import pandas as pd\n",
        "url = \"http://archive.ics.uci.edu/ml/machine-learning-databases/iris/iris.data\"\n",
        "\n",
        "names = ['sepal-length', 'sepal-width', 'petal-length', 'petal-width', 'class']\n",
        "\n",
        "dataset = pd.read_csv(url, names=names)"
      ],
      "metadata": {
        "id": "QbaN2gD5HVV1"
      },
      "execution_count": 21,
      "outputs": []
    },
    {
      "cell_type": "code",
      "source": [
        "dataset.head()"
      ],
      "metadata": {
        "colab": {
          "base_uri": "https://localhost:8080/",
          "height": 206
        },
        "id": "cCS9cxKVIlAi",
        "outputId": "711b9d9c-b82d-469c-c086-0102fefa8b55"
      },
      "execution_count": 22,
      "outputs": [
        {
          "output_type": "execute_result",
          "data": {
            "text/plain": [
              "   sepal-length  sepal-width  petal-length  petal-width        class\n",
              "0           5.1          3.5           1.4          0.2  Iris-setosa\n",
              "1           4.9          3.0           1.4          0.2  Iris-setosa\n",
              "2           4.7          3.2           1.3          0.2  Iris-setosa\n",
              "3           4.6          3.1           1.5          0.2  Iris-setosa\n",
              "4           5.0          3.6           1.4          0.2  Iris-setosa"
            ],
            "text/html": [
              "\n",
              "  <div id=\"df-b99ee0df-abfa-478e-92dd-9312d3661b4d\" class=\"colab-df-container\">\n",
              "    <div>\n",
              "<style scoped>\n",
              "    .dataframe tbody tr th:only-of-type {\n",
              "        vertical-align: middle;\n",
              "    }\n",
              "\n",
              "    .dataframe tbody tr th {\n",
              "        vertical-align: top;\n",
              "    }\n",
              "\n",
              "    .dataframe thead th {\n",
              "        text-align: right;\n",
              "    }\n",
              "</style>\n",
              "<table border=\"1\" class=\"dataframe\">\n",
              "  <thead>\n",
              "    <tr style=\"text-align: right;\">\n",
              "      <th></th>\n",
              "      <th>sepal-length</th>\n",
              "      <th>sepal-width</th>\n",
              "      <th>petal-length</th>\n",
              "      <th>petal-width</th>\n",
              "      <th>class</th>\n",
              "    </tr>\n",
              "  </thead>\n",
              "  <tbody>\n",
              "    <tr>\n",
              "      <th>0</th>\n",
              "      <td>5.1</td>\n",
              "      <td>3.5</td>\n",
              "      <td>1.4</td>\n",
              "      <td>0.2</td>\n",
              "      <td>Iris-setosa</td>\n",
              "    </tr>\n",
              "    <tr>\n",
              "      <th>1</th>\n",
              "      <td>4.9</td>\n",
              "      <td>3.0</td>\n",
              "      <td>1.4</td>\n",
              "      <td>0.2</td>\n",
              "      <td>Iris-setosa</td>\n",
              "    </tr>\n",
              "    <tr>\n",
              "      <th>2</th>\n",
              "      <td>4.7</td>\n",
              "      <td>3.2</td>\n",
              "      <td>1.3</td>\n",
              "      <td>0.2</td>\n",
              "      <td>Iris-setosa</td>\n",
              "    </tr>\n",
              "    <tr>\n",
              "      <th>3</th>\n",
              "      <td>4.6</td>\n",
              "      <td>3.1</td>\n",
              "      <td>1.5</td>\n",
              "      <td>0.2</td>\n",
              "      <td>Iris-setosa</td>\n",
              "    </tr>\n",
              "    <tr>\n",
              "      <th>4</th>\n",
              "      <td>5.0</td>\n",
              "      <td>3.6</td>\n",
              "      <td>1.4</td>\n",
              "      <td>0.2</td>\n",
              "      <td>Iris-setosa</td>\n",
              "    </tr>\n",
              "  </tbody>\n",
              "</table>\n",
              "</div>\n",
              "    <div class=\"colab-df-buttons\">\n",
              "\n",
              "  <div class=\"colab-df-container\">\n",
              "    <button class=\"colab-df-convert\" onclick=\"convertToInteractive('df-b99ee0df-abfa-478e-92dd-9312d3661b4d')\"\n",
              "            title=\"Convert this dataframe to an interactive table.\"\n",
              "            style=\"display:none;\">\n",
              "\n",
              "  <svg xmlns=\"http://www.w3.org/2000/svg\" height=\"24px\" viewBox=\"0 -960 960 960\">\n",
              "    <path d=\"M120-120v-720h720v720H120Zm60-500h600v-160H180v160Zm220 220h160v-160H400v160Zm0 220h160v-160H400v160ZM180-400h160v-160H180v160Zm440 0h160v-160H620v160ZM180-180h160v-160H180v160Zm440 0h160v-160H620v160Z\"/>\n",
              "  </svg>\n",
              "    </button>\n",
              "\n",
              "  <style>\n",
              "    .colab-df-container {\n",
              "      display:flex;\n",
              "      gap: 12px;\n",
              "    }\n",
              "\n",
              "    .colab-df-convert {\n",
              "      background-color: #E8F0FE;\n",
              "      border: none;\n",
              "      border-radius: 50%;\n",
              "      cursor: pointer;\n",
              "      display: none;\n",
              "      fill: #1967D2;\n",
              "      height: 32px;\n",
              "      padding: 0 0 0 0;\n",
              "      width: 32px;\n",
              "    }\n",
              "\n",
              "    .colab-df-convert:hover {\n",
              "      background-color: #E2EBFA;\n",
              "      box-shadow: 0px 1px 2px rgba(60, 64, 67, 0.3), 0px 1px 3px 1px rgba(60, 64, 67, 0.15);\n",
              "      fill: #174EA6;\n",
              "    }\n",
              "\n",
              "    .colab-df-buttons div {\n",
              "      margin-bottom: 4px;\n",
              "    }\n",
              "\n",
              "    [theme=dark] .colab-df-convert {\n",
              "      background-color: #3B4455;\n",
              "      fill: #D2E3FC;\n",
              "    }\n",
              "\n",
              "    [theme=dark] .colab-df-convert:hover {\n",
              "      background-color: #434B5C;\n",
              "      box-shadow: 0px 1px 3px 1px rgba(0, 0, 0, 0.15);\n",
              "      filter: drop-shadow(0px 1px 2px rgba(0, 0, 0, 0.3));\n",
              "      fill: #FFFFFF;\n",
              "    }\n",
              "  </style>\n",
              "\n",
              "    <script>\n",
              "      const buttonEl =\n",
              "        document.querySelector('#df-b99ee0df-abfa-478e-92dd-9312d3661b4d button.colab-df-convert');\n",
              "      buttonEl.style.display =\n",
              "        google.colab.kernel.accessAllowed ? 'block' : 'none';\n",
              "\n",
              "      async function convertToInteractive(key) {\n",
              "        const element = document.querySelector('#df-b99ee0df-abfa-478e-92dd-9312d3661b4d');\n",
              "        const dataTable =\n",
              "          await google.colab.kernel.invokeFunction('convertToInteractive',\n",
              "                                                    [key], {});\n",
              "        if (!dataTable) return;\n",
              "\n",
              "        const docLinkHtml = 'Like what you see? Visit the ' +\n",
              "          '<a target=\"_blank\" href=https://colab.research.google.com/notebooks/data_table.ipynb>data table notebook</a>'\n",
              "          + ' to learn more about interactive tables.';\n",
              "        element.innerHTML = '';\n",
              "        dataTable['output_type'] = 'display_data';\n",
              "        await google.colab.output.renderOutput(dataTable, element);\n",
              "        const docLink = document.createElement('div');\n",
              "        docLink.innerHTML = docLinkHtml;\n",
              "        element.appendChild(docLink);\n",
              "      }\n",
              "    </script>\n",
              "  </div>\n",
              "\n",
              "\n",
              "<div id=\"df-0842913d-7473-4938-bb4a-b34802bd5e70\">\n",
              "  <button class=\"colab-df-quickchart\" onclick=\"quickchart('df-0842913d-7473-4938-bb4a-b34802bd5e70')\"\n",
              "            title=\"Suggest charts\"\n",
              "            style=\"display:none;\">\n",
              "\n",
              "<svg xmlns=\"http://www.w3.org/2000/svg\" height=\"24px\"viewBox=\"0 0 24 24\"\n",
              "     width=\"24px\">\n",
              "    <g>\n",
              "        <path d=\"M19 3H5c-1.1 0-2 .9-2 2v14c0 1.1.9 2 2 2h14c1.1 0 2-.9 2-2V5c0-1.1-.9-2-2-2zM9 17H7v-7h2v7zm4 0h-2V7h2v10zm4 0h-2v-4h2v4z\"/>\n",
              "    </g>\n",
              "</svg>\n",
              "  </button>\n",
              "\n",
              "<style>\n",
              "  .colab-df-quickchart {\n",
              "      --bg-color: #E8F0FE;\n",
              "      --fill-color: #1967D2;\n",
              "      --hover-bg-color: #E2EBFA;\n",
              "      --hover-fill-color: #174EA6;\n",
              "      --disabled-fill-color: #AAA;\n",
              "      --disabled-bg-color: #DDD;\n",
              "  }\n",
              "\n",
              "  [theme=dark] .colab-df-quickchart {\n",
              "      --bg-color: #3B4455;\n",
              "      --fill-color: #D2E3FC;\n",
              "      --hover-bg-color: #434B5C;\n",
              "      --hover-fill-color: #FFFFFF;\n",
              "      --disabled-bg-color: #3B4455;\n",
              "      --disabled-fill-color: #666;\n",
              "  }\n",
              "\n",
              "  .colab-df-quickchart {\n",
              "    background-color: var(--bg-color);\n",
              "    border: none;\n",
              "    border-radius: 50%;\n",
              "    cursor: pointer;\n",
              "    display: none;\n",
              "    fill: var(--fill-color);\n",
              "    height: 32px;\n",
              "    padding: 0;\n",
              "    width: 32px;\n",
              "  }\n",
              "\n",
              "  .colab-df-quickchart:hover {\n",
              "    background-color: var(--hover-bg-color);\n",
              "    box-shadow: 0 1px 2px rgba(60, 64, 67, 0.3), 0 1px 3px 1px rgba(60, 64, 67, 0.15);\n",
              "    fill: var(--button-hover-fill-color);\n",
              "  }\n",
              "\n",
              "  .colab-df-quickchart-complete:disabled,\n",
              "  .colab-df-quickchart-complete:disabled:hover {\n",
              "    background-color: var(--disabled-bg-color);\n",
              "    fill: var(--disabled-fill-color);\n",
              "    box-shadow: none;\n",
              "  }\n",
              "\n",
              "  .colab-df-spinner {\n",
              "    border: 2px solid var(--fill-color);\n",
              "    border-color: transparent;\n",
              "    border-bottom-color: var(--fill-color);\n",
              "    animation:\n",
              "      spin 1s steps(1) infinite;\n",
              "  }\n",
              "\n",
              "  @keyframes spin {\n",
              "    0% {\n",
              "      border-color: transparent;\n",
              "      border-bottom-color: var(--fill-color);\n",
              "      border-left-color: var(--fill-color);\n",
              "    }\n",
              "    20% {\n",
              "      border-color: transparent;\n",
              "      border-left-color: var(--fill-color);\n",
              "      border-top-color: var(--fill-color);\n",
              "    }\n",
              "    30% {\n",
              "      border-color: transparent;\n",
              "      border-left-color: var(--fill-color);\n",
              "      border-top-color: var(--fill-color);\n",
              "      border-right-color: var(--fill-color);\n",
              "    }\n",
              "    40% {\n",
              "      border-color: transparent;\n",
              "      border-right-color: var(--fill-color);\n",
              "      border-top-color: var(--fill-color);\n",
              "    }\n",
              "    60% {\n",
              "      border-color: transparent;\n",
              "      border-right-color: var(--fill-color);\n",
              "    }\n",
              "    80% {\n",
              "      border-color: transparent;\n",
              "      border-right-color: var(--fill-color);\n",
              "      border-bottom-color: var(--fill-color);\n",
              "    }\n",
              "    90% {\n",
              "      border-color: transparent;\n",
              "      border-bottom-color: var(--fill-color);\n",
              "    }\n",
              "  }\n",
              "</style>\n",
              "\n",
              "  <script>\n",
              "    async function quickchart(key) {\n",
              "      const quickchartButtonEl =\n",
              "        document.querySelector('#' + key + ' button');\n",
              "      quickchartButtonEl.disabled = true;  // To prevent multiple clicks.\n",
              "      quickchartButtonEl.classList.add('colab-df-spinner');\n",
              "      try {\n",
              "        const charts = await google.colab.kernel.invokeFunction(\n",
              "            'suggestCharts', [key], {});\n",
              "      } catch (error) {\n",
              "        console.error('Error during call to suggestCharts:', error);\n",
              "      }\n",
              "      quickchartButtonEl.classList.remove('colab-df-spinner');\n",
              "      quickchartButtonEl.classList.add('colab-df-quickchart-complete');\n",
              "    }\n",
              "    (() => {\n",
              "      let quickchartButtonEl =\n",
              "        document.querySelector('#df-0842913d-7473-4938-bb4a-b34802bd5e70 button');\n",
              "      quickchartButtonEl.style.display =\n",
              "        google.colab.kernel.accessAllowed ? 'block' : 'none';\n",
              "    })();\n",
              "  </script>\n",
              "</div>\n",
              "    </div>\n",
              "  </div>\n"
            ]
          },
          "metadata": {},
          "execution_count": 22
        }
      ]
    },
    {
      "cell_type": "code",
      "source": [
        "dataset.shape"
      ],
      "metadata": {
        "colab": {
          "base_uri": "https://localhost:8080/"
        },
        "id": "YaqknrRcJJRq",
        "outputId": "fcd31196-4f20-4ced-9d66-84dbe365ad1c"
      },
      "execution_count": 24,
      "outputs": [
        {
          "output_type": "execute_result",
          "data": {
            "text/plain": [
              "(150, 5)"
            ]
          },
          "metadata": {},
          "execution_count": 24
        }
      ]
    },
    {
      "cell_type": "code",
      "source": [
        "# import library yang dibutuhkan\n",
        "from sklearn import model_selection"
      ],
      "metadata": {
        "id": "8HZ-CzC6JgUV"
      },
      "execution_count": 25,
      "outputs": []
    },
    {
      "cell_type": "code",
      "source": [
        "# Split-out validation dataset\n",
        "array = dataset.values\n",
        "\n",
        "X = array[:,0:4]\n",
        "Y = array[:,4]\n",
        "\n",
        "validation_size = 0.20\n",
        "\n",
        "seed = 7\n",
        "\n",
        "X_train, X_validation, Y_train, Y_validation = model_selection.train_test_split(X, Y, test_size=validation_size, random_state=seed)"
      ],
      "metadata": {
        "id": "R4UtuOHsJWlw"
      },
      "execution_count": 26,
      "outputs": []
    },
    {
      "cell_type": "code",
      "source": [
        "print(\"X_train :\", X_train.shape)\n",
        "print(\"X_validation :\", X_validation.shape)\n",
        "print(\"Y_train :\", Y_train.shape)\n",
        "print(\"Y_validation :\", Y_validation.shape)"
      ],
      "metadata": {
        "colab": {
          "base_uri": "https://localhost:8080/"
        },
        "id": "r9LgvFjIJ4ot",
        "outputId": "e75fc667-0f1a-438d-fd92-4c3b0dd5b718"
      },
      "execution_count": 27,
      "outputs": [
        {
          "output_type": "stream",
          "name": "stdout",
          "text": [
            "X_train : (120, 4)\n",
            "X_validation : (30, 4)\n",
            "Y_train : (120,)\n",
            "Y_validation : (30,)\n"
          ]
        }
      ]
    },
    {
      "cell_type": "code",
      "source": [
        "# Test options and evaluation metric\n",
        "seed = 7\n",
        "\n",
        "scoring = 'accuracy'"
      ],
      "metadata": {
        "id": "oVsv2iJbJ63W"
      },
      "execution_count": 28,
      "outputs": []
    },
    {
      "cell_type": "markdown",
      "source": [
        "### Membangun model"
      ],
      "metadata": {
        "id": "wu-dcye4KGAL"
      }
    },
    {
      "cell_type": "code",
      "source": [
        "# Import Library berisi algoritma klasifikasi yang akan digunakan\n",
        "from sklearn.tree import DecisionTreeClassifier\n",
        "from sklearn.gaussian_process import GaussianProcessClassifier\n",
        "from sklearn.ensemble import RandomForestClassifier\n",
        "\n",
        "# Spot Check Algorithms\n",
        "models = []\n",
        "models.append(('Decision Tree', DecisionTreeClassifier()))\n",
        "models.append(('Gaussian Process', GaussianProcessClassifier()))\n",
        "models.append(('Random Forest', RandomForestClassifier()))"
      ],
      "metadata": {
        "id": "mk50bWAkKCkR"
      },
      "execution_count": 29,
      "outputs": []
    },
    {
      "cell_type": "markdown",
      "source": [
        "Algoritma klasifikasi yang digunakan adalah Decision Tree, Gaussian Process, dan Random Forest"
      ],
      "metadata": {
        "id": "v5EGueXqKbhq"
      }
    },
    {
      "cell_type": "code",
      "source": [
        "# evaluate each model in turn\n",
        "results = []\n",
        "\n",
        "names = []\n",
        "\n",
        "for name, model in models:\n",
        "  kfold = model_selection.KFold(n_splits=10, random_state=seed, shuffle=True)\n",
        "  cv_results = model_selection.cross_val_score(model, X_train, Y_train, cv=kfold, scoring=scoring)\n",
        "  results.append(cv_results)\n",
        "  names.append(name)\n",
        "  msg = \"%s: %f (%f)\" % (name, cv_results.mean(), cv_results.std())\n",
        "  print(msg)"
      ],
      "metadata": {
        "colab": {
          "base_uri": "https://localhost:8080/"
        },
        "id": "TI88Fnv1Miiq",
        "outputId": "64b1b236-b634-43c3-dbaf-f4b32d38c4b3"
      },
      "execution_count": 30,
      "outputs": [
        {
          "output_type": "stream",
          "name": "stdout",
          "text": [
            "Decision Tree: 0.950000 (0.076376)\n",
            "Gaussian Process: 0.983333 (0.033333)\n",
            "Random Forest: 0.966667 (0.040825)\n"
          ]
        }
      ]
    },
    {
      "cell_type": "markdown",
      "source": [
        "### Memilih model terbaik"
      ],
      "metadata": {
        "id": "4r4TG4bDNAqa"
      }
    },
    {
      "cell_type": "markdown",
      "source": [
        "Dari hasil evaluasi dari ketiga model di atas, maka diperoleh nilai akurasi tertinggi adalah Gaussian Process yaitu sebesar 0.983333"
      ],
      "metadata": {
        "id": "fcKsEba1NDtv"
      }
    },
    {
      "cell_type": "code",
      "source": [
        "#import\n",
        "from sklearn.metrics import accuracy_score, confusion_matrix, classification_report"
      ],
      "metadata": {
        "id": "Trcv9HogN2Uh"
      },
      "execution_count": 31,
      "outputs": []
    },
    {
      "cell_type": "code",
      "source": [
        "# Make predictions on validation dataset\n",
        "gp_model = GaussianProcessClassifier()\n",
        "\n",
        "gp_model.fit(X_train, Y_train)\n",
        "\n",
        "predictions = gp_model.predict(X_validation)\n",
        "\n",
        "print(accuracy_score(Y_validation, predictions))\n",
        "\n",
        "print(confusion_matrix(Y_validation, predictions))\n",
        "print(classification_report(Y_validation, predictions))"
      ],
      "metadata": {
        "colab": {
          "base_uri": "https://localhost:8080/"
        },
        "id": "dKAoqCrhNDNf",
        "outputId": "8f6a6014-7ff0-4e3e-925b-84f92220f24d"
      },
      "execution_count": 32,
      "outputs": [
        {
          "output_type": "stream",
          "name": "stdout",
          "text": [
            "0.8666666666666667\n",
            "[[ 7  0  0]\n",
            " [ 0 10  2]\n",
            " [ 0  2  9]]\n",
            "                 precision    recall  f1-score   support\n",
            "\n",
            "    Iris-setosa       1.00      1.00      1.00         7\n",
            "Iris-versicolor       0.83      0.83      0.83        12\n",
            " Iris-virginica       0.82      0.82      0.82        11\n",
            "\n",
            "       accuracy                           0.87        30\n",
            "      macro avg       0.88      0.88      0.88        30\n",
            "   weighted avg       0.87      0.87      0.87        30\n",
            "\n"
          ]
        }
      ]
    },
    {
      "cell_type": "markdown",
      "source": [
        "Penjelasan :\n",
        "- akurasi model yang diperoleh adalah 0.8666666666666667 atau 86,67%\n",
        "- Confusion matrix di atas menunjukkan bahwa\n",
        "Kelas Iris-setosa memiliki semua prediksi yang benar. Kelas Iris-versicolor memiliki 10 prediksi yang benar, 2 false negatives, dan tidak ada false positives. Kelas Iris-virginica memiliki 9 prediksi yang benar, 2 false positives, dan tidak ada false negatives.\n",
        "- Classification report : menyediakan matriks klasifikasi seperti presisi, recall, dan f1-score untuk setiap kelas. Presisi (precision) mengukur sejauh mana prediksi positif model benar, recall mengukur sejauh mana model dapat mendeteksi keseluruhan instance yang sebenarnya positif, dan f1-score adalah harmonic mean dari presisi dan recall. Secara keseluruhan, laporan ini memberikan wawasan lebih lanjut tentang seberapa baik model melakukan klasifikasi pada setiap kelas."
      ],
      "metadata": {
        "id": "Wr2ctHV-OaOS"
      }
    },
    {
      "cell_type": "markdown",
      "source": [
        "Kesimpulan :\n",
        "- Model Gaussian Process Classifier memiliki akurasi sekitar 86.67% pada dataset validasi.\n",
        "- Kelas Iris-setosa memiliki presisi, recall, dan f1-score sempurna (1.00), menunjukkan kinerja yang sangat baik.\n",
        "- Kelas Iris-versicolor dan Iris-virginica memiliki skor yang sedikit lebih rendah, tetapi masih cukup baik.\n",
        "\n"
      ],
      "metadata": {
        "id": "vg0TxMMmPIII"
      }
    }
  ],
  "metadata": {
    "colab": {
      "provenance": []
    },
    "kernelspec": {
      "display_name": "Python 3",
      "name": "python3"
    },
    "language_info": {
      "name": "python"
    }
  },
  "nbformat": 4,
  "nbformat_minor": 0
}