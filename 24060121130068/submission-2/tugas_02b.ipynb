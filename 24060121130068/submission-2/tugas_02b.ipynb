{
  "nbformat": 4,
  "nbformat_minor": 0,
  "metadata": {
    "colab": {
      "provenance": []
    },
    "kernelspec": {
      "name": "python3",
      "display_name": "Python 3"
    },
    "language_info": {
      "name": "python"
    }
  },
  "cells": [
    {
      "cell_type": "markdown",
      "source": [
        "### **Nama : Mitslina**\n",
        "### **NIM : 24060121130068**\n",
        "### **2. Buatlah evaluasi algoritma dengan dataset yang telah dicoba pada tugas praktikum sebelumnya (dengan menggunakan 3 model yaitu KNN, NB dan SVM)**\n",
        "### **Data set : Dry Bean Dataset**"
      ],
      "metadata": {
        "id": "_kRHiwN8-VAJ"
      }
    },
    {
      "cell_type": "code",
      "execution_count": 1,
      "metadata": {
        "colab": {
          "base_uri": "https://localhost:8080/"
        },
        "id": "lwPgOk3zHNYd",
        "outputId": "1fbc8f7b-cfc6-492e-bbbf-f3282749f58f"
      },
      "outputs": [
        {
          "output_type": "stream",
          "name": "stdout",
          "text": [
            "Mounted at /content/gdrive\n"
          ]
        }
      ],
      "source": [
        "# import file gdrive lokal\n",
        "from google.colab import drive\n",
        "drive.mount('/content/gdrive')"
      ]
    },
    {
      "cell_type": "code",
      "source": [
        "# import library pandas\n",
        "import pandas as pd"
      ],
      "metadata": {
        "id": "Q2ARyo9PH7Ko"
      },
      "execution_count": 2,
      "outputs": []
    },
    {
      "cell_type": "code",
      "source": [
        "# menuliskan path gdrive lokal yang sesuai\n",
        "path = \"/content/gdrive/MyDrive/PrakPM/Dry_Bean_Dataset.xlsx\"\n",
        "# memberikan nama dari fitur (kolom) yang akan digunakan\n",
        "names = ['area', 'perimeter', 'majorAxisLength', 'minorAxisLength', 'aspectRation', 'eccentricity', 'convexArea', 'equivDiameter', 'extent', 'solidity', 'roundness', 'compactness', 'shapeFactor1', 'shapeFactor2', 'shapeFactor3', 'shapeFactor4', 'class']\n",
        "# memuat dataset excel sesuai variabel path dan names\n",
        "dataset = pd.read_excel(path, names=names)"
      ],
      "metadata": {
        "id": "HedbaMEHIBVI"
      },
      "execution_count": 3,
      "outputs": []
    },
    {
      "cell_type": "code",
      "source": [
        "# melihat isi dataset\n",
        "dataset.head(5)"
      ],
      "metadata": {
        "colab": {
          "base_uri": "https://localhost:8080/",
          "height": 226
        },
        "id": "lxrpMcWXIKiB",
        "outputId": "c7e6ecc5-aef2-48a1-fef8-83562c0c75db"
      },
      "execution_count": 4,
      "outputs": [
        {
          "output_type": "execute_result",
          "data": {
            "text/plain": [
              "    area  perimeter  majorAxisLength  minorAxisLength  aspectRation  \\\n",
              "0  28395    610.291       208.178117       173.888747      1.197191   \n",
              "1  28734    638.018       200.524796       182.734419      1.097356   \n",
              "2  29380    624.110       212.826130       175.931143      1.209713   \n",
              "3  30008    645.884       210.557999       182.516516      1.153638   \n",
              "4  30140    620.134       201.847882       190.279279      1.060798   \n",
              "\n",
              "   eccentricity  convexArea  equivDiameter    extent  solidity  roundness  \\\n",
              "0      0.549812       28715     190.141097  0.763923  0.988856   0.958027   \n",
              "1      0.411785       29172     191.272750  0.783968  0.984986   0.887034   \n",
              "2      0.562727       29690     193.410904  0.778113  0.989559   0.947849   \n",
              "3      0.498616       30724     195.467062  0.782681  0.976696   0.903936   \n",
              "4      0.333680       30417     195.896503  0.773098  0.990893   0.984877   \n",
              "\n",
              "   compactness  shapeFactor1  shapeFactor2  shapeFactor3  shapeFactor4  class  \n",
              "0     0.913358      0.007332      0.003147      0.834222      0.998724  SEKER  \n",
              "1     0.953861      0.006979      0.003564      0.909851      0.998430  SEKER  \n",
              "2     0.908774      0.007244      0.003048      0.825871      0.999066  SEKER  \n",
              "3     0.928329      0.007017      0.003215      0.861794      0.994199  SEKER  \n",
              "4     0.970516      0.006697      0.003665      0.941900      0.999166  SEKER  "
            ],
            "text/html": [
              "\n",
              "  <div id=\"df-89986288-30e8-4e79-aa7b-bb644b92d718\" class=\"colab-df-container\">\n",
              "    <div>\n",
              "<style scoped>\n",
              "    .dataframe tbody tr th:only-of-type {\n",
              "        vertical-align: middle;\n",
              "    }\n",
              "\n",
              "    .dataframe tbody tr th {\n",
              "        vertical-align: top;\n",
              "    }\n",
              "\n",
              "    .dataframe thead th {\n",
              "        text-align: right;\n",
              "    }\n",
              "</style>\n",
              "<table border=\"1\" class=\"dataframe\">\n",
              "  <thead>\n",
              "    <tr style=\"text-align: right;\">\n",
              "      <th></th>\n",
              "      <th>area</th>\n",
              "      <th>perimeter</th>\n",
              "      <th>majorAxisLength</th>\n",
              "      <th>minorAxisLength</th>\n",
              "      <th>aspectRation</th>\n",
              "      <th>eccentricity</th>\n",
              "      <th>convexArea</th>\n",
              "      <th>equivDiameter</th>\n",
              "      <th>extent</th>\n",
              "      <th>solidity</th>\n",
              "      <th>roundness</th>\n",
              "      <th>compactness</th>\n",
              "      <th>shapeFactor1</th>\n",
              "      <th>shapeFactor2</th>\n",
              "      <th>shapeFactor3</th>\n",
              "      <th>shapeFactor4</th>\n",
              "      <th>class</th>\n",
              "    </tr>\n",
              "  </thead>\n",
              "  <tbody>\n",
              "    <tr>\n",
              "      <th>0</th>\n",
              "      <td>28395</td>\n",
              "      <td>610.291</td>\n",
              "      <td>208.178117</td>\n",
              "      <td>173.888747</td>\n",
              "      <td>1.197191</td>\n",
              "      <td>0.549812</td>\n",
              "      <td>28715</td>\n",
              "      <td>190.141097</td>\n",
              "      <td>0.763923</td>\n",
              "      <td>0.988856</td>\n",
              "      <td>0.958027</td>\n",
              "      <td>0.913358</td>\n",
              "      <td>0.007332</td>\n",
              "      <td>0.003147</td>\n",
              "      <td>0.834222</td>\n",
              "      <td>0.998724</td>\n",
              "      <td>SEKER</td>\n",
              "    </tr>\n",
              "    <tr>\n",
              "      <th>1</th>\n",
              "      <td>28734</td>\n",
              "      <td>638.018</td>\n",
              "      <td>200.524796</td>\n",
              "      <td>182.734419</td>\n",
              "      <td>1.097356</td>\n",
              "      <td>0.411785</td>\n",
              "      <td>29172</td>\n",
              "      <td>191.272750</td>\n",
              "      <td>0.783968</td>\n",
              "      <td>0.984986</td>\n",
              "      <td>0.887034</td>\n",
              "      <td>0.953861</td>\n",
              "      <td>0.006979</td>\n",
              "      <td>0.003564</td>\n",
              "      <td>0.909851</td>\n",
              "      <td>0.998430</td>\n",
              "      <td>SEKER</td>\n",
              "    </tr>\n",
              "    <tr>\n",
              "      <th>2</th>\n",
              "      <td>29380</td>\n",
              "      <td>624.110</td>\n",
              "      <td>212.826130</td>\n",
              "      <td>175.931143</td>\n",
              "      <td>1.209713</td>\n",
              "      <td>0.562727</td>\n",
              "      <td>29690</td>\n",
              "      <td>193.410904</td>\n",
              "      <td>0.778113</td>\n",
              "      <td>0.989559</td>\n",
              "      <td>0.947849</td>\n",
              "      <td>0.908774</td>\n",
              "      <td>0.007244</td>\n",
              "      <td>0.003048</td>\n",
              "      <td>0.825871</td>\n",
              "      <td>0.999066</td>\n",
              "      <td>SEKER</td>\n",
              "    </tr>\n",
              "    <tr>\n",
              "      <th>3</th>\n",
              "      <td>30008</td>\n",
              "      <td>645.884</td>\n",
              "      <td>210.557999</td>\n",
              "      <td>182.516516</td>\n",
              "      <td>1.153638</td>\n",
              "      <td>0.498616</td>\n",
              "      <td>30724</td>\n",
              "      <td>195.467062</td>\n",
              "      <td>0.782681</td>\n",
              "      <td>0.976696</td>\n",
              "      <td>0.903936</td>\n",
              "      <td>0.928329</td>\n",
              "      <td>0.007017</td>\n",
              "      <td>0.003215</td>\n",
              "      <td>0.861794</td>\n",
              "      <td>0.994199</td>\n",
              "      <td>SEKER</td>\n",
              "    </tr>\n",
              "    <tr>\n",
              "      <th>4</th>\n",
              "      <td>30140</td>\n",
              "      <td>620.134</td>\n",
              "      <td>201.847882</td>\n",
              "      <td>190.279279</td>\n",
              "      <td>1.060798</td>\n",
              "      <td>0.333680</td>\n",
              "      <td>30417</td>\n",
              "      <td>195.896503</td>\n",
              "      <td>0.773098</td>\n",
              "      <td>0.990893</td>\n",
              "      <td>0.984877</td>\n",
              "      <td>0.970516</td>\n",
              "      <td>0.006697</td>\n",
              "      <td>0.003665</td>\n",
              "      <td>0.941900</td>\n",
              "      <td>0.999166</td>\n",
              "      <td>SEKER</td>\n",
              "    </tr>\n",
              "  </tbody>\n",
              "</table>\n",
              "</div>\n",
              "    <div class=\"colab-df-buttons\">\n",
              "\n",
              "  <div class=\"colab-df-container\">\n",
              "    <button class=\"colab-df-convert\" onclick=\"convertToInteractive('df-89986288-30e8-4e79-aa7b-bb644b92d718')\"\n",
              "            title=\"Convert this dataframe to an interactive table.\"\n",
              "            style=\"display:none;\">\n",
              "\n",
              "  <svg xmlns=\"http://www.w3.org/2000/svg\" height=\"24px\" viewBox=\"0 -960 960 960\">\n",
              "    <path d=\"M120-120v-720h720v720H120Zm60-500h600v-160H180v160Zm220 220h160v-160H400v160Zm0 220h160v-160H400v160ZM180-400h160v-160H180v160Zm440 0h160v-160H620v160ZM180-180h160v-160H180v160Zm440 0h160v-160H620v160Z\"/>\n",
              "  </svg>\n",
              "    </button>\n",
              "\n",
              "  <style>\n",
              "    .colab-df-container {\n",
              "      display:flex;\n",
              "      gap: 12px;\n",
              "    }\n",
              "\n",
              "    .colab-df-convert {\n",
              "      background-color: #E8F0FE;\n",
              "      border: none;\n",
              "      border-radius: 50%;\n",
              "      cursor: pointer;\n",
              "      display: none;\n",
              "      fill: #1967D2;\n",
              "      height: 32px;\n",
              "      padding: 0 0 0 0;\n",
              "      width: 32px;\n",
              "    }\n",
              "\n",
              "    .colab-df-convert:hover {\n",
              "      background-color: #E2EBFA;\n",
              "      box-shadow: 0px 1px 2px rgba(60, 64, 67, 0.3), 0px 1px 3px 1px rgba(60, 64, 67, 0.15);\n",
              "      fill: #174EA6;\n",
              "    }\n",
              "\n",
              "    .colab-df-buttons div {\n",
              "      margin-bottom: 4px;\n",
              "    }\n",
              "\n",
              "    [theme=dark] .colab-df-convert {\n",
              "      background-color: #3B4455;\n",
              "      fill: #D2E3FC;\n",
              "    }\n",
              "\n",
              "    [theme=dark] .colab-df-convert:hover {\n",
              "      background-color: #434B5C;\n",
              "      box-shadow: 0px 1px 3px 1px rgba(0, 0, 0, 0.15);\n",
              "      filter: drop-shadow(0px 1px 2px rgba(0, 0, 0, 0.3));\n",
              "      fill: #FFFFFF;\n",
              "    }\n",
              "  </style>\n",
              "\n",
              "    <script>\n",
              "      const buttonEl =\n",
              "        document.querySelector('#df-89986288-30e8-4e79-aa7b-bb644b92d718 button.colab-df-convert');\n",
              "      buttonEl.style.display =\n",
              "        google.colab.kernel.accessAllowed ? 'block' : 'none';\n",
              "\n",
              "      async function convertToInteractive(key) {\n",
              "        const element = document.querySelector('#df-89986288-30e8-4e79-aa7b-bb644b92d718');\n",
              "        const dataTable =\n",
              "          await google.colab.kernel.invokeFunction('convertToInteractive',\n",
              "                                                    [key], {});\n",
              "        if (!dataTable) return;\n",
              "\n",
              "        const docLinkHtml = 'Like what you see? Visit the ' +\n",
              "          '<a target=\"_blank\" href=https://colab.research.google.com/notebooks/data_table.ipynb>data table notebook</a>'\n",
              "          + ' to learn more about interactive tables.';\n",
              "        element.innerHTML = '';\n",
              "        dataTable['output_type'] = 'display_data';\n",
              "        await google.colab.output.renderOutput(dataTable, element);\n",
              "        const docLink = document.createElement('div');\n",
              "        docLink.innerHTML = docLinkHtml;\n",
              "        element.appendChild(docLink);\n",
              "      }\n",
              "    </script>\n",
              "  </div>\n",
              "\n",
              "\n",
              "<div id=\"df-ebfec8de-9434-42aa-b560-3f9aa962f0c7\">\n",
              "  <button class=\"colab-df-quickchart\" onclick=\"quickchart('df-ebfec8de-9434-42aa-b560-3f9aa962f0c7')\"\n",
              "            title=\"Suggest charts\"\n",
              "            style=\"display:none;\">\n",
              "\n",
              "<svg xmlns=\"http://www.w3.org/2000/svg\" height=\"24px\"viewBox=\"0 0 24 24\"\n",
              "     width=\"24px\">\n",
              "    <g>\n",
              "        <path d=\"M19 3H5c-1.1 0-2 .9-2 2v14c0 1.1.9 2 2 2h14c1.1 0 2-.9 2-2V5c0-1.1-.9-2-2-2zM9 17H7v-7h2v7zm4 0h-2V7h2v10zm4 0h-2v-4h2v4z\"/>\n",
              "    </g>\n",
              "</svg>\n",
              "  </button>\n",
              "\n",
              "<style>\n",
              "  .colab-df-quickchart {\n",
              "      --bg-color: #E8F0FE;\n",
              "      --fill-color: #1967D2;\n",
              "      --hover-bg-color: #E2EBFA;\n",
              "      --hover-fill-color: #174EA6;\n",
              "      --disabled-fill-color: #AAA;\n",
              "      --disabled-bg-color: #DDD;\n",
              "  }\n",
              "\n",
              "  [theme=dark] .colab-df-quickchart {\n",
              "      --bg-color: #3B4455;\n",
              "      --fill-color: #D2E3FC;\n",
              "      --hover-bg-color: #434B5C;\n",
              "      --hover-fill-color: #FFFFFF;\n",
              "      --disabled-bg-color: #3B4455;\n",
              "      --disabled-fill-color: #666;\n",
              "  }\n",
              "\n",
              "  .colab-df-quickchart {\n",
              "    background-color: var(--bg-color);\n",
              "    border: none;\n",
              "    border-radius: 50%;\n",
              "    cursor: pointer;\n",
              "    display: none;\n",
              "    fill: var(--fill-color);\n",
              "    height: 32px;\n",
              "    padding: 0;\n",
              "    width: 32px;\n",
              "  }\n",
              "\n",
              "  .colab-df-quickchart:hover {\n",
              "    background-color: var(--hover-bg-color);\n",
              "    box-shadow: 0 1px 2px rgba(60, 64, 67, 0.3), 0 1px 3px 1px rgba(60, 64, 67, 0.15);\n",
              "    fill: var(--button-hover-fill-color);\n",
              "  }\n",
              "\n",
              "  .colab-df-quickchart-complete:disabled,\n",
              "  .colab-df-quickchart-complete:disabled:hover {\n",
              "    background-color: var(--disabled-bg-color);\n",
              "    fill: var(--disabled-fill-color);\n",
              "    box-shadow: none;\n",
              "  }\n",
              "\n",
              "  .colab-df-spinner {\n",
              "    border: 2px solid var(--fill-color);\n",
              "    border-color: transparent;\n",
              "    border-bottom-color: var(--fill-color);\n",
              "    animation:\n",
              "      spin 1s steps(1) infinite;\n",
              "  }\n",
              "\n",
              "  @keyframes spin {\n",
              "    0% {\n",
              "      border-color: transparent;\n",
              "      border-bottom-color: var(--fill-color);\n",
              "      border-left-color: var(--fill-color);\n",
              "    }\n",
              "    20% {\n",
              "      border-color: transparent;\n",
              "      border-left-color: var(--fill-color);\n",
              "      border-top-color: var(--fill-color);\n",
              "    }\n",
              "    30% {\n",
              "      border-color: transparent;\n",
              "      border-left-color: var(--fill-color);\n",
              "      border-top-color: var(--fill-color);\n",
              "      border-right-color: var(--fill-color);\n",
              "    }\n",
              "    40% {\n",
              "      border-color: transparent;\n",
              "      border-right-color: var(--fill-color);\n",
              "      border-top-color: var(--fill-color);\n",
              "    }\n",
              "    60% {\n",
              "      border-color: transparent;\n",
              "      border-right-color: var(--fill-color);\n",
              "    }\n",
              "    80% {\n",
              "      border-color: transparent;\n",
              "      border-right-color: var(--fill-color);\n",
              "      border-bottom-color: var(--fill-color);\n",
              "    }\n",
              "    90% {\n",
              "      border-color: transparent;\n",
              "      border-bottom-color: var(--fill-color);\n",
              "    }\n",
              "  }\n",
              "</style>\n",
              "\n",
              "  <script>\n",
              "    async function quickchart(key) {\n",
              "      const quickchartButtonEl =\n",
              "        document.querySelector('#' + key + ' button');\n",
              "      quickchartButtonEl.disabled = true;  // To prevent multiple clicks.\n",
              "      quickchartButtonEl.classList.add('colab-df-spinner');\n",
              "      try {\n",
              "        const charts = await google.colab.kernel.invokeFunction(\n",
              "            'suggestCharts', [key], {});\n",
              "      } catch (error) {\n",
              "        console.error('Error during call to suggestCharts:', error);\n",
              "      }\n",
              "      quickchartButtonEl.classList.remove('colab-df-spinner');\n",
              "      quickchartButtonEl.classList.add('colab-df-quickchart-complete');\n",
              "    }\n",
              "    (() => {\n",
              "      let quickchartButtonEl =\n",
              "        document.querySelector('#df-ebfec8de-9434-42aa-b560-3f9aa962f0c7 button');\n",
              "      quickchartButtonEl.style.display =\n",
              "        google.colab.kernel.accessAllowed ? 'block' : 'none';\n",
              "    })();\n",
              "  </script>\n",
              "</div>\n",
              "    </div>\n",
              "  </div>\n"
            ]
          },
          "metadata": {},
          "execution_count": 4
        }
      ]
    },
    {
      "cell_type": "code",
      "source": [
        "# melihat dimensi dataset\n",
        "dataset.shape"
      ],
      "metadata": {
        "colab": {
          "base_uri": "https://localhost:8080/"
        },
        "id": "QivzUXtiIQdm",
        "outputId": "cd45ea3c-4cd5-4979-e852-d48988ada304"
      },
      "execution_count": 5,
      "outputs": [
        {
          "output_type": "execute_result",
          "data": {
            "text/plain": [
              "(13611, 17)"
            ]
          },
          "metadata": {},
          "execution_count": 5
        }
      ]
    },
    {
      "cell_type": "markdown",
      "source": [
        "### **Untuk memperkirakan akurasi pada data yang tidak diketahui sebelumnya terdapat beberapa data yang dapat dilakukan :**"
      ],
      "metadata": {
        "id": "ncWU_NyH-onn"
      }
    },
    {
      "cell_type": "markdown",
      "source": [
        "### **I. Membuat Validasi Dataset**"
      ],
      "metadata": {
        "id": "a2vjfCfE-t8W"
      }
    },
    {
      "cell_type": "code",
      "source": [
        "# import library berikut untuk menggunakan fungsi split data training (train_test_split())\n",
        "from sklearn import model_selection"
      ],
      "metadata": {
        "id": "umVs83nHIVHY"
      },
      "execution_count": 6,
      "outputs": []
    },
    {
      "cell_type": "code",
      "source": [
        "# #persiapan data\n",
        "array = dataset.values\n",
        "# X menyimpan inputan fitur model machine learning yaitu fitur index-0 -- index-15\n",
        "X = array[:,0:16]\n",
        "# Y berisi target data, index ke 16 yaitu 'class'\n",
        "Y = array[:,16]\n",
        "\n",
        "\n",
        "# #pembagian data\n",
        "# validasi data model 20% dari total data keseluruhan, sehingga 80% adalah data training\n",
        "validation_size = 0.20\n",
        "# untuk mengacak data yang akan dipakai untuk split data, utk memastikan hasil  pembagian data konsisten ketika menjalankan kode berulang kali\n",
        "seed = 7\n",
        "# X dan Y sesuai penjelasan yang telah disebutkan di atas, train untuk data training dan validation untuk data validasi\n",
        "# model_selection.train_test_split untuk membagi dataset menjadi dua bagian yaitu data latih (training set) dan data validasi (validation set)\n",
        "X_train, X_validation, Y_train, Y_validation = model_selection.train_test_split(X, Y, test_size=validation_size, random_state=seed)"
      ],
      "metadata": {
        "id": "8VI4JQQyIjNq"
      },
      "execution_count": 7,
      "outputs": []
    },
    {
      "cell_type": "markdown",
      "source": [
        "### **Penjelasan:**\n",
        "Berdasarkan kode tersebut kita telah membagi dataset menjadi dua bagian utama:\n",
        "\n",
        "*   X_train dan Y_train untuk melatih model.\n",
        "*   X_validation dan Y_validation untuk menguji dan mengevaluasi model.\n",
        "\n",
        "Dengan cara ini, kita dapat menggunakan X_train dan Y_train untuk melatih model, dan kemudian menggunakan X_validation dan Y_validation untuk mengukur sejauh mana model tersebut dapat melakukan prediksi yang akurat pada data yang belum pernah dilihat sebelumnya (data validasi)."
      ],
      "metadata": {
        "id": "I4XByypP_C94"
      }
    },
    {
      "cell_type": "code",
      "source": [
        "# melihat hasil dimensinya (record, fitur)\n",
        "print(\"X_train :\", X_train.shape)\n",
        "print(\"X_validation :\", X_validation.shape)\n",
        "print(\"Y_train :\", Y_train.shape)\n",
        "print(\"Y_validation :\", Y_validation.shape)"
      ],
      "metadata": {
        "colab": {
          "base_uri": "https://localhost:8080/"
        },
        "id": "KU1Bmh4_LuX5",
        "outputId": "998c1a84-aeb8-4aa1-af8e-8ec40d765736"
      },
      "execution_count": 8,
      "outputs": [
        {
          "output_type": "stream",
          "name": "stdout",
          "text": [
            "X_train : (10888, 16)\n",
            "X_validation : (2723, 16)\n",
            "Y_train : (10888,)\n",
            "Y_validation : (2723,)\n"
          ]
        }
      ]
    },
    {
      "cell_type": "markdown",
      "source": [
        "Penjelasan:\n",
        "* 80% data training : 10888\n",
        "* 20% data validasi : 2723"
      ],
      "metadata": {
        "id": "MSAqoJRgM33I"
      }
    },
    {
      "cell_type": "code",
      "source": [
        "# distribusi kelas data\n",
        "dataset.groupby('class').size()"
      ],
      "metadata": {
        "colab": {
          "base_uri": "https://localhost:8080/"
        },
        "id": "HeSYDSSBfFQV",
        "outputId": "a3f0327c-7fc2-46e4-b9ff-6d7b345b327d"
      },
      "execution_count": 9,
      "outputs": [
        {
          "output_type": "execute_result",
          "data": {
            "text/plain": [
              "class\n",
              "BARBUNYA    1322\n",
              "BOMBAY       522\n",
              "CALI        1630\n",
              "DERMASON    3546\n",
              "HOROZ       1928\n",
              "SEKER       2027\n",
              "SIRA        2636\n",
              "dtype: int64"
            ]
          },
          "metadata": {},
          "execution_count": 9
        }
      ]
    },
    {
      "cell_type": "markdown",
      "source": [
        "Penjelasan:\n",
        "\n",
        "Berdasarkan distribusi kelas tersebut maka kasus tersebut merupakan kasus dengan ketidakseimbangan kelas sehingga lebih baik menggunakan F1-score. F1-Score mempertimbangkan baik precision (ketepatan) dan recall (sensitivitas atau true positive rate). Ini membuatnya lebih baik daripada accuracy ketika kita memiliki ketidakseimbangan kelas, di mana satu kelas mungkin dominan."
      ],
      "metadata": {
        "id": "PD3z4DkMfRt8"
      }
    },
    {
      "cell_type": "markdown",
      "source": [
        "### **II. K-Folds Cross Validation**"
      ],
      "metadata": {
        "id": "SQCwXRbKAQ09"
      }
    },
    {
      "cell_type": "markdown",
      "source": [
        "Kita akan menggunakan validasi silang 10 kali lipat untuk memperkirakan akurasi. Untuk itu dataset dibagi menjadi 10 bagian, 9 untuk latihan dan 1 untuk pengujian dan ulangi untuk semua kombinasi."
      ],
      "metadata": {
        "id": "n5-ecNecEYRw"
      }
    },
    {
      "cell_type": "code",
      "source": [
        "# training split --> memisahkan data menjadi 2 bagian, iterasi sekali\n",
        "# K fold --> memisahkan data menjadi beberapa K fold, setiap fold secara bergantian dijadikan sebagai set pengujian sedangkan yang lainnya digunakan sebagai pelatihan\n",
        "\n",
        "# Test options and evaluation metric menggunakan F1-Score dengan weighted averaging\n",
        "seed = 7\n",
        "scoring = 'f1_weighted'"
      ],
      "metadata": {
        "id": "XaABDwfmMKhJ"
      },
      "execution_count": 10,
      "outputs": []
    },
    {
      "cell_type": "markdown",
      "source": [
        "### **III. Membangun Model**"
      ],
      "metadata": {
        "id": "rwKD9N_rAVBL"
      }
    },
    {
      "cell_type": "code",
      "source": [
        "# import library berisi algoritma klasifikasi yang akan digunakan\n",
        "from sklearn.neighbors import KNeighborsClassifier\n",
        "from sklearn.naive_bayes import GaussianNB\n",
        "from sklearn.svm import SVC\n",
        "\n",
        "# Spot Check Algorithms. Evaluasi model menggunakan cross validation\n",
        "models = []\n",
        "models.append(('KNN', KNeighborsClassifier()))\n",
        "models.append(('NB', GaussianNB()))\n",
        "models.append(('SVM', SVC()))"
      ],
      "metadata": {
        "id": "V4JF8JvJOkaE"
      },
      "execution_count": 11,
      "outputs": []
    },
    {
      "cell_type": "markdown",
      "source": [
        "### **Penjelasan:**\n",
        "Pada kode tersebut, akan mengevaluasi dengan beberapa algoritma untuk mengetahui algoritma yang cocok dengan studi kasus ini. Model yang digunakan yaitu K-Nearest Neighbors (KNN),\n",
        "Gaussian Naive Bayes (NB) dan Support Vector Machines (SVM)."
      ],
      "metadata": {
        "id": "RCV4shs1AorU"
      }
    },
    {
      "cell_type": "code",
      "source": [
        "# evaluate each model in turn\n",
        "\n",
        "# menyimpan hasil evaluasi K fold validation dari masing-masing model\n",
        "results = []\n",
        "# menyimpan nama model\n",
        "names = []\n",
        "\n",
        "for name, model in models:\n",
        "  # membagi data menjadi training dan validation menggunakan kfold validation, dengan k atau n_splits nya adalah 10 dan random_state = 7\n",
        "  # mengaktifkan shuffle=True. shuffle digunakan untuk menentukan apakah data harus diacak atau tidak sebelum dibagi\n",
        "  kfold = model_selection.KFold(n_splits=10, random_state=seed, shuffle=True)\n",
        "  # model_selection.cross_val_score untuk menghitung nilai scoring dari setiap iterasi\n",
        "  # mengukur kinerja dari data dari model yang sudah didefinisikan dengan data latih yang sudah di split (X_train dan Y_train), cv = kfold yg sudah didefinisikan, scoring = f1_weighted\n",
        "  cv_results = model_selection.cross_val_score(model, X_train, Y_train,  cv=kfold, scoring=scoring)\n",
        "  # memasukan cv_results ke dalam result untuk setiap iterasi\n",
        "  results.append(cv_results)\n",
        "  # memasukan name ke dalam names untuk setiap iterasi\n",
        "  names.append(name)\n",
        "  # menampilkan pesan nama model, rata2 final, dan stdev final\n",
        "  msg = \"%s: %f (%f)\" % (name, cv_results.mean(), cv_results.std())\n",
        "  print(msg)"
      ],
      "metadata": {
        "colab": {
          "base_uri": "https://localhost:8080/"
        },
        "id": "v8xRJuOPO2tc",
        "outputId": "9d8a0a10-ebce-4d95-9251-21d18cfa8aa6"
      },
      "execution_count": 12,
      "outputs": [
        {
          "output_type": "stream",
          "name": "stdout",
          "text": [
            "KNN: 0.720164 (0.009220)\n",
            "NB: 0.761147 (0.007715)\n",
            "SVM: 0.599921 (0.006756)\n"
          ]
        }
      ]
    },
    {
      "cell_type": "markdown",
      "source": [
        "### **Penjelasan:**\n",
        "*   Model KNN menghasilkan final rata-rata=0.720164 dan stdev=0.009220\n",
        "*   Model NB menghasilkan final rata-rata=0.761147  dan stdev=0.007715\n",
        "*   Model SVM menghasilkan final rata-rata=0.599921 dan stdev=0.006756"
      ],
      "metadata": {
        "id": "qWn9V3PWTNjo"
      }
    },
    {
      "cell_type": "markdown",
      "source": [
        "### **IV. Memilih Model Terbaik**"
      ],
      "metadata": {
        "id": "j7hNHYwJDBPc"
      }
    },
    {
      "cell_type": "markdown",
      "source": [
        "### **Penjelasan:**\n",
        "Berdasarkan hasil output tersebut di atas, kita dapat melihat bahwa Naive Bayes (NB) memiliki nilai akurasi perkiraan terbesar. Setelah mengetahui model yang paling akurat yaitu NB, selanjutnya kita dapat mencoba melakukan pengujian tentang keakuratan model NB terhadap data yang ada."
      ],
      "metadata": {
        "id": "1q7hg5BuDDFh"
      }
    },
    {
      "cell_type": "code",
      "source": [
        "from sklearn.metrics import accuracy_score, confusion_matrix, classification_report"
      ],
      "metadata": {
        "id": "LJApIwi6TmV-"
      },
      "execution_count": 13,
      "outputs": []
    },
    {
      "cell_type": "code",
      "source": [
        "# Membuat prediksi validasi dataset\n",
        "\n",
        "NB = GaussianNB()\n",
        "# melatih (fit) model NB menggunakan data latih\n",
        "NB.fit(X_train, Y_train)\n",
        "# menguji data NB yang dihasilkan dari proses pelatihan data dengan testing data\n",
        "predictions = NB.predict(X_validation)\n",
        "\n",
        "# menampilkan hasil\n",
        "print('accuracy score: ', accuracy_score(Y_validation, predictions))\n",
        "print('confusion matrix: \\n', confusion_matrix(Y_validation, predictions))\n",
        "print('\\n\\t\\t classification report: \\n', classification_report(Y_validation, predictions))"
      ],
      "metadata": {
        "colab": {
          "base_uri": "https://localhost:8080/"
        },
        "id": "XnGdw6H7V6H_",
        "outputId": "a155e2ad-015a-46b6-f5a0-ee5e5f7f7537"
      },
      "execution_count": 15,
      "outputs": [
        {
          "output_type": "stream",
          "name": "stdout",
          "text": [
            "accuracy score:  0.7598237238340066\n",
            "confusion matrix: \n",
            " [[134   0 113   0  21   0   8]\n",
            " [  0  90   0   0   0   0   0]\n",
            " [ 44   1 275   0  17   0   2]\n",
            " [  0   0   0 613   0  90  38]\n",
            " [ 13   0  18  14 296   0  42]\n",
            " [  3   0   0  47   7 282  50]\n",
            " [  0   0   0  29  50  47 379]]\n",
            "\n",
            "\t\t classification report: \n",
            "               precision    recall  f1-score   support\n",
            "\n",
            "    BARBUNYA       0.69      0.49      0.57       276\n",
            "      BOMBAY       0.99      1.00      0.99        90\n",
            "        CALI       0.68      0.81      0.74       339\n",
            "    DERMASON       0.87      0.83      0.85       741\n",
            "       HOROZ       0.76      0.77      0.76       383\n",
            "       SEKER       0.67      0.72      0.70       389\n",
            "        SIRA       0.73      0.75      0.74       505\n",
            "\n",
            "    accuracy                           0.76      2723\n",
            "   macro avg       0.77      0.77      0.77      2723\n",
            "weighted avg       0.76      0.76      0.76      2723\n",
            "\n"
          ]
        }
      ]
    },
    {
      "cell_type": "markdown",
      "source": [
        "### **Penjelasan:**\n",
        "Output yang dihasilkan dari evaluasi model memberikan gambaran tentang seberapa baik model Naive Bayes (NB) dapat melakukan klasifikasi pada data validasi.\n",
        "\n",
        "- Accuracy Score:\n",
        "Akurasi adalah rasio prediksi yang benar (positif dan negatif) terhadap total data. Dalam konteks ini, akurasi sebesar 0.76 (76%) menunjukkan bahwa model NB dapat mengklasifikasikan data dengan benar sekitar 76% pada saat data validasi.\n",
        "\n",
        "- Confusion Matrix:\n",
        "Matriks konfusi adalah tabel yang menunjukkan jumlah prediksi yang benar dan salah untuk setiap kelas. Dalam kasus ini, matriks konfusi memiliki tujuh baris dan tujuh kolom, yang sesuai dengan tiga kelas Iris (BARBUNYA, BOMBAY, CALI, DERMASON, HOROZ, SEKER, SIRA).\n",
        " - Baris dan kolom mewakili kelas, dan setiap elemen menyatakan jumlah prediksi untuk kelas tertentu. Sebagai contoh, pada baris kedua (BOMBAY) dan kolom kedua (BOMBAY), terdapat 90 prediksi yang benar.\n",
        "\n",
        "- Classification Report:\n",
        "Laporan klasifikasi memberikan matriks precision,  recall, f1-score untuk setiap kelas, serta rata-rata dari matriks tersebut untuk semua kelas (macro avg dan weighted avg).\n",
        " - Precision: Seberapa akurat model dalam mengklasifikasikan positif. Misalnya, presisi untuk BARBUNYA adalah 0.69, yang berarti 69% dari semua prediksi positif untuk BARBUNYA adalah benar.\n",
        " - Recall: Seberapa baik model dapat menangkap semua instance dari suatu kelas. Misalnya, recall untuk BARBUNYA adalah 0.49, yang berarti model berhasil menangkap 49% dari semua instance BARBUNYA.\n",
        " - F1-score: Rata-rata dari precision dan recall.\n",
        " - Support: Jumlah instance yang sebenarnya dari setiap kelas.\n",
        "\n",
        "Berdasarkan hasil yang diberikan, model memiliki kinerja baik pada beberapa kelas seperti BOMBAY dengan presisi, recall, dan F1-score sangat tinggi, sedangkan untuk beberapa kelas lainnya, kinerja model mungkin tidak sebaik kelas BOMBAY."
      ],
      "metadata": {
        "id": "6XAOigtYFK20"
      }
    }
  ]
}