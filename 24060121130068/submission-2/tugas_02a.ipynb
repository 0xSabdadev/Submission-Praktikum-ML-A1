{
  "nbformat": 4,
  "nbformat_minor": 0,
  "metadata": {
    "colab": {
      "provenance": []
    },
    "kernelspec": {
      "name": "python3",
      "display_name": "Python 3"
    },
    "language_info": {
      "name": "python"
    }
  },
  "cells": [
    {
      "cell_type": "markdown",
      "source": [
        "### **Nama : Mitslina**\n",
        "### **NIM : 24060121130068**\n",
        "### **1. Lakukan Eksplorasi terhadapat algoritma klasifikasi lain yang ada!**\n",
        "### **Data set : Iris**"
      ],
      "metadata": {
        "id": "n9cTsDspldSg"
      }
    },
    {
      "cell_type": "code",
      "source": [
        "# import library pandas\n",
        "import pandas as pd"
      ],
      "metadata": {
        "id": "wJu2U4fVhrCU"
      },
      "execution_count": 1,
      "outputs": []
    },
    {
      "cell_type": "code",
      "execution_count": 2,
      "metadata": {
        "id": "no7Ion8PgigI"
      },
      "outputs": [],
      "source": [
        "# url berisi link dataset Iris\n",
        "url = \"http://archive.ics.uci.edu/ml/machine-learning-databases/iris/iris.data\"\n",
        "# memberikan nama dari fitur (kolom) yang akan digunakan\n",
        "names = ['sepal-length', 'sepal-width', 'petal_length', 'petal-width','class']\n",
        "# memuat dataset csv sesuai url dan names\n",
        "dataset = pd.read_csv(url, names=names)"
      ]
    },
    {
      "cell_type": "code",
      "source": [
        "# melihat isi dataset\n",
        "dataset.head(5)"
      ],
      "metadata": {
        "colab": {
          "base_uri": "https://localhost:8080/",
          "height": 206
        },
        "id": "FC3QMEwCiQT6",
        "outputId": "6f258b7b-684b-4bf7-a499-fce7d5e0a511"
      },
      "execution_count": 3,
      "outputs": [
        {
          "output_type": "execute_result",
          "data": {
            "text/plain": [
              "   sepal-length  sepal-width  petal_length  petal-width        class\n",
              "0           5.1          3.5           1.4          0.2  Iris-setosa\n",
              "1           4.9          3.0           1.4          0.2  Iris-setosa\n",
              "2           4.7          3.2           1.3          0.2  Iris-setosa\n",
              "3           4.6          3.1           1.5          0.2  Iris-setosa\n",
              "4           5.0          3.6           1.4          0.2  Iris-setosa"
            ],
            "text/html": [
              "\n",
              "  <div id=\"df-8b55f035-dbcb-4b10-b6d5-b9e35244ceec\" class=\"colab-df-container\">\n",
              "    <div>\n",
              "<style scoped>\n",
              "    .dataframe tbody tr th:only-of-type {\n",
              "        vertical-align: middle;\n",
              "    }\n",
              "\n",
              "    .dataframe tbody tr th {\n",
              "        vertical-align: top;\n",
              "    }\n",
              "\n",
              "    .dataframe thead th {\n",
              "        text-align: right;\n",
              "    }\n",
              "</style>\n",
              "<table border=\"1\" class=\"dataframe\">\n",
              "  <thead>\n",
              "    <tr style=\"text-align: right;\">\n",
              "      <th></th>\n",
              "      <th>sepal-length</th>\n",
              "      <th>sepal-width</th>\n",
              "      <th>petal_length</th>\n",
              "      <th>petal-width</th>\n",
              "      <th>class</th>\n",
              "    </tr>\n",
              "  </thead>\n",
              "  <tbody>\n",
              "    <tr>\n",
              "      <th>0</th>\n",
              "      <td>5.1</td>\n",
              "      <td>3.5</td>\n",
              "      <td>1.4</td>\n",
              "      <td>0.2</td>\n",
              "      <td>Iris-setosa</td>\n",
              "    </tr>\n",
              "    <tr>\n",
              "      <th>1</th>\n",
              "      <td>4.9</td>\n",
              "      <td>3.0</td>\n",
              "      <td>1.4</td>\n",
              "      <td>0.2</td>\n",
              "      <td>Iris-setosa</td>\n",
              "    </tr>\n",
              "    <tr>\n",
              "      <th>2</th>\n",
              "      <td>4.7</td>\n",
              "      <td>3.2</td>\n",
              "      <td>1.3</td>\n",
              "      <td>0.2</td>\n",
              "      <td>Iris-setosa</td>\n",
              "    </tr>\n",
              "    <tr>\n",
              "      <th>3</th>\n",
              "      <td>4.6</td>\n",
              "      <td>3.1</td>\n",
              "      <td>1.5</td>\n",
              "      <td>0.2</td>\n",
              "      <td>Iris-setosa</td>\n",
              "    </tr>\n",
              "    <tr>\n",
              "      <th>4</th>\n",
              "      <td>5.0</td>\n",
              "      <td>3.6</td>\n",
              "      <td>1.4</td>\n",
              "      <td>0.2</td>\n",
              "      <td>Iris-setosa</td>\n",
              "    </tr>\n",
              "  </tbody>\n",
              "</table>\n",
              "</div>\n",
              "    <div class=\"colab-df-buttons\">\n",
              "\n",
              "  <div class=\"colab-df-container\">\n",
              "    <button class=\"colab-df-convert\" onclick=\"convertToInteractive('df-8b55f035-dbcb-4b10-b6d5-b9e35244ceec')\"\n",
              "            title=\"Convert this dataframe to an interactive table.\"\n",
              "            style=\"display:none;\">\n",
              "\n",
              "  <svg xmlns=\"http://www.w3.org/2000/svg\" height=\"24px\" viewBox=\"0 -960 960 960\">\n",
              "    <path d=\"M120-120v-720h720v720H120Zm60-500h600v-160H180v160Zm220 220h160v-160H400v160Zm0 220h160v-160H400v160ZM180-400h160v-160H180v160Zm440 0h160v-160H620v160ZM180-180h160v-160H180v160Zm440 0h160v-160H620v160Z\"/>\n",
              "  </svg>\n",
              "    </button>\n",
              "\n",
              "  <style>\n",
              "    .colab-df-container {\n",
              "      display:flex;\n",
              "      gap: 12px;\n",
              "    }\n",
              "\n",
              "    .colab-df-convert {\n",
              "      background-color: #E8F0FE;\n",
              "      border: none;\n",
              "      border-radius: 50%;\n",
              "      cursor: pointer;\n",
              "      display: none;\n",
              "      fill: #1967D2;\n",
              "      height: 32px;\n",
              "      padding: 0 0 0 0;\n",
              "      width: 32px;\n",
              "    }\n",
              "\n",
              "    .colab-df-convert:hover {\n",
              "      background-color: #E2EBFA;\n",
              "      box-shadow: 0px 1px 2px rgba(60, 64, 67, 0.3), 0px 1px 3px 1px rgba(60, 64, 67, 0.15);\n",
              "      fill: #174EA6;\n",
              "    }\n",
              "\n",
              "    .colab-df-buttons div {\n",
              "      margin-bottom: 4px;\n",
              "    }\n",
              "\n",
              "    [theme=dark] .colab-df-convert {\n",
              "      background-color: #3B4455;\n",
              "      fill: #D2E3FC;\n",
              "    }\n",
              "\n",
              "    [theme=dark] .colab-df-convert:hover {\n",
              "      background-color: #434B5C;\n",
              "      box-shadow: 0px 1px 3px 1px rgba(0, 0, 0, 0.15);\n",
              "      filter: drop-shadow(0px 1px 2px rgba(0, 0, 0, 0.3));\n",
              "      fill: #FFFFFF;\n",
              "    }\n",
              "  </style>\n",
              "\n",
              "    <script>\n",
              "      const buttonEl =\n",
              "        document.querySelector('#df-8b55f035-dbcb-4b10-b6d5-b9e35244ceec button.colab-df-convert');\n",
              "      buttonEl.style.display =\n",
              "        google.colab.kernel.accessAllowed ? 'block' : 'none';\n",
              "\n",
              "      async function convertToInteractive(key) {\n",
              "        const element = document.querySelector('#df-8b55f035-dbcb-4b10-b6d5-b9e35244ceec');\n",
              "        const dataTable =\n",
              "          await google.colab.kernel.invokeFunction('convertToInteractive',\n",
              "                                                    [key], {});\n",
              "        if (!dataTable) return;\n",
              "\n",
              "        const docLinkHtml = 'Like what you see? Visit the ' +\n",
              "          '<a target=\"_blank\" href=https://colab.research.google.com/notebooks/data_table.ipynb>data table notebook</a>'\n",
              "          + ' to learn more about interactive tables.';\n",
              "        element.innerHTML = '';\n",
              "        dataTable['output_type'] = 'display_data';\n",
              "        await google.colab.output.renderOutput(dataTable, element);\n",
              "        const docLink = document.createElement('div');\n",
              "        docLink.innerHTML = docLinkHtml;\n",
              "        element.appendChild(docLink);\n",
              "      }\n",
              "    </script>\n",
              "  </div>\n",
              "\n",
              "\n",
              "<div id=\"df-24535282-f944-481a-96d4-f7e9ac97ce63\">\n",
              "  <button class=\"colab-df-quickchart\" onclick=\"quickchart('df-24535282-f944-481a-96d4-f7e9ac97ce63')\"\n",
              "            title=\"Suggest charts\"\n",
              "            style=\"display:none;\">\n",
              "\n",
              "<svg xmlns=\"http://www.w3.org/2000/svg\" height=\"24px\"viewBox=\"0 0 24 24\"\n",
              "     width=\"24px\">\n",
              "    <g>\n",
              "        <path d=\"M19 3H5c-1.1 0-2 .9-2 2v14c0 1.1.9 2 2 2h14c1.1 0 2-.9 2-2V5c0-1.1-.9-2-2-2zM9 17H7v-7h2v7zm4 0h-2V7h2v10zm4 0h-2v-4h2v4z\"/>\n",
              "    </g>\n",
              "</svg>\n",
              "  </button>\n",
              "\n",
              "<style>\n",
              "  .colab-df-quickchart {\n",
              "      --bg-color: #E8F0FE;\n",
              "      --fill-color: #1967D2;\n",
              "      --hover-bg-color: #E2EBFA;\n",
              "      --hover-fill-color: #174EA6;\n",
              "      --disabled-fill-color: #AAA;\n",
              "      --disabled-bg-color: #DDD;\n",
              "  }\n",
              "\n",
              "  [theme=dark] .colab-df-quickchart {\n",
              "      --bg-color: #3B4455;\n",
              "      --fill-color: #D2E3FC;\n",
              "      --hover-bg-color: #434B5C;\n",
              "      --hover-fill-color: #FFFFFF;\n",
              "      --disabled-bg-color: #3B4455;\n",
              "      --disabled-fill-color: #666;\n",
              "  }\n",
              "\n",
              "  .colab-df-quickchart {\n",
              "    background-color: var(--bg-color);\n",
              "    border: none;\n",
              "    border-radius: 50%;\n",
              "    cursor: pointer;\n",
              "    display: none;\n",
              "    fill: var(--fill-color);\n",
              "    height: 32px;\n",
              "    padding: 0;\n",
              "    width: 32px;\n",
              "  }\n",
              "\n",
              "  .colab-df-quickchart:hover {\n",
              "    background-color: var(--hover-bg-color);\n",
              "    box-shadow: 0 1px 2px rgba(60, 64, 67, 0.3), 0 1px 3px 1px rgba(60, 64, 67, 0.15);\n",
              "    fill: var(--button-hover-fill-color);\n",
              "  }\n",
              "\n",
              "  .colab-df-quickchart-complete:disabled,\n",
              "  .colab-df-quickchart-complete:disabled:hover {\n",
              "    background-color: var(--disabled-bg-color);\n",
              "    fill: var(--disabled-fill-color);\n",
              "    box-shadow: none;\n",
              "  }\n",
              "\n",
              "  .colab-df-spinner {\n",
              "    border: 2px solid var(--fill-color);\n",
              "    border-color: transparent;\n",
              "    border-bottom-color: var(--fill-color);\n",
              "    animation:\n",
              "      spin 1s steps(1) infinite;\n",
              "  }\n",
              "\n",
              "  @keyframes spin {\n",
              "    0% {\n",
              "      border-color: transparent;\n",
              "      border-bottom-color: var(--fill-color);\n",
              "      border-left-color: var(--fill-color);\n",
              "    }\n",
              "    20% {\n",
              "      border-color: transparent;\n",
              "      border-left-color: var(--fill-color);\n",
              "      border-top-color: var(--fill-color);\n",
              "    }\n",
              "    30% {\n",
              "      border-color: transparent;\n",
              "      border-left-color: var(--fill-color);\n",
              "      border-top-color: var(--fill-color);\n",
              "      border-right-color: var(--fill-color);\n",
              "    }\n",
              "    40% {\n",
              "      border-color: transparent;\n",
              "      border-right-color: var(--fill-color);\n",
              "      border-top-color: var(--fill-color);\n",
              "    }\n",
              "    60% {\n",
              "      border-color: transparent;\n",
              "      border-right-color: var(--fill-color);\n",
              "    }\n",
              "    80% {\n",
              "      border-color: transparent;\n",
              "      border-right-color: var(--fill-color);\n",
              "      border-bottom-color: var(--fill-color);\n",
              "    }\n",
              "    90% {\n",
              "      border-color: transparent;\n",
              "      border-bottom-color: var(--fill-color);\n",
              "    }\n",
              "  }\n",
              "</style>\n",
              "\n",
              "  <script>\n",
              "    async function quickchart(key) {\n",
              "      const quickchartButtonEl =\n",
              "        document.querySelector('#' + key + ' button');\n",
              "      quickchartButtonEl.disabled = true;  // To prevent multiple clicks.\n",
              "      quickchartButtonEl.classList.add('colab-df-spinner');\n",
              "      try {\n",
              "        const charts = await google.colab.kernel.invokeFunction(\n",
              "            'suggestCharts', [key], {});\n",
              "      } catch (error) {\n",
              "        console.error('Error during call to suggestCharts:', error);\n",
              "      }\n",
              "      quickchartButtonEl.classList.remove('colab-df-spinner');\n",
              "      quickchartButtonEl.classList.add('colab-df-quickchart-complete');\n",
              "    }\n",
              "    (() => {\n",
              "      let quickchartButtonEl =\n",
              "        document.querySelector('#df-24535282-f944-481a-96d4-f7e9ac97ce63 button');\n",
              "      quickchartButtonEl.style.display =\n",
              "        google.colab.kernel.accessAllowed ? 'block' : 'none';\n",
              "    })();\n",
              "  </script>\n",
              "</div>\n",
              "    </div>\n",
              "  </div>\n"
            ]
          },
          "metadata": {},
          "execution_count": 3
        }
      ]
    },
    {
      "cell_type": "code",
      "source": [
        "# melihat dimensi dataset\n",
        "dataset.shape"
      ],
      "metadata": {
        "colab": {
          "base_uri": "https://localhost:8080/"
        },
        "id": "bQzJbpt-iXRc",
        "outputId": "b128837c-741e-4a1d-b7f0-97c4f3aa6fcf"
      },
      "execution_count": 4,
      "outputs": [
        {
          "output_type": "execute_result",
          "data": {
            "text/plain": [
              "(150, 5)"
            ]
          },
          "metadata": {},
          "execution_count": 4
        }
      ]
    },
    {
      "cell_type": "markdown",
      "source": [
        "### **Untuk memperkirakan akurasi pada data yang tidak diketahui sebelumnya terdapat beberapa data yang dapat dilakukan :**"
      ],
      "metadata": {
        "id": "rPqYKbC1r-rr"
      }
    },
    {
      "cell_type": "markdown",
      "source": [
        "### **I. Membuat Validasi Dataset**"
      ],
      "metadata": {
        "id": "Rhe4ICS7nwCt"
      }
    },
    {
      "cell_type": "code",
      "source": [
        "# import library berikut untuk menggunakan fungsi split data training (train_test_split())\n",
        "from sklearn import model_selection"
      ],
      "metadata": {
        "id": "oQEmFORnicTw"
      },
      "execution_count": 5,
      "outputs": []
    },
    {
      "cell_type": "code",
      "source": [
        "# #persiapan data\n",
        "array = dataset.values\n",
        "# X menyimpan inputan fitur model machine learning yaitu fitur index-0 -- index-3\n",
        "X = array[:,0:4]\n",
        "# Y berisi target data, index ke 4 yaitu 'class'\n",
        "Y = array[:,4]\n",
        "\n",
        "# #pembagian data\n",
        "# validasi data model 20% dari total data keseluruhan, sehingga 80% adalah data training\n",
        "validation_size = 0.20\n",
        "# untuk mengacak data yang akan dipakai untuk split data, utk memastikan hasil  pembagian data konsisten ketika menjalankan kode berulang kali\n",
        "seed = 7\n",
        "# X dan Y sesuai penjelasan yang telah disebutkan di atas, train untuk data training dan validation untuk data validasi\n",
        "# model_selection.train_test_split untuk membagi dataset menjadi dua bagian yaitu data latih (training set) dan data validasi (validation set)\n",
        "X_train, X_validation, Y_train, Y_validation = model_selection.train_test_split(X, Y, test_size=validation_size, random_state=seed)"
      ],
      "metadata": {
        "id": "IIVfJIUYihMK"
      },
      "execution_count": 6,
      "outputs": []
    },
    {
      "cell_type": "markdown",
      "source": [
        "### **Penjelasan:**\n",
        "Berdasarkan kode tersebut kita telah membagi dataset menjadi dua bagian utama:\n",
        "\n",
        "*   X_train dan Y_train untuk melatih model.\n",
        "*   X_validation dan Y_validation untuk menguji dan mengevaluasi model.\n",
        "\n",
        "Dengan cara ini, kita dapat menggunakan X_train dan Y_train untuk melatih model, dan kemudian menggunakan X_validation dan Y_validation untuk mengukur sejauh mana model tersebut dapat melakukan prediksi yang akurat pada data yang belum pernah dilihat sebelumnya (data validasi)."
      ],
      "metadata": {
        "id": "xxnOLKPztSdB"
      }
    },
    {
      "cell_type": "code",
      "source": [
        "# melihat hasil dimensinya (record, fitur)\n",
        "print(\"X_train :\", X_train.shape)\n",
        "print(\"X_validation :\", X_validation.shape)\n",
        "print(\"Y_train :\", Y_train.shape)\n",
        "print(\"Y_validation :\", Y_validation.shape)"
      ],
      "metadata": {
        "colab": {
          "base_uri": "https://localhost:8080/"
        },
        "id": "Usd_SsMkir8k",
        "outputId": "eedf57b2-18f7-4a20-c6bf-286dd1a9b56a"
      },
      "execution_count": 7,
      "outputs": [
        {
          "output_type": "stream",
          "name": "stdout",
          "text": [
            "X_train : (120, 4)\n",
            "X_validation : (30, 4)\n",
            "Y_train : (120,)\n",
            "Y_validation : (30,)\n"
          ]
        }
      ]
    },
    {
      "cell_type": "markdown",
      "source": [
        "### **Penjelasan:**\n",
        "*   80% data training : 120\n",
        "*   20% data validasi : 30"
      ],
      "metadata": {
        "id": "ohmobO9CxKgo"
      }
    },
    {
      "cell_type": "code",
      "source": [
        "# distribusi kelas data\n",
        "dataset.groupby('class').size()"
      ],
      "metadata": {
        "colab": {
          "base_uri": "https://localhost:8080/"
        },
        "id": "OnbiVnQEit6G",
        "outputId": "1eb23f96-68c9-4802-9da6-bf9cfe01e372"
      },
      "execution_count": 8,
      "outputs": [
        {
          "output_type": "execute_result",
          "data": {
            "text/plain": [
              "class\n",
              "Iris-setosa        50\n",
              "Iris-versicolor    50\n",
              "Iris-virginica     50\n",
              "dtype: int64"
            ]
          },
          "metadata": {},
          "execution_count": 8
        }
      ]
    },
    {
      "cell_type": "markdown",
      "source": [
        "### **Penjelasan:**\n",
        "Distribusi kelas data yang dihasilkan menunjukkan bahwa setiap kelas memiliki 50 sampel (distribusi seimbang karena setiap kelas memiliki jumlah sampel yang sama)"
      ],
      "metadata": {
        "id": "3SOoqAY6usap"
      }
    },
    {
      "cell_type": "markdown",
      "source": [
        "### **II. K-Folds Cross Validation**"
      ],
      "metadata": {
        "id": "N-FBWhAevMSa"
      }
    },
    {
      "cell_type": "code",
      "source": [
        "# training split --> memisahkan data menjadi 2 bagian, iterasi sekali\n",
        "# K fold --> memisahkan data menjadi beberapa K fold, setiap fold secara bergantian dijadikan sebagai set pengujian sedangkan yang lainnya digunakan sebagai pelatihan\n",
        "\n",
        "# Test options and evaluation metric menggunakan accuracy (distribusi kelas seimbang)\n",
        "seed = 7\n",
        "scoring = 'accuracy'"
      ],
      "metadata": {
        "id": "te9wL8VPi5U7"
      },
      "execution_count": 9,
      "outputs": []
    },
    {
      "cell_type": "markdown",
      "source": [
        "### **III. Membangun Model**"
      ],
      "metadata": {
        "id": "DSkbDf47wGyM"
      }
    },
    {
      "cell_type": "code",
      "source": [
        "# import library berisi algoritma klasifikasi yang akan digunakan\n",
        "from sklearn.tree import DecisionTreeClassifier\n",
        "from sklearn.ensemble import RandomForestClassifier, GradientBoostingClassifier\n",
        "\n",
        "# Spot Check Algorithms. Evaluasi model menggunakan cross validation\n",
        "models = []\n",
        "models.append(('DT', DecisionTreeClassifier()))\n",
        "models.append(('RF', RandomForestClassifier()))\n",
        "models.append(('GB', GradientBoostingClassifier()))"
      ],
      "metadata": {
        "id": "uvGUTleSi_m0"
      },
      "execution_count": 16,
      "outputs": []
    },
    {
      "cell_type": "markdown",
      "source": [
        "### **Penjelasan:**\n",
        "Pada kode tersebut, akan mengevaluasi dengan beberapa algoritma untuk mengetahui algoritma yang cocok dengan studi kasus ini. Model yang digunakan yaitu decision tree (DT), random forest (RF), dan gradient boosting (GB)"
      ],
      "metadata": {
        "id": "l_Ce83bEwa6B"
      }
    },
    {
      "cell_type": "markdown",
      "source": [
        "Kita akan menggunakan validasi silang 10 kali lipat untuk memperkirakan akurasi. Untuk itu dataset dibagi menjadi 10 bagian, 9 untuk latihan dan 1 untuk pengujian dan ulangi untuk semua kombinasi."
      ],
      "metadata": {
        "id": "avGDq7R5AnJV"
      }
    },
    {
      "cell_type": "code",
      "source": [
        "# evaluate each model in turn\n",
        "\n",
        "# menyimpan hasil evaluasi K fold validation dari masing-masing model\n",
        "results = []\n",
        "# menyimpan nama model\n",
        "names = []\n",
        "\n",
        "for name, model in models:\n",
        "  # membagi data menjadi training dan validation menggunakan kfold validation, dengan k atau n_splits nya adalah 10 dan random_state = 7\n",
        "  # mengaktifkan shuffle=True. shuffle digunakan untuk menentukan apakah data harus diacak atau tidak sebelum dibagi\n",
        "  kfold = model_selection.KFold(n_splits=10, random_state=seed, shuffle=True)\n",
        "  # model_selection.cross_val_score untuk menghitung nilai scoring dari setiap iterasi\n",
        "  # mengukur kinerja dari data dari model yang sudah didefinisikan dengan data latih yang sudah di split (X_train dan Y_train), cv = kfold yg sudah didefinisikan, scoring = accuracy\n",
        "  cv_results = model_selection.cross_val_score(model, X_train, Y_train, cv=kfold, scoring=scoring)\n",
        "  # memasukan cv_results ke dalam result untuk setiap iterasi\n",
        "  results.append(cv_results)\n",
        "  # memasukan name ke dalam names untuk setiap iterasi\n",
        "  names.append(name)\n",
        "  # menampilkan pesan nama model, rata2 final, dan stdev final\n",
        "  msg = \"%s: %f (%f)\" % (name, cv_results.mean(), cv_results.std())\n",
        "  print(msg)"
      ],
      "metadata": {
        "colab": {
          "base_uri": "https://localhost:8080/"
        },
        "id": "siM_5rNZjDmU",
        "outputId": "0166b562-8624-41dd-c703-7569340d9fac"
      },
      "execution_count": 17,
      "outputs": [
        {
          "output_type": "stream",
          "name": "stdout",
          "text": [
            "DT: 0.950000 (0.076376)\n",
            "RF: 0.966667 (0.040825)\n",
            "GB: 0.950000 (0.055277)\n"
          ]
        }
      ]
    },
    {
      "cell_type": "markdown",
      "source": [
        "### **Penjelasan:**\n",
        "*   Model Desicion Tree menghasilkan final rata-rata=0.950000 dan stdev=0.076376\n",
        "*   Model Random Forest menghasilkan final rata-rata=0.966667  dan stdev=0.040825\n",
        "*   Model Gradient Boosting menghasilkan final rata-rata=0.950000  dan stdev=0.055277"
      ],
      "metadata": {
        "id": "2f1CCn33yf63"
      }
    },
    {
      "cell_type": "markdown",
      "source": [
        "### **IV. Memilih Model Terbaik**"
      ],
      "metadata": {
        "id": "qz2zTULNzyRL"
      }
    },
    {
      "cell_type": "markdown",
      "source": [
        "### **Penjelasan:**\n",
        "Berdasarkan hasil output tersebut di atas, kita dapat melihat bahwa Random Forest (RD) memiliki nilai akurasi perkiraan terbesar. Setelah mengetahui model yang paling akurat yaitu RD, selanjutnya kita dapat mencoba melakukan pengujian tentang keakuratan model RD terhadap data yang ada."
      ],
      "metadata": {
        "id": "7z89OZR8zkTM"
      }
    },
    {
      "cell_type": "code",
      "source": [
        "from sklearn.metrics import accuracy_score, confusion_matrix, classification_report"
      ],
      "metadata": {
        "id": "4iV_m1HCjO1X"
      },
      "execution_count": 18,
      "outputs": []
    },
    {
      "cell_type": "code",
      "source": [
        "# Membuat prediksi validasi dataset\n",
        "\n",
        "RF = RandomForestClassifier()\n",
        "# melatih (fit) model RF menggunakan data latih\n",
        "RF.fit(X_train, Y_train)\n",
        "# menguji data RF yang dihasilkan dari proses pelatihan data dengan testing data\n",
        "predictions = RF.predict(X_validation)\n",
        "\n",
        "# menampilkan hasil\n",
        "print('accuracy score: ', accuracy_score(Y_validation, predictions))\n",
        "print('confusion matrix: \\n', confusion_matrix(Y_validation, predictions))\n",
        "print('\\n\\t\\t classification report: \\n', classification_report(Y_validation, predictions))"
      ],
      "metadata": {
        "colab": {
          "base_uri": "https://localhost:8080/"
        },
        "id": "Cda4132kjT3n",
        "outputId": "1c6df86a-49ea-42fc-bc4e-d63f197de494"
      },
      "execution_count": 25,
      "outputs": [
        {
          "output_type": "stream",
          "name": "stdout",
          "text": [
            "accuracy score:  0.8666666666666667\n",
            "confusion matrix: \n",
            " [[ 7  0  0]\n",
            " [ 0 10  2]\n",
            " [ 0  2  9]]\n",
            "\n",
            "\t\t classification report: \n",
            "                  precision    recall  f1-score   support\n",
            "\n",
            "    Iris-setosa       1.00      1.00      1.00         7\n",
            "Iris-versicolor       0.83      0.83      0.83        12\n",
            " Iris-virginica       0.82      0.82      0.82        11\n",
            "\n",
            "       accuracy                           0.87        30\n",
            "      macro avg       0.88      0.88      0.88        30\n",
            "   weighted avg       0.87      0.87      0.87        30\n",
            "\n"
          ]
        }
      ]
    },
    {
      "cell_type": "markdown",
      "source": [
        "### **Penjelasan:**\n",
        "Output yang dihasilkan dari evaluasi model memberikan gambaran tentang seberapa baik model Random Forest (RF) dapat melakukan klasifikasi pada data validasi.\n",
        "\n",
        "- Accuracy Score:\n",
        "Akurasi adalah rasio prediksi yang benar (positif dan negatif) terhadap total data. Dalam konteks ini, akurasi sebesar 0.867 (86.7%) menunjukkan bahwa model RF dapat mengklasifikasikan data dengan benar sekitar 86.7% pada saat data validasi.\n",
        "\n",
        "- Confusion Matrix:\n",
        "Matriks konfusi adalah tabel yang menunjukkan jumlah prediksi yang benar dan salah untuk setiap kelas. Dalam kasus ini, matriks konfusi memiliki tiga baris dan tiga kolom, yang sesuai dengan tiga kelas Iris (setosa, versicolor, virginica).\n",
        " - Baris pertama menunjukkan kelas Iris-setosa: Ada 7 prediksi benar (True Positive), dan tidak ada prediksi salah untuk kelas ini.\n",
        " - Baris kedua menunjukkan kelas Iris-versicolor: Ada 10 prediksi benar, 2 prediksi salah sebagai Iris-virginica.\n",
        " - Baris ketiga menunjukkan kelas Iris-virginica: Ada 9 prediksi benar, 2 prediksi salah sebagai Iris-versicolor.\n",
        "\n",
        "- Classification Report:\n",
        "Laporan klasifikasi memberikan matriks precision,  recall, f1-score untuk setiap kelas, serta rata-rata dari matriks tersebut untuk semua kelas (macro avg dan weighted avg).\n",
        " - Precision: Seberapa akurat model dalam mengklasifikasikan positif. Misalnya, presisi untuk Iris-setosa adalah 1.00, yang berarti setiap prediksi Iris-setosa benar.\n",
        " - Recall: Seberapa baik model dapat menangkap semua instance dari suatu kelas. Misalnya, recall untuk Iris-versicolor adalah 0.83, yang berarti model berhasil menangkap 83% dari semua instance Iris-versicolor.\n",
        " - F1-score: Rata-rata dari precision dan recall.\n",
        " - Support: Jumlah instance yang sebenarnya dari setiap kelas.\n",
        "\n",
        "Berdasarkan hasil yang diberikan, model memiliki kinerja baik pada kelas Iris-setosa dengan presisi, recall, dan F1-score sebesar 1.00. Untuk kelas Iris-versicolor dan Iris-virginica, model memiliki presisi, recall, dan F1-score di sekitar 0.82-0.83."
      ],
      "metadata": {
        "id": "6RRIx49f15HT"
      }
    }
  ]
}