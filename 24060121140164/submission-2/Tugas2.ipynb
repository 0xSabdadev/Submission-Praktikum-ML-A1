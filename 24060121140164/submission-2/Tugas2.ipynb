{
  "nbformat": 4,
  "nbformat_minor": 0,
  "metadata": {
    "colab": {
      "provenance": []
    },
    "kernelspec": {
      "name": "python3",
      "display_name": "Python 3"
    },
    "language_info": {
      "name": "python"
    }
  },
  "cells": [
    {
      "cell_type": "code",
      "execution_count": 5,
      "metadata": {
        "id": "nMWXA_mGQgGP"
      },
      "outputs": [],
      "source": [
        "import pandas as pd"
      ]
    },
    {
      "cell_type": "markdown",
      "source": [
        "pertama kita akna mengimport library yang dibutuhkan, pada kasus ini adalah library pandas."
      ],
      "metadata": {
        "id": "Nfvm7NIQ5BmY"
      }
    },
    {
      "cell_type": "code",
      "source": [
        "path = 'tae.data'"
      ],
      "metadata": {
        "id": "yGYw74wuw9dt"
      },
      "execution_count": 17,
      "outputs": []
    },
    {
      "cell_type": "markdown",
      "source": [
        "tidak lupa untuk mendeklarasikan pathnya agar terbaca."
      ],
      "metadata": {
        "id": "UdNI4B8T5M_Y"
      }
    },
    {
      "cell_type": "code",
      "source": [
        "names = ['EnglishSpeaker','CourseInstructor','Course','SummerOrRegular','ClassSize','ClassAttribute']"
      ],
      "metadata": {
        "id": "BF2lO6TYyFrg"
      },
      "execution_count": 18,
      "outputs": []
    },
    {
      "cell_type": "markdown",
      "source": [
        "lalu dilanjut dengan penamaan setiap fiturnya."
      ],
      "metadata": {
        "id": "inBC5MKD5sF4"
      }
    },
    {
      "cell_type": "code",
      "source": [
        "dataset = pd.read_csv(path, names=names)"
      ],
      "metadata": {
        "id": "-9W_NGCM0W3S"
      },
      "execution_count": 19,
      "outputs": []
    },
    {
      "cell_type": "markdown",
      "source": [
        "kemudian deklarasikan dataset agar bisa terbaca menggunakan function dari pandas."
      ],
      "metadata": {
        "id": "Xo5_gBW15wvq"
      }
    },
    {
      "cell_type": "code",
      "source": [
        "print(dataset.shape)"
      ],
      "metadata": {
        "colab": {
          "base_uri": "https://localhost:8080/"
        },
        "id": "aHouLGNt0faA",
        "outputId": "e36cae61-13ff-46f7-df54-c05d3f0392a0"
      },
      "execution_count": 20,
      "outputs": [
        {
          "output_type": "stream",
          "name": "stdout",
          "text": [
            "(151, 6)\n"
          ]
        }
      ]
    },
    {
      "cell_type": "markdown",
      "source": [
        "dan jumlah data beserta jumlah fiturnya akan di tampilkan dengan kode di atas."
      ],
      "metadata": {
        "id": "SxNTIZ9P54EK"
      }
    },
    {
      "cell_type": "code",
      "source": [
        "print(dataset.head(20))"
      ],
      "metadata": {
        "colab": {
          "base_uri": "https://localhost:8080/"
        },
        "id": "8SiA7mq-0l5A",
        "outputId": "e151864e-74c6-45c4-c8fa-ab5aa2a8ab81"
      },
      "execution_count": 21,
      "outputs": [
        {
          "output_type": "stream",
          "name": "stdout",
          "text": [
            "    EnglishSpeaker  CourseInstructor  Course  SummerOrRegular  ClassSize  \\\n",
            "0                1                23       3                1         19   \n",
            "1                2                15       3                1         17   \n",
            "2                1                23       3                2         49   \n",
            "3                1                 5       2                2         33   \n",
            "4                2                 7      11                2         55   \n",
            "5                2                23       3                1         20   \n",
            "6                2                 9       5                2         19   \n",
            "7                2                10       3                2         27   \n",
            "8                1                22       3                1         58   \n",
            "9                2                15       3                1         20   \n",
            "10               2                10      22                2          9   \n",
            "11               2                13       1                2         30   \n",
            "12               2                18      21                2         29   \n",
            "13               2                 6      17                2         39   \n",
            "14               2                 6      17                2         42   \n",
            "15               2                 6      17                2         43   \n",
            "16               2                 7      11                2         10   \n",
            "17               2                22       3                2         46   \n",
            "18               2                13       3                1         10   \n",
            "19               2                 7      25                2         42   \n",
            "\n",
            "    ClassAttribute  \n",
            "0                3  \n",
            "1                3  \n",
            "2                3  \n",
            "3                3  \n",
            "4                3  \n",
            "5                3  \n",
            "6                3  \n",
            "7                3  \n",
            "8                3  \n",
            "9                3  \n",
            "10               3  \n",
            "11               3  \n",
            "12               3  \n",
            "13               3  \n",
            "14               2  \n",
            "15               2  \n",
            "16               2  \n",
            "17               2  \n",
            "18               2  \n",
            "19               2  \n"
          ]
        }
      ]
    },
    {
      "cell_type": "markdown",
      "source": [
        "untuk fitur \"SummerOrRegular\" 1 = Summer 2 = Regular\n",
        "English Speaker = 1 = yes 2 = no\n",
        "class atribute = 1 = low, 2 = Medium, 3 = High."
      ],
      "metadata": {
        "id": "qJzDs-an0tBm"
      }
    },
    {
      "cell_type": "markdown",
      "source": [
        "kemudain print data sebanyak 20 data pertama untuk melihat data yang kan kita olah."
      ],
      "metadata": {
        "id": "twdPyzn96PaM"
      }
    },
    {
      "cell_type": "code",
      "source": [
        "dataset.shape"
      ],
      "metadata": {
        "colab": {
          "base_uri": "https://localhost:8080/"
        },
        "id": "eddD1nVe1R4c",
        "outputId": "5e3d5970-0b6d-417e-da53-1dfde8a6d599"
      },
      "execution_count": 22,
      "outputs": [
        {
          "output_type": "execute_result",
          "data": {
            "text/plain": [
              "(151, 6)"
            ]
          },
          "metadata": {},
          "execution_count": 22
        }
      ]
    },
    {
      "cell_type": "code",
      "source": [
        "from sklearn import model_selection"
      ],
      "metadata": {
        "id": "3kIjXClX2ASX"
      },
      "execution_count": 23,
      "outputs": []
    },
    {
      "cell_type": "markdown",
      "source": [
        "lalu kita emgnimport model seleksi dengan library sklearn"
      ],
      "metadata": {
        "id": "ey49zIF96pYS"
      }
    },
    {
      "cell_type": "code",
      "source": [
        "array = dataset.values\n",
        "\n",
        "X = array[:,0:5]\n",
        "Y = array[:,3]\n",
        "\n",
        "validation_size = 0.20\n",
        "\n",
        "seed = 7\n",
        "\n",
        "X_train, X_validation, Y_train, Y_validation = model_selection.train_test_split(X, Y, test_size=validation_size,\n",
        "random_state=seed)"
      ],
      "metadata": {
        "id": "iMuqboYA2XW4"
      },
      "execution_count": 25,
      "outputs": []
    },
    {
      "cell_type": "markdown",
      "source": [
        "kemudian kita mendeklarasikan array, dengan dataset.values dan deklrasikan pula konstanta X dan Y dimana X adalah untuk jumlah fitur yang ada, dan y adalah jumlah klasifikasi kelas yang ada, pada kasus ini terdapat 3 kelas, yaiut 1 = low 2 = medium, 3 = high. dan untuk seednya dideklrasikan menjadi 7, dan kemudian dari dataset kita akan dipisah dengan perbandingan 80 : 20, 80 berupa data training dan 20 berupa data testing"
      ],
      "metadata": {
        "id": "Ty4liLns7J2T"
      }
    },
    {
      "cell_type": "code",
      "source": [
        "print(\"X_train :\", X_train.shape)\n",
        "print(\"X_validation :\", X_validation.shape)\n",
        "print(\"Y_train :\", Y_train.shape)\n",
        "print(\"Y_validation :\", Y_validation.shape)"
      ],
      "metadata": {
        "colab": {
          "base_uri": "https://localhost:8080/"
        },
        "id": "2XNndDpQ3xcg",
        "outputId": "bd9735ec-eb87-4fd5-d71f-0c4448d9fb1e"
      },
      "execution_count": 26,
      "outputs": [
        {
          "output_type": "stream",
          "name": "stdout",
          "text": [
            "X_train : (120, 5)\n",
            "X_validation : (31, 5)\n",
            "Y_train : (120,)\n",
            "Y_validation : (31,)\n"
          ]
        }
      ]
    },
    {
      "cell_type": "markdown",
      "source": [
        "kode di atas untuk menampilkan hasil output dari masing2 data training dan juga validation, dimana 80% dari total datanya adalah 120, jadi terdapat 120 data training yang akan dipakai untuk melatih nmodel, dan 20% dari datasetnya adalah sebanyak 31 yang akan di pakai sebagai data testing atau validation."
      ],
      "metadata": {
        "id": "DMJKJ7oQ8ZnJ"
      }
    },
    {
      "cell_type": "code",
      "source": [
        "seed = 7\n",
        "\n",
        "scoring = 'accuracy'"
      ],
      "metadata": {
        "id": "ay-UjU6P49jy"
      },
      "execution_count": 27,
      "outputs": []
    },
    {
      "cell_type": "markdown",
      "source": [
        "lalu untuk scoringnya menggunakan \"accuray\" meskipun terdapat jenis scoring lain yang dapat digunakan seperti precission dan juga recall yang ke4mudian dipakai untuk f1 score."
      ],
      "metadata": {
        "id": "3QGQcMef81qM"
      }
    },
    {
      "cell_type": "code",
      "source": [
        "from sklearn.neighbors import KNeighborsClassifier\n",
        "from sklearn.naive_bayes import GaussianNB\n",
        "from sklearn.svm import SVC\n",
        "\n",
        "models = []\n",
        "\n",
        "models.append(('KNN', KNeighborsClassifier()))\n",
        "models.append(('NB', GaussianNB()))\n",
        "models.append(('SVM', SVC()))\n"
      ],
      "metadata": {
        "id": "lmncVHYL5pMI"
      },
      "execution_count": 30,
      "outputs": []
    },
    {
      "cell_type": "markdown",
      "source": [
        "kemudian kita akna mengimport semua library yang diperlukan yang kemudian akan dibandingkan menggunakan meotde mana yang akan menghasilkan output maksimal."
      ],
      "metadata": {
        "id": "J17YpvrX9VoL"
      }
    },
    {
      "cell_type": "code",
      "source": [
        "results = []\n",
        "names = []\n",
        "for name, model in models:\n",
        "  kfold = model_selection.KFold(n_splits=10, random_state=seed, shuffle=True)\n",
        "  cv_results = model_selection.cross_val_score(model, X_train, Y_train,\n",
        "  cv=kfold, scoring=scoring)\n",
        "  results.append(cv_results)\n",
        "  names.append(name)\n",
        "  msg = \"%s: %f (%f)\" % (name, cv_results.mean(), cv_results.std())\n",
        "  print(msg)"
      ],
      "metadata": {
        "colab": {
          "base_uri": "https://localhost:8080/"
        },
        "id": "LNd8tJiL_dv7",
        "outputId": "d7aa2de8-793e-477c-c0b5-881a08626396"
      },
      "execution_count": 31,
      "outputs": [
        {
          "output_type": "stream",
          "name": "stdout",
          "text": [
            "KNN: 0.900000 (0.097183)\n",
            "NB: 1.000000 (0.000000)\n",
            "SVM: 0.850000 (0.081650)\n"
          ]
        }
      ]
    },
    {
      "cell_type": "markdown",
      "source": [
        "dari outputnya, kita dapat melihat bahwa hasil output maksimal terdapat pada Naive Bayes dengan sebesar 1.000"
      ],
      "metadata": {
        "id": "fcPqCgEF-rSR"
      }
    },
    {
      "cell_type": "markdown",
      "source": [],
      "metadata": {
        "id": "crbwsJae-RWl"
      }
    },
    {
      "cell_type": "code",
      "source": [
        "from sklearn.metrics import accuracy_score, confusion_matrix, classification_report"
      ],
      "metadata": {
        "id": "aTyq2k3rES8g"
      },
      "execution_count": 33,
      "outputs": []
    },
    {
      "cell_type": "code",
      "source": [
        "svm = SVC()\n",
        "\n",
        "svm.fit(X_train, Y_train)\n",
        "predictions = svm.predict(X_validation)\n",
        "print(accuracy_score(Y_validation, predictions))\n",
        "\n",
        "print(confusion_matrix(Y_validation, predictions))\n",
        "print(classification_report(Y_validation, predictions))"
      ],
      "metadata": {
        "colab": {
          "base_uri": "https://localhost:8080/"
        },
        "id": "matDgHrZChJa",
        "outputId": "9c95b959-e0b9-4c91-fa9e-0ad3c49d7129"
      },
      "execution_count": 34,
      "outputs": [
        {
          "output_type": "stream",
          "name": "stdout",
          "text": [
            "0.8387096774193549\n",
            "[[ 0  5]\n",
            " [ 0 26]]\n",
            "              precision    recall  f1-score   support\n",
            "\n",
            "           1       0.00      0.00      0.00         5\n",
            "           2       0.84      1.00      0.91        26\n",
            "\n",
            "    accuracy                           0.84        31\n",
            "   macro avg       0.42      0.50      0.46        31\n",
            "weighted avg       0.70      0.84      0.77        31\n",
            "\n"
          ]
        },
        {
          "output_type": "stream",
          "name": "stderr",
          "text": [
            "/usr/local/lib/python3.10/dist-packages/sklearn/metrics/_classification.py:1344: UndefinedMetricWarning: Precision and F-score are ill-defined and being set to 0.0 in labels with no predicted samples. Use `zero_division` parameter to control this behavior.\n",
            "  _warn_prf(average, modifier, msg_start, len(result))\n",
            "/usr/local/lib/python3.10/dist-packages/sklearn/metrics/_classification.py:1344: UndefinedMetricWarning: Precision and F-score are ill-defined and being set to 0.0 in labels with no predicted samples. Use `zero_division` parameter to control this behavior.\n",
            "  _warn_prf(average, modifier, msg_start, len(result))\n",
            "/usr/local/lib/python3.10/dist-packages/sklearn/metrics/_classification.py:1344: UndefinedMetricWarning: Precision and F-score are ill-defined and being set to 0.0 in labels with no predicted samples. Use `zero_division` parameter to control this behavior.\n",
            "  _warn_prf(average, modifier, msg_start, len(result))\n"
          ]
        }
      ]
    },
    {
      "cell_type": "markdown",
      "source": [],
      "metadata": {
        "id": "6eay7oR1Bngz"
      }
    },
    {
      "cell_type": "markdown",
      "source": [
        "hasil di atas kita dapat menyimpulkan bahwa total yang diprediksi benar dibandingkan dengan total data yang ada. dan ia memiliki confuson matrix sebesar 0 5 0 26. dan terakhir terdapat laporan klasifikasi dimana pertama terdapat precision yaitu proporsi positif yang benar atau true positif dibandingkan dengan total presiksi positif, kemudian ada recall dimana ia adalah proporsi positif yang dibandingkna dengan data yang sebenernya positif, dan f1 score adlah penggabungannya. intinya adalah data memiliki tingkat akurasi yang cukup tinggi yaitu sebesar 83.87%."
      ],
      "metadata": {
        "id": "MEZjboaM_HzO"
      }
    }
  ]
}